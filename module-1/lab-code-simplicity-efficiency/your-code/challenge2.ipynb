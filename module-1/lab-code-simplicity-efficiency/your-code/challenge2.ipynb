{
 "cells": [
  {
   "cell_type": "code",
   "execution_count": 31,
   "metadata": {},
   "outputs": [
    {
     "name": "stdout",
     "output_type": "stream",
     "text": [
      "Enter minimum string length: 80\n",
      "Enter maximum string length: 81\n",
      "How many random strings to generate? 2\n",
      "['auie5h0o8ig2znca1go3olswk257ndavsez217lsepf1iwb4xr3d2ftud0epzdybx6iscjp9cwacl0cm', 'aqxcioiid9o6e4b3xuehk22xeeh617yrh1paxa7f1mhub2e6r3f812oje1xfrn0polgxfgj8d26oy9dp']\n"
     ]
    }
   ],
   "source": [
    "#No length limitation has been decided.\n",
    "\n",
    "import random\n",
    "import sys\n",
    "characters=['a','b','c','d','e','f','g','h','i','j','k','l','m','n','o','p','q','r','s','t','u','v','w','x','y','z','0','1','2','3','4','5','6','7','8','9']\n",
    "#l=12\n",
    "def RandomStringGenerator(length, characters):\n",
    "    p = 0\n",
    "    string = ''\n",
    "    while p<length:\n",
    "        string += random.choice(characters)\n",
    "        p += 1\n",
    "    return string\n",
    "\n",
    "def BatchStringGenerator(n, min_limit, max_limit):\n",
    "    #min_limit=2 # can be modified as needed\n",
    "    #max_limit=4\n",
    "    list_result = []\n",
    "    for i in range(n):\n",
    "        #c = None  #je necomprends pas ici. Et le i n'est plus utilisé?\n",
    "        if min_limit < max_limit:\n",
    "            c = random.choice(range(min_limit, max_limit))\n",
    "        elif min_limit == max_limit:\n",
    "            c = min_limit\n",
    "        else:\n",
    "            sys.exit('Incorrect min and max string lengths. Try again.')\n",
    "        \n",
    "        list_result.append(RandomStringGenerator(c, characters))\n",
    "    \n",
    "    return list_result \n",
    "\n",
    "min_length_inp = input('Enter minimum string length: ')\n",
    "max_length_inp = input('Enter maximum string length: ')\n",
    "number_str = input('How many random strings to generate? ')\n",
    "\n",
    "print(BatchStringGenerator(int(number_str), int(min_length_inp), int(max_length_inp)))"
   ]
  },
  {
   "cell_type": "code",
   "execution_count": null,
   "metadata": {},
   "outputs": [],
   "source": []
  },
  {
   "cell_type": "code",
   "execution_count": null,
   "metadata": {},
   "outputs": [],
   "source": []
  }
 ],
 "metadata": {
  "kernelspec": {
   "display_name": "Python 3",
   "language": "python",
   "name": "python3"
  },
  "language_info": {
   "codemirror_mode": {
    "name": "ipython",
    "version": 3
   },
   "file_extension": ".py",
   "mimetype": "text/x-python",
   "name": "python",
   "nbconvert_exporter": "python",
   "pygments_lexer": "ipython3",
   "version": "3.7.3"
  }
 },
 "nbformat": 4,
 "nbformat_minor": 2
}
