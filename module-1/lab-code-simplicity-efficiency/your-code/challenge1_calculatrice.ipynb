{
 "cells": [
  {
   "cell_type": "code",
   "execution_count": null,
   "metadata": {},
   "outputs": [
    {
     "name": "stdout",
     "output_type": "stream",
     "text": [
      "Welcome to this calculator!\n",
      "It can add and subtract whole numbers from zero to five\n"
     ]
    }
   ],
   "source": [
    "print('Welcome to this calculator!')\n",
    "print('It can add and subtract whole numbers from zero to five')\n",
    "\n",
    "num1 = input('Please choose your first number (0-5): ')\n",
    "action = input('What do you want to do? plus or minus: ')\n",
    "num2 = input('Please choose your second number (0-5): ')\n",
    "numbers={'zero': 0,'one': 1, 'two':2, 'three': 3, 'four': 4, 'five': 5, 'six':6, 'seven':7, 'eight': 8, 'nine':9, 'ten': 10}\n",
    "results={'zero': 0,'one': 1, 'two':2, 'three': 3, 'four': 4, 'five': 5, 'six':6, 'seven':7, 'eight': 8, 'nine':9, 'ten': 10}\n",
    "results.keys()\n",
    "def addition(x,y):\n",
    "    return x + y\n",
    "\n",
    "def soustraction(x,y):\n",
    "    return x-y\n",
    "\n",
    "if num1 and num2 in numbers:\n",
    "    \n",
    "    if action =='plus':\n",
    "        result= addition(numbers[num1],numbers[num2])\n",
    "        #print(results.keys())\n",
    "        print(num1, action, num2, 'equals', result)\n",
    "        \n",
    "        \n",
    "    elif action == 'minus':\n",
    "        result= soustraction(numbers[num1],numbers[num2])\n",
    "        print(num1, action, num2, 'equals', result)\n",
    "        \n",
    "else:\n",
    "    print(\"I am not able to answer this question. Check your input.\")\n",
    "    \n",
    "print(\"Thanks for using this calculator, goodbye :)\")"
   ]
  },
  {
   "cell_type": "code",
   "execution_count": null,
   "metadata": {},
   "outputs": [],
   "source": [
    "for key, value in results.items() :\n",
    "    print (key)"
   ]
  },
  {
   "cell_type": "code",
   "execution_count": null,
   "metadata": {},
   "outputs": [],
   "source": [
    "print(results.key())"
   ]
  },
  {
   "cell_type": "code",
   "execution_count": null,
   "metadata": {},
   "outputs": [],
   "source": []
  }
 ],
 "metadata": {
  "kernelspec": {
   "display_name": "Python 3",
   "language": "python",
   "name": "python3"
  },
  "language_info": {
   "codemirror_mode": {
    "name": "ipython",
    "version": 3
   },
   "file_extension": ".py",
   "mimetype": "text/x-python",
   "name": "python",
   "nbconvert_exporter": "python",
   "pygments_lexer": "ipython3",
   "version": "3.7.3"
  }
 },
 "nbformat": 4,
 "nbformat_minor": 2
}
