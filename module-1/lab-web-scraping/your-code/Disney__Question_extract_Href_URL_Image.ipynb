{
 "cells": [
  {
   "cell_type": "code",
   "execution_count": 20,
   "metadata": {},
   "outputs": [],
   "source": [
    "import requests\n",
    "from bs4 import BeautifulSoup\n",
    "#Display all the image links from Walt Disney wikipedia page\n",
    "url = 'https://en.wikipedia.org/wiki/Walt_Disney'"
   ]
  },
  {
   "cell_type": "code",
   "execution_count": 21,
   "metadata": {},
   "outputs": [],
   "source": [
    "html = requests.get(url).content\n",
    "soup = BeautifulSoup(html, \"lxml\")"
   ]
  },
  {
   "cell_type": "code",
   "execution_count": 25,
   "metadata": {},
   "outputs": [
    {
     "data": {
      "text/plain": [
       "[<a class=\"image\" href=\"/wiki/File:Walt_Disney_1946.JPG\"><img alt=\"Walt Disney 1946.JPG\" data-file-height=\"675\" data-file-width=\"450\" decoding=\"async\" height=\"330\" src=\"//upload.wikimedia.org/wikipedia/commons/thumb/d/df/Walt_Disney_1946.JPG/220px-Walt_Disney_1946.JPG\" srcset=\"//upload.wikimedia.org/wikipedia/commons/thumb/d/df/Walt_Disney_1946.JPG/330px-Walt_Disney_1946.JPG 1.5x, //upload.wikimedia.org/wikipedia/commons/thumb/d/df/Walt_Disney_1946.JPG/440px-Walt_Disney_1946.JPG 2x\" width=\"220\"/></a>,\n",
       " <a class=\"image\" href=\"/wiki/File:Walt_Disney_1942_signature.svg\"><img alt=\"Walt Disney 1942 signature.svg\" data-file-height=\"218\" data-file-width=\"585\" decoding=\"async\" height=\"56\" src=\"//upload.wikimedia.org/wikipedia/commons/thumb/8/87/Walt_Disney_1942_signature.svg/150px-Walt_Disney_1942_signature.svg.png\" srcset=\"//upload.wikimedia.org/wikipedia/commons/thumb/8/87/Walt_Disney_1942_signature.svg/225px-Walt_Disney_1942_signature.svg.png 1.5x, //upload.wikimedia.org/wikipedia/commons/thumb/8/87/Walt_Disney_1942_signature.svg/300px-Walt_Disney_1942_signature.svg.png 2x\" width=\"150\"/></a>,\n",
       " <a class=\"image\" href=\"/wiki/File:Walt_Disney_envelope_ca._1921.jpg\"><img alt=\"\" class=\"thumbimage\" data-file-height=\"1086\" data-file-width=\"1576\" decoding=\"async\" height=\"152\" src=\"//upload.wikimedia.org/wikipedia/commons/thumb/c/c4/Walt_Disney_envelope_ca._1921.jpg/220px-Walt_Disney_envelope_ca._1921.jpg\" srcset=\"//upload.wikimedia.org/wikipedia/commons/thumb/c/c4/Walt_Disney_envelope_ca._1921.jpg/330px-Walt_Disney_envelope_ca._1921.jpg 1.5x, //upload.wikimedia.org/wikipedia/commons/thumb/c/c4/Walt_Disney_envelope_ca._1921.jpg/440px-Walt_Disney_envelope_ca._1921.jpg 2x\" width=\"220\"/></a>,\n",
       " <a class=\"image\" href=\"/wiki/File:Trolley_Troubles_poster.jpg\"><img alt=\"A cartoon rabbit is driving a tramcar; other cartoon rabbits are in, under, on and around the car.\" class=\"thumbimage\" data-file-height=\"1600\" data-file-width=\"1202\" decoding=\"async\" height=\"226\" src=\"//upload.wikimedia.org/wikipedia/commons/thumb/0/0d/Trolley_Troubles_poster.jpg/170px-Trolley_Troubles_poster.jpg\" srcset=\"//upload.wikimedia.org/wikipedia/commons/thumb/0/0d/Trolley_Troubles_poster.jpg/255px-Trolley_Troubles_poster.jpg 1.5x, //upload.wikimedia.org/wikipedia/commons/thumb/0/0d/Trolley_Troubles_poster.jpg/340px-Trolley_Troubles_poster.jpg 2x\" width=\"170\"/></a>,\n",
       " <a class=\"image\" href=\"/wiki/File:Walt_Disney_and_his_cartoon_creation_%22Mickey_Mouse%22_-_National_Board_of_Review_Magazine.jpg\"><img alt=\"Walt Disney with Mickey Mouse\" class=\"thumbimage\" data-file-height=\"1028\" data-file-width=\"915\" decoding=\"async\" height=\"191\" src=\"//upload.wikimedia.org/wikipedia/commons/thumb/7/71/Walt_Disney_and_his_cartoon_creation_%22Mickey_Mouse%22_-_National_Board_of_Review_Magazine.jpg/170px-Walt_Disney_and_his_cartoon_creation_%22Mickey_Mouse%22_-_National_Board_of_Review_Magazine.jpg\" srcset=\"//upload.wikimedia.org/wikipedia/commons/thumb/7/71/Walt_Disney_and_his_cartoon_creation_%22Mickey_Mouse%22_-_National_Board_of_Review_Magazine.jpg/255px-Walt_Disney_and_his_cartoon_creation_%22Mickey_Mouse%22_-_National_Board_of_Review_Magazine.jpg 1.5x, //upload.wikimedia.org/wikipedia/commons/thumb/7/71/Walt_Disney_and_his_cartoon_creation_%22Mickey_Mouse%22_-_National_Board_of_Review_Magazine.jpg/340px-Walt_Disney_and_his_cartoon_creation_%22Mickey_Mouse%22_-_National_Board_of_Review_Magazine.jpg 2x\" width=\"170\"/></a>,\n",
       " <a class=\"image\" href=\"/wiki/File:Steamboat-willie.jpg\"><img alt=\"A cartoon mouse is operating a ship's steering wheel\" class=\"thumbimage\" data-file-height=\"267\" data-file-width=\"373\" decoding=\"async\" height=\"122\" src=\"//upload.wikimedia.org/wikipedia/en/thumb/4/4e/Steamboat-willie.jpg/170px-Steamboat-willie.jpg\" srcset=\"//upload.wikimedia.org/wikipedia/en/thumb/4/4e/Steamboat-willie.jpg/255px-Steamboat-willie.jpg 1.5x, //upload.wikimedia.org/wikipedia/en/thumb/4/4e/Steamboat-willie.jpg/340px-Steamboat-willie.jpg 2x\" width=\"170\"/></a>,\n",
       " <a class=\"image\" href=\"/wiki/File:Walt_Disney_1935.jpg\"><img alt=\"\" class=\"thumbimage\" data-file-height=\"451\" data-file-width=\"358\" decoding=\"async\" height=\"214\" src=\"//upload.wikimedia.org/wikipedia/commons/thumb/5/57/Walt_Disney_1935.jpg/170px-Walt_Disney_1935.jpg\" srcset=\"//upload.wikimedia.org/wikipedia/commons/thumb/5/57/Walt_Disney_1935.jpg/255px-Walt_Disney_1935.jpg 1.5x, //upload.wikimedia.org/wikipedia/commons/thumb/5/57/Walt_Disney_1935.jpg/340px-Walt_Disney_1935.jpg 2x\" width=\"170\"/></a>,\n",
       " <a class=\"image\" href=\"/wiki/File:Walt_Disney_Snow_white_1937_trailer_screenshot_(13).jpg\"><img alt=\"Walt Disney sits in front of a set of models of the seven dwarfs\" class=\"thumbimage\" data-file-height=\"388\" data-file-width=\"500\" decoding=\"async\" height=\"171\" src=\"//upload.wikimedia.org/wikipedia/commons/thumb/c/cd/Walt_Disney_Snow_white_1937_trailer_screenshot_%2813%29.jpg/220px-Walt_Disney_Snow_white_1937_trailer_screenshot_%2813%29.jpg\" srcset=\"//upload.wikimedia.org/wikipedia/commons/thumb/c/cd/Walt_Disney_Snow_white_1937_trailer_screenshot_%2813%29.jpg/330px-Walt_Disney_Snow_white_1937_trailer_screenshot_%2813%29.jpg 1.5x, //upload.wikimedia.org/wikipedia/commons/thumb/c/cd/Walt_Disney_Snow_white_1937_trailer_screenshot_%2813%29.jpg/440px-Walt_Disney_Snow_white_1937_trailer_screenshot_%2813%29.jpg 2x\" width=\"220\"/></a>,\n",
       " <a class=\"image\" href=\"/wiki/File:Disney_drawing_goofy.jpg\"><img alt=\"\" class=\"thumbimage\" data-file-height=\"770\" data-file-width=\"600\" decoding=\"async\" height=\"218\" src=\"//upload.wikimedia.org/wikipedia/commons/thumb/1/15/Disney_drawing_goofy.jpg/170px-Disney_drawing_goofy.jpg\" srcset=\"//upload.wikimedia.org/wikipedia/commons/thumb/1/15/Disney_drawing_goofy.jpg/255px-Disney_drawing_goofy.jpg 1.5x, //upload.wikimedia.org/wikipedia/commons/thumb/1/15/Disney_drawing_goofy.jpg/340px-Disney_drawing_goofy.jpg 2x\" width=\"170\"/></a>,\n",
       " <a class=\"image\" href=\"/wiki/File:DisneySchiphol1951.jpg\"><img alt=\"\" class=\"thumbimage\" data-file-height=\"2493\" data-file-width=\"3247\" decoding=\"async\" height=\"169\" src=\"//upload.wikimedia.org/wikipedia/commons/thumb/1/13/DisneySchiphol1951.jpg/220px-DisneySchiphol1951.jpg\" srcset=\"//upload.wikimedia.org/wikipedia/commons/thumb/1/13/DisneySchiphol1951.jpg/330px-DisneySchiphol1951.jpg 1.5x, //upload.wikimedia.org/wikipedia/commons/thumb/1/13/DisneySchiphol1951.jpg/440px-DisneySchiphol1951.jpg 2x\" width=\"220\"/></a>,\n",
       " <a class=\"image\" href=\"/wiki/File:WaltDisneyplansDisneylandDec1954.jpg\"><img alt=\"\" class=\"thumbimage\" data-file-height=\"2417\" data-file-width=\"2723\" decoding=\"async\" height=\"195\" src=\"//upload.wikimedia.org/wikipedia/commons/thumb/8/8c/WaltDisneyplansDisneylandDec1954.jpg/220px-WaltDisneyplansDisneylandDec1954.jpg\" srcset=\"//upload.wikimedia.org/wikipedia/commons/thumb/8/8c/WaltDisneyplansDisneylandDec1954.jpg/330px-WaltDisneyplansDisneylandDec1954.jpg 1.5x, //upload.wikimedia.org/wikipedia/commons/thumb/8/8c/WaltDisneyplansDisneylandDec1954.jpg/440px-WaltDisneyplansDisneylandDec1954.jpg 2x\" width=\"220\"/></a>,\n",
       " <a class=\"image\" href=\"/wiki/File:Walt_disney_portrait_right.jpg\"><img alt=\"\" class=\"thumbimage\" data-file-height=\"902\" data-file-width=\"667\" decoding=\"async\" height=\"230\" src=\"//upload.wikimedia.org/wikipedia/commons/thumb/f/ff/Walt_disney_portrait_right.jpg/170px-Walt_disney_portrait_right.jpg\" srcset=\"//upload.wikimedia.org/wikipedia/commons/thumb/f/ff/Walt_disney_portrait_right.jpg/255px-Walt_disney_portrait_right.jpg 1.5x, //upload.wikimedia.org/wikipedia/commons/thumb/f/ff/Walt_disney_portrait_right.jpg/340px-Walt_disney_portrait_right.jpg 2x\" width=\"170\"/></a>,\n",
       " <a class=\"image\" href=\"/wiki/File:Walt_Disney_Grave.JPG\"><img alt=\"A gravestone inscribed 'Walter Elias Disney', 'Lillian Bounds Disney', 'Robert B. Brown', Sharon Disney Brown Lund ashes scattered in paradise'\" class=\"thumbimage\" data-file-height=\"1700\" data-file-width=\"1400\" decoding=\"async\" height=\"206\" src=\"//upload.wikimedia.org/wikipedia/commons/thumb/1/1a/Walt_Disney_Grave.JPG/170px-Walt_Disney_Grave.JPG\" srcset=\"//upload.wikimedia.org/wikipedia/commons/thumb/1/1a/Walt_Disney_Grave.JPG/255px-Walt_Disney_Grave.JPG 1.5x, //upload.wikimedia.org/wikipedia/commons/thumb/1/1a/Walt_Disney_Grave.JPG/340px-Walt_Disney_Grave.JPG 2x\" width=\"170\"/></a>,\n",
       " <a class=\"image\" href=\"/wiki/File:Roy_O._Disney_with_Company_at_Press_Conference.jpg\"><img alt=\"\" class=\"thumbimage\" data-file-height=\"275\" data-file-width=\"220\" decoding=\"async\" height=\"213\" src=\"//upload.wikimedia.org/wikipedia/commons/thumb/2/2d/Roy_O._Disney_with_Company_at_Press_Conference.jpg/170px-Roy_O._Disney_with_Company_at_Press_Conference.jpg\" srcset=\"//upload.wikimedia.org/wikipedia/commons/2/2d/Roy_O._Disney_with_Company_at_Press_Conference.jpg 1.5x\" width=\"170\"/></a>,\n",
       " <a class=\"image\" href=\"/wiki/File:Disney_Display_Case.JPG\"><img alt=\"\" class=\"thumbimage\" data-file-height=\"3025\" data-file-width=\"1927\" decoding=\"async\" height=\"267\" src=\"//upload.wikimedia.org/wikipedia/commons/thumb/a/a9/Disney_Display_Case.JPG/170px-Disney_Display_Case.JPG\" srcset=\"//upload.wikimedia.org/wikipedia/commons/thumb/a/a9/Disney_Display_Case.JPG/255px-Disney_Display_Case.JPG 1.5x, //upload.wikimedia.org/wikipedia/commons/thumb/a/a9/Disney_Display_Case.JPG/340px-Disney_Display_Case.JPG 2x\" width=\"170\"/></a>,\n",
       " <a class=\"image\" href=\"/wiki/File:Disney1968.jpg\"><img alt=\"A portrait of Disney with cartoon representations of different nationalities on a 6 cent US stamp\" class=\"thumbimage\" data-file-height=\"286\" data-file-width=\"190\" decoding=\"async\" height=\"256\" src=\"//upload.wikimedia.org/wikipedia/commons/thumb/6/6c/Disney1968.jpg/170px-Disney1968.jpg\" srcset=\"//upload.wikimedia.org/wikipedia/commons/6/6c/Disney1968.jpg 1.5x\" width=\"170\"/></a>,\n",
       " <a class=\"image\" href=\"/wiki/File:Animation_disc.svg\"><img alt=\"Animation disc.svg\" data-file-height=\"28\" data-file-width=\"30\" decoding=\"async\" height=\"28\" src=\"//upload.wikimedia.org/wikipedia/commons/thumb/d/da/Animation_disc.svg/30px-Animation_disc.svg.png\" srcset=\"//upload.wikimedia.org/wikipedia/commons/thumb/d/da/Animation_disc.svg/45px-Animation_disc.svg.png 1.5x, //upload.wikimedia.org/wikipedia/commons/thumb/d/da/Animation_disc.svg/60px-Animation_disc.svg.png 2x\" width=\"30\"/></a>,\n",
       " <a class=\"image\" href=\"/wiki/File:P_vip.svg\"><img alt=\"P vip.svg\" data-file-height=\"1944\" data-file-width=\"1911\" decoding=\"async\" height=\"30\" src=\"//upload.wikimedia.org/wikipedia/en/thumb/6/69/P_vip.svg/29px-P_vip.svg.png\" srcset=\"//upload.wikimedia.org/wikipedia/en/thumb/6/69/P_vip.svg/44px-P_vip.svg.png 1.5x, //upload.wikimedia.org/wikipedia/en/thumb/6/69/P_vip.svg/59px-P_vip.svg.png 2x\" width=\"29\"/></a>,\n",
       " <a class=\"image\" href=\"/wiki/File:Magic_Kingdom_castle.jpg\"><img alt=\"Magic Kingdom castle.jpg\" data-file-height=\"1545\" data-file-width=\"1262\" decoding=\"async\" height=\"30\" src=\"//upload.wikimedia.org/wikipedia/commons/thumb/1/1a/Magic_Kingdom_castle.jpg/24px-Magic_Kingdom_castle.jpg\" srcset=\"//upload.wikimedia.org/wikipedia/commons/thumb/1/1a/Magic_Kingdom_castle.jpg/37px-Magic_Kingdom_castle.jpg 1.5x, //upload.wikimedia.org/wikipedia/commons/thumb/1/1a/Magic_Kingdom_castle.jpg/49px-Magic_Kingdom_castle.jpg 2x\" width=\"24\"/></a>,\n",
       " <a class=\"image\" href=\"/wiki/File:Video-x-generic.svg\"><img alt=\"Video-x-generic.svg\" data-file-height=\"48\" data-file-width=\"48\" decoding=\"async\" height=\"30\" src=\"//upload.wikimedia.org/wikipedia/en/thumb/e/e7/Video-x-generic.svg/30px-Video-x-generic.svg.png\" srcset=\"//upload.wikimedia.org/wikipedia/en/thumb/e/e7/Video-x-generic.svg/45px-Video-x-generic.svg.png 1.5x, //upload.wikimedia.org/wikipedia/en/thumb/e/e7/Video-x-generic.svg/60px-Video-x-generic.svg.png 2x\" width=\"30\"/></a>,\n",
       " <a class=\"image\" href=\"/wiki/File:Flag_of_Los_Angeles_County,_California.svg\"><img alt=\"Flag of Los Angeles County, California.svg\" data-file-height=\"913\" data-file-width=\"1522\" decoding=\"async\" height=\"18\" src=\"//upload.wikimedia.org/wikipedia/commons/thumb/a/a3/Flag_of_Los_Angeles_County%2C_California.svg/30px-Flag_of_Los_Angeles_County%2C_California.svg.png\" srcset=\"//upload.wikimedia.org/wikipedia/commons/thumb/a/a3/Flag_of_Los_Angeles_County%2C_California.svg/45px-Flag_of_Los_Angeles_County%2C_California.svg.png 1.5x, //upload.wikimedia.org/wikipedia/commons/thumb/a/a3/Flag_of_Los_Angeles_County%2C_California.svg/60px-Flag_of_Los_Angeles_County%2C_California.svg.png 2x\" width=\"30\"/></a>,\n",
       " <a class=\"image\" href=\"/wiki/File:USA_flag_on_television.svg\"><img alt=\"USA flag on television.svg\" data-file-height=\"92\" data-file-width=\"138\" decoding=\"async\" height=\"20\" src=\"//upload.wikimedia.org/wikipedia/commons/thumb/a/a3/USA_flag_on_television.svg/30px-USA_flag_on_television.svg.png\" srcset=\"//upload.wikimedia.org/wikipedia/commons/thumb/a/a3/USA_flag_on_television.svg/45px-USA_flag_on_television.svg.png 1.5x, //upload.wikimedia.org/wikipedia/commons/thumb/a/a3/USA_flag_on_television.svg/60px-USA_flag_on_television.svg.png 2x\" width=\"30\"/></a>]"
      ]
     },
     "execution_count": 25,
     "metadata": {},
     "output_type": "execute_result"
    }
   ],
   "source": [
    "imglist = soup.find_all('a',{'class':'image'})\n",
    "imglist"
   ]
  },
  {
   "cell_type": "code",
   "execution_count": 23,
   "metadata": {},
   "outputs": [
    {
     "ename": "AttributeError",
     "evalue": "'NoneType' object has no attribute 'text'",
     "output_type": "error",
     "traceback": [
      "\u001b[1;31m---------------------------------------------------------------------------\u001b[0m",
      "\u001b[1;31mAttributeError\u001b[0m                            Traceback (most recent call last)",
      "\u001b[1;32m<ipython-input-23-1b97ae8a7318>\u001b[0m in \u001b[0;36m<module>\u001b[1;34m\u001b[0m\n\u001b[0;32m      1\u001b[0m \u001b[0mrecords\u001b[0m\u001b[1;33m=\u001b[0m\u001b[1;33m[\u001b[0m\u001b[1;33m]\u001b[0m\u001b[1;33m\u001b[0m\u001b[1;33m\u001b[0m\u001b[0m\n\u001b[0;32m      2\u001b[0m \u001b[1;32mfor\u001b[0m \u001b[0mcontenu\u001b[0m \u001b[1;32min\u001b[0m \u001b[0mimglist\u001b[0m\u001b[1;33m:\u001b[0m\u001b[1;33m\u001b[0m\u001b[1;33m\u001b[0m\u001b[0m\n\u001b[1;32m----> 3\u001b[1;33m     \u001b[0mname\u001b[0m \u001b[1;33m=\u001b[0m \u001b[0mcontenu\u001b[0m\u001b[1;33m.\u001b[0m\u001b[0mfind\u001b[0m\u001b[1;33m(\u001b[0m\u001b[1;34m'href'\u001b[0m\u001b[1;33m)\u001b[0m\u001b[1;33m.\u001b[0m\u001b[0mtext\u001b[0m \u001b[1;31m# find tag a\u001b[0m\u001b[1;33m\u001b[0m\u001b[1;33m\u001b[0m\u001b[0m\n\u001b[0m\u001b[0;32m      4\u001b[0m     \u001b[0mrecords\u001b[0m\u001b[1;33m.\u001b[0m\u001b[0mappend\u001b[0m\u001b[1;33m(\u001b[0m\u001b[1;33m(\u001b[0m\u001b[0mname\u001b[0m\u001b[1;33m)\u001b[0m\u001b[1;33m)\u001b[0m\u001b[1;33m\u001b[0m\u001b[1;33m\u001b[0m\u001b[0m\n\u001b[0;32m      5\u001b[0m \u001b[0mrecords\u001b[0m\u001b[1;33m\u001b[0m\u001b[1;33m\u001b[0m\u001b[0m\n",
      "\u001b[1;31mAttributeError\u001b[0m: 'NoneType' object has no attribute 'text'"
     ]
    }
   ],
   "source": [
    "records=[]\n",
    "for contenu in imglist:  \n",
    "    name = contenu.find('href').text # find tag a\n",
    "    records.append((name))\n",
    "records   "
   ]
  },
  {
   "cell_type": "code",
   "execution_count": null,
   "metadata": {},
   "outputs": [],
   "source": []
  }
 ],
 "metadata": {},
 "nbformat": 4,
 "nbformat_minor": 2
}
