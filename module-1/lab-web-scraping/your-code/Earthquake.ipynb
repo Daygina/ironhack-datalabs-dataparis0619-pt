{
 "cells": [
  {
   "cell_type": "code",
   "execution_count": 1,
   "metadata": {},
   "outputs": [],
   "source": [
    "import json\n",
    "import requests\n",
    "from bs4 import BeautifulSoup\n",
    "import pandas as pd\n",
    "from pandas.io.json import json_normalize"
   ]
  },
  {
   "cell_type": "markdown",
   "metadata": {},
   "source": [
    "20 latest earthquakes info (date, time, latitude, longitude and region name) by the EMSC as a pandas dataframe"
   ]
  },
  {
   "cell_type": "code",
   "execution_count": 2,
   "metadata": {},
   "outputs": [],
   "source": [
    "url = 'https://www.emsc-csem.org/Earthquake/'\n",
    "html=requests.get(url).content\n",
    "soup = BeautifulSoup(html, \"lxml\")\n",
    "#print(soup.prettify())\n",
    "#list(soup.children) select all the elements at the top level of the page"
   ]
  },
  {
   "cell_type": "code",
   "execution_count": 3,
   "metadata": {},
   "outputs": [],
   "source": [
    "tbody= soup.find('tbody', {'id':'tbody'})"
   ]
  },
  {
   "cell_type": "code",
   "execution_count": 4,
   "metadata": {},
   "outputs": [
    {
     "data": {
      "text/plain": [
       "50"
      ]
     },
     "execution_count": 4,
     "metadata": {},
     "output_type": "execute_result"
    }
   ],
   "source": [
    "rows = tbody.find_all('tr')\n",
    "len(rows)"
   ]
  },
  {
   "cell_type": "code",
   "execution_count": 5,
   "metadata": {},
   "outputs": [
    {
     "data": {
      "text/plain": [
       "{11}"
      ]
     },
     "execution_count": 5,
     "metadata": {},
     "output_type": "execute_result"
    }
   ],
   "source": [
    "rows_parsed = [x.text.split(\"\\xa0\") for x in rows]\n",
    "set([len(x) for x in rows_parsed])\n",
    "# verification de nombre d'elements dans la table"
   ]
  },
  {
   "cell_type": "code",
   "execution_count": 9,
   "metadata": {},
   "outputs": [
    {
     "name": "stdout",
     "output_type": "stream",
     "text": [
      "0\n",
      "earthquake2019-07-29\n",
      "NEXT COL\n",
      "1\n",
      "\n",
      "NEXT COL\n",
      "2\n",
      "\n",
      "NEXT COL\n",
      "3\n",
      "18:34:30.038min ago1.33\n",
      "NEXT COL\n",
      "4\n",
      "N\n",
      "NEXT COL\n",
      "5\n",
      "\n",
      "NEXT COL\n",
      "6\n",
      "120.40\n",
      "NEXT COL\n",
      "7\n",
      "E\n",
      "NEXT COL\n",
      "8\n",
      "\n",
      "NEXT COL\n",
      "9\n",
      "10 M4.3\n",
      "NEXT COL\n",
      "10\n",
      "MINAHASA, SULAWESI, INDONESIA2019-07-29 18:45\n",
      "NEXT COL\n"
     ]
    }
   ],
   "source": [
    "df = pd.DataFrame(rows_parsed)\n",
    "for x in df.columns:\n",
    "    \n",
    "    print(x)\n",
    "    print(df[x].iloc[3])\n",
    "    print(\"NEXT COL\")"
   ]
  },
  {
   "cell_type": "code",
   "execution_count": 11,
   "metadata": {},
   "outputs": [],
   "source": [
    "df['0_parsed'] = df[0].map(lambda x : x.split(\"ke\"))\n"
   ]
  },
  {
   "cell_type": "code",
   "execution_count": 12,
   "metadata": {},
   "outputs": [],
   "source": [
    "# c'est la date\n",
    "df['0_parsed_0'] = df['0_parsed'].map(lambda x :x[0])\n",
    "df['0_parsed_1'] = df['0_parsed'].map(lambda x :x[1])\n"
   ]
  },
  {
   "cell_type": "code",
   "execution_count": 13,
   "metadata": {},
   "outputs": [],
   "source": [
    "df['3_parsed'] = df[3].map(lambda x : x.split(\"min ago\"))\n",
    "\n",
    "# c'est la date\n",
    "df['3_parsed_0'] = df['3_parsed'].map(lambda x :x[0])\n",
    "df['3_parsed_1'] = df['3_parsed'].map(lambda x :x[1])\n"
   ]
  },
  {
   "cell_type": "code",
   "execution_count": 29,
   "metadata": {},
   "outputs": [],
   "source": [
    "dropcols=['0_parsed_0', '3_parsed', '0_parsed']\n",
    "nouvelle_df = df.drop(dropcols, axis=1)"
   ]
  },
  {
   "cell_type": "code",
   "execution_count": 30,
   "metadata": {},
   "outputs": [
    {
     "data": {
      "text/html": [
       "<div>\n",
       "<style scoped>\n",
       "    .dataframe tbody tr th:only-of-type {\n",
       "        vertical-align: middle;\n",
       "    }\n",
       "\n",
       "    .dataframe tbody tr th {\n",
       "        vertical-align: top;\n",
       "    }\n",
       "\n",
       "    .dataframe thead th {\n",
       "        text-align: right;\n",
       "    }\n",
       "</style>\n",
       "<table border=\"1\" class=\"dataframe\">\n",
       "  <thead>\n",
       "    <tr style=\"text-align: right;\">\n",
       "      <th></th>\n",
       "      <th>4</th>\n",
       "      <th>5</th>\n",
       "      <th>6</th>\n",
       "      <th>7</th>\n",
       "      <th>8</th>\n",
       "      <th>10</th>\n",
       "      <th>0_parsed_1</th>\n",
       "      <th>3_parsed_0</th>\n",
       "      <th>3_parsed_1</th>\n",
       "    </tr>\n",
       "  </thead>\n",
       "  <tbody>\n",
       "    <tr>\n",
       "      <th>0</th>\n",
       "      <td>N</td>\n",
       "      <td></td>\n",
       "      <td>117.71</td>\n",
       "      <td>W</td>\n",
       "      <td></td>\n",
       "      <td>CENTRAL CALIFORNIA2019-07-29 18:51</td>\n",
       "      <td>2019-07-29</td>\n",
       "      <td>18:49:10.523</td>\n",
       "      <td>35.86</td>\n",
       "    </tr>\n",
       "    <tr>\n",
       "      <th>1</th>\n",
       "      <td>N</td>\n",
       "      <td></td>\n",
       "      <td>113.20</td>\n",
       "      <td>W</td>\n",
       "      <td></td>\n",
       "      <td>UTAH2019-07-29 18:57</td>\n",
       "      <td>2019-07-29</td>\n",
       "      <td>18:46:40.625</td>\n",
       "      <td>37.81</td>\n",
       "    </tr>\n",
       "    <tr>\n",
       "      <th>2</th>\n",
       "      <td>N</td>\n",
       "      <td></td>\n",
       "      <td>117.70</td>\n",
       "      <td>W</td>\n",
       "      <td></td>\n",
       "      <td>CENTRAL CALIFORNIA2019-07-29 18:38</td>\n",
       "      <td>2019-07-29</td>\n",
       "      <td>18:34:39.737</td>\n",
       "      <td>35.88</td>\n",
       "    </tr>\n",
       "    <tr>\n",
       "      <th>3</th>\n",
       "      <td>N</td>\n",
       "      <td></td>\n",
       "      <td>120.40</td>\n",
       "      <td>E</td>\n",
       "      <td></td>\n",
       "      <td>MINAHASA, SULAWESI, INDONESIA2019-07-29 18:45</td>\n",
       "      <td>2019-07-29</td>\n",
       "      <td>18:34:30.038</td>\n",
       "      <td>1.33</td>\n",
       "    </tr>\n",
       "  </tbody>\n",
       "</table>\n",
       "</div>"
      ],
      "text/plain": [
       "   4 5       6  7 8                                             10  \\\n",
       "0  N    117.71  W               CENTRAL CALIFORNIA2019-07-29 18:51   \n",
       "1  N    113.20  W                             UTAH2019-07-29 18:57   \n",
       "2  N    117.70  W               CENTRAL CALIFORNIA2019-07-29 18:38   \n",
       "3  N    120.40  E    MINAHASA, SULAWESI, INDONESIA2019-07-29 18:45   \n",
       "\n",
       "   0_parsed_1    3_parsed_0 3_parsed_1  \n",
       "0  2019-07-29  18:49:10.523      35.86  \n",
       "1  2019-07-29  18:46:40.625      37.81  \n",
       "2  2019-07-29  18:34:39.737      35.88  \n",
       "3  2019-07-29  18:34:30.038       1.33  "
      ]
     },
     "execution_count": 30,
     "metadata": {},
     "output_type": "execute_result"
    }
   ],
   "source": [
    "dropcols=[0,1,2, 3, 9]\n",
    "nouvelle_df_1 = nouvelle_df.drop(dropcols, axis=1)\n",
    "nouvelle_df_1.head(4)"
   ]
  },
  {
   "cell_type": "code",
   "execution_count": 32,
   "metadata": {},
   "outputs": [
    {
     "ename": "TypeError",
     "evalue": "'DataFrame' object is not callable",
     "output_type": "error",
     "traceback": [
      "\u001b[1;31m---------------------------------------------------------------------------\u001b[0m",
      "\u001b[1;31mTypeError\u001b[0m                                 Traceback (most recent call last)",
      "\u001b[1;32m<ipython-input-32-172e3cd051b6>\u001b[0m in \u001b[0;36m<module>\u001b[1;34m\u001b[0m\n\u001b[0;32m      1\u001b[0m \u001b[0mcolumns\u001b[0m\u001b[1;33m=\u001b[0m\u001b[1;33m[\u001b[0m\u001b[1;33m{\u001b[0m\u001b[1;34m'3_parsed_1'\u001b[0m\u001b[1;33m:\u001b[0m \u001b[1;34m'Latitude'\u001b[0m\u001b[1;33m}\u001b[0m\u001b[1;33m]\u001b[0m\u001b[1;33m\u001b[0m\u001b[1;33m\u001b[0m\u001b[0m\n\u001b[1;32m----> 2\u001b[1;33m \u001b[0mnouvelle_df_1\u001b[0m\u001b[1;33m(\u001b[0m\u001b[0mcolumns\u001b[0m\u001b[1;33m)\u001b[0m\u001b[1;33m\u001b[0m\u001b[1;33m\u001b[0m\u001b[0m\n\u001b[0m",
      "\u001b[1;31mTypeError\u001b[0m: 'DataFrame' object is not callable"
     ]
    }
   ],
   "source": [
    "columns=[{'3_parsed_1': 'Latitude'}]\n"
   ]
  },
  {
   "cell_type": "code",
   "execution_count": null,
   "metadata": {},
   "outputs": [],
   "source": []
  }
 ],
 "metadata": {
  "kernelspec": {
   "display_name": "Python 3",
   "language": "python",
   "name": "python3"
  },
  "language_info": {
   "codemirror_mode": {
    "name": "ipython",
    "version": 3
   },
   "file_extension": ".py",
   "mimetype": "text/x-python",
   "name": "python",
   "nbconvert_exporter": "python",
   "pygments_lexer": "ipython3",
   "version": "3.7.3"
  }
 },
 "nbformat": 4,
 "nbformat_minor": 2
}
