{
 "cells": [
  {
   "cell_type": "markdown",
   "metadata": {},
   "source": [
    "# Parallelization Lab\n",
    "\n",
    "In this lab, you will be leveraging several concepts you have learned to obtain a list of links from a web page and crawl and index the pages referenced by those links - both sequentially and in parallel. Follow the steps below to complete the lab."
   ]
  },
  {
   "cell_type": "markdown",
   "metadata": {},
   "source": [
    "## Step 1: Use the requests library to retrieve the content from the URL below."
   ]
  },
  {
   "cell_type": "code",
   "execution_count": 79,
   "metadata": {},
   "outputs": [],
   "source": [
    "import requests\n",
    "url = 'https://en.wikipedia.org/wiki/Data_science'\n",
    "html=requests.get(url).content"
   ]
  },
  {
   "cell_type": "markdown",
   "metadata": {},
   "source": [
    "## Step 2: Use BeautifulSoup to extract a list of all the unique links on the page."
   ]
  },
  {
   "cell_type": "code",
   "execution_count": 163,
   "metadata": {},
   "outputs": [
    {
     "data": {
      "text/plain": [
       "510"
      ]
     },
     "execution_count": 163,
     "metadata": {},
     "output_type": "execute_result"
    }
   ],
   "source": [
    "from bs4 import BeautifulSoup\n",
    "soup=BeautifulSoup(html, \"lxml\")\n",
    "hrefs= [tag_a.get('href') for tag_a in soup.find_all('a')]\n",
    "#links=set(hrefs)\n",
    "hrefs\n",
    "len(hrefs)"
   ]
  },
  {
   "cell_type": "code",
   "execution_count": 81,
   "metadata": {},
   "outputs": [],
   "source": [
    "hrefs.remove(None)\n",
    "#ltest = [1, 2] remove the object in the list. Remove method removes the element but does not return an object, it returns NoneType\n",
    "#ltest.remove(1) "
   ]
  },
  {
   "cell_type": "code",
   "execution_count": 88,
   "metadata": {},
   "outputs": [
    {
     "data": {
      "text/plain": [
       "list"
      ]
     },
     "execution_count": 88,
     "metadata": {},
     "output_type": "execute_result"
    }
   ],
   "source": [
    "type(hrefs)"
   ]
  },
  {
   "cell_type": "code",
   "execution_count": 98,
   "metadata": {},
   "outputs": [],
   "source": [
    "hrefs = [x for x in hrefs if \"%\" and \"#\" not in x]\n",
    "#je garde que les elements sans le % et #"
   ]
  },
  {
   "cell_type": "code",
   "execution_count": 164,
   "metadata": {},
   "outputs": [
    {
     "data": {
      "text/plain": [
       "510"
      ]
     },
     "execution_count": 164,
     "metadata": {},
     "output_type": "execute_result"
    }
   ],
   "source": [
    "hrefs"
   ]
  },
  {
   "cell_type": "code",
   "execution_count": null,
   "metadata": {},
   "outputs": [],
   "source": [
    "#example of remove method again\n",
    "l = ['https://uk.wikipedia.org/wiki/%D0%9D%D0%B0%D1%83%D0%BA%D0%B0_%D0%BF%D1%80%D0%BE_%D0%B4%D0%B0%D0%BD%D1%96']\n",
    "l.remove('https://uk.wikipedia.org/wiki/%D0%9D%D0%B0%D1%83%D0%BA%D0%B0_%D0%BF%D1%80%D0%BE_%D0%B4%D0%B0%D0%BD%D1%96')"
   ]
  },
  {
   "cell_type": "markdown",
   "metadata": {},
   "source": [
    "## Step 3: Use list comprehensions with conditions to clean the link list.\n",
    "\n",
    "There are two types of links, absolute and relative. Absolute links have the full URL and begin with http while relative links begin with a forward slash (/) and point to an internal page within the wikipedia.org domain. Clean the respective types of URLs as follows.\n",
    "\n",
    "- Absolute Links: Create a list of these and remove any that contain a percentage sign (%).\n",
    "- Relativel Links: Create a list of these, add the domain to the link so that you have the full URL, and remove any that contain a percentage sign (%).\n",
    "- Combine the list of absolute and relative links and ensure there are no duplicates."
   ]
  },
  {
   "cell_type": "code",
   "execution_count": 104,
   "metadata": {},
   "outputs": [],
   "source": [
    "domain = 'http://wikipedia.org'"
   ]
  },
  {
   "cell_type": "code",
   "execution_count": 119,
   "metadata": {},
   "outputs": [
    {
     "data": {
      "text/plain": [
       "['https://arxiv.org/list/cs.LG/recent',\n",
       " 'https://www.bbc.co.uk/programmes/b00wgq0l',\n",
       " 'http://euads.org',\n",
       " 'http://www.gfkl.org/welcome/',\n",
       " 'http://cacm.acm.org/magazines/2013/12/169933-data-science-and-prediction/fulltext',\n",
       " 'http://simplystatistics.org/2013/12/12/the-key-word-in-data-science-is-not-data-it-is-science/',\n",
       " 'http://i.stanford.edu/~ullman/mmds/ch1n.pdf',\n",
       " 'https://www.springer.com/book/9784431702085',\n",
       " 'https://books.google.com/books?id=oGs_AQAAIAAJ',\n",
       " 'https://magazine.amstat.org/blog/2015/10/01/asa-statement-on-the-role-of-statistics-in-data-science/',\n",
       " 'https://hbr.org/2012/10/data-scientist-the-sexiest-job-of-the-21st-century/',\n",
       " 'https://www.forbes.com/sites/gilpress/2013/08/19/data-science-whats-the-half-life-of-a-buzzword/',\n",
       " 'https://www.nytimes.com/2011/04/03/business/03stream.html',\n",
       " 'http://www.statisticsviews.com/details/feature/5133141/Nate-Silver-What-I-need-from-statisticians.html',\n",
       " 'http://radar.oreilly.com/2011/05/data-science-terminology.html',\n",
       " 'https://hbr.org/2018/01/are-you-setting-your-data-scientists-up-to-fail',\n",
       " 'https://www.consultancy.uk/news/16839/70-of-big-data-projects-in-uk-fail-to-realise-full-potential',\n",
       " 'http://analytics-magazine.org/the-data-economy-why-do-so-many-analytics-projects-fail/',\n",
       " 'https://www.kdnuggets.com/2018/05/data-science-4-reasons-failing-deliver.html',\n",
       " 'https://www.forbes.com/sites/gilpress/2013/05/28/a-very-short-history-of-data-science/',\n",
       " 'http://www2.isye.gatech.edu/~jeffwu/presentations/datascience.pdf',\n",
       " 'http://ur.umich.edu/9899/Nov09_98/4.htm',\n",
       " 'https://web.archive.org/web/20131029191813/http://www.isical.ac.in/~statmath/html/pcm/pcm_recent.html',\n",
       " 'http://www.isical.ac.in/~statmath/html/pcm/pcm_recent.html',\n",
       " 'https://pdfs.semanticscholar.org/915c/d8e2b39eb02723553913d592b2237d4d9960.pdf',\n",
       " 'http://www.codata.org/',\n",
       " 'http://www.jstage.jst.go.jp/browse/dsj/_vols',\n",
       " 'https://web.archive.org/web/20120403153707/http://www.jstage.jst.go.jp/browse/dsj/_vols',\n",
       " 'http://www.jstage.jst.go.jp/browse/dsj/1/0/_contents',\n",
       " 'http://www.jds-online.com/v1-1',\n",
       " 'http://www.nsf.gov/pubs/2005/nsb0540/',\n",
       " 'https://www.nytimes.com/2009/12/15/science/15books.html',\n",
       " 'http://www.dsaa.co',\n",
       " 'https://web.archive.org/web/20170329172857/http://datamining.it.uts.edu.au/conferences/dsaa14/',\n",
       " 'http://datamining.it.uts.edu.au/conferences/dsaa14/',\n",
       " 'https://venturebeat.com/2014/04/15/ny-gets-new-bootcamp-for-data-scientists-its-free-but-harder-to-get-into-than-harvard/',\n",
       " 'https://web.archive.org/web/20170205101231/http://magazine.amstat.org/blog/2016/06/01/datascience-2/',\n",
       " 'http://magazine.amstat.org/blog/2016/06/01/datascience-2/',\n",
       " 'https://www.springer.com/41060',\n",
       " 'http://fortune.com/2015/05/21/data-science-white-hot/',\n",
       " 'https://blogs.wsj.com/cio/2014/05/02/why-do-we-need-data-science-when-weve-had-statistics-for-centuries/',\n",
       " 'http://courses.csail.mit.edu/18.337/2015/docs/50YearsDataScience.pdf',\n",
       " 'https://en.wikipedia.org/w/index.php?title=Data_science&oldid=908381660',\n",
       " 'https://donate.wikimedia.org/wiki/Special:FundraiserRedirector?utm_source=donate&utm_medium=sidebar&utm_campaign=C13_en.wikipedia.org&uselang=en',\n",
       " 'https://www.wikidata.org/wiki/Special:EntityPage/Q2374463',\n",
       " 'https://commons.wikimedia.org/wiki/Category:Data_science',\n",
       " 'https://cs.wikipedia.org/wiki/Data_science',\n",
       " 'https://de.wikipedia.org/wiki/Data_Science',\n",
       " 'https://es.wikipedia.org/wiki/Ciencia_de_datos',\n",
       " 'https://id.wikipedia.org/wiki/Ilmu_data',\n",
       " 'https://it.wikipedia.org/wiki/Scienza_dei_dati',\n",
       " 'https://ms.wikipedia.org/wiki/Sains_data',\n",
       " 'https://nl.wikipedia.org/wiki/Datawetenschap',\n",
       " 'https://simple.wikipedia.org/wiki/Data_science',\n",
       " 'https://foundation.wikimedia.org/wiki/Privacy_policy',\n",
       " 'https://www.mediawiki.org/wiki/Special:MyLanguage/How_to_contribute',\n",
       " 'https://foundation.wikimedia.org/wiki/Cookie_statement',\n",
       " 'https://wikimediafoundation.org/',\n",
       " 'https://www.mediawiki.org/']"
      ]
     },
     "execution_count": 119,
     "metadata": {},
     "output_type": "execute_result"
    }
   ],
   "source": [
    "listurlhash=[x for x in hrefs if str(x).startswith(\"http\")]\n",
    "listurlhash\n",
    "# all the absolute links"
   ]
  },
  {
   "cell_type": "code",
   "execution_count": 116,
   "metadata": {},
   "outputs": [
    {
     "data": {
      "text/plain": [
       "['http://wikipedia.org/wiki/Information_science',\n",
       " 'http://wikipedia.org/wiki/Machine_learning',\n",
       " 'http://wikipedia.org/wiki/Data_mining',\n",
       " 'http://wikipedia.org/wiki/File:Kernel_Machine.svg',\n",
       " 'http://wikipedia.org/wiki/Statistical_classification',\n",
       " 'http://wikipedia.org/wiki/Cluster_analysis',\n",
       " 'http://wikipedia.org/wiki/Regression_analysis',\n",
       " 'http://wikipedia.org/wiki/Anomaly_detection',\n",
       " 'http://wikipedia.org/wiki/Automated_machine_learning',\n",
       " 'http://wikipedia.org/wiki/Association_rule_learning',\n",
       " 'http://wikipedia.org/wiki/Reinforcement_learning',\n",
       " 'http://wikipedia.org/wiki/Structured_prediction',\n",
       " 'http://wikipedia.org/wiki/Feature_engineering',\n",
       " 'http://wikipedia.org/wiki/Feature_learning',\n",
       " 'http://wikipedia.org/wiki/Online_machine_learning',\n",
       " 'http://wikipedia.org/wiki/Semi-supervised_learning',\n",
       " 'http://wikipedia.org/wiki/Unsupervised_learning',\n",
       " 'http://wikipedia.org/wiki/Learning_to_rank',\n",
       " 'http://wikipedia.org/wiki/Grammar_induction',\n",
       " 'http://wikipedia.org/wiki/Supervised_learning',\n",
       " 'http://wikipedia.org/wiki/Statistical_classification',\n",
       " 'http://wikipedia.org/wiki/Regression_analysis',\n",
       " 'http://wikipedia.org/wiki/Decision_tree_learning',\n",
       " 'http://wikipedia.org/wiki/Ensemble_learning',\n",
       " 'http://wikipedia.org/wiki/Bootstrap_aggregating',\n",
       " 'http://wikipedia.org/wiki/Boosting_(machine_learning)',\n",
       " 'http://wikipedia.org/wiki/Random_forest',\n",
       " 'http://wikipedia.org/wiki/K-nearest_neighbors_algorithm',\n",
       " 'http://wikipedia.org/wiki/Linear_regression',\n",
       " 'http://wikipedia.org/wiki/Naive_Bayes_classifier',\n",
       " 'http://wikipedia.org/wiki/Artificial_neural_network',\n",
       " 'http://wikipedia.org/wiki/Logistic_regression',\n",
       " 'http://wikipedia.org/wiki/Perceptron',\n",
       " 'http://wikipedia.org/wiki/Relevance_vector_machine',\n",
       " 'http://wikipedia.org/wiki/Support-vector_machine',\n",
       " 'http://wikipedia.org/wiki/Cluster_analysis',\n",
       " 'http://wikipedia.org/wiki/BIRCH',\n",
       " 'http://wikipedia.org/wiki/CURE_data_clustering_algorithm',\n",
       " 'http://wikipedia.org/wiki/Hierarchical_clustering',\n",
       " 'http://wikipedia.org/wiki/K-means_clustering',\n",
       " 'http://wikipedia.org/wiki/DBSCAN',\n",
       " 'http://wikipedia.org/wiki/OPTICS_algorithm',\n",
       " 'http://wikipedia.org/wiki/Mean-shift',\n",
       " 'http://wikipedia.org/wiki/Dimensionality_reduction',\n",
       " 'http://wikipedia.org/wiki/Factor_analysis',\n",
       " 'http://wikipedia.org/wiki/Canonical_correlation_analysis',\n",
       " 'http://wikipedia.org/wiki/Independent_component_analysis',\n",
       " 'http://wikipedia.org/wiki/Linear_discriminant_analysis',\n",
       " 'http://wikipedia.org/wiki/Non-negative_matrix_factorization',\n",
       " 'http://wikipedia.org/wiki/Principal_component_analysis',\n",
       " 'http://wikipedia.org/wiki/T-distributed_stochastic_neighbor_embedding',\n",
       " 'http://wikipedia.org/wiki/Structured_prediction',\n",
       " 'http://wikipedia.org/wiki/Graphical_model',\n",
       " 'http://wikipedia.org/wiki/Bayesian_network',\n",
       " 'http://wikipedia.org/wiki/Conditional_random_field',\n",
       " 'http://wikipedia.org/wiki/Hidden_Markov_model',\n",
       " 'http://wikipedia.org/wiki/Anomaly_detection',\n",
       " 'http://wikipedia.org/wiki/K-nearest_neighbors_classification',\n",
       " 'http://wikipedia.org/wiki/Local_outlier_factor',\n",
       " 'http://wikipedia.org/wiki/Artificial_neural_networks',\n",
       " 'http://wikipedia.org/wiki/Autoencoder',\n",
       " 'http://wikipedia.org/wiki/Deep_learning',\n",
       " 'http://wikipedia.org/wiki/DeepDream',\n",
       " 'http://wikipedia.org/wiki/Multilayer_perceptron',\n",
       " 'http://wikipedia.org/wiki/Recurrent_neural_network',\n",
       " 'http://wikipedia.org/wiki/Long_short-term_memory',\n",
       " 'http://wikipedia.org/wiki/Gated_recurrent_unit',\n",
       " 'http://wikipedia.org/wiki/Restricted_Boltzmann_machine',\n",
       " 'http://wikipedia.org/wiki/Generative_adversarial_network',\n",
       " 'http://wikipedia.org/wiki/Self-organizing_map',\n",
       " 'http://wikipedia.org/wiki/Convolutional_neural_network',\n",
       " 'http://wikipedia.org/wiki/U-Net',\n",
       " 'http://wikipedia.org/wiki/Reinforcement_learning',\n",
       " 'http://wikipedia.org/wiki/Q-learning',\n",
       " 'http://wikipedia.org/wiki/Temporal_difference_learning',\n",
       " 'http://wikipedia.org/wiki/Computational_learning_theory',\n",
       " 'http://wikipedia.org/wiki/Empirical_risk_minimization',\n",
       " 'http://wikipedia.org/wiki/Occam_learning',\n",
       " 'http://wikipedia.org/wiki/Probably_approximately_correct_learning',\n",
       " 'http://wikipedia.org/wiki/Statistical_learning_theory',\n",
       " 'http://wikipedia.org/wiki/Conference_on_Neural_Information_Processing_Systems',\n",
       " 'http://wikipedia.org/wiki/International_Conference_on_Machine_Learning',\n",
       " 'http://wikipedia.org/wiki/Machine_Learning_(journal)',\n",
       " 'http://wikipedia.org/wiki/Journal_of_Machine_Learning_Research',\n",
       " 'http://wikipedia.org/wiki/Glossary_of_artificial_intelligence',\n",
       " 'http://wikipedia.org/wiki/Glossary_of_artificial_intelligence',\n",
       " 'http://wikipedia.org/wiki/List_of_datasets_for_machine-learning_research',\n",
       " 'http://wikipedia.org/wiki/Outline_of_machine_learning',\n",
       " 'http://wikipedia.org/wiki/Template:Machine_learning_bar',\n",
       " 'http://wikipedia.org/wiki/Template_talk:Machine_learning_bar',\n",
       " 'http://wikipedia.org/wiki/Multi-disciplinary',\n",
       " 'http://wikipedia.org/wiki/Knowledge',\n",
       " 'http://wikipedia.org/wiki/Data',\n",
       " 'http://wikipedia.org/wiki/Data_mining',\n",
       " 'http://wikipedia.org/wiki/Big_data',\n",
       " 'http://wikipedia.org/wiki/Mathematics',\n",
       " 'http://wikipedia.org/wiki/Statistics',\n",
       " 'http://wikipedia.org/wiki/Computer_science',\n",
       " 'http://wikipedia.org/wiki/Information_science',\n",
       " 'http://wikipedia.org/wiki/Turing_award',\n",
       " 'http://wikipedia.org/wiki/Jim_Gray_(computer_scientist)',\n",
       " 'http://wikipedia.org/wiki/Empirical_research',\n",
       " 'http://wikipedia.org/wiki/Basic_research',\n",
       " 'http://wikipedia.org/wiki/Computational_science',\n",
       " 'http://wikipedia.org/wiki/Information_explosion',\n",
       " 'http://wikipedia.org/wiki/American_Statistical_Association',\n",
       " 'http://wikipedia.org/wiki/Database',\n",
       " 'http://wikipedia.org/wiki/Machine_learning',\n",
       " 'http://wikipedia.org/wiki/Distributed_computing',\n",
       " 'http://wikipedia.org/wiki/Harvard_Business_Review',\n",
       " 'http://wikipedia.org/wiki/Buzzword',\n",
       " 'http://wikipedia.org/wiki/Business_analytics',\n",
       " 'http://wikipedia.org/wiki/Business_intelligence',\n",
       " 'http://wikipedia.org/wiki/Predictive_modelling',\n",
       " 'http://wikipedia.org/wiki/Statistics',\n",
       " 'http://wikipedia.org/wiki/Hans_Rosling',\n",
       " 'http://wikipedia.org/wiki/Nate_Silver',\n",
       " 'http://wikipedia.org/wiki/Big_data',\n",
       " 'http://wikipedia.org/wiki/Computer_science',\n",
       " 'http://wikipedia.org/wiki/Peter_Naur',\n",
       " 'http://wikipedia.org/wiki/Datalogy',\n",
       " 'http://wikipedia.org/wiki/Montpellier_2_University',\n",
       " 'http://wikipedia.org/wiki/C.F._Jeff_Wu',\n",
       " 'http://wikipedia.org/wiki/University_of_Michigan',\n",
       " 'http://wikipedia.org/wiki/Prasanta_Chandra_Mahalanobis',\n",
       " 'http://wikipedia.org/wiki/Indian_Statistical_Institute',\n",
       " 'http://wikipedia.org/wiki/Wikipedia:Citation_needed',\n",
       " 'http://wikipedia.org/wiki/Jim_Gray_(computer_scientist)',\n",
       " 'http://wikipedia.org/wiki/Harvard_Business_Review',\n",
       " 'http://wikipedia.org/wiki/DJ_Patil',\n",
       " 'http://wikipedia.org/wiki/Jeff_Hammerbacher',\n",
       " 'http://wikipedia.org/wiki/General_Assembly_(school)',\n",
       " 'http://wikipedia.org/wiki/The_Data_Incubator',\n",
       " 'http://wikipedia.org/wiki/American_Statistical_Association',\n",
       " 'http://wikipedia.org/wiki/University_of_Essex',\n",
       " 'http://wikipedia.org/wiki/Statistics',\n",
       " 'http://wikipedia.org/wiki/Forbes',\n",
       " 'http://wikipedia.org/wiki/Buzzword',\n",
       " 'http://wikipedia.org/wiki/Business_analytics',\n",
       " 'http://wikipedia.org/wiki/American_Statistical_Association',\n",
       " 'http://wikipedia.org/wiki/Nate_Silver',\n",
       " 'http://wikipedia.org/wiki/Software_Developer',\n",
       " 'http://wikipedia.org/wiki/Software_engineer',\n",
       " 'http://wikipedia.org/wiki/The_Wall_Street_Journal',\n",
       " 'http://wikipedia.org/wiki/Computer_science',\n",
       " 'http://wikipedia.org/wiki/Interdisciplinarity',\n",
       " 'http://wikipedia.org/wiki/Methodology',\n",
       " 'http://wikipedia.org/wiki/Academy',\n",
       " 'http://wikipedia.org/wiki/Industry',\n",
       " 'http://wikipedia.org/wiki/Discipline_(academia)',\n",
       " 'http://wikipedia.org/wiki/New_York_University',\n",
       " 'http://wikipedia.org/wiki/NYU_Stern_Center_for_Business_and_Human_Rights',\n",
       " 'http://wikipedia.org/wiki/Discipline_(academia)',\n",
       " 'http://wikipedia.org/wiki/Data_set',\n",
       " 'http://wikipedia.org/wiki/Pattern_recognition',\n",
       " 'http://wikipedia.org/wiki/Predictive_modelling',\n",
       " 'http://wikipedia.org/wiki/Analytics',\n",
       " 'http://wikipedia.org/wiki/Applied_science',\n",
       " 'http://wikipedia.org/wiki/Theory',\n",
       " 'http://wikipedia.org/wiki/Health_science',\n",
       " 'http://wikipedia.org/wiki/Social_science',\n",
       " 'http://wikipedia.org/wiki/David_Donoho',\n",
       " 'http://wikipedia.org/wiki/Big_data',\n",
       " 'http://wikipedia.org/wiki/Computing',\n",
       " 'http://wikipedia.org/wiki/Graduate_school',\n",
       " 'http://wikipedia.org/wiki/Graduate_school',\n",
       " 'http://wikipedia.org/wiki/Statistician',\n",
       " 'http://wikipedia.org/wiki/David_Donoho',\n",
       " 'http://wikipedia.org/wiki/Predictive_modelling',\n",
       " 'http://wikipedia.org/wiki/Explanatory_model',\n",
       " 'http://wikipedia.org/wiki/Statistician',\n",
       " 'http://wikipedia.org/wiki/Statistics',\n",
       " 'http://wikipedia.org/wiki/Open_science',\n",
       " 'http://wikipedia.org/wiki/Academic_publishing',\n",
       " 'http://wikipedia.org/wiki/National_Institutes_of_Health',\n",
       " 'http://wikipedia.org/wiki/Academic_journal',\n",
       " 'http://wikipedia.org/wiki/Statistical_theory',\n",
       " 'http://wikipedia.org/wiki/Paradigm',\n",
       " 'http://wikipedia.org/wiki/Digital_object_identifier',\n",
       " 'http://wikipedia.org/wiki/Jeffrey_T._Leek',\n",
       " 'http://wikipedia.org/wiki/Jure_Leskovec',\n",
       " 'http://wikipedia.org/wiki/Anand_Rajaraman',\n",
       " 'http://wikipedia.org/wiki/Jeffrey_David_Ullman',\n",
       " 'http://wikipedia.org/wiki/Digital_object_identifier',\n",
       " 'http://wikipedia.org/wiki/International_Standard_Book_Number',\n",
       " 'http://wikipedia.org/wiki/Special:BookSources/9784431702085',\n",
       " 'http://wikipedia.org/wiki/International_Standard_Book_Number',\n",
       " 'http://wikipedia.org/wiki/Special:BookSources/978-0-9825442-0-4',\n",
       " 'http://wikipedia.org/wiki/Digital_object_identifier',\n",
       " 'http://wikipedia.org/wiki/International_Standard_Serial_Number',\n",
       " 'http://wikipedia.org/wiki/PubMed_Identifier',\n",
       " 'http://wikipedia.org/wiki/American_Statistical_Association',\n",
       " 'http://wikipedia.org/wiki/Thomas_H._Davenport',\n",
       " 'http://wikipedia.org/wiki/DJ_Patil',\n",
       " 'http://wikipedia.org/wiki/Harvard_Business_Review',\n",
       " 'http://wikipedia.org/wiki/Forbes',\n",
       " 'http://wikipedia.org/wiki/Digital_object_identifier',\n",
       " 'http://wikipedia.org/wiki/International_Standard_Book_Number',\n",
       " 'http://wikipedia.org/wiki/Special:BookSources/0-12-241770-4',\n",
       " 'http://wikipedia.org/wiki/Category:CS1_maint:_Extra_text:_authors_list',\n",
       " 'http://wikipedia.org/wiki/Wayback_Machine',\n",
       " 'http://wikipedia.org/wiki/International_Standard_Serial_Number',\n",
       " 'http://wikipedia.org/wiki/American_Statistical_Association',\n",
       " 'http://wikipedia.org/wiki/Digital_object_identifier',\n",
       " 'http://wikipedia.org/wiki/International_Standard_Serial_Number',\n",
       " 'http://wikipedia.org/wiki/Digital_object_identifier',\n",
       " 'http://wikipedia.org/wiki/Digital_object_identifier',\n",
       " 'http://wikipedia.org/wiki/International_Standard_Serial_Number',\n",
       " 'http://wikipedia.org/wiki/Digital_object_identifier',\n",
       " 'http://wikipedia.org/wiki/International_Standard_Serial_Number',\n",
       " 'http://wikipedia.org/wiki/PubMed_Central',\n",
       " 'http://wikipedia.org/wiki/PubMed_Identifier',\n",
       " 'http://wikipedia.org/wiki/Digital_object_identifier',\n",
       " 'http://wikipedia.org/wiki/International_Standard_Serial_Number',\n",
       " 'http://wikipedia.org/wiki/PubMed_Identifier',\n",
       " 'http://wikipedia.org/wiki/Digital_object_identifier',\n",
       " 'http://wikipedia.org/wiki/International_Standard_Serial_Number',\n",
       " 'http://wikipedia.org/wiki/PubMed_Identifier',\n",
       " 'http://wikipedia.org/wiki/Help:Category',\n",
       " 'http://wikipedia.org/wiki/Category:Information_science',\n",
       " 'http://wikipedia.org/wiki/Category:Computer_occupations',\n",
       " 'http://wikipedia.org/wiki/Category:Computational_fields_of_study',\n",
       " 'http://wikipedia.org/wiki/Category:Data_analysis',\n",
       " 'http://wikipedia.org/wiki/Category:CS1_maint:_Extra_text:_authors_list',\n",
       " 'http://wikipedia.org/wiki/Category:Webarchive_template_wayback_links',\n",
       " 'http://wikipedia.org/wiki/Category:Use_dmy_dates_from_December_2012',\n",
       " 'http://wikipedia.org/wiki/Category:All_articles_with_unsourced_statements',\n",
       " 'http://wikipedia.org/wiki/Category:Articles_with_unsourced_statements_from_April_2018',\n",
       " 'http://wikipedia.org/wiki/Special:MyTalk',\n",
       " 'http://wikipedia.org/wiki/Special:MyContributions',\n",
       " 'http://wikipedia.org/wiki/Data_science',\n",
       " 'http://wikipedia.org/wiki/Talk:Data_science',\n",
       " 'http://wikipedia.org/wiki/Data_science',\n",
       " 'http://wikipedia.org/wiki/Main_Page',\n",
       " 'http://wikipedia.org/wiki/Main_Page',\n",
       " 'http://wikipedia.org/wiki/Portal:Contents',\n",
       " 'http://wikipedia.org/wiki/Portal:Featured_content',\n",
       " 'http://wikipedia.org/wiki/Portal:Current_events',\n",
       " 'http://wikipedia.org/wiki/Special:Random',\n",
       " 'http://wikipedia.org/wiki/Help:Contents',\n",
       " 'http://wikipedia.org/wiki/Wikipedia:About',\n",
       " 'http://wikipedia.org/wiki/Wikipedia:Community_portal',\n",
       " 'http://wikipedia.org/wiki/Special:RecentChanges',\n",
       " 'http://wikipedia.org/wiki/Special:WhatLinksHere/Data_science',\n",
       " 'http://wikipedia.org/wiki/Special:RecentChangesLinked/Data_science',\n",
       " 'http://wikipedia.org/wiki/Wikipedia:File_Upload_Wizard',\n",
       " 'http://wikipedia.org/wiki/Special:SpecialPages',\n",
       " 'http://wikipedia.org/wiki/Wikipedia:About',\n",
       " 'http://wikipedia.org/wiki/Wikipedia:General_disclaimer']"
      ]
     },
     "execution_count": 116,
     "metadata": {},
     "output_type": "execute_result"
    }
   ],
   "source": [
    "wiki=[domain+x for x in hrefs if str(x).startswith('/wiki')]\n",
    "wiki\n",
    "# all the relative links with domain added"
   ]
  },
  {
   "cell_type": "code",
   "execution_count": 121,
   "metadata": {},
   "outputs": [
    {
     "data": {
      "text/plain": [
       "308"
      ]
     },
     "execution_count": 121,
     "metadata": {},
     "output_type": "execute_result"
    }
   ],
   "source": [
    "final=wiki+listurlhash\n",
    "final\n",
    "len(final)"
   ]
  },
  {
   "cell_type": "code",
   "execution_count": 124,
   "metadata": {},
   "outputs": [
    {
     "data": {
      "text/plain": [
       "249"
      ]
     },
     "execution_count": 124,
     "metadata": {},
     "output_type": "execute_result"
    }
   ],
   "source": [
    "uniqueurl_set=set(final)\n",
    "len(uniqueurl_set)"
   ]
  },
  {
   "cell_type": "code",
   "execution_count": 125,
   "metadata": {},
   "outputs": [
    {
     "data": {
      "text/plain": [
       "{'http://analytics-magazine.org/the-data-economy-why-do-so-many-analytics-projects-fail/',\n",
       " 'http://cacm.acm.org/magazines/2013/12/169933-data-science-and-prediction/fulltext',\n",
       " 'http://courses.csail.mit.edu/18.337/2015/docs/50YearsDataScience.pdf',\n",
       " 'http://datamining.it.uts.edu.au/conferences/dsaa14/',\n",
       " 'http://euads.org',\n",
       " 'http://fortune.com/2015/05/21/data-science-white-hot/',\n",
       " 'http://i.stanford.edu/~ullman/mmds/ch1n.pdf',\n",
       " 'http://magazine.amstat.org/blog/2016/06/01/datascience-2/',\n",
       " 'http://radar.oreilly.com/2011/05/data-science-terminology.html',\n",
       " 'http://simplystatistics.org/2013/12/12/the-key-word-in-data-science-is-not-data-it-is-science/',\n",
       " 'http://ur.umich.edu/9899/Nov09_98/4.htm',\n",
       " 'http://wikipedia.org/wiki/Academic_journal',\n",
       " 'http://wikipedia.org/wiki/Academic_publishing',\n",
       " 'http://wikipedia.org/wiki/Academy',\n",
       " 'http://wikipedia.org/wiki/American_Statistical_Association',\n",
       " 'http://wikipedia.org/wiki/Analytics',\n",
       " 'http://wikipedia.org/wiki/Anand_Rajaraman',\n",
       " 'http://wikipedia.org/wiki/Anomaly_detection',\n",
       " 'http://wikipedia.org/wiki/Applied_science',\n",
       " 'http://wikipedia.org/wiki/Artificial_neural_network',\n",
       " 'http://wikipedia.org/wiki/Artificial_neural_networks',\n",
       " 'http://wikipedia.org/wiki/Association_rule_learning',\n",
       " 'http://wikipedia.org/wiki/Autoencoder',\n",
       " 'http://wikipedia.org/wiki/Automated_machine_learning',\n",
       " 'http://wikipedia.org/wiki/BIRCH',\n",
       " 'http://wikipedia.org/wiki/Basic_research',\n",
       " 'http://wikipedia.org/wiki/Bayesian_network',\n",
       " 'http://wikipedia.org/wiki/Big_data',\n",
       " 'http://wikipedia.org/wiki/Boosting_(machine_learning)',\n",
       " 'http://wikipedia.org/wiki/Bootstrap_aggregating',\n",
       " 'http://wikipedia.org/wiki/Business_analytics',\n",
       " 'http://wikipedia.org/wiki/Business_intelligence',\n",
       " 'http://wikipedia.org/wiki/Buzzword',\n",
       " 'http://wikipedia.org/wiki/C.F._Jeff_Wu',\n",
       " 'http://wikipedia.org/wiki/CURE_data_clustering_algorithm',\n",
       " 'http://wikipedia.org/wiki/Canonical_correlation_analysis',\n",
       " 'http://wikipedia.org/wiki/Category:All_articles_with_unsourced_statements',\n",
       " 'http://wikipedia.org/wiki/Category:Articles_with_unsourced_statements_from_April_2018',\n",
       " 'http://wikipedia.org/wiki/Category:CS1_maint:_Extra_text:_authors_list',\n",
       " 'http://wikipedia.org/wiki/Category:Computational_fields_of_study',\n",
       " 'http://wikipedia.org/wiki/Category:Computer_occupations',\n",
       " 'http://wikipedia.org/wiki/Category:Data_analysis',\n",
       " 'http://wikipedia.org/wiki/Category:Information_science',\n",
       " 'http://wikipedia.org/wiki/Category:Use_dmy_dates_from_December_2012',\n",
       " 'http://wikipedia.org/wiki/Category:Webarchive_template_wayback_links',\n",
       " 'http://wikipedia.org/wiki/Cluster_analysis',\n",
       " 'http://wikipedia.org/wiki/Computational_learning_theory',\n",
       " 'http://wikipedia.org/wiki/Computational_science',\n",
       " 'http://wikipedia.org/wiki/Computer_science',\n",
       " 'http://wikipedia.org/wiki/Computing',\n",
       " 'http://wikipedia.org/wiki/Conditional_random_field',\n",
       " 'http://wikipedia.org/wiki/Conference_on_Neural_Information_Processing_Systems',\n",
       " 'http://wikipedia.org/wiki/Convolutional_neural_network',\n",
       " 'http://wikipedia.org/wiki/DBSCAN',\n",
       " 'http://wikipedia.org/wiki/DJ_Patil',\n",
       " 'http://wikipedia.org/wiki/Data',\n",
       " 'http://wikipedia.org/wiki/Data_mining',\n",
       " 'http://wikipedia.org/wiki/Data_science',\n",
       " 'http://wikipedia.org/wiki/Data_set',\n",
       " 'http://wikipedia.org/wiki/Database',\n",
       " 'http://wikipedia.org/wiki/Datalogy',\n",
       " 'http://wikipedia.org/wiki/David_Donoho',\n",
       " 'http://wikipedia.org/wiki/Decision_tree_learning',\n",
       " 'http://wikipedia.org/wiki/DeepDream',\n",
       " 'http://wikipedia.org/wiki/Deep_learning',\n",
       " 'http://wikipedia.org/wiki/Digital_object_identifier',\n",
       " 'http://wikipedia.org/wiki/Dimensionality_reduction',\n",
       " 'http://wikipedia.org/wiki/Discipline_(academia)',\n",
       " 'http://wikipedia.org/wiki/Distributed_computing',\n",
       " 'http://wikipedia.org/wiki/Empirical_research',\n",
       " 'http://wikipedia.org/wiki/Empirical_risk_minimization',\n",
       " 'http://wikipedia.org/wiki/Ensemble_learning',\n",
       " 'http://wikipedia.org/wiki/Explanatory_model',\n",
       " 'http://wikipedia.org/wiki/Factor_analysis',\n",
       " 'http://wikipedia.org/wiki/Feature_engineering',\n",
       " 'http://wikipedia.org/wiki/Feature_learning',\n",
       " 'http://wikipedia.org/wiki/File:Kernel_Machine.svg',\n",
       " 'http://wikipedia.org/wiki/Forbes',\n",
       " 'http://wikipedia.org/wiki/Gated_recurrent_unit',\n",
       " 'http://wikipedia.org/wiki/General_Assembly_(school)',\n",
       " 'http://wikipedia.org/wiki/Generative_adversarial_network',\n",
       " 'http://wikipedia.org/wiki/Glossary_of_artificial_intelligence',\n",
       " 'http://wikipedia.org/wiki/Graduate_school',\n",
       " 'http://wikipedia.org/wiki/Grammar_induction',\n",
       " 'http://wikipedia.org/wiki/Graphical_model',\n",
       " 'http://wikipedia.org/wiki/Hans_Rosling',\n",
       " 'http://wikipedia.org/wiki/Harvard_Business_Review',\n",
       " 'http://wikipedia.org/wiki/Health_science',\n",
       " 'http://wikipedia.org/wiki/Help:Category',\n",
       " 'http://wikipedia.org/wiki/Help:Contents',\n",
       " 'http://wikipedia.org/wiki/Hidden_Markov_model',\n",
       " 'http://wikipedia.org/wiki/Hierarchical_clustering',\n",
       " 'http://wikipedia.org/wiki/Independent_component_analysis',\n",
       " 'http://wikipedia.org/wiki/Indian_Statistical_Institute',\n",
       " 'http://wikipedia.org/wiki/Industry',\n",
       " 'http://wikipedia.org/wiki/Information_explosion',\n",
       " 'http://wikipedia.org/wiki/Information_science',\n",
       " 'http://wikipedia.org/wiki/Interdisciplinarity',\n",
       " 'http://wikipedia.org/wiki/International_Conference_on_Machine_Learning',\n",
       " 'http://wikipedia.org/wiki/International_Standard_Book_Number',\n",
       " 'http://wikipedia.org/wiki/International_Standard_Serial_Number',\n",
       " 'http://wikipedia.org/wiki/Jeff_Hammerbacher',\n",
       " 'http://wikipedia.org/wiki/Jeffrey_David_Ullman',\n",
       " 'http://wikipedia.org/wiki/Jeffrey_T._Leek',\n",
       " 'http://wikipedia.org/wiki/Jim_Gray_(computer_scientist)',\n",
       " 'http://wikipedia.org/wiki/Journal_of_Machine_Learning_Research',\n",
       " 'http://wikipedia.org/wiki/Jure_Leskovec',\n",
       " 'http://wikipedia.org/wiki/K-means_clustering',\n",
       " 'http://wikipedia.org/wiki/K-nearest_neighbors_algorithm',\n",
       " 'http://wikipedia.org/wiki/K-nearest_neighbors_classification',\n",
       " 'http://wikipedia.org/wiki/Knowledge',\n",
       " 'http://wikipedia.org/wiki/Learning_to_rank',\n",
       " 'http://wikipedia.org/wiki/Linear_discriminant_analysis',\n",
       " 'http://wikipedia.org/wiki/Linear_regression',\n",
       " 'http://wikipedia.org/wiki/List_of_datasets_for_machine-learning_research',\n",
       " 'http://wikipedia.org/wiki/Local_outlier_factor',\n",
       " 'http://wikipedia.org/wiki/Logistic_regression',\n",
       " 'http://wikipedia.org/wiki/Long_short-term_memory',\n",
       " 'http://wikipedia.org/wiki/Machine_Learning_(journal)',\n",
       " 'http://wikipedia.org/wiki/Machine_learning',\n",
       " 'http://wikipedia.org/wiki/Main_Page',\n",
       " 'http://wikipedia.org/wiki/Mathematics',\n",
       " 'http://wikipedia.org/wiki/Mean-shift',\n",
       " 'http://wikipedia.org/wiki/Methodology',\n",
       " 'http://wikipedia.org/wiki/Montpellier_2_University',\n",
       " 'http://wikipedia.org/wiki/Multi-disciplinary',\n",
       " 'http://wikipedia.org/wiki/Multilayer_perceptron',\n",
       " 'http://wikipedia.org/wiki/NYU_Stern_Center_for_Business_and_Human_Rights',\n",
       " 'http://wikipedia.org/wiki/Naive_Bayes_classifier',\n",
       " 'http://wikipedia.org/wiki/Nate_Silver',\n",
       " 'http://wikipedia.org/wiki/National_Institutes_of_Health',\n",
       " 'http://wikipedia.org/wiki/New_York_University',\n",
       " 'http://wikipedia.org/wiki/Non-negative_matrix_factorization',\n",
       " 'http://wikipedia.org/wiki/OPTICS_algorithm',\n",
       " 'http://wikipedia.org/wiki/Occam_learning',\n",
       " 'http://wikipedia.org/wiki/Online_machine_learning',\n",
       " 'http://wikipedia.org/wiki/Open_science',\n",
       " 'http://wikipedia.org/wiki/Outline_of_machine_learning',\n",
       " 'http://wikipedia.org/wiki/Paradigm',\n",
       " 'http://wikipedia.org/wiki/Pattern_recognition',\n",
       " 'http://wikipedia.org/wiki/Perceptron',\n",
       " 'http://wikipedia.org/wiki/Peter_Naur',\n",
       " 'http://wikipedia.org/wiki/Portal:Contents',\n",
       " 'http://wikipedia.org/wiki/Portal:Current_events',\n",
       " 'http://wikipedia.org/wiki/Portal:Featured_content',\n",
       " 'http://wikipedia.org/wiki/Prasanta_Chandra_Mahalanobis',\n",
       " 'http://wikipedia.org/wiki/Predictive_modelling',\n",
       " 'http://wikipedia.org/wiki/Principal_component_analysis',\n",
       " 'http://wikipedia.org/wiki/Probably_approximately_correct_learning',\n",
       " 'http://wikipedia.org/wiki/PubMed_Central',\n",
       " 'http://wikipedia.org/wiki/PubMed_Identifier',\n",
       " 'http://wikipedia.org/wiki/Q-learning',\n",
       " 'http://wikipedia.org/wiki/Random_forest',\n",
       " 'http://wikipedia.org/wiki/Recurrent_neural_network',\n",
       " 'http://wikipedia.org/wiki/Regression_analysis',\n",
       " 'http://wikipedia.org/wiki/Reinforcement_learning',\n",
       " 'http://wikipedia.org/wiki/Relevance_vector_machine',\n",
       " 'http://wikipedia.org/wiki/Restricted_Boltzmann_machine',\n",
       " 'http://wikipedia.org/wiki/Self-organizing_map',\n",
       " 'http://wikipedia.org/wiki/Semi-supervised_learning',\n",
       " 'http://wikipedia.org/wiki/Social_science',\n",
       " 'http://wikipedia.org/wiki/Software_Developer',\n",
       " 'http://wikipedia.org/wiki/Software_engineer',\n",
       " 'http://wikipedia.org/wiki/Special:BookSources/0-12-241770-4',\n",
       " 'http://wikipedia.org/wiki/Special:BookSources/978-0-9825442-0-4',\n",
       " 'http://wikipedia.org/wiki/Special:BookSources/9784431702085',\n",
       " 'http://wikipedia.org/wiki/Special:MyContributions',\n",
       " 'http://wikipedia.org/wiki/Special:MyTalk',\n",
       " 'http://wikipedia.org/wiki/Special:Random',\n",
       " 'http://wikipedia.org/wiki/Special:RecentChanges',\n",
       " 'http://wikipedia.org/wiki/Special:RecentChangesLinked/Data_science',\n",
       " 'http://wikipedia.org/wiki/Special:SpecialPages',\n",
       " 'http://wikipedia.org/wiki/Special:WhatLinksHere/Data_science',\n",
       " 'http://wikipedia.org/wiki/Statistical_classification',\n",
       " 'http://wikipedia.org/wiki/Statistical_learning_theory',\n",
       " 'http://wikipedia.org/wiki/Statistical_theory',\n",
       " 'http://wikipedia.org/wiki/Statistician',\n",
       " 'http://wikipedia.org/wiki/Statistics',\n",
       " 'http://wikipedia.org/wiki/Structured_prediction',\n",
       " 'http://wikipedia.org/wiki/Supervised_learning',\n",
       " 'http://wikipedia.org/wiki/Support-vector_machine',\n",
       " 'http://wikipedia.org/wiki/T-distributed_stochastic_neighbor_embedding',\n",
       " 'http://wikipedia.org/wiki/Talk:Data_science',\n",
       " 'http://wikipedia.org/wiki/Template:Machine_learning_bar',\n",
       " 'http://wikipedia.org/wiki/Template_talk:Machine_learning_bar',\n",
       " 'http://wikipedia.org/wiki/Temporal_difference_learning',\n",
       " 'http://wikipedia.org/wiki/The_Data_Incubator',\n",
       " 'http://wikipedia.org/wiki/The_Wall_Street_Journal',\n",
       " 'http://wikipedia.org/wiki/Theory',\n",
       " 'http://wikipedia.org/wiki/Thomas_H._Davenport',\n",
       " 'http://wikipedia.org/wiki/Turing_award',\n",
       " 'http://wikipedia.org/wiki/U-Net',\n",
       " 'http://wikipedia.org/wiki/University_of_Essex',\n",
       " 'http://wikipedia.org/wiki/University_of_Michigan',\n",
       " 'http://wikipedia.org/wiki/Unsupervised_learning',\n",
       " 'http://wikipedia.org/wiki/Wayback_Machine',\n",
       " 'http://wikipedia.org/wiki/Wikipedia:About',\n",
       " 'http://wikipedia.org/wiki/Wikipedia:Citation_needed',\n",
       " 'http://wikipedia.org/wiki/Wikipedia:Community_portal',\n",
       " 'http://wikipedia.org/wiki/Wikipedia:File_Upload_Wizard',\n",
       " 'http://wikipedia.org/wiki/Wikipedia:General_disclaimer',\n",
       " 'http://www.codata.org/',\n",
       " 'http://www.dsaa.co',\n",
       " 'http://www.gfkl.org/welcome/',\n",
       " 'http://www.isical.ac.in/~statmath/html/pcm/pcm_recent.html',\n",
       " 'http://www.jds-online.com/v1-1',\n",
       " 'http://www.jstage.jst.go.jp/browse/dsj/1/0/_contents',\n",
       " 'http://www.jstage.jst.go.jp/browse/dsj/_vols',\n",
       " 'http://www.nsf.gov/pubs/2005/nsb0540/',\n",
       " 'http://www.statisticsviews.com/details/feature/5133141/Nate-Silver-What-I-need-from-statisticians.html',\n",
       " 'http://www2.isye.gatech.edu/~jeffwu/presentations/datascience.pdf',\n",
       " 'https://arxiv.org/list/cs.LG/recent',\n",
       " 'https://blogs.wsj.com/cio/2014/05/02/why-do-we-need-data-science-when-weve-had-statistics-for-centuries/',\n",
       " 'https://books.google.com/books?id=oGs_AQAAIAAJ',\n",
       " 'https://commons.wikimedia.org/wiki/Category:Data_science',\n",
       " 'https://cs.wikipedia.org/wiki/Data_science',\n",
       " 'https://de.wikipedia.org/wiki/Data_Science',\n",
       " 'https://donate.wikimedia.org/wiki/Special:FundraiserRedirector?utm_source=donate&utm_medium=sidebar&utm_campaign=C13_en.wikipedia.org&uselang=en',\n",
       " 'https://en.wikipedia.org/w/index.php?title=Data_science&oldid=908381660',\n",
       " 'https://es.wikipedia.org/wiki/Ciencia_de_datos',\n",
       " 'https://foundation.wikimedia.org/wiki/Cookie_statement',\n",
       " 'https://foundation.wikimedia.org/wiki/Privacy_policy',\n",
       " 'https://hbr.org/2012/10/data-scientist-the-sexiest-job-of-the-21st-century/',\n",
       " 'https://hbr.org/2018/01/are-you-setting-your-data-scientists-up-to-fail',\n",
       " 'https://id.wikipedia.org/wiki/Ilmu_data',\n",
       " 'https://it.wikipedia.org/wiki/Scienza_dei_dati',\n",
       " 'https://magazine.amstat.org/blog/2015/10/01/asa-statement-on-the-role-of-statistics-in-data-science/',\n",
       " 'https://ms.wikipedia.org/wiki/Sains_data',\n",
       " 'https://nl.wikipedia.org/wiki/Datawetenschap',\n",
       " 'https://pdfs.semanticscholar.org/915c/d8e2b39eb02723553913d592b2237d4d9960.pdf',\n",
       " 'https://simple.wikipedia.org/wiki/Data_science',\n",
       " 'https://venturebeat.com/2014/04/15/ny-gets-new-bootcamp-for-data-scientists-its-free-but-harder-to-get-into-than-harvard/',\n",
       " 'https://web.archive.org/web/20120403153707/http://www.jstage.jst.go.jp/browse/dsj/_vols',\n",
       " 'https://web.archive.org/web/20131029191813/http://www.isical.ac.in/~statmath/html/pcm/pcm_recent.html',\n",
       " 'https://web.archive.org/web/20170205101231/http://magazine.amstat.org/blog/2016/06/01/datascience-2/',\n",
       " 'https://web.archive.org/web/20170329172857/http://datamining.it.uts.edu.au/conferences/dsaa14/',\n",
       " 'https://wikimediafoundation.org/',\n",
       " 'https://www.bbc.co.uk/programmes/b00wgq0l',\n",
       " 'https://www.consultancy.uk/news/16839/70-of-big-data-projects-in-uk-fail-to-realise-full-potential',\n",
       " 'https://www.forbes.com/sites/gilpress/2013/05/28/a-very-short-history-of-data-science/',\n",
       " 'https://www.forbes.com/sites/gilpress/2013/08/19/data-science-whats-the-half-life-of-a-buzzword/',\n",
       " 'https://www.kdnuggets.com/2018/05/data-science-4-reasons-failing-deliver.html',\n",
       " 'https://www.mediawiki.org/',\n",
       " 'https://www.mediawiki.org/wiki/Special:MyLanguage/How_to_contribute',\n",
       " 'https://www.nytimes.com/2009/12/15/science/15books.html',\n",
       " 'https://www.nytimes.com/2011/04/03/business/03stream.html',\n",
       " 'https://www.springer.com/41060',\n",
       " 'https://www.springer.com/book/9784431702085',\n",
       " 'https://www.wikidata.org/wiki/Special:EntityPage/Q2374463'}"
      ]
     },
     "execution_count": 125,
     "metadata": {},
     "output_type": "execute_result"
    }
   ],
   "source": [
    "uniqueurl_set"
   ]
  },
  {
   "cell_type": "markdown",
   "metadata": {},
   "source": [
    "## Step 4: Use the os library to create a folder called *wikipedia* and make that the current working directory."
   ]
  },
  {
   "cell_type": "code",
   "execution_count": 149,
   "metadata": {},
   "outputs": [
    {
     "name": "stdout",
     "output_type": "stream",
     "text": [
      "Current Working Directory  C:\\Users\\eleouetd01\\Desktop\\IRON\\ironhack-datalabs-dataparis0619-pt\\module-1\\lab-parallelization\\wikipedia\n"
     ]
    }
   ],
   "source": [
    "import os\n",
    "print(\"Current Working Directory \" , os.getcwd())"
   ]
  },
  {
   "cell_type": "code",
   "execution_count": 150,
   "metadata": {},
   "outputs": [
    {
     "name": "stdout",
     "output_type": "stream",
     "text": [
      "[WinError 2] The system cannot find the file specified: '!'\n",
      "C:\\Users\\eleouetd01\\Desktop\\IRON\\ironhack-datalabs-dataparis0619-pt\\module-1\\lab-parallelization\\your-code\n"
     ]
    }
   ],
   "source": [
    "cd!"
   ]
  },
  {
   "cell_type": "code",
   "execution_count": 151,
   "metadata": {},
   "outputs": [
    {
     "name": "stdout",
     "output_type": "stream",
     "text": [
      "Creation of the directory ..\\wikipedia failed\n"
     ]
    }
   ],
   "source": [
    "path = \"..\\wikipedia\"\n",
    "\n",
    "try:\n",
    "    os.mkdir(path)\n",
    "except OSError:\n",
    "    print (\"Creation of the directory %s failed\" % path)\n",
    "else:\n",
    "    print (\"Successfully created the directory %s \" % path)"
   ]
  },
  {
   "cell_type": "code",
   "execution_count": 152,
   "metadata": {},
   "outputs": [],
   "source": [
    "os.chdir(path)"
   ]
  },
  {
   "cell_type": "code",
   "execution_count": 154,
   "metadata": {},
   "outputs": [
    {
     "data": {
      "text/plain": [
       "'C:\\\\Users\\\\eleouetd01\\\\Desktop\\\\IRON\\\\ironhack-datalabs-dataparis0619-pt\\\\module-1\\\\lab-parallelization\\\\wikipedia'"
      ]
     },
     "execution_count": 154,
     "metadata": {},
     "output_type": "execute_result"
    }
   ],
   "source": [
    "os.getcwd()"
   ]
  },
  {
   "cell_type": "markdown",
   "metadata": {},
   "source": [
    "## Step 5: Write a function called index_page that accepts a link and does the following.\n",
    "\n",
    "- Tries to request the content of the page referenced by that link.\n",
    "- Slugifies the filename using the `slugify` function from the [python-slugify](https://pypi.org/project/python-slugify/) library and adds a .html file extension.\n",
    "    - If you don't already have the python-slugify library installed, you can pip install it as follows: `$ pip install python-slugify`.\n",
    "    - To import the slugify function, you would do the following: `from slugify import slugify`.\n",
    "    - You can then slugify a link as follows `slugify(link)`.\n",
    "- Creates a file in the wikipedia folder using the slugified filename and writes the contents of the page to the file.\n",
    "- If an exception occurs during the process above, just `pass`."
   ]
  },
  {
   "cell_type": "code",
   "execution_count": 189,
   "metadata": {},
   "outputs": [],
   "source": [
    "from slugify import slugify"
   ]
  },
  {
   "cell_type": "code",
   "execution_count": 190,
   "metadata": {},
   "outputs": [],
   "source": [
    "def index_page(link):\n",
    "\n",
    "    filename = slugify(link) + '.html'\n",
    "    request=requests.get(link).content\n",
    "        \n",
    "    with open(filename, 'wb') as filehandle:\n",
    "        filehandle.write(request)\n",
    "    #return file_object\n"
   ]
  },
  {
   "cell_type": "code",
   "execution_count": 176,
   "metadata": {},
   "outputs": [],
   "source": [
    "#example\n",
    "with open('test', 'w') as filehandle:\n",
    "        filehandle.write('blablabla')"
   ]
  },
  {
   "cell_type": "code",
   "execution_count": 177,
   "metadata": {},
   "outputs": [
    {
     "data": {
      "text/plain": [
       "'this-is-a-test'"
      ]
     },
     "execution_count": 177,
     "metadata": {},
     "output_type": "execute_result"
    }
   ],
   "source": [
    "#example\n",
    "from slugify import slugify\n",
    "txt = \"This\\ is/ a%#$ test ---\"\n",
    "slugify(txt)"
   ]
  },
  {
   "cell_type": "markdown",
   "metadata": {},
   "source": [
    "## Step 6: Sequentially loop through the list of links, running the index_page function each time.\n",
    "\n",
    "Remember to include `%%time` at the beginning of the cell so that it measures the time it takes for the cell to run."
   ]
  },
  {
   "cell_type": "code",
   "execution_count": 192,
   "metadata": {},
   "outputs": [
    {
     "name": "stdout",
     "output_type": "stream",
     "text": [
      "Wall time: 2min 10s\n"
     ]
    }
   ],
   "source": [
    "%%time\n",
    "x=list(map(index_page, uniqueurl_set))\n",
    "x"
   ]
  },
  {
   "cell_type": "markdown",
   "metadata": {},
   "source": [
    "## Step 7: Perform the page indexing in parallel and note the difference in performance.\n",
    "\n",
    "Remember to include `%%time` at the beginning of the cell so that it measures the time it takes for the cell to run."
   ]
  },
  {
   "cell_type": "code",
   "execution_count": 193,
   "metadata": {},
   "outputs": [],
   "source": [
    "import multiprocessing"
   ]
  },
  {
   "cell_type": "code",
   "execution_count": null,
   "metadata": {},
   "outputs": [],
   "source": []
  },
  {
   "cell_type": "code",
   "execution_count": null,
   "metadata": {},
   "outputs": [],
   "source": []
  },
  {
   "cell_type": "code",
   "execution_count": null,
   "metadata": {},
   "outputs": [],
   "source": []
  }
 ],
 "metadata": {
  "kernelspec": {
   "display_name": "Python 3",
   "language": "python",
   "name": "python3"
  },
  "language_info": {
   "codemirror_mode": {
    "name": "ipython",
    "version": 3
   },
   "file_extension": ".py",
   "mimetype": "text/x-python",
   "name": "python",
   "nbconvert_exporter": "python",
   "pygments_lexer": "ipython3",
   "version": "3.7.3"
  }
 },
 "nbformat": 4,
 "nbformat_minor": 2
}
