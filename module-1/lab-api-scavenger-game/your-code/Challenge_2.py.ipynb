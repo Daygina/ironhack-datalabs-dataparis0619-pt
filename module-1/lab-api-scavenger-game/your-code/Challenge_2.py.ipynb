{
 "cells": [
  {
   "cell_type": "code",
   "execution_count": 6,
   "metadata": {},
   "outputs": [],
   "source": [
    "import json\n",
    "import requests\n",
    "import os\n",
    "import pandas as pd"
   ]
  },
  {
   "cell_type": "code",
   "execution_count": 7,
   "metadata": {},
   "outputs": [
    {
     "data": {
      "text/plain": [
       "[{'sha': '14448d62a07f1f05c1513be6431fb54ce99b2fea',\n",
       "  'node_id': 'MDY6Q29tbWl0MTkwMDYyMTYxOjE0NDQ4ZDYyYTA3ZjFmMDVjMTUxM2JlNjQzMWZiNTRjZTk5YjJmZWE=',\n",
       "  'commit': {'author': {'name': 'daygina',\n",
       "    'email': 'daygina.eleouet@gmail.com',\n",
       "    'date': '2019-07-12T19:33:49Z'},\n",
       "   'committer': {'name': 'daygina',\n",
       "    'email': 'daygina.eleouet@gmail.com',\n",
       "    'date': '2019-07-12T19:33:49Z'},\n",
       "   'message': '12 july',\n",
       "   'tree': {'sha': '51eb0d35cc4575132cab877192d3f93fc5cb938b',\n",
       "    'url': 'https://api.github.com/repos/Daygina/ironhack-datalabs-dataparis0619-pt/git/trees/51eb0d35cc4575132cab877192d3f93fc5cb938b'},\n",
       "   'url': 'https://api.github.com/repos/Daygina/ironhack-datalabs-dataparis0619-pt/git/commits/14448d62a07f1f05c1513be6431fb54ce99b2fea',\n",
       "   'comment_count': 0,\n",
       "   'verification': {'verified': False,\n",
       "    'reason': 'unsigned',\n",
       "    'signature': None,\n",
       "    'payload': None}},\n",
       "  'url': 'https://api.github.com/repos/Daygina/ironhack-datalabs-dataparis0619-pt/commits/14448d62a07f1f05c1513be6431fb54ce99b2fea',\n",
       "  'html_url': 'https://github.com/Daygina/ironhack-datalabs-dataparis0619-pt/commit/14448d62a07f1f05c1513be6431fb54ce99b2fea',\n",
       "  'comments_url': 'https://api.github.com/repos/Daygina/ironhack-datalabs-dataparis0619-pt/commits/14448d62a07f1f05c1513be6431fb54ce99b2fea/comments',\n",
       "  'author': {'login': 'Daygina',\n",
       "   'id': 50207427,\n",
       "   'node_id': 'MDQ6VXNlcjUwMjA3NDI3',\n",
       "   'avatar_url': 'https://avatars0.githubusercontent.com/u/50207427?v=4',\n",
       "   'gravatar_id': '',\n",
       "   'url': 'https://api.github.com/users/Daygina',\n",
       "   'html_url': 'https://github.com/Daygina',\n",
       "   'followers_url': 'https://api.github.com/users/Daygina/followers',\n",
       "   'following_url': 'https://api.github.com/users/Daygina/following{/other_user}',\n",
       "   'gists_url': 'https://api.github.com/users/Daygina/gists{/gist_id}',\n",
       "   'starred_url': 'https://api.github.com/users/Daygina/starred{/owner}{/repo}',\n",
       "   'subscriptions_url': 'https://api.github.com/users/Daygina/subscriptions',\n",
       "   'organizations_url': 'https://api.github.com/users/Daygina/orgs',\n",
       "   'repos_url': 'https://api.github.com/users/Daygina/repos',\n",
       "   'events_url': 'https://api.github.com/users/Daygina/events{/privacy}',\n",
       "   'received_events_url': 'https://api.github.com/users/Daygina/received_events',\n",
       "   'type': 'User',\n",
       "   'site_admin': False},\n",
       "  'committer': {'login': 'Daygina',\n",
       "   'id': 50207427,\n",
       "   'node_id': 'MDQ6VXNlcjUwMjA3NDI3',\n",
       "   'avatar_url': 'https://avatars0.githubusercontent.com/u/50207427?v=4',\n",
       "   'gravatar_id': '',\n",
       "   'url': 'https://api.github.com/users/Daygina',\n",
       "   'html_url': 'https://github.com/Daygina',\n",
       "   'followers_url': 'https://api.github.com/users/Daygina/followers',\n",
       "   'following_url': 'https://api.github.com/users/Daygina/following{/other_user}',\n",
       "   'gists_url': 'https://api.github.com/users/Daygina/gists{/gist_id}',\n",
       "   'starred_url': 'https://api.github.com/users/Daygina/starred{/owner}{/repo}',\n",
       "   'subscriptions_url': 'https://api.github.com/users/Daygina/subscriptions',\n",
       "   'organizations_url': 'https://api.github.com/users/Daygina/orgs',\n",
       "   'repos_url': 'https://api.github.com/users/Daygina/repos',\n",
       "   'events_url': 'https://api.github.com/users/Daygina/events{/privacy}',\n",
       "   'received_events_url': 'https://api.github.com/users/Daygina/received_events',\n",
       "   'type': 'User',\n",
       "   'site_admin': False},\n",
       "  'parents': [{'sha': '33fc187071b62501e4dec7a248c7a62f846bbed6',\n",
       "    'url': 'https://api.github.com/repos/Daygina/ironhack-datalabs-dataparis0619-pt/commits/33fc187071b62501e4dec7a248c7a62f846bbed6',\n",
       "    'html_url': 'https://github.com/Daygina/ironhack-datalabs-dataparis0619-pt/commit/33fc187071b62501e4dec7a248c7a62f846bbed6'}]}]"
      ]
     },
     "execution_count": 7,
     "metadata": {},
     "output_type": "execute_result"
    }
   ],
   "source": [
    "#Challenge 2\n",
    "Ncommits = requests.get(\"https://api.github.com/repos/Daygina/ironhack-datalabs-dataparis0619-pt/commits?since=2019-07-10&until=2019-07-17\", headers={\"authentication\": \"api_key\"})\n",
    "Ncommits.json()"
   ]
  },
  {
   "cell_type": "code",
   "execution_count": 8,
   "metadata": {},
   "outputs": [
    {
     "data": {
      "text/html": [
       "<div>\n",
       "<style scoped>\n",
       "    .dataframe tbody tr th:only-of-type {\n",
       "        vertical-align: middle;\n",
       "    }\n",
       "\n",
       "    .dataframe tbody tr th {\n",
       "        vertical-align: top;\n",
       "    }\n",
       "\n",
       "    .dataframe thead th {\n",
       "        text-align: right;\n",
       "    }\n",
       "</style>\n",
       "<table border=\"1\" class=\"dataframe\">\n",
       "  <thead>\n",
       "    <tr style=\"text-align: right;\">\n",
       "      <th></th>\n",
       "      <th>0</th>\n",
       "    </tr>\n",
       "  </thead>\n",
       "  <tbody>\n",
       "    <tr>\n",
       "      <th>0</th>\n",
       "      <td>b'[{\"sha\":\"14448d62a07f1f05c1513be6431fb54ce99...</td>\n",
       "    </tr>\n",
       "    <tr>\n",
       "      <th>1</th>\n",
       "      <td>b'RjZTk5YjJmZWE=\",\"commit\":{\"author\":{\"name\":\"...</td>\n",
       "    </tr>\n",
       "  </tbody>\n",
       "</table>\n",
       "</div>"
      ],
      "text/plain": [
       "                                                   0\n",
       "0  b'[{\"sha\":\"14448d62a07f1f05c1513be6431fb54ce99...\n",
       "1  b'RjZTk5YjJmZWE=\",\"commit\":{\"author\":{\"name\":\"..."
      ]
     },
     "execution_count": 8,
     "metadata": {},
     "output_type": "execute_result"
    }
   ],
   "source": [
    "df=pd.DataFrame(Ncommits)\n",
    "df.head(2)"
   ]
  },
  {
   "cell_type": "code",
   "execution_count": 9,
   "metadata": {},
   "outputs": [
    {
     "data": {
      "text/plain": [
       "0    26\n",
       "dtype: int64"
      ]
     },
     "execution_count": 9,
     "metadata": {},
     "output_type": "execute_result"
    }
   ],
   "source": [
    "df.count()\n",
    "# Apparently 26 commits between 10 - 17 July 2019 \n",
    "# while the github website history Showing  with 126,686 additions and 66 deletions on 12 july."
   ]
  },
  {
   "cell_type": "code",
   "execution_count": null,
   "metadata": {},
   "outputs": [],
   "source": []
  }
 ],
 "metadata": {
  "kernelspec": {
   "display_name": "Python 3",
   "language": "python",
   "name": "python3"
  },
  "language_info": {
   "codemirror_mode": {
    "name": "ipython",
    "version": 3
   },
   "file_extension": ".py",
   "mimetype": "text/x-python",
   "name": "python",
   "nbconvert_exporter": "python",
   "pygments_lexer": "ipython3",
   "version": "3.7.3"
  }
 },
 "nbformat": 4,
 "nbformat_minor": 2
}
