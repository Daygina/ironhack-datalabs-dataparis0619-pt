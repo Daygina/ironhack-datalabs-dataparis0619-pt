{
 "cells": [
  {
   "cell_type": "code",
   "execution_count": 3,
   "metadata": {},
   "outputs": [
    {
     "name": "stdout",
     "output_type": "stream",
     "text": [
      "GeeksforGeeks"
     ]
    }
   ],
   "source": [
    "# Python code to demonstrate \n",
    "# application of sleep() \n",
    "  \n",
    "import time \n",
    "  \n",
    "# initializing string  \n",
    "strn = \"GeeksforGeeks\"\n",
    "  \n",
    "# printing geeksforgeeks after delay \n",
    "# of each character \n",
    "for i in range(0, len(strn)): \n",
    "    print(strn[i], end =\"\")\n",
    "    w=2\n",
    "    time.sleep(w) "
   ]
  },
  {
   "cell_type": "code",
   "execution_count": null,
   "metadata": {},
   "outputs": [],
   "source": []
  }
 ],
 "metadata": {
  "kernelspec": {
   "display_name": "Python 3",
   "language": "python",
   "name": "python3"
  },
  "language_info": {
   "codemirror_mode": {
    "name": "ipython",
    "version": 3
   },
   "file_extension": ".py",
   "mimetype": "text/x-python",
   "name": "python",
   "nbconvert_exporter": "python",
   "pygments_lexer": "ipython3",
   "version": "3.7.3"
  }
 },
 "nbformat": 4,
 "nbformat_minor": 2
}
