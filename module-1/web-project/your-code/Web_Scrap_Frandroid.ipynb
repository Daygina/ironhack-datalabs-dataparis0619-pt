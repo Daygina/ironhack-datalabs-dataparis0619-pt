{
 "cells": [
  {
   "cell_type": "code",
   "execution_count": 1,
   "metadata": {},
   "outputs": [],
   "source": [
    "import requests\n",
    "import json\n",
    "from bs4 import BeautifulSoup\n",
    "import pandas as pd\n",
    "\n",
    "url = 'https://www.frandroid.com/'"
   ]
  },
  {
   "cell_type": "code",
   "execution_count": 2,
   "metadata": {},
   "outputs": [],
   "source": [
    "html = requests.get(url).content\n",
    "soup = BeautifulSoup(html, \"lxml\")"
   ]
  },
  {
   "cell_type": "code",
   "execution_count": 3,
   "metadata": {},
   "outputs": [],
   "source": [
    "site = soup.find_all('div',{'class':'text-container'})\n",
    "\n",
    "#le site frandroid.com genere plusieurs articules => avec du contenu dynamique => AJAX?\n",
    "# la liste page ne ressort que 14 articles."
   ]
  },
  {
   "cell_type": "code",
   "execution_count": 4,
   "metadata": {},
   "outputs": [],
   "source": [
    "site1 = soup.find_all('ul',{'class':'larger-container bg-content'})"
   ]
  },
  {
   "cell_type": "code",
   "execution_count": 5,
   "metadata": {},
   "outputs": [
    {
     "data": {
      "text/plain": [
       "[<a class=\"hover-color-event\" href=\"https://www.frandroid.com/marques/huawei/616029_huawei-mate-x-de-nouveau-retarde-il-arrivera-apres-le-galaxy-fold\" rel=\"follow\" title=\"Huawei Mate X : de nouveau retardé, il arrivera après le Galaxy Fold\">\n",
       "             Huawei Mate X : de nouveau retardé, il arrivera après le Galaxy Fold        </a>,\n",
       " <a class=\"hover-color-event\" href=\"https://www.frandroid.com/bons-plans/bons-plans-smartphone/614610_le-huawei-p30-chute-a-499-euros-avec-une-paire-de-freebuds-lite-offerte\" rel=\"follow\" title=\"L'excellent Huawei P30 au même prix qu'un Xiaomi Mi 9 ? Oui, c'est possible\">\n",
       "             L'excellent Huawei P30 au même prix qu'un Xiaomi Mi 9 ? Oui, c'est possible        </a>,\n",
       " <a class=\"hover-color-event\" href=\"https://www.frandroid.com/bons-plans/bons-plans-smartphone/615898_realme-3-pro-la-bonne-alternative-au-redmi-note-7-passe-a-172-euros\" rel=\"follow\" title=\"Realme 3 Pro, la bonne alternative au Redmi Note 7 passe à 172 euros\">\n",
       "             Realme 3 Pro, la bonne alternative au Redmi Note 7 passe à 172 euros        </a>,\n",
       " <a class=\"hover-color-event\" href=\"https://www.frandroid.com/marques/samsung/614150_prise-en-main-samsung-galaxy-note-10\" rel=\"\" title=\"Prise en main du Samsung Galaxy Note 10 : un max de style(t) et des incertitudes\">\n",
       "             Prise en main du Samsung Galaxy Note 10 : un max de…        </a>,\n",
       " <a class=\"hover-color-event\" href=\"https://www.frandroid.com/test/611589_test-arlo-ultra\" rel=\"\" title=\"Test de l’Arlo Ultra : une caméra de surveillance sans fil et 4K, vraiment ?\">\n",
       "             Test de l’Arlo Ultra : une caméra de surveillance…        </a>,\n",
       " <a class=\"hover-color-event\" href=\"https://www.frandroid.com/marques/samsung/614428_samsung-galaxy-note-10-vs-galaxy-note-10-quelles-differences\" rel=\"\" title=\"Samsung Galaxy Note 10 VS Galaxy Note 10+ : quelles différences ?\">\n",
       "             Samsung Galaxy Note 10 VS Galaxy Note 10+ : quelles…        </a>,\n",
       " <a class=\"hover-color-event\" href=\"https://www.frandroid.com/bons-plans/bons-plans-telecom/615954_nrj-mobile-30-go-pour-moins-de-5-euros-par-mois-pour-commencer\" rel=\"follow\" title=\"NRJ Mobile : 30 Go pour moins de 5 euros par mois pour commencer\">\n",
       "             NRJ Mobile : 30 Go pour moins de 5 euros par mois pour commencer        </a>,\n",
       " <a class=\"hover-color-event\" href=\"https://www.frandroid.com/guide-dachat/smartphones/276805_les-meilleurs-smartphones-a-moins-de-300-euros-en-2017\" rel=\"\" title=\"Les meilleurs smartphones à moins de 300 euros en 2019\">\n",
       "             Les meilleurs smartphones à moins de 300 euros en…        </a>,\n",
       " <a class=\"hover-color-event\" href=\"https://www.frandroid.com/guide-dachat/smartphones/275349_quel-smartphone-choisir-moins-de-200-euros\" rel=\"\" title=\"Quel smartphone à moins de 200 euros choisir en août 2019 ?\">\n",
       "             Quel smartphone à moins de 200 euros choisir en août…        </a>,\n",
       " <a class=\"hover-color-event\" href=\"https://www.frandroid.com/guide-dachat/guide-forfaits-mobiles/350226_cest-moment-de-changer-de-forfait-mobile-voici-comparatif-meilleurs-offres\" rel=\"\" title=\"Sosh, B&amp;You, RED, Free Mobile : toutes les promotions du moment\">\n",
       "             Sosh, B&amp;You, RED, Free Mobile : toutes les promotions…        </a>,\n",
       " <a class=\"hover-color-event\" href=\"https://www.frandroid.com/actualites-generales/615994_xiaomi-mi-9t-pro-en-approche-free-bloque-par-altice-sfr-sur-tv-et-debits-netflix-techspresso\" rel=\"follow\" title=\"Xiaomi Mi 9T Pro en approche, Free bloqué par Altice (SFR) sur TV et débits Netflix - Tech'spresso\">\n",
       "             Xiaomi Mi 9T Pro en approche, Free bloqué par Altice (SFR) sur TV et débits Netflix…        </a>]"
      ]
     },
     "execution_count": 5,
     "metadata": {},
     "output_type": "execute_result"
    }
   ],
   "source": [
    "page = soup.find_all('a',{'class':'hover-color-event'})\n",
    "page"
   ]
  },
  {
   "cell_type": "code",
   "execution_count": 6,
   "metadata": {},
   "outputs": [
    {
     "data": {
      "text/plain": [
       "11"
      ]
     },
     "execution_count": 6,
     "metadata": {},
     "output_type": "execute_result"
    }
   ],
   "source": [
    "len(page)"
   ]
  },
  {
   "cell_type": "code",
   "execution_count": 7,
   "metadata": {},
   "outputs": [
    {
     "data": {
      "text/plain": [
       "['https://www.frandroid.com/marques/huawei/616029_huawei-mate-x-de-nouveau-retarde-il-arrivera-apres-le-galaxy-fold',\n",
       " 'https://www.frandroid.com/bons-plans/bons-plans-smartphone/614610_le-huawei-p30-chute-a-499-euros-avec-une-paire-de-freebuds-lite-offerte',\n",
       " 'https://www.frandroid.com/bons-plans/bons-plans-smartphone/615898_realme-3-pro-la-bonne-alternative-au-redmi-note-7-passe-a-172-euros',\n",
       " 'https://www.frandroid.com/marques/samsung/614150_prise-en-main-samsung-galaxy-note-10',\n",
       " 'https://www.frandroid.com/test/611589_test-arlo-ultra',\n",
       " 'https://www.frandroid.com/marques/samsung/614428_samsung-galaxy-note-10-vs-galaxy-note-10-quelles-differences',\n",
       " 'https://www.frandroid.com/bons-plans/bons-plans-telecom/615954_nrj-mobile-30-go-pour-moins-de-5-euros-par-mois-pour-commencer',\n",
       " 'https://www.frandroid.com/guide-dachat/smartphones/276805_les-meilleurs-smartphones-a-moins-de-300-euros-en-2017',\n",
       " 'https://www.frandroid.com/guide-dachat/smartphones/275349_quel-smartphone-choisir-moins-de-200-euros',\n",
       " 'https://www.frandroid.com/guide-dachat/guide-forfaits-mobiles/350226_cest-moment-de-changer-de-forfait-mobile-voici-comparatif-meilleurs-offres',\n",
       " 'https://www.frandroid.com/actualites-generales/615994_xiaomi-mi-9t-pro-en-approche-free-bloque-par-altice-sfr-sur-tv-et-debits-netflix-techspresso']"
      ]
     },
     "execution_count": 7,
     "metadata": {},
     "output_type": "execute_result"
    }
   ],
   "source": [
    "hrefs = [\n",
    "    \n",
    "    a.get('href') for a in page\n",
    "]\n",
    "hrefs\n",
    "#les URLs d'une seule page"
   ]
  },
  {
   "cell_type": "code",
   "execution_count": 12,
   "metadata": {},
   "outputs": [
    {
     "data": {
      "text/plain": [
       "['Huawei Mate X : de nouveau retardé, il arrivera après le Galaxy Fold',\n",
       " \"L'excellent Huawei P30 au même prix qu'un Xiaomi Mi 9 ? Oui, c'est possible\",\n",
       " 'Realme 3 Pro, la bonne alternative au Redmi Note 7 passe à 172 euros',\n",
       " 'Prise en main du Samsung Galaxy Note 10 : un max de style(t) et des incertitudes',\n",
       " 'Test de l’Arlo Ultra : une caméra de surveillance sans fil et 4K, vraiment ?',\n",
       " 'Samsung Galaxy Note 10 VS Galaxy Note 10+ : quelles différences ?',\n",
       " 'NRJ Mobile : 30 Go pour moins de 5 euros par mois pour commencer',\n",
       " 'Les meilleurs smartphones à moins de 300 euros en 2019',\n",
       " 'Quel smartphone à moins de 200 euros choisir en août 2019 ?',\n",
       " 'Sosh, B&You, RED, Free Mobile : toutes les promotions du moment',\n",
       " \"Xiaomi Mi 9T Pro en approche, Free bloqué par Altice (SFR) sur TV et débits Netflix - Tech'spresso\"]"
      ]
     },
     "execution_count": 12,
     "metadata": {},
     "output_type": "execute_result"
    }
   ],
   "source": [
    "titles = [\n",
    "    \n",
    "    a.get('title') for a in page\n",
    "]\n",
    "titles\n",
    "#les URLs d'une seule page"
   ]
  },
  {
   "cell_type": "code",
   "execution_count": 17,
   "metadata": {},
   "outputs": [
    {
     "name": "stdout",
     "output_type": "stream",
     "text": [
      "Huawei Mate X : de nouveau retardé, il arrivera après le Galaxy Fold\n",
      "L'excellent Huawei P30 au même prix qu'un Xiaomi Mi 9 ? Oui, c'est possible\n"
     ]
    }
   ],
   "source": [
    "search='Huawei'\n",
    "\n",
    "print(\"\\n\".join(s for s in titles if search.lower() in s.lower()))"
   ]
  },
  {
   "cell_type": "code",
   "execution_count": null,
   "metadata": {},
   "outputs": [],
   "source": [
    "#python selenium scraping"
   ]
  },
  {
   "cell_type": "code",
   "execution_count": 18,
   "metadata": {},
   "outputs": [
    {
     "name": "stdout",
     "output_type": "stream",
     "text": [
      "Huawei Mate X : de nouveau retardé, il arrivera après le Galaxy Fold\n",
      "Prise en main du Samsung Galaxy Note 10 : un max de style(t) et des incertitudes\n",
      "Samsung Galaxy Note 10 VS Galaxy Note 10+ : quelles différences ?\n"
     ]
    }
   ],
   "source": [
    "search='Galaxy'\n",
    "\n",
    "print(\"\\n\".join(s for s in titles if search.lower() in s.lower()))"
   ]
  },
  {
   "cell_type": "code",
   "execution_count": 19,
   "metadata": {},
   "outputs": [
    {
     "name": "stdout",
     "output_type": "stream",
     "text": [
      "Sosh, B&You, RED, Free Mobile : toutes les promotions du moment\n",
      "Xiaomi Mi 9T Pro en approche, Free bloqué par Altice (SFR) sur TV et débits Netflix - Tech'spresso\n"
     ]
    }
   ],
   "source": [
    "search='Free'\n",
    "\n",
    "print(\"\\n\".join(s for s in titles if search.lower() in s.lower()))"
   ]
  },
  {
   "cell_type": "code",
   "execution_count": null,
   "metadata": {},
   "outputs": [],
   "source": []
  }
 ],
 "metadata": {
  "kernelspec": {
   "display_name": "Python 3",
   "language": "python",
   "name": "python3"
  },
  "language_info": {
   "codemirror_mode": {
    "name": "ipython",
    "version": 3
   },
   "file_extension": ".py",
   "mimetype": "text/x-python",
   "name": "python",
   "nbconvert_exporter": "python",
   "pygments_lexer": "ipython3",
   "version": "3.7.3"
  }
 },
 "nbformat": 4,
 "nbformat_minor": 2
}
