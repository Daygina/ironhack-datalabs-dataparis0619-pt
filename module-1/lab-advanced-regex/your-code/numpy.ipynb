{
 "cells": [
  {
   "cell_type": "code",
   "execution_count": 16,
   "metadata": {},
   "outputs": [
    {
     "name": "stdout",
     "output_type": "stream",
     "text": [
      "1.16.2\n",
      "[[[0.58304021 0.1702276  0.5517037  0.46624177 0.70350309]\n",
      "  [0.25536437 0.2743222  0.22045794 0.41227255 0.18220384]\n",
      "  [0.67043578 0.26607086 0.05898789 0.92543738 0.79024992]]\n",
      "\n",
      " [[0.04644248 0.49066086 0.05011529 0.29745859 0.74829911]\n",
      "  [0.75508864 0.51611852 0.69248121 0.08368705 0.44414208]\n",
      "  [0.65414949 0.68211616 0.71254178 0.53619926 0.33822704]]]\n",
      "30\n"
     ]
    }
   ],
   "source": [
    "#1. Import the NUMPY package under the name np.\n",
    "import numpy as np\n",
    "\n",
    "#2. Print the NUMPY version and the configuration.\n",
    "#print(np.__version__)\n",
    "print(np.version.version)\n",
    "\n",
    "#3. Generate a 2x3x5 3-dimensional array with random values. Assign the array to variable \"a\"\n",
    "# Challenge: there are at least three easy ways that use numpy to generate random arrays. How many ways can you find?\n",
    "a=np.random.random((2,3,5))\n",
    "\n",
    "#4. Print a.\n",
    "print(a)\n",
    "print(np.size(a))"
   ]
  },
  {
   "cell_type": "code",
   "execution_count": 17,
   "metadata": {},
   "outputs": [
    {
     "name": "stdout",
     "output_type": "stream",
     "text": [
      "[[[1 1 1]\n",
      "  [1 1 1]]\n",
      "\n",
      " [[1 1 1]\n",
      "  [1 1 1]]\n",
      "\n",
      " [[1 1 1]\n",
      "  [1 1 1]]\n",
      "\n",
      " [[1 1 1]\n",
      "  [1 1 1]]\n",
      "\n",
      " [[1 1 1]\n",
      "  [1 1 1]]]\n"
     ]
    }
   ],
   "source": [
    "#5. Create a 5x2x3 3-dimensional array with all values equaling 1.\n",
    "#Assign the array to variable \"b\"\n",
    "b = np.full((5,2,3), 3)\n",
    "b.fill(1)\n",
    "\n",
    "#6. Print b.\n",
    "print(b)\n"
   ]
  },
  {
   "cell_type": "code",
   "execution_count": 18,
   "metadata": {},
   "outputs": [
    {
     "name": "stdout",
     "output_type": "stream",
     "text": [
      "[[1 1 1]\n",
      " [1 1 1]]\n"
     ]
    }
   ],
   "source": [
    "v = 1\n",
    "rows = 2\n",
    "cols = 3\n",
    "y = np.tile(v, (rows,cols))\n",
    "print(y) #try2"
   ]
  },
  {
   "cell_type": "code",
   "execution_count": 19,
   "metadata": {},
   "outputs": [
    {
     "name": "stdout",
     "output_type": "stream",
     "text": [
      "[[[1 1 1]\n",
      "  [1 1 1]]\n",
      "\n",
      " [[1 1 1]\n",
      "  [1 1 1]]\n",
      "\n",
      " [[1 1 1]\n",
      "  [1 1 1]]\n",
      "\n",
      " [[1 1 1]\n",
      "  [1 1 1]]\n",
      "\n",
      " [[1 1 1]\n",
      "  [1 1 1]]]\n"
     ]
    }
   ],
   "source": [
    "array = np.arange(30).reshape(5,2,3)\n",
    "array.fill(1)\n",
    "print(array) #try3"
   ]
  },
  {
   "cell_type": "code",
   "execution_count": 157,
   "metadata": {},
   "outputs": [
    {
     "name": "stdout",
     "output_type": "stream",
     "text": [
      "Size a 30 Shape a (2, 3, 5)\n",
      "Size b 30 Shape b (5, 2, 3)\n"
     ]
    }
   ],
   "source": [
    "#7. Do a and b have the same size? How do you prove that in Python code?\n",
    "print(\"Size a\", np.size(a), \"Shape a\", np.shape(a))\n",
    "print(\"Size b\", np.size(b), \"Shape b\", np.shape(b))\n"
   ]
  },
  {
   "cell_type": "code",
   "execution_count": 158,
   "metadata": {},
   "outputs": [
    {
     "ename": "ValueError",
     "evalue": "operands could not be broadcast together with shapes (2,3,5) (5,2,3) ",
     "output_type": "error",
     "traceback": [
      "\u001b[1;31m---------------------------------------------------------------------------\u001b[0m",
      "\u001b[1;31mValueError\u001b[0m                                Traceback (most recent call last)",
      "\u001b[1;32m<ipython-input-158-33dae89c3499>\u001b[0m in \u001b[0;36m<module>\u001b[1;34m\u001b[0m\n\u001b[0;32m      1\u001b[0m \u001b[1;31m#8. Are you able to add a and b? Why or why not?\u001b[0m\u001b[1;33m\u001b[0m\u001b[1;33m\u001b[0m\u001b[1;33m\u001b[0m\u001b[0m\n\u001b[1;32m----> 2\u001b[1;33m \u001b[0msumnp\u001b[0m\u001b[1;33m=\u001b[0m\u001b[0mnp\u001b[0m\u001b[1;33m.\u001b[0m\u001b[0madd\u001b[0m\u001b[1;33m(\u001b[0m\u001b[0ma\u001b[0m\u001b[1;33m,\u001b[0m\u001b[0mb\u001b[0m\u001b[1;33m)\u001b[0m \u001b[1;31m#error as not the same structure of the shape , size is the same\u001b[0m\u001b[1;33m\u001b[0m\u001b[1;33m\u001b[0m\u001b[0m\n\u001b[0m",
      "\u001b[1;31mValueError\u001b[0m: operands could not be broadcast together with shapes (2,3,5) (5,2,3) "
     ]
    }
   ],
   "source": [
    "#8. Are you able to add a and b? Why or why not?\n",
    "sumnp=np.add(a,b) #error as not the same structure of the shape , size is the same"
   ]
  },
  {
   "cell_type": "code",
   "execution_count": 159,
   "metadata": {},
   "outputs": [
    {
     "name": "stdout",
     "output_type": "stream",
     "text": [
      "[[[1 1 1 1 1]\n",
      "  [1 1 1 1 1]\n",
      "  [1 1 1 1 1]]\n",
      "\n",
      " [[1 1 1 1 1]\n",
      "  [1 1 1 1 1]\n",
      "  [1 1 1 1 1]]]\n"
     ]
    }
   ],
   "source": [
    "#9. Transpose b so that it has the same structure of a (i.e. become a 2x3x5 array). Assign the transposed array to varialbe \"c\".\n",
    "c=b.transpose(1,2,0)\n",
    "print(c)"
   ]
  },
  {
   "cell_type": "code",
   "execution_count": 160,
   "metadata": {},
   "outputs": [
    {
     "name": "stdout",
     "output_type": "stream",
     "text": [
      "[[[1.58304021 1.1702276  1.5517037  1.46624177 1.70350309]\n",
      "  [1.25536437 1.2743222  1.22045794 1.41227255 1.18220384]\n",
      "  [1.67043578 1.26607086 1.05898789 1.92543738 1.79024992]]\n",
      "\n",
      " [[1.04644248 1.49066086 1.05011529 1.29745859 1.74829911]\n",
      "  [1.75508864 1.51611852 1.69248121 1.08368705 1.44414208]\n",
      "  [1.65414949 1.68211616 1.71254178 1.53619926 1.33822704]]]\n"
     ]
    }
   ],
   "source": [
    "#10. Try to add a and c. Now it should work. Assign the sum to varialbe \"d\". But why does it work now?\n",
    "d=np.add(a,c)\n",
    "#11. Print a and d. Notice the difference and relation of the two array in terms of the values? Explain.\n",
    "print(d)"
   ]
  },
  {
   "cell_type": "code",
   "execution_count": 161,
   "metadata": {},
   "outputs": [
    {
     "name": "stdout",
     "output_type": "stream",
     "text": [
      "[[[0.58304021 0.1702276  0.5517037  0.46624177 0.70350309]\n",
      "  [0.25536437 0.2743222  0.22045794 0.41227255 0.18220384]\n",
      "  [0.67043578 0.26607086 0.05898789 0.92543738 0.79024992]]\n",
      "\n",
      " [[0.04644248 0.49066086 0.05011529 0.29745859 0.74829911]\n",
      "  [0.75508864 0.51611852 0.69248121 0.08368705 0.44414208]\n",
      "  [0.65414949 0.68211616 0.71254178 0.53619926 0.33822704]]]\n",
      "[[[1.58304021 1.1702276  1.5517037  1.46624177 1.70350309]\n",
      "  [1.25536437 1.2743222  1.22045794 1.41227255 1.18220384]\n",
      "  [1.67043578 1.26607086 1.05898789 1.92543738 1.79024992]]\n",
      "\n",
      " [[1.04644248 1.49066086 1.05011529 1.29745859 1.74829911]\n",
      "  [1.75508864 1.51611852 1.69248121 1.08368705 1.44414208]\n",
      "  [1.65414949 1.68211616 1.71254178 1.53619926 1.33822704]]]\n"
     ]
    }
   ],
   "source": [
    "#11. Print a and d. Notice the difference and relation of the two array in terms of the values? Explain.\n",
    "print(a)\n",
    "print(d)\n",
    "# à chaque element de la matrix a rajouté la valeur de chaque element de la matrix c"
   ]
  },
  {
   "cell_type": "code",
   "execution_count": 162,
   "metadata": {},
   "outputs": [
    {
     "name": "stdout",
     "output_type": "stream",
     "text": [
      "[[[0.58304021 0.1702276  0.5517037  0.46624177 0.70350309]\n",
      "  [0.25536437 0.2743222  0.22045794 0.41227255 0.18220384]\n",
      "  [0.67043578 0.26607086 0.05898789 0.92543738 0.79024992]]\n",
      "\n",
      " [[0.04644248 0.49066086 0.05011529 0.29745859 0.74829911]\n",
      "  [0.75508864 0.51611852 0.69248121 0.08368705 0.44414208]\n",
      "  [0.65414949 0.68211616 0.71254178 0.53619926 0.33822704]]]\n"
     ]
    }
   ],
   "source": [
    "#12. Multiply a and c. Assign the result to e.\n",
    "\n",
    "e=np.multiply(a,c)\n",
    "print(e)"
   ]
  },
  {
   "cell_type": "code",
   "execution_count": 186,
   "metadata": {},
   "outputs": [],
   "source": [
    "#13. Does e equal to a? Why or why not?\n",
    "#yes a=e, multiplcation by 1 gives the same number\n",
    "\n",
    "#14. Identify the max, min, and mean values in d. Assign those values to variables \"d_max\", \"d_min\", and \"d_mean\"\n",
    "\n",
    "d_max=np.max(d)\n",
    "d_min=np.min(d)\n",
    "d_mean=np.mean(d)"
   ]
  },
  {
   "cell_type": "code",
   "execution_count": 187,
   "metadata": {},
   "outputs": [
    {
     "name": "stdout",
     "output_type": "stream",
     "text": [
      "d_max 1.9254373791301904\n",
      "d_min 1.0464424790903342\n",
      "d_mean 1.4526082218767289\n",
      "d [[[1.58304021 1.1702276  1.5517037  1.46624177 1.70350309]\n",
      "  [1.25536437 1.2743222  1.22045794 1.41227255 1.18220384]\n",
      "  [1.67043578 1.26607086 1.05898789 1.92543738 1.79024992]]\n",
      "\n",
      " [[1.04644248 1.49066086 1.05011529 1.29745859 1.74829911]\n",
      "  [1.75508864 1.51611852 1.69248121 1.08368705 1.44414208]\n",
      "  [1.65414949 1.68211616 1.71254178 1.53619926 1.33822704]]]\n",
      "[[[ 75  25  75  75  75]\n",
      "  [ 25  25  25  25  25]\n",
      "  [ 75  25  25 100  75]]\n",
      "\n",
      " [[ 50  75  25  25  75]\n",
      "  [ 75  75  75  25  25]\n",
      "  [ 75  75  75  75  25]]]\n"
     ]
    }
   ],
   "source": [
    "#15. Now we want to label the values in d. First create an empty array \"f\" with the same shape (i.e. 2x3x5) as d using `np.empty`.\n",
    "k=np.zeros([2, 3, 5])\n",
    "\n",
    "#f=np.empty([2, 3, 5])\n",
    "\n",
    "\"\"\"\n",
    "#16. Populate the values in f. For each value in d, if it's larger than d_min but smaller than d_mean, assign 25 to the corresponding value in f.\n",
    "If a value in d is larger than d_mean but smaller than d_max, assign 75 to the corresponding value in f.\n",
    "If a value equals to d_mean, assign 50 to the corresponding value in f.\n",
    "Assign 0 to the corresponding value(s) in f for d_min in d.\n",
    "Assign 100 to the corresponding value(s) in f for d_max in d.\n",
    "In the end, f should have only the following values: 0, 25, 50, 75, and 100.\n",
    "Note: you don't have to use Numpy in this question.\n",
    "\"\"\"\n",
    "#f=np.where((d < d_mean) & (d > d_min), 25, 0)\n",
    "#f=np.where((d < d_max) & (d > d_mean), 75,0)\n",
    "#f=np.where(d == d_min, 50, 0)\n",
    "#f=np.where(d == d_max, 100, 0)\n",
    "\n",
    "k=np.where((d < d_mean) & (d > d_min), 25, np.where((d < d_max) & (d > d_mean), 75,np.where(d == d_min, 50, np.where(d == d_max, 100, 0))))\n",
    "print(\"d_max\",d_max)\n",
    "print(\"d_min\",d_min)\n",
    "print(\"d_mean\",d_mean)\n",
    "print(\"d\",d)\n",
    "print(k)"
   ]
  },
  {
   "cell_type": "code",
   "execution_count": 183,
   "metadata": {},
   "outputs": [
    {
     "ename": "IndexError",
     "evalue": "boolean index did not match indexed array along dimension 0; dimension is 2 but corresponding boolean dimension is 5",
     "output_type": "error",
     "traceback": [
      "\u001b[1;31m---------------------------------------------------------------------------\u001b[0m",
      "\u001b[1;31mIndexError\u001b[0m                                Traceback (most recent call last)",
      "\u001b[1;32m<ipython-input-183-3ca58b8612cd>\u001b[0m in \u001b[0;36m<module>\u001b[1;34m\u001b[0m\n\u001b[0;32m      2\u001b[0m \u001b[1;32mfor\u001b[0m \u001b[0mx\u001b[0m \u001b[1;32min\u001b[0m \u001b[0mArr1\u001b[0m\u001b[1;33m:\u001b[0m\u001b[1;33m\u001b[0m\u001b[1;33m\u001b[0m\u001b[0m\n\u001b[0;32m      3\u001b[0m     \u001b[1;32mfor\u001b[0m \u001b[0my\u001b[0m \u001b[1;32min\u001b[0m \u001b[0mx\u001b[0m\u001b[1;33m:\u001b[0m\u001b[1;33m\u001b[0m\u001b[1;33m\u001b[0m\u001b[0m\n\u001b[1;32m----> 4\u001b[1;33m         \u001b[1;32mif\u001b[0m \u001b[0mArr1\u001b[0m\u001b[1;33m[\u001b[0m\u001b[0my\u001b[0m\u001b[1;33m]\u001b[0m\u001b[1;33m==\u001b[0m\u001b[1;32mTrue\u001b[0m\u001b[1;33m:\u001b[0m\u001b[1;33m\u001b[0m\u001b[1;33m\u001b[0m\u001b[0m\n\u001b[0m\u001b[0;32m      5\u001b[0m             \u001b[0my\u001b[0m\u001b[1;33m=\u001b[0m\u001b[1;36m25\u001b[0m\u001b[1;33m\u001b[0m\u001b[1;33m\u001b[0m\u001b[0m\n\u001b[0;32m      6\u001b[0m         \u001b[0mprint\u001b[0m\u001b[1;33m(\u001b[0m\u001b[0mArr1\u001b[0m\u001b[1;33m)\u001b[0m\u001b[1;33m\u001b[0m\u001b[1;33m\u001b[0m\u001b[0m\n",
      "\u001b[1;31mIndexError\u001b[0m: boolean index did not match indexed array along dimension 0; dimension is 2 but corresponding boolean dimension is 5"
     ]
    }
   ],
   "source": [
    "Arr1=np.logical_and(d < d_mean, d > d_min)\n",
    "for x in Arr1:\n",
    "    for y in x:\n",
    "        if Arr1[y]==True:\n",
    "            y=25\n",
    "        print(Arr1)\n",
    "Arr2=np.logical_and(d < d_max, d > d_mean)\n",
    "Arr3=d * (d == d_min)\n",
    "Arr4=np.equal(d,d_max)\n",
    "print(Arr1)\n",
    "print(Arr2)\n",
    "print(Arr3)\n",
    "print(Arr4)\n",
    "\n",
    "#equal(x1, x2, /[, out, where, casting, ...])\n"
   ]
  },
  {
   "cell_type": "code",
   "execution_count": 190,
   "metadata": {},
   "outputs": [
    {
     "name": "stdout",
     "output_type": "stream",
     "text": [
      "[[['B' 'D' 'B' 'B' 'B']\n",
      "  ['D' 'D' 'D' 'D' 'D']\n",
      "  ['B' 'D' 'D' 'E' 'B']]\n",
      "\n",
      " [['A' 'B' 'D' 'D' 'B']\n",
      "  ['B' 'B' 'B' 'D' 'D']\n",
      "  ['B' 'B' 'B' 'B' 'D']]]\n"
     ]
    }
   ],
   "source": [
    "#18. Bonus question: instead of using numbers (i.e. 0, 25, 50, 75, and 100), how to use string values \n",
    "\"\"\"(\"A\", \"B\", \"C\", \"D\", and \"E\") to label the array elements? You are expecting the result to be:\n",
    "array([[[ 'D',  'D',  'D',  'B',  'D'],\n",
    "        [ 'D',  'D',  'B',  'B',  'B'],\n",
    "        [ 'D',  'B',  'D',  'D',  'D']],\n",
    "\n",
    "       [[ 'B',  'B',  'B',  'B',  'E'],\n",
    "        [ 'D',  'D',  'D',  'D',  'D'],\n",
    "        [ 'B',  'D',   'A',  'D', 'D']]])\n",
    "Again, you don't need Numpy in this question.\"\"\"\n",
    "\n",
    "k=np.where((d < d_mean) & (d > d_min), \"D\", np.where((d < d_max) & (d > d_mean), \"B\",np.where(d == d_min, \"A\", np.where(d == d_max, \"E\", \"C\"))))\n",
    "print(k)"
   ]
  },
  {
   "cell_type": "code",
   "execution_count": null,
   "metadata": {},
   "outputs": [],
   "source": []
  }
 ],
 "metadata": {
  "kernelspec": {
   "display_name": "Python 3",
   "language": "python",
   "name": "python3"
  },
  "language_info": {
   "codemirror_mode": {
    "name": "ipython",
    "version": 3
   },
   "file_extension": ".py",
   "mimetype": "text/x-python",
   "name": "python",
   "nbconvert_exporter": "python",
   "pygments_lexer": "ipython3",
   "version": "3.7.3"
  }
 },
 "nbformat": 4,
 "nbformat_minor": 2
}
