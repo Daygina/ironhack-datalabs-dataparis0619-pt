{
 "cells": [
  {
   "cell_type": "code",
   "execution_count": 3,
   "metadata": {},
   "outputs": [],
   "source": [
    "import re\n",
    "def stripHTMLTags (html):\n",
    "    \"\"\"\n",
    "    Strip HTML tags from any string and transfrom special entities\n",
    "    \"\"\"\n",
    "    text = html\n",
    "    \n",
    " \n",
    "  # apply rules in given order!\n",
    "    rules = [\n",
    "        { r'>\\s+' : u'>'},                  # remove spaces after a tag opens or closes\n",
    "        { r'\\s+' : u' '},                   # replace consecutive spaces\n",
    "        { r'\\s*<br\\s*/?>\\s*' : u'\\n'},      # newline after a <br>\n",
    "        { r'</(div)\\s*>\\s*' : u'\\n'},       # newline after </p> and </div> and <h1/>...\n",
    "        { r'</(p|h\\d)\\s*>\\s*' : u'\\n\\n'},   # newline after </p> and </div> and <h1/>...\n",
    "        { r'<head>.*<\\s*(/head|body)[^>]*>' : u'' },     # remove <head> to </head>\n",
    "        { r'<a\\s+href=\"([^\"]+)\"[^>]*>.*</a>' : r'\\1' },  # show links instead of texts\n",
    "        { r'[ \\t]*<[^<]*?/?>' : u'' },            # remove remaining tags\n",
    "        { r'^\\s+' : u'' }                   # remove spaces at the beginning\n",
    "      ]\n",
    "\n",
    "    for rule in rules:\n",
    "        for (k,v) in rule.items():\n",
    "            regex = re.compile (k)\n",
    "            text  = regex.sub (v, text)\n",
    "\n",
    "      # replace special strings\n",
    "    special = {\n",
    "        '&nbsp;' : ' ', '&amp;' : '&', '&quot;' : '\"',\n",
    "        '&lt;'   : '<', '&gt;'  : '>'\n",
    "      }\n",
    "\n",
    "    for (k,v) in special.items():\n",
    "        text = text.replace (k, v)\n",
    "\n",
    "    return text"
   ]
  },
  {
   "cell_type": "code",
   "execution_count": 4,
   "metadata": {},
   "outputs": [
    {
     "name": "stdout",
     "output_type": "stream",
     "text": [
      "[WinError 2] The system cannot find the file specified: '!'\n",
      "C:\\Users\\eleouetd01\\Desktop\\IRON\\ironhack-datalabs-dataparis0619-pt\\module-1\\lab-functional-programming\\your-code\n"
     ]
    }
   ],
   "source": [
    "cd!"
   ]
  },
  {
   "cell_type": "code",
   "execution_count": null,
   "metadata": {},
   "outputs": [],
   "source": [
    "We often need to strip HTML tags from string (or HTML source). I usually do it using a simple regular expression in Python. Here is my function to strip HTML tags:\n",
    "def remove_html_tags(data):\n",
    "    p = re.compile(r'<.*?>')\n",
    "    return p.sub('', data)\n",
    "\n",
    "Here is another function to remove more than one consecutive white spaces:\n",
    "def remove_extra_spaces(data):\n",
    "    p = re.compile(r'\\s+')\n",
    "    return p.sub(' ', data)\n"
   ]
  }
 ],
 "metadata": {
  "kernelspec": {
   "display_name": "Python 3",
   "language": "python",
   "name": "python3"
  },
  "language_info": {
   "codemirror_mode": {
    "name": "ipython",
    "version": 3
   },
   "file_extension": ".py",
   "mimetype": "text/x-python",
   "name": "python",
   "nbconvert_exporter": "python",
   "pygments_lexer": "ipython3",
   "version": "3.7.3"
  }
 },
 "nbformat": 4,
 "nbformat_minor": 2
}
