{
 "cells": [
  {
   "cell_type": "code",
   "execution_count": 4,
   "metadata": {},
   "outputs": [
    {
     "name": "stdout",
     "output_type": "stream",
     "text": [
      "[1, 2, 3] ---  [8, 2, 3]\n",
      "[4, 5, 6] ---  [6, 5, 6]\n",
      "[[9, 4, 6], [10, 10, 12]]\n",
      "rex None\n"
     ]
    }
   ],
   "source": [
    "class Matrix2D:\n",
    "    # First, we will write the __init__ function. \n",
    "    # In this function, we will initialize rows and the columns using the matrix that we have passed to the class.\n",
    "   \n",
    "    def __init__(self, mat):\n",
    "        # Assign mat to self.mat\n",
    "        # Assign rows and cols to self.rows and self.cols\n",
    "        # To find the rows and the cols, use the rowcolumn function and pass self.mat to the function.\n",
    "        # Since the rowcolumn function is now a member of the class, make sure to refer to the function as self.rowcolumn\n",
    "        \n",
    "        # Your code here:        \n",
    "        self.mat=mat\n",
    "        self.rows, self.cols= self.rowcolumn(self.mat)\n",
    "        \n",
    "    # Insert the twodim function here.\n",
    "    # The only change you need to make is that now we are passing self and mat to the function (make sure self is first).\n",
    "    # Your code here:\n",
    "    def twodim(self, mat):     # This function takes a list of lists and checks that it is of depth 2. \n",
    "   \n",
    "        if type(mat) is list:\n",
    "            if type(mat[0]) is list:\n",
    "                return True\n",
    "                if type(mat[0][0]) is list:\n",
    "                    return False\n",
    "        else:\n",
    "            return False\n",
    " \n",
    "    # Insert the rowcolumn function here.\n",
    "    # The changes you need to make: \n",
    "    # 1. The function now takes self and mat as arguments (make sure to pass self first).\n",
    "    # 2. Any reference to twodim will be changed to self.twodim since this function is a member of the class and takes self \n",
    "    def rowcolumn(self, mat):    # This function takes a list of lists and returns the size of the rows and the columns \n",
    "        #if (self.twodim(mat)):\n",
    "        rows=len(mat)\n",
    "        cols=len(mat[0])\n",
    "        tup=(rows, cols)        \n",
    "        return tup\n",
    "        \n",
    "\n",
    "    # Insert the compare function here\n",
    "    # Add self as the first argument passed to the function\n",
    "        # Your code here:\n",
    "    def compare(self, mat):\n",
    "        mat1 = self.mat\n",
    "        mat2 = mat.mat\n",
    "        x1=len(mat1)\n",
    "        x2=len(mat2)\n",
    "        y1=len(mat1[0])\n",
    "        y2=len(mat2[0])\n",
    "        tup1=(x1,y1)\n",
    "        tup2=(x2,y2)\n",
    "        print(tup1, tup2)\n",
    "        if tup1==tup2:\n",
    "            return True\n",
    "        else:\n",
    "            print(\"Non equal matrixes\")\n",
    "\n",
    "    # Insert the addition function here\n",
    "    # This function now takes self and matrix (another matrix of the Matrix2D class)\n",
    "    # Change the compare function to self.compare \n",
    "    # Change any reference to mat1 and mat2 to self.mat and matrix.mat respectively\n",
    "    # Return your result as a Matrix2D(result). This will ensure that we return a new matrix and not a list of lists.\n",
    "    \n",
    "    # Your code here:\n",
    "    def addition(self, matrix):\n",
    "\n",
    "        sumlist=[]\n",
    "        for sublist1, sublist2 in zip(self.mat, matrix.mat):\n",
    "            print(sublist1, '--- ',sublist2)\n",
    "\n",
    "            ls1=[]\n",
    "\n",
    "            for i1, i2 in zip(sublist1, sublist2):\n",
    "                z=i1+i2\n",
    "                ls1.append(z)\n",
    "            sumlist.append(ls1)                  \n",
    "\n",
    "        print(sumlist)   \n",
    "\n",
    "rex= Matrix2D([[1,2,3],[4,5,6]])\n",
    "hubert = Matrix2D([[8,2,3],[6,5,6]])\n",
    "#print(\"rex\", rex.rowcolumn(hubert), \"dimension\", rex.twodim(hubert))\n",
    "#print(\"rex\", rex.rowcolumn(hubert))\n",
    "print(\"rex\", rex.addition(hubert))\n"
   ]
  },
  {
   "cell_type": "code",
   "execution_count": 5,
   "metadata": {},
   "outputs": [
    {
     "name": "stdout",
     "output_type": "stream",
     "text": [
      "[0, 0, 0] ---  [2, 2, 2]\n",
      "[1, 1, 1] ---  [0, 0, 0]\n",
      "[[2, 2, 2], [1, 1, 1]]\n"
     ]
    },
    {
     "ename": "AttributeError",
     "evalue": "'NoneType' object has no attribute 'mat'",
     "output_type": "error",
     "traceback": [
      "\u001b[1;31m---------------------------------------------------------------------------\u001b[0m",
      "\u001b[1;31mAttributeError\u001b[0m                            Traceback (most recent call last)",
      "\u001b[1;32m<ipython-input-5-cb41cdf8ab61>\u001b[0m in \u001b[0;36m<module>\u001b[1;34m\u001b[0m\n\u001b[1;32m----> 1\u001b[1;33m \u001b[0mMatrix2D\u001b[0m\u001b[1;33m(\u001b[0m\u001b[1;33m[\u001b[0m\u001b[1;33m[\u001b[0m\u001b[1;36m0\u001b[0m\u001b[1;33m,\u001b[0m\u001b[1;36m0\u001b[0m\u001b[1;33m,\u001b[0m\u001b[1;36m0\u001b[0m\u001b[1;33m]\u001b[0m\u001b[1;33m,\u001b[0m\u001b[1;33m[\u001b[0m\u001b[1;36m1\u001b[0m\u001b[1;33m,\u001b[0m\u001b[1;36m1\u001b[0m\u001b[1;33m,\u001b[0m\u001b[1;36m1\u001b[0m\u001b[1;33m]\u001b[0m\u001b[1;33m]\u001b[0m\u001b[1;33m)\u001b[0m\u001b[1;33m.\u001b[0m\u001b[0maddition\u001b[0m\u001b[1;33m(\u001b[0m\u001b[0mMatrix2D\u001b[0m\u001b[1;33m(\u001b[0m\u001b[1;33m[\u001b[0m\u001b[1;33m[\u001b[0m\u001b[1;36m2\u001b[0m\u001b[1;33m,\u001b[0m\u001b[1;36m2\u001b[0m\u001b[1;33m,\u001b[0m\u001b[1;36m2\u001b[0m\u001b[1;33m]\u001b[0m\u001b[1;33m,\u001b[0m\u001b[1;33m[\u001b[0m\u001b[1;36m0\u001b[0m\u001b[1;33m,\u001b[0m\u001b[1;36m0\u001b[0m\u001b[1;33m,\u001b[0m\u001b[1;36m0\u001b[0m\u001b[1;33m]\u001b[0m\u001b[1;33m]\u001b[0m\u001b[1;33m)\u001b[0m\u001b[1;33m)\u001b[0m\u001b[1;33m.\u001b[0m\u001b[0mmat\u001b[0m\u001b[1;33m\u001b[0m\u001b[1;33m\u001b[0m\u001b[0m\n\u001b[0m",
      "\u001b[1;31mAttributeError\u001b[0m: 'NoneType' object has no attribute 'mat'"
     ]
    }
   ],
   "source": [
    "Matrix2D([[0,0,0],[1,1,1]]).addition(Matrix2D([[2,2,2],[0,0,0]])).mat\n"
   ]
  }
 ],
 "metadata": {
  "kernelspec": {
   "display_name": "Python 3",
   "language": "python",
   "name": "python3"
  },
  "language_info": {
   "codemirror_mode": {
    "name": "ipython",
    "version": 3
   },
   "file_extension": ".py",
   "mimetype": "text/x-python",
   "name": "python",
   "nbconvert_exporter": "python",
   "pygments_lexer": "ipython3",
   "version": "3.7.3"
  }
 },
 "nbformat": 4,
 "nbformat_minor": 2
}
