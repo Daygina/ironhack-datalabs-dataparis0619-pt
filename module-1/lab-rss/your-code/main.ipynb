{
 "cells": [
  {
   "cell_type": "markdown",
   "metadata": {},
   "source": [
    "# Working with RSS Feeds Lab\n",
    "\n",
    "Complete the following set of exercises to solidify your knowledge of parsing RSS feeds and extracting information from them."
   ]
  },
  {
   "cell_type": "code",
   "execution_count": 20,
   "metadata": {},
   "outputs": [],
   "source": [
    "import feedparser\n",
    "#pip install --user feedparser in cmd.exe"
   ]
  },
  {
   "cell_type": "markdown",
   "metadata": {},
   "source": [
    "### 1. Use feedparser to parse the following RSS feed URL."
   ]
  },
  {
   "cell_type": "code",
   "execution_count": 21,
   "metadata": {},
   "outputs": [],
   "source": [
    "url = 'http://feeds.feedburner.com/oreilly/radar/atom'"
   ]
  },
  {
   "cell_type": "code",
   "execution_count": 22,
   "metadata": {},
   "outputs": [],
   "source": [
    "oreilly = feedparser.parse(url)"
   ]
  },
  {
   "cell_type": "markdown",
   "metadata": {},
   "source": [
    "##### 2. Obtain a list of components (keys) that are available for this feed."
   ]
  },
  {
   "cell_type": "code",
   "execution_count": 24,
   "metadata": {},
   "outputs": [
    {
     "data": {
      "text/plain": [
       "dict_keys(['feed', 'entries', 'bozo', 'headers', 'etag', 'updated', 'updated_parsed', 'href', 'status', 'encoding', 'version', 'namespaces'])"
      ]
     },
     "execution_count": 24,
     "metadata": {},
     "output_type": "execute_result"
    }
   ],
   "source": [
    "oreilly.keys()"
   ]
  },
  {
   "cell_type": "code",
   "execution_count": 25,
   "metadata": {},
   "outputs": [
    {
     "data": {
      "text/plain": [
       "{'title': \"All - O'Reilly Media\",\n",
       " 'title_detail': {'type': 'text/plain',\n",
       "  'language': None,\n",
       "  'base': 'http://feeds.feedburner.com/oreilly/radar/atom',\n",
       "  'value': \"All - O'Reilly Media\"},\n",
       " 'id': 'https://www.oreilly.com',\n",
       " 'guidislink': True,\n",
       " 'link': 'https://www.oreilly.com',\n",
       " 'updated': '2019-08-15T06:30:05Z',\n",
       " 'updated_parsed': time.struct_time(tm_year=2019, tm_mon=8, tm_mday=15, tm_hour=6, tm_min=30, tm_sec=5, tm_wday=3, tm_yday=227, tm_isdst=0),\n",
       " 'subtitle': 'All of our Ideas and Learning material from all of our topics.',\n",
       " 'subtitle_detail': {'type': 'text/plain',\n",
       "  'language': None,\n",
       "  'base': 'http://feeds.feedburner.com/oreilly/radar/atom',\n",
       "  'value': 'All of our Ideas and Learning material from all of our topics.'},\n",
       " 'links': [{'href': 'https://www.oreilly.com',\n",
       "   'rel': 'alternate',\n",
       "   'type': 'text/html'},\n",
       "  {'rel': 'self',\n",
       "   'type': 'application/atom+xml',\n",
       "   'href': 'http://feeds.feedburner.com/oreilly/radar/atom'},\n",
       "  {'rel': 'hub',\n",
       "   'href': 'http://pubsubhubbub.appspot.com/',\n",
       "   'type': 'text/html'}],\n",
       " 'authors': [{'name': \"O'Reilly Media\"}],\n",
       " 'author_detail': {'name': \"O'Reilly Media\"},\n",
       " 'author': \"O'Reilly Media\",\n",
       " 'feedburner_info': {'uri': 'oreilly/radar/atom'},\n",
       " 'geo_lat': '38.393314',\n",
       " 'geo_long': '-122.836667',\n",
       " 'feedburner_emailserviceid': 'oreilly/radar/atom',\n",
       " 'feedburner_feedburnerhostname': 'https://feedburner.google.com'}"
      ]
     },
     "execution_count": 25,
     "metadata": {},
     "output_type": "execute_result"
    }
   ],
   "source": [
    "oreilly.feed"
   ]
  },
  {
   "cell_type": "markdown",
   "metadata": {},
   "source": [
    "### 3. Obtain a list of components (keys) that are available for the *feed* component of this RSS feed."
   ]
  },
  {
   "cell_type": "code",
   "execution_count": 26,
   "metadata": {},
   "outputs": [
    {
     "data": {
      "text/plain": [
       "dict_keys(['title', 'title_detail', 'id', 'guidislink', 'link', 'updated', 'updated_parsed', 'subtitle', 'subtitle_detail', 'links', 'authors', 'author_detail', 'author', 'feedburner_info', 'geo_lat', 'geo_long', 'feedburner_emailserviceid', 'feedburner_feedburnerhostname'])"
      ]
     },
     "execution_count": 26,
     "metadata": {},
     "output_type": "execute_result"
    }
   ],
   "source": [
    "oreilly.feed.keys()"
   ]
  },
  {
   "cell_type": "markdown",
   "metadata": {},
   "source": [
    "### 4. Extract and print the feed title, subtitle, author, and link."
   ]
  },
  {
   "cell_type": "code",
   "execution_count": 28,
   "metadata": {},
   "outputs": [
    {
     "data": {
      "text/plain": [
       "\"All - O'Reilly Media\""
      ]
     },
     "execution_count": 28,
     "metadata": {},
     "output_type": "execute_result"
    }
   ],
   "source": [
    "oreilly.feed.title"
   ]
  },
  {
   "cell_type": "code",
   "execution_count": 29,
   "metadata": {},
   "outputs": [
    {
     "data": {
      "text/plain": [
       "'All of our Ideas and Learning material from all of our topics.'"
      ]
     },
     "execution_count": 29,
     "metadata": {},
     "output_type": "execute_result"
    }
   ],
   "source": [
    "oreilly.feed.subtitle"
   ]
  },
  {
   "cell_type": "code",
   "execution_count": 30,
   "metadata": {},
   "outputs": [
    {
     "data": {
      "text/plain": [
       "\"O'Reilly Media\""
      ]
     },
     "execution_count": 30,
     "metadata": {},
     "output_type": "execute_result"
    }
   ],
   "source": [
    "oreilly.feed.author"
   ]
  },
  {
   "cell_type": "code",
   "execution_count": 31,
   "metadata": {},
   "outputs": [
    {
     "data": {
      "text/plain": [
       "'https://www.oreilly.com'"
      ]
     },
     "execution_count": 31,
     "metadata": {},
     "output_type": "execute_result"
    }
   ],
   "source": [
    "oreilly.feed.link"
   ]
  },
  {
   "cell_type": "markdown",
   "metadata": {},
   "source": [
    "### 5. Count the number of entries that are contained in this RSS feed."
   ]
  },
  {
   "cell_type": "code",
   "execution_count": 32,
   "metadata": {},
   "outputs": [
    {
     "name": "stdout",
     "output_type": "stream",
     "text": [
      "60\n"
     ]
    }
   ],
   "source": [
    "print(len(oreilly['entries']))"
   ]
  },
  {
   "cell_type": "markdown",
   "metadata": {},
   "source": [
    "### 6. Obtain a list of components (keys) available for an entry.\n",
    "\n",
    "*Hint: Remember to index first before requesting the keys*"
   ]
  },
  {
   "cell_type": "code",
   "execution_count": 33,
   "metadata": {},
   "outputs": [
    {
     "data": {
      "text/plain": [
       "dict_keys(['title', 'title_detail', 'updated', 'updated_parsed', 'id', 'guidislink', 'link', 'content', 'summary', 'links', 'authors', 'author_detail', 'author', 'feedburner_origlink'])"
      ]
     },
     "execution_count": 33,
     "metadata": {},
     "output_type": "execute_result"
    }
   ],
   "source": [
    "oreilly.entries[0].keys()"
   ]
  },
  {
   "cell_type": "markdown",
   "metadata": {},
   "source": [
    "### 7. Extract a list of entry titles."
   ]
  },
  {
   "cell_type": "code",
   "execution_count": 34,
   "metadata": {},
   "outputs": [
    {
     "name": "stdout",
     "output_type": "stream",
     "text": [
      "Here is list of entry titles: ['Four short links: 14 August 2019', 'Four short links: 13 August 2019', 'Four short links: 12 August 2019', 'Blockchain solutions in enterprise', 'Four short links: 9 August 2019', 'Got speech? These guidelines will help you get started building voice applications', 'Four short links: 8 August 2019', 'New live online training courses', 'Four short links: 7 August 2019', 'Four short links: 6 August 2019', 'Four short links: 5 August 2019', 'Four short links: 2 August 2019', 'Make data science more useful', 'Taming chaos: Preparing for your next incident', 'Four short links: 1 August 2019', 'Learning from adversaries', 'Four short links: 31 July 2019', 'Four short links: 30 July 2019', 'Four short links: 29 July 2019', 'Four short links: 26 July 2019', 'Four short links: 25 July 2019', 'One simple graphic: Researchers love PyTorch and TensorFlow', 'Four short links: 24 July 2019', 'Four short links: 23 July 2019', 'Four short links: 22 July 2019', 'Four short links: 19 July 2019', \"O'Reilly Open Source and Frank Willison Awards\", 'The war for the soul of open source', 'Managing machines', 'Ask not what Brands™ can do for you', 'O’Reilly Radar: Open source technology trends—What our users tell us', 'Open source force multipliers', 'Acquiring and sharing high-quality data', 'Four short links: 18 July 2019', \"Highlights from the O'Reilly Open Source Software Conference in Portland 2019\", 'Better living through software', 'Why Amazon cares about open source', 'The role of open source in mitigating natural disasters', 'Built to last: Building and growing open source communities', 'The next age of open innovation', 'Four short links: 17 July 2019', 'Four short links: 16 July 2019', 'Managing machine learning in the enterprise: Lessons from banking and health care', 'Four short links: 15 July 2019', 'Four short links: 12 July 2019', 'Four short links: 11 July 2019', 'Four short links: 10 July 2019', 'Four short links: 9 July 2019', 'The circle of fairness', \"Highlights from the O'Reilly Artificial Intelligence Conference in Beijing 2019\", 'Toward learned algorithms, data structures, and systems', 'Designing computer hardware for artificial intelligence', 'AI and retail', 'The future of machine learning is tiny', 'AI and systems at RISELab', 'Data orchestration for AI, big data, and cloud', 'The future of hiring and the talent market with AI', 'Top AI breakthroughs you need to know', 'Four short links: 8 July 2019', 'Four short links: 5 July 2019']\n"
     ]
    }
   ],
   "source": [
    "titles = [oreilly.entries[i].title for i in range(len(oreilly.entries))]\n",
    "print('Here is list of entry titles:', titles)"
   ]
  },
  {
   "cell_type": "code",
   "execution_count": 35,
   "metadata": {},
   "outputs": [
    {
     "name": "stdout",
     "output_type": "stream",
     "text": [
      "atom10\n"
     ]
    }
   ],
   "source": [
    "print(oreilly.version)"
   ]
  },
  {
   "cell_type": "code",
   "execution_count": 36,
   "metadata": {},
   "outputs": [],
   "source": [
    "#for post in oreilly.entries:\n",
    "#    print(post.title + \": \" + post.link + \"\")"
   ]
  },
  {
   "cell_type": "markdown",
   "metadata": {},
   "source": [
    "### 8. Calculate the percentage of \"Four short links\" entry titles."
   ]
  },
  {
   "cell_type": "code",
   "execution_count": 37,
   "metadata": {},
   "outputs": [
    {
     "name": "stdout",
     "output_type": "stream",
     "text": [
      "48.333333333333336\n"
     ]
    }
   ],
   "source": [
    "import re\n",
    "\n",
    "title_list=[title for title in titles if title.startswith('Four short links')]\n",
    "part=len(title_list)\n",
    "whole=len(titles)\n",
    "percentage=part/whole*100\n",
    "print(percentage)"
   ]
  },
  {
   "cell_type": "markdown",
   "metadata": {},
   "source": [
    "### 9. Create a Pandas data frame from the feed's entries."
   ]
  },
  {
   "cell_type": "code",
   "execution_count": 38,
   "metadata": {},
   "outputs": [],
   "source": [
    "import pandas as pd"
   ]
  },
  {
   "cell_type": "code",
   "execution_count": 39,
   "metadata": {
    "scrolled": true
   },
   "outputs": [
    {
     "data": {
      "text/html": [
       "<div>\n",
       "<style scoped>\n",
       "    .dataframe tbody tr th:only-of-type {\n",
       "        vertical-align: middle;\n",
       "    }\n",
       "\n",
       "    .dataframe tbody tr th {\n",
       "        vertical-align: top;\n",
       "    }\n",
       "\n",
       "    .dataframe thead th {\n",
       "        text-align: right;\n",
       "    }\n",
       "</style>\n",
       "<table border=\"1\" class=\"dataframe\">\n",
       "  <thead>\n",
       "    <tr style=\"text-align: right;\">\n",
       "      <th></th>\n",
       "      <th>author</th>\n",
       "      <th>author_detail</th>\n",
       "      <th>authors</th>\n",
       "      <th>content</th>\n",
       "      <th>feedburner_origlink</th>\n",
       "      <th>guidislink</th>\n",
       "      <th>id</th>\n",
       "      <th>link</th>\n",
       "      <th>links</th>\n",
       "      <th>summary</th>\n",
       "      <th>title</th>\n",
       "      <th>title_detail</th>\n",
       "      <th>updated</th>\n",
       "      <th>updated_parsed</th>\n",
       "    </tr>\n",
       "  </thead>\n",
       "  <tbody>\n",
       "    <tr>\n",
       "      <th>0</th>\n",
       "      <td>Nat Torkington</td>\n",
       "      <td>{'name': 'Nat Torkington'}</td>\n",
       "      <td>[{'name': 'Nat Torkington'}]</td>\n",
       "      <td>[{'type': 'text/html', 'language': None, 'base...</td>\n",
       "      <td>https://www.oreilly.com/ideas/four-short-links...</td>\n",
       "      <td>True</td>\n",
       "      <td>tag:www.oreilly.com,2019-08-14:/ideas/four-sho...</td>\n",
       "      <td>http://feedproxy.google.com/~r/oreilly/radar/a...</td>\n",
       "      <td>[{'href': 'http://feedproxy.google.com/~r/orei...</td>\n",
       "      <td>&lt;p&gt;&lt;em&gt;Hardware Deplatforming, Hiring Groupthi...</td>\n",
       "      <td>Four short links: 14 August 2019</td>\n",
       "      <td>{'type': 'text/plain', 'language': None, 'base...</td>\n",
       "      <td>2019-08-14T11:00:00Z</td>\n",
       "      <td>(2019, 8, 14, 11, 0, 0, 2, 226, 0)</td>\n",
       "    </tr>\n",
       "    <tr>\n",
       "      <th>1</th>\n",
       "      <td>Nat Torkington</td>\n",
       "      <td>{'name': 'Nat Torkington'}</td>\n",
       "      <td>[{'name': 'Nat Torkington'}]</td>\n",
       "      <td>[{'type': 'text/html', 'language': None, 'base...</td>\n",
       "      <td>https://www.oreilly.com/ideas/four-short-links...</td>\n",
       "      <td>True</td>\n",
       "      <td>tag:www.oreilly.com,2019-08-13:/ideas/four-sho...</td>\n",
       "      <td>http://feedproxy.google.com/~r/oreilly/radar/a...</td>\n",
       "      <td>[{'href': 'http://feedproxy.google.com/~r/orei...</td>\n",
       "      <td>&lt;p&gt;&lt;em&gt;Recognizing Fact, YouTube &amp;amp; Brazil,...</td>\n",
       "      <td>Four short links: 13 August 2019</td>\n",
       "      <td>{'type': 'text/plain', 'language': None, 'base...</td>\n",
       "      <td>2019-08-13T10:55:00Z</td>\n",
       "      <td>(2019, 8, 13, 10, 55, 0, 1, 225, 0)</td>\n",
       "    </tr>\n",
       "  </tbody>\n",
       "</table>\n",
       "</div>"
      ],
      "text/plain": [
       "           author               author_detail                       authors  \\\n",
       "0  Nat Torkington  {'name': 'Nat Torkington'}  [{'name': 'Nat Torkington'}]   \n",
       "1  Nat Torkington  {'name': 'Nat Torkington'}  [{'name': 'Nat Torkington'}]   \n",
       "\n",
       "                                             content  \\\n",
       "0  [{'type': 'text/html', 'language': None, 'base...   \n",
       "1  [{'type': 'text/html', 'language': None, 'base...   \n",
       "\n",
       "                                 feedburner_origlink  guidislink  \\\n",
       "0  https://www.oreilly.com/ideas/four-short-links...        True   \n",
       "1  https://www.oreilly.com/ideas/four-short-links...        True   \n",
       "\n",
       "                                                  id  \\\n",
       "0  tag:www.oreilly.com,2019-08-14:/ideas/four-sho...   \n",
       "1  tag:www.oreilly.com,2019-08-13:/ideas/four-sho...   \n",
       "\n",
       "                                                link  \\\n",
       "0  http://feedproxy.google.com/~r/oreilly/radar/a...   \n",
       "1  http://feedproxy.google.com/~r/oreilly/radar/a...   \n",
       "\n",
       "                                               links  \\\n",
       "0  [{'href': 'http://feedproxy.google.com/~r/orei...   \n",
       "1  [{'href': 'http://feedproxy.google.com/~r/orei...   \n",
       "\n",
       "                                             summary  \\\n",
       "0  <p><em>Hardware Deplatforming, Hiring Groupthi...   \n",
       "1  <p><em>Recognizing Fact, YouTube &amp; Brazil,...   \n",
       "\n",
       "                              title  \\\n",
       "0  Four short links: 14 August 2019   \n",
       "1  Four short links: 13 August 2019   \n",
       "\n",
       "                                        title_detail               updated  \\\n",
       "0  {'type': 'text/plain', 'language': None, 'base...  2019-08-14T11:00:00Z   \n",
       "1  {'type': 'text/plain', 'language': None, 'base...  2019-08-13T10:55:00Z   \n",
       "\n",
       "                        updated_parsed  \n",
       "0   (2019, 8, 14, 11, 0, 0, 2, 226, 0)  \n",
       "1  (2019, 8, 13, 10, 55, 0, 1, 225, 0)  "
      ]
     },
     "execution_count": 39,
     "metadata": {},
     "output_type": "execute_result"
    }
   ],
   "source": [
    "df = pd.DataFrame(oreilly.entries)\n",
    "df.head(2)"
   ]
  },
  {
   "cell_type": "markdown",
   "metadata": {},
   "source": [
    "### 10. Count the number of entries per author and sort them in descending order."
   ]
  },
  {
   "cell_type": "code",
   "execution_count": 40,
   "metadata": {},
   "outputs": [
    {
     "data": {
      "text/html": [
       "<div>\n",
       "<style scoped>\n",
       "    .dataframe tbody tr th:only-of-type {\n",
       "        vertical-align: middle;\n",
       "    }\n",
       "\n",
       "    .dataframe tbody tr th {\n",
       "        vertical-align: top;\n",
       "    }\n",
       "\n",
       "    .dataframe thead th {\n",
       "        text-align: right;\n",
       "    }\n",
       "</style>\n",
       "<table border=\"1\" class=\"dataframe\">\n",
       "  <thead>\n",
       "    <tr style=\"text-align: right;\">\n",
       "      <th></th>\n",
       "      <th>author</th>\n",
       "      <th>entries</th>\n",
       "    </tr>\n",
       "  </thead>\n",
       "  <tbody>\n",
       "    <tr>\n",
       "      <th>19</th>\n",
       "      <td>Nat Torkington</td>\n",
       "      <td>29</td>\n",
       "    </tr>\n",
       "    <tr>\n",
       "      <th>6</th>\n",
       "      <td>Ben Lorica</td>\n",
       "      <td>3</td>\n",
       "    </tr>\n",
       "  </tbody>\n",
       "</table>\n",
       "</div>"
      ],
      "text/plain": [
       "            author  entries\n",
       "19  Nat Torkington       29\n",
       "6       Ben Lorica        3"
      ]
     },
     "execution_count": 40,
     "metadata": {},
     "output_type": "execute_result"
    }
   ],
   "source": [
    "authors = df.groupby('author', as_index=False).agg({'title':'count'})\n",
    "authors.columns = ['author', 'entries']\n",
    "authors.sort_values('entries', ascending=False).head(2)"
   ]
  },
  {
   "cell_type": "markdown",
   "metadata": {},
   "source": [
    "### 11. Add a new column to the data frame that contains the length (number of characters) of each entry title. Return a data frame that contains the title, author, and title length of each entry in descending order (longest title length at the top)."
   ]
  },
  {
   "cell_type": "code",
   "execution_count": 41,
   "metadata": {},
   "outputs": [
    {
     "data": {
      "text/html": [
       "<div>\n",
       "<style scoped>\n",
       "    .dataframe tbody tr th:only-of-type {\n",
       "        vertical-align: middle;\n",
       "    }\n",
       "\n",
       "    .dataframe tbody tr th {\n",
       "        vertical-align: top;\n",
       "    }\n",
       "\n",
       "    .dataframe thead th {\n",
       "        text-align: right;\n",
       "    }\n",
       "</style>\n",
       "<table border=\"1\" class=\"dataframe\">\n",
       "  <thead>\n",
       "    <tr style=\"text-align: right;\">\n",
       "      <th></th>\n",
       "      <th>title</th>\n",
       "      <th>author</th>\n",
       "      <th>title_length</th>\n",
       "    </tr>\n",
       "  </thead>\n",
       "  <tbody>\n",
       "    <tr>\n",
       "      <th>5</th>\n",
       "      <td>Got speech? These guidelines will help you get...</td>\n",
       "      <td>Ben Lorica, Yishay Carmiel</td>\n",
       "      <td>82</td>\n",
       "    </tr>\n",
       "    <tr>\n",
       "      <th>42</th>\n",
       "      <td>Managing machine learning in the enterprise: L...</td>\n",
       "      <td>Ben Lorica, Harish Doddi, David Talby</td>\n",
       "      <td>81</td>\n",
       "    </tr>\n",
       "    <tr>\n",
       "      <th>49</th>\n",
       "      <td>Highlights from the O'Reilly Artificial Intell...</td>\n",
       "      <td>Jenn Webb</td>\n",
       "      <td>79</td>\n",
       "    </tr>\n",
       "  </tbody>\n",
       "</table>\n",
       "</div>"
      ],
      "text/plain": [
       "                                                title  \\\n",
       "5   Got speech? These guidelines will help you get...   \n",
       "42  Managing machine learning in the enterprise: L...   \n",
       "49  Highlights from the O'Reilly Artificial Intell...   \n",
       "\n",
       "                                   author  title_length  \n",
       "5              Ben Lorica, Yishay Carmiel            82  \n",
       "42  Ben Lorica, Harish Doddi, David Talby            81  \n",
       "49                              Jenn Webb            79  "
      ]
     },
     "execution_count": 41,
     "metadata": {},
     "output_type": "execute_result"
    }
   ],
   "source": [
    "df['title_length'] = df['title'].apply(len)\n",
    "df[['title', 'author', 'title_length']].sort_values('title_length', ascending=False).head(3)\n"
   ]
  },
  {
   "cell_type": "markdown",
   "metadata": {},
   "source": [
    "### 12. Create a list of entry titles whose summary includes the phrase \"machine learning.\""
   ]
  },
  {
   "cell_type": "code",
   "execution_count": 42,
   "metadata": {},
   "outputs": [
    {
     "data": {
      "text/html": [
       "<div>\n",
       "<style scoped>\n",
       "    .dataframe tbody tr th:only-of-type {\n",
       "        vertical-align: middle;\n",
       "    }\n",
       "\n",
       "    .dataframe tbody tr th {\n",
       "        vertical-align: top;\n",
       "    }\n",
       "\n",
       "    .dataframe thead th {\n",
       "        text-align: right;\n",
       "    }\n",
       "</style>\n",
       "<table border=\"1\" class=\"dataframe\">\n",
       "  <thead>\n",
       "    <tr style=\"text-align: right;\">\n",
       "      <th></th>\n",
       "      <th>title</th>\n",
       "      <th>summary</th>\n",
       "    </tr>\n",
       "  </thead>\n",
       "  <tbody>\n",
       "    <tr>\n",
       "      <th>0</th>\n",
       "      <td>Four short links: 14 August 2019</td>\n",
       "      <td>&lt;p&gt;&lt;em&gt;Hardware Deplatforming, Hiring Groupthi...</td>\n",
       "    </tr>\n",
       "    <tr>\n",
       "      <th>1</th>\n",
       "      <td>Four short links: 13 August 2019</td>\n",
       "      <td>&lt;p&gt;&lt;em&gt;Recognizing Fact, YouTube &amp;amp; Brazil,...</td>\n",
       "    </tr>\n",
       "    <tr>\n",
       "      <th>2</th>\n",
       "      <td>Four short links: 12 August 2019</td>\n",
       "      <td>&lt;p&gt;&lt;em&gt;Retro Hacking, Explaining AI, Teacher R...</td>\n",
       "    </tr>\n",
       "    <tr>\n",
       "      <th>3</th>\n",
       "      <td>Blockchain solutions in enterprise</td>\n",
       "      <td>&lt;p&gt;&lt;img src='https://d3ucjech6zwjp8.cloudfront...</td>\n",
       "    </tr>\n",
       "    <tr>\n",
       "      <th>4</th>\n",
       "      <td>Four short links: 9 August 2019</td>\n",
       "      <td>&lt;p&gt;&lt;em&gt;Shadow Ban Patent, Abusing Unix Tools, ...</td>\n",
       "    </tr>\n",
       "    <tr>\n",
       "      <th>5</th>\n",
       "      <td>Got speech? These guidelines will help you get...</td>\n",
       "      <td>&lt;p&gt;&lt;img src='https://d3ucjech6zwjp8.cloudfront...</td>\n",
       "    </tr>\n",
       "    <tr>\n",
       "      <th>6</th>\n",
       "      <td>Four short links: 8 August 2019</td>\n",
       "      <td>&lt;p&gt;&lt;em&gt;Counterfeit Security, Poses in Art, Con...</td>\n",
       "    </tr>\n",
       "    <tr>\n",
       "      <th>7</th>\n",
       "      <td>New live online training courses</td>\n",
       "      <td>&lt;p&gt;&lt;img src='https://d3ucjech6zwjp8.cloudfront...</td>\n",
       "    </tr>\n",
       "  </tbody>\n",
       "</table>\n",
       "</div>"
      ],
      "text/plain": [
       "                                               title  \\\n",
       "0                   Four short links: 14 August 2019   \n",
       "1                   Four short links: 13 August 2019   \n",
       "2                   Four short links: 12 August 2019   \n",
       "3                 Blockchain solutions in enterprise   \n",
       "4                    Four short links: 9 August 2019   \n",
       "5  Got speech? These guidelines will help you get...   \n",
       "6                    Four short links: 8 August 2019   \n",
       "7                   New live online training courses   \n",
       "\n",
       "                                             summary  \n",
       "0  <p><em>Hardware Deplatforming, Hiring Groupthi...  \n",
       "1  <p><em>Recognizing Fact, YouTube &amp; Brazil,...  \n",
       "2  <p><em>Retro Hacking, Explaining AI, Teacher R...  \n",
       "3  <p><img src='https://d3ucjech6zwjp8.cloudfront...  \n",
       "4  <p><em>Shadow Ban Patent, Abusing Unix Tools, ...  \n",
       "5  <p><img src='https://d3ucjech6zwjp8.cloudfront...  \n",
       "6  <p><em>Counterfeit Security, Poses in Art, Con...  \n",
       "7  <p><img src='https://d3ucjech6zwjp8.cloudfront...  "
      ]
     },
     "execution_count": 42,
     "metadata": {},
     "output_type": "execute_result"
    }
   ],
   "source": [
    "df_machine= df[['title', 'summary']]\n",
    "df_machine.head(8)"
   ]
  },
  {
   "cell_type": "code",
   "execution_count": 43,
   "metadata": {},
   "outputs": [],
   "source": [
    "dataframe=df[df['summary'].str.contains('[Mm]achine learning')]\n",
    "#correct regex usage?"
   ]
  },
  {
   "cell_type": "code",
   "execution_count": 47,
   "metadata": {},
   "outputs": [
    {
     "data": {
      "text/plain": [
       "['Got speech? These guidelines will help you get started building voice applications',\n",
       " 'New live online training courses',\n",
       " 'Four short links: 5 August 2019',\n",
       " 'Learning from adversaries',\n",
       " 'One simple graphic: Researchers love PyTorch and TensorFlow',\n",
       " 'Acquiring and sharing high-quality data',\n",
       " \"Highlights from the O'Reilly Open Source Software Conference in Portland 2019\",\n",
       " 'Managing machine learning in the enterprise: Lessons from banking and health care',\n",
       " \"Highlights from the O'Reilly Artificial Intelligence Conference in Beijing 2019\",\n",
       " 'The future of machine learning is tiny']"
      ]
     },
     "execution_count": 47,
     "metadata": {},
     "output_type": "execute_result"
    }
   ],
   "source": [
    "[title for title in dataframe.title]"
   ]
  },
  {
   "cell_type": "code",
   "execution_count": 59,
   "metadata": {},
   "outputs": [],
   "source": [
    "df['Extract']=df['summary'].str.extract('([Mm]achine learning)')\n",
    "#j'utilise extract pour verifier mon resultat : 10 titres dans la liste ci-dessus, qui correspond aux 10 lignes reçu par extract"
   ]
  },
  {
   "cell_type": "code",
   "execution_count": 57,
   "metadata": {},
   "outputs": [],
   "source": [
    "df['Extract1']=df['summary'].str.extract('(Machine learning)')"
   ]
  },
  {
   "cell_type": "code",
   "execution_count": 58,
   "metadata": {},
   "outputs": [
    {
     "data": {
      "text/plain": [
       "0                  NaN\n",
       "1                  NaN\n",
       "2                  NaN\n",
       "3                  NaN\n",
       "4                  NaN\n",
       "5                  NaN\n",
       "6                  NaN\n",
       "7                  NaN\n",
       "8                  NaN\n",
       "9                  NaN\n",
       "10                 NaN\n",
       "11                 NaN\n",
       "12                 NaN\n",
       "13                 NaN\n",
       "14                 NaN\n",
       "15                 NaN\n",
       "16                 NaN\n",
       "17                 NaN\n",
       "18                 NaN\n",
       "19                 NaN\n",
       "20                 NaN\n",
       "21                 NaN\n",
       "22                 NaN\n",
       "23                 NaN\n",
       "24                 NaN\n",
       "25                 NaN\n",
       "26                 NaN\n",
       "27                 NaN\n",
       "28                 NaN\n",
       "29                 NaN\n",
       "30                 NaN\n",
       "31                 NaN\n",
       "32                 NaN\n",
       "33                 NaN\n",
       "34                 NaN\n",
       "35                 NaN\n",
       "36                 NaN\n",
       "37                 NaN\n",
       "38                 NaN\n",
       "39                 NaN\n",
       "40                 NaN\n",
       "41                 NaN\n",
       "42    Machine learning\n",
       "43                 NaN\n",
       "44                 NaN\n",
       "45                 NaN\n",
       "46                 NaN\n",
       "47                 NaN\n",
       "48                 NaN\n",
       "49                 NaN\n",
       "50                 NaN\n",
       "51                 NaN\n",
       "52                 NaN\n",
       "53                 NaN\n",
       "54                 NaN\n",
       "55                 NaN\n",
       "56                 NaN\n",
       "57                 NaN\n",
       "58                 NaN\n",
       "59                 NaN\n",
       "Name: Extract1, dtype: object"
      ]
     },
     "execution_count": 58,
     "metadata": {},
     "output_type": "execute_result"
    }
   ],
   "source": [
    "df['Extract1']"
   ]
  },
  {
   "cell_type": "code",
   "execution_count": 60,
   "metadata": {},
   "outputs": [
    {
     "data": {
      "text/plain": [
       "0                  NaN\n",
       "1                  NaN\n",
       "2                  NaN\n",
       "3                  NaN\n",
       "4                  NaN\n",
       "5     machine learning\n",
       "6                  NaN\n",
       "7     machine learning\n",
       "8                  NaN\n",
       "9                  NaN\n",
       "10    machine learning\n",
       "11                 NaN\n",
       "12                 NaN\n",
       "13                 NaN\n",
       "14                 NaN\n",
       "15    machine learning\n",
       "16                 NaN\n",
       "17                 NaN\n",
       "18                 NaN\n",
       "19                 NaN\n",
       "20                 NaN\n",
       "21    machine learning\n",
       "22                 NaN\n",
       "23                 NaN\n",
       "24                 NaN\n",
       "25                 NaN\n",
       "26                 NaN\n",
       "27                 NaN\n",
       "28                 NaN\n",
       "29                 NaN\n",
       "30                 NaN\n",
       "31                 NaN\n",
       "32    machine learning\n",
       "33                 NaN\n",
       "34    machine learning\n",
       "35                 NaN\n",
       "36                 NaN\n",
       "37                 NaN\n",
       "38                 NaN\n",
       "39                 NaN\n",
       "40                 NaN\n",
       "41                 NaN\n",
       "42    machine learning\n",
       "43                 NaN\n",
       "44                 NaN\n",
       "45                 NaN\n",
       "46                 NaN\n",
       "47                 NaN\n",
       "48                 NaN\n",
       "49    machine learning\n",
       "50                 NaN\n",
       "51                 NaN\n",
       "52                 NaN\n",
       "53    machine learning\n",
       "54                 NaN\n",
       "55                 NaN\n",
       "56                 NaN\n",
       "57                 NaN\n",
       "58                 NaN\n",
       "59                 NaN\n",
       "Name: Extract, dtype: object"
      ]
     },
     "execution_count": 60,
     "metadata": {},
     "output_type": "execute_result"
    }
   ],
   "source": [
    "df['Extract']"
   ]
  },
  {
   "cell_type": "code",
   "execution_count": 63,
   "metadata": {},
   "outputs": [
    {
     "data": {
      "text/plain": [
       "Index(['author', 'author_detail', 'authors', 'content', 'feedburner_origlink',\n",
       "       'guidislink', 'id', 'link', 'links', 'summary', 'title', 'title_detail',\n",
       "       'updated', 'updated_parsed', 'title_length', 'Extract', 'Extract1'],\n",
       "      dtype='object')"
      ]
     },
     "execution_count": 63,
     "metadata": {},
     "output_type": "execute_result"
    }
   ],
   "source": [
    "df.columns"
   ]
  },
  {
   "cell_type": "code",
   "execution_count": null,
   "metadata": {},
   "outputs": [],
   "source": []
  }
 ],
 "metadata": {
  "kernelspec": {
   "display_name": "Python 3",
   "language": "python",
   "name": "python3"
  },
  "language_info": {
   "codemirror_mode": {
    "name": "ipython",
    "version": 3
   },
   "file_extension": ".py",
   "mimetype": "text/x-python",
   "name": "python",
   "nbconvert_exporter": "python",
   "pygments_lexer": "ipython3",
   "version": "3.7.3"
  }
 },
 "nbformat": 4,
 "nbformat_minor": 2
}
