{
 "cells": [
  {
   "cell_type": "markdown",
   "metadata": {},
   "source": [
    "# Working with RSS Feeds Lab\n",
    "\n",
    "Complete the following set of exercises to solidify your knowledge of parsing RSS feeds and extracting information from them."
   ]
  },
  {
   "cell_type": "code",
   "execution_count": 17,
   "metadata": {},
   "outputs": [],
   "source": [
    "import feedparser\n",
    "#pip install --user feedparser in cmd.exe"
   ]
  },
  {
   "cell_type": "markdown",
   "metadata": {},
   "source": [
    "### 1. Use feedparser to parse the following RSS feed URL."
   ]
  },
  {
   "cell_type": "code",
   "execution_count": 18,
   "metadata": {},
   "outputs": [],
   "source": [
    "url = 'http://feeds.feedburner.com/oreilly/radar/atom'"
   ]
  },
  {
   "cell_type": "code",
   "execution_count": 19,
   "metadata": {},
   "outputs": [],
   "source": [
    "oreilly = feedparser.parse(url)"
   ]
  },
  {
   "cell_type": "markdown",
   "metadata": {},
   "source": [
    "##### 2. Obtain a list of components (keys) that are available for this feed."
   ]
  },
  {
   "cell_type": "code",
   "execution_count": 20,
   "metadata": {},
   "outputs": [
    {
     "data": {
      "text/plain": [
       "dict_keys(['feed', 'entries', 'bozo', 'headers', 'etag', 'updated', 'updated_parsed', 'href', 'status', 'encoding', 'version', 'namespaces'])"
      ]
     },
     "execution_count": 20,
     "metadata": {},
     "output_type": "execute_result"
    }
   ],
   "source": [
    "oreilly.keys()"
   ]
  },
  {
   "cell_type": "code",
   "execution_count": 21,
   "metadata": {},
   "outputs": [
    {
     "data": {
      "text/plain": [
       "{'title': \"All - O'Reilly Media\",\n",
       " 'title_detail': {'type': 'text/plain',\n",
       "  'language': None,\n",
       "  'base': 'http://feeds.feedburner.com/oreilly/radar/atom',\n",
       "  'value': \"All - O'Reilly Media\"},\n",
       " 'id': 'https://www.oreilly.com',\n",
       " 'guidislink': True,\n",
       " 'link': 'https://www.oreilly.com',\n",
       " 'updated': '2019-07-22T14:34:24Z',\n",
       " 'updated_parsed': time.struct_time(tm_year=2019, tm_mon=7, tm_mday=22, tm_hour=14, tm_min=34, tm_sec=24, tm_wday=0, tm_yday=203, tm_isdst=0),\n",
       " 'subtitle': 'All of our Ideas and Learning material from all of our topics.',\n",
       " 'subtitle_detail': {'type': 'text/plain',\n",
       "  'language': None,\n",
       "  'base': 'http://feeds.feedburner.com/oreilly/radar/atom',\n",
       "  'value': 'All of our Ideas and Learning material from all of our topics.'},\n",
       " 'links': [{'href': 'https://www.oreilly.com',\n",
       "   'rel': 'alternate',\n",
       "   'type': 'text/html'},\n",
       "  {'rel': 'self',\n",
       "   'type': 'application/atom+xml',\n",
       "   'href': 'http://feeds.feedburner.com/oreilly/radar/atom'},\n",
       "  {'rel': 'hub',\n",
       "   'href': 'http://pubsubhubbub.appspot.com/',\n",
       "   'type': 'text/html'}],\n",
       " 'authors': [{'name': \"O'Reilly Media\"}],\n",
       " 'author_detail': {'name': \"O'Reilly Media\"},\n",
       " 'author': \"O'Reilly Media\",\n",
       " 'feedburner_info': {'uri': 'oreilly/radar/atom'},\n",
       " 'geo_lat': '38.393314',\n",
       " 'geo_long': '-122.836667',\n",
       " 'feedburner_emailserviceid': 'oreilly/radar/atom',\n",
       " 'feedburner_feedburnerhostname': 'https://feedburner.google.com'}"
      ]
     },
     "execution_count": 21,
     "metadata": {},
     "output_type": "execute_result"
    }
   ],
   "source": [
    "oreilly.feed"
   ]
  },
  {
   "cell_type": "markdown",
   "metadata": {},
   "source": [
    "### 3. Obtain a list of components (keys) that are available for the *feed* component of this RSS feed."
   ]
  },
  {
   "cell_type": "code",
   "execution_count": 22,
   "metadata": {},
   "outputs": [
    {
     "data": {
      "text/plain": [
       "dict_keys(['title', 'title_detail', 'id', 'guidislink', 'link', 'updated', 'updated_parsed', 'subtitle', 'subtitle_detail', 'links', 'authors', 'author_detail', 'author', 'feedburner_info', 'geo_lat', 'geo_long', 'feedburner_emailserviceid', 'feedburner_feedburnerhostname'])"
      ]
     },
     "execution_count": 22,
     "metadata": {},
     "output_type": "execute_result"
    }
   ],
   "source": [
    "oreilly.feed.keys()"
   ]
  },
  {
   "cell_type": "markdown",
   "metadata": {},
   "source": [
    "### 4. Extract and print the feed title, subtitle, author, and link."
   ]
  },
  {
   "cell_type": "code",
   "execution_count": 23,
   "metadata": {},
   "outputs": [
    {
     "data": {
      "text/plain": [
       "\"All - O'Reilly Media\""
      ]
     },
     "execution_count": 23,
     "metadata": {},
     "output_type": "execute_result"
    }
   ],
   "source": [
    "oreilly.feed.title"
   ]
  },
  {
   "cell_type": "code",
   "execution_count": 24,
   "metadata": {},
   "outputs": [
    {
     "data": {
      "text/plain": [
       "'All of our Ideas and Learning material from all of our topics.'"
      ]
     },
     "execution_count": 24,
     "metadata": {},
     "output_type": "execute_result"
    }
   ],
   "source": [
    "oreilly.feed.subtitle"
   ]
  },
  {
   "cell_type": "code",
   "execution_count": 25,
   "metadata": {},
   "outputs": [
    {
     "data": {
      "text/plain": [
       "\"O'Reilly Media\""
      ]
     },
     "execution_count": 25,
     "metadata": {},
     "output_type": "execute_result"
    }
   ],
   "source": [
    "oreilly.feed.author"
   ]
  },
  {
   "cell_type": "code",
   "execution_count": 26,
   "metadata": {},
   "outputs": [
    {
     "data": {
      "text/plain": [
       "'https://www.oreilly.com'"
      ]
     },
     "execution_count": 26,
     "metadata": {},
     "output_type": "execute_result"
    }
   ],
   "source": [
    "oreilly.feed.link"
   ]
  },
  {
   "cell_type": "markdown",
   "metadata": {},
   "source": [
    "### 5. Count the number of entries that are contained in this RSS feed."
   ]
  },
  {
   "cell_type": "code",
   "execution_count": 27,
   "metadata": {},
   "outputs": [
    {
     "name": "stdout",
     "output_type": "stream",
     "text": [
      "60\n"
     ]
    }
   ],
   "source": [
    "print(len(oreilly['entries']))"
   ]
  },
  {
   "cell_type": "markdown",
   "metadata": {},
   "source": [
    "### 6. Obtain a list of components (keys) available for an entry.\n",
    "\n",
    "*Hint: Remember to index first before requesting the keys*"
   ]
  },
  {
   "cell_type": "code",
   "execution_count": 28,
   "metadata": {},
   "outputs": [
    {
     "data": {
      "text/plain": [
       "dict_keys(['title', 'title_detail', 'updated', 'updated_parsed', 'id', 'guidislink', 'link', 'content', 'summary', 'links', 'authors', 'author_detail', 'author', 'feedburner_origlink'])"
      ]
     },
     "execution_count": 28,
     "metadata": {},
     "output_type": "execute_result"
    }
   ],
   "source": [
    "oreilly.entries[0].keys()"
   ]
  },
  {
   "cell_type": "markdown",
   "metadata": {},
   "source": [
    "### 7. Extract a list of entry titles."
   ]
  },
  {
   "cell_type": "code",
   "execution_count": 29,
   "metadata": {},
   "outputs": [
    {
     "name": "stdout",
     "output_type": "stream",
     "text": [
      "Here is list of entry titles: ['Four short links: 22 July 2019', 'Four short links: 19 July 2019', 'The war for the soul of open source', \"O'Reilly Open Source and Frank Willison Awards\", 'O’Reilly Radar: Open source technology trends—What our users tell us', 'Ask not what Brands™ can do for you', 'Managing machines', 'Acquiring and sharing high-quality data', 'Four short links: 18 July 2019', 'The role of open source in mitigating natural disasters', \"Highlights from the O'Reilly Open Source Software Conference in Portland 2019\", 'Better living through software', 'Why Amazon cares about open source', 'Built to last: Building and growing open source communities', 'The next age of open innovation', 'Four short links: 17 July 2019', 'Four short links: 16 July 2019', 'Managing machine learning in the enterprise: Lessons from banking and health care', 'Four short links: 15 July 2019', 'Four short links: 12 July 2019', 'Four short links: 11 July 2019', 'Four short links: 10 July 2019', 'Four short links: 9 July 2019', 'The circle of fairness', \"Highlights from the O'Reilly Artificial Intelligence Conference in Beijing 2019\", 'The future of machine learning is tiny', 'Toward learned algorithms, data structures, and systems', 'Top AI breakthroughs you need to know', 'Data orchestration for AI, big data, and cloud', 'AI and retail', 'The future of hiring and the talent market with AI', 'AI and systems at RISELab', 'Designing computer hardware for artificial intelligence', 'Four short links: 8 July 2019', 'Four short links: 5 July 2019', 'Four short links: 4 July 2019', 'Tools for machine learning development', 'New live online training courses', 'Four short links: 3 July 2019', 'Four short links: 2 July 2019', 'Four short links: 1 July 2019', 'RISELab’s AutoPandas hints at automation tech that will change the nature of software development', 'Four short links: 28 June 2019', 'One simple chart: Who is interested in Spark NLP?', 'Four short links: 27 June 2019', 'Four short links: 26 June 2019', 'AI and machine learning will require retraining your entire organization', 'Four short links: 25 June 2019', 'Four short links: 24 June 2019', 'Four short links: 21 June 2019', 'Four short links: 20 June 2019', 'Enabling end-to-end machine learning pipelines in real-world applications', 'Four short links: 19 June 2019', 'What are model governance and model operations?', 'Four short links: 18 June 2019', 'The quest for high-quality data', 'Four short links: 17 June 2019', 'Prioritizing technical debt as if time and money mattered', 'From the trenches with Rebecca Parsons', 'Choices of scale']\n"
     ]
    }
   ],
   "source": [
    "titles = [oreilly.entries[i].title for i in range(len(oreilly.entries))]\n",
    "print('Here is list of entry titles:', titles)"
   ]
  },
  {
   "cell_type": "code",
   "execution_count": 30,
   "metadata": {},
   "outputs": [
    {
     "name": "stdout",
     "output_type": "stream",
     "text": [
      "atom10\n"
     ]
    }
   ],
   "source": [
    "print(oreilly.version)"
   ]
  },
  {
   "cell_type": "code",
   "execution_count": 15,
   "metadata": {},
   "outputs": [],
   "source": [
    "#for post in oreilly.entries:\n",
    "#    print(post.title + \": \" + post.link + \"\")"
   ]
  },
  {
   "cell_type": "markdown",
   "metadata": {},
   "source": [
    "### 8. Calculate the percentage of \"Four short links\" entry titles."
   ]
  },
  {
   "cell_type": "code",
   "execution_count": 66,
   "metadata": {},
   "outputs": [
    {
     "name": "stdout",
     "output_type": "stream",
     "text": [
      "43.333333333333336\n"
     ]
    }
   ],
   "source": [
    "import re\n",
    "\n",
    "title_list=[title for title in titles if title.startswith('Four short links')]\n",
    "part=len(title_list)\n",
    "whole=len(titles)\n",
    "percentage=part/whole*100\n",
    "print(percentage)"
   ]
  },
  {
   "cell_type": "markdown",
   "metadata": {},
   "source": [
    "### 9. Create a Pandas data frame from the feed's entries."
   ]
  },
  {
   "cell_type": "code",
   "execution_count": 33,
   "metadata": {},
   "outputs": [],
   "source": [
    "import pandas as pd"
   ]
  },
  {
   "cell_type": "code",
   "execution_count": 79,
   "metadata": {
    "scrolled": true
   },
   "outputs": [
    {
     "data": {
      "text/html": [
       "<div>\n",
       "<style scoped>\n",
       "    .dataframe tbody tr th:only-of-type {\n",
       "        vertical-align: middle;\n",
       "    }\n",
       "\n",
       "    .dataframe tbody tr th {\n",
       "        vertical-align: top;\n",
       "    }\n",
       "\n",
       "    .dataframe thead th {\n",
       "        text-align: right;\n",
       "    }\n",
       "</style>\n",
       "<table border=\"1\" class=\"dataframe\">\n",
       "  <thead>\n",
       "    <tr style=\"text-align: right;\">\n",
       "      <th></th>\n",
       "      <th>author</th>\n",
       "      <th>author_detail</th>\n",
       "      <th>authors</th>\n",
       "      <th>content</th>\n",
       "      <th>feedburner_origlink</th>\n",
       "      <th>guidislink</th>\n",
       "      <th>id</th>\n",
       "      <th>link</th>\n",
       "      <th>links</th>\n",
       "      <th>summary</th>\n",
       "      <th>title</th>\n",
       "      <th>title_detail</th>\n",
       "      <th>updated</th>\n",
       "      <th>updated_parsed</th>\n",
       "    </tr>\n",
       "  </thead>\n",
       "  <tbody>\n",
       "    <tr>\n",
       "      <th>0</th>\n",
       "      <td>Nat Torkington</td>\n",
       "      <td>{'name': 'Nat Torkington'}</td>\n",
       "      <td>[{'name': 'Nat Torkington'}]</td>\n",
       "      <td>[{'type': 'text/html', 'language': None, 'base...</td>\n",
       "      <td>https://www.oreilly.com/ideas/four-short-links...</td>\n",
       "      <td>True</td>\n",
       "      <td>tag:www.oreilly.com,2019-07-22:/ideas/four-sho...</td>\n",
       "      <td>http://feedproxy.google.com/~r/oreilly/radar/a...</td>\n",
       "      <td>[{'href': 'http://feedproxy.google.com/~r/orei...</td>\n",
       "      <td>&lt;p&gt;&lt;em&gt;Game Source, Procurement Graph, Data Mo...</td>\n",
       "      <td>Four short links: 22 July 2019</td>\n",
       "      <td>{'type': 'text/plain', 'language': None, 'base...</td>\n",
       "      <td>2019-07-22T14:30:00Z</td>\n",
       "      <td>(2019, 7, 22, 14, 30, 0, 0, 203, 0)</td>\n",
       "    </tr>\n",
       "    <tr>\n",
       "      <th>1</th>\n",
       "      <td>Nat Torkington</td>\n",
       "      <td>{'name': 'Nat Torkington'}</td>\n",
       "      <td>[{'name': 'Nat Torkington'}]</td>\n",
       "      <td>[{'type': 'text/html', 'language': None, 'base...</td>\n",
       "      <td>https://www.oreilly.com/ideas/four-short-links...</td>\n",
       "      <td>True</td>\n",
       "      <td>tag:www.oreilly.com,2019-07-19:/ideas/four-sho...</td>\n",
       "      <td>http://feedproxy.google.com/~r/oreilly/radar/a...</td>\n",
       "      <td>[{'href': 'http://feedproxy.google.com/~r/orei...</td>\n",
       "      <td>&lt;p&gt;&lt;em&gt;Journal Mining, API Use, Better Convers...</td>\n",
       "      <td>Four short links: 19 July 2019</td>\n",
       "      <td>{'type': 'text/plain', 'language': None, 'base...</td>\n",
       "      <td>2019-07-19T17:05:00Z</td>\n",
       "      <td>(2019, 7, 19, 17, 5, 0, 4, 200, 0)</td>\n",
       "    </tr>\n",
       "  </tbody>\n",
       "</table>\n",
       "</div>"
      ],
      "text/plain": [
       "           author               author_detail                       authors  \\\n",
       "0  Nat Torkington  {'name': 'Nat Torkington'}  [{'name': 'Nat Torkington'}]   \n",
       "1  Nat Torkington  {'name': 'Nat Torkington'}  [{'name': 'Nat Torkington'}]   \n",
       "\n",
       "                                             content  \\\n",
       "0  [{'type': 'text/html', 'language': None, 'base...   \n",
       "1  [{'type': 'text/html', 'language': None, 'base...   \n",
       "\n",
       "                                 feedburner_origlink  guidislink  \\\n",
       "0  https://www.oreilly.com/ideas/four-short-links...        True   \n",
       "1  https://www.oreilly.com/ideas/four-short-links...        True   \n",
       "\n",
       "                                                  id  \\\n",
       "0  tag:www.oreilly.com,2019-07-22:/ideas/four-sho...   \n",
       "1  tag:www.oreilly.com,2019-07-19:/ideas/four-sho...   \n",
       "\n",
       "                                                link  \\\n",
       "0  http://feedproxy.google.com/~r/oreilly/radar/a...   \n",
       "1  http://feedproxy.google.com/~r/oreilly/radar/a...   \n",
       "\n",
       "                                               links  \\\n",
       "0  [{'href': 'http://feedproxy.google.com/~r/orei...   \n",
       "1  [{'href': 'http://feedproxy.google.com/~r/orei...   \n",
       "\n",
       "                                             summary  \\\n",
       "0  <p><em>Game Source, Procurement Graph, Data Mo...   \n",
       "1  <p><em>Journal Mining, API Use, Better Convers...   \n",
       "\n",
       "                            title  \\\n",
       "0  Four short links: 22 July 2019   \n",
       "1  Four short links: 19 July 2019   \n",
       "\n",
       "                                        title_detail               updated  \\\n",
       "0  {'type': 'text/plain', 'language': None, 'base...  2019-07-22T14:30:00Z   \n",
       "1  {'type': 'text/plain', 'language': None, 'base...  2019-07-19T17:05:00Z   \n",
       "\n",
       "                        updated_parsed  \n",
       "0  (2019, 7, 22, 14, 30, 0, 0, 203, 0)  \n",
       "1   (2019, 7, 19, 17, 5, 0, 4, 200, 0)  "
      ]
     },
     "execution_count": 79,
     "metadata": {},
     "output_type": "execute_result"
    }
   ],
   "source": [
    "df = pd.DataFrame(oreilly.entries)\n",
    "df.head(2)"
   ]
  },
  {
   "cell_type": "markdown",
   "metadata": {},
   "source": [
    "### 10. Count the number of entries per author and sort them in descending order."
   ]
  },
  {
   "cell_type": "code",
   "execution_count": 78,
   "metadata": {},
   "outputs": [
    {
     "data": {
      "text/html": [
       "<div>\n",
       "<style scoped>\n",
       "    .dataframe tbody tr th:only-of-type {\n",
       "        vertical-align: middle;\n",
       "    }\n",
       "\n",
       "    .dataframe tbody tr th {\n",
       "        vertical-align: top;\n",
       "    }\n",
       "\n",
       "    .dataframe thead th {\n",
       "        text-align: right;\n",
       "    }\n",
       "</style>\n",
       "<table border=\"1\" class=\"dataframe\">\n",
       "  <thead>\n",
       "    <tr style=\"text-align: right;\">\n",
       "      <th></th>\n",
       "      <th>author</th>\n",
       "      <th>entries</th>\n",
       "    </tr>\n",
       "  </thead>\n",
       "  <tbody>\n",
       "    <tr>\n",
       "      <th>18</th>\n",
       "      <td>Nat Torkington</td>\n",
       "      <td>26</td>\n",
       "    </tr>\n",
       "    <tr>\n",
       "      <th>5</th>\n",
       "      <td>Ben Lorica</td>\n",
       "      <td>5</td>\n",
       "    </tr>\n",
       "  </tbody>\n",
       "</table>\n",
       "</div>"
      ],
      "text/plain": [
       "            author  entries\n",
       "18  Nat Torkington       26\n",
       "5       Ben Lorica        5"
      ]
     },
     "execution_count": 78,
     "metadata": {},
     "output_type": "execute_result"
    }
   ],
   "source": [
    "authors = df.groupby('author', as_index=False).agg({'title':'count'})\n",
    "authors.columns = ['author', 'entries']\n",
    "authors.sort_values('entries', ascending=False).head(2)"
   ]
  },
  {
   "cell_type": "markdown",
   "metadata": {},
   "source": [
    "### 11. Add a new column to the data frame that contains the length (number of characters) of each entry title. Return a data frame that contains the title, author, and title length of each entry in descending order (longest title length at the top)."
   ]
  },
  {
   "cell_type": "code",
   "execution_count": 69,
   "metadata": {},
   "outputs": [
    {
     "data": {
      "text/html": [
       "<div>\n",
       "<style scoped>\n",
       "    .dataframe tbody tr th:only-of-type {\n",
       "        vertical-align: middle;\n",
       "    }\n",
       "\n",
       "    .dataframe tbody tr th {\n",
       "        vertical-align: top;\n",
       "    }\n",
       "\n",
       "    .dataframe thead th {\n",
       "        text-align: right;\n",
       "    }\n",
       "</style>\n",
       "<table border=\"1\" class=\"dataframe\">\n",
       "  <thead>\n",
       "    <tr style=\"text-align: right;\">\n",
       "      <th></th>\n",
       "      <th>title</th>\n",
       "      <th>author</th>\n",
       "      <th>title_length</th>\n",
       "    </tr>\n",
       "  </thead>\n",
       "  <tbody>\n",
       "    <tr>\n",
       "      <th>41</th>\n",
       "      <td>RISELab’s AutoPandas hints at automation tech ...</td>\n",
       "      <td>Ben Lorica</td>\n",
       "      <td>97</td>\n",
       "    </tr>\n",
       "    <tr>\n",
       "      <th>17</th>\n",
       "      <td>Managing machine learning in the enterprise: L...</td>\n",
       "      <td>Ben Lorica, Harish Doddi, David Talby</td>\n",
       "      <td>81</td>\n",
       "    </tr>\n",
       "    <tr>\n",
       "      <th>24</th>\n",
       "      <td>Highlights from the O'Reilly Artificial Intell...</td>\n",
       "      <td>Jenn Webb</td>\n",
       "      <td>79</td>\n",
       "    </tr>\n",
       "  </tbody>\n",
       "</table>\n",
       "</div>"
      ],
      "text/plain": [
       "                                                title  \\\n",
       "41  RISELab’s AutoPandas hints at automation tech ...   \n",
       "17  Managing machine learning in the enterprise: L...   \n",
       "24  Highlights from the O'Reilly Artificial Intell...   \n",
       "\n",
       "                                   author  title_length  \n",
       "41                             Ben Lorica            97  \n",
       "17  Ben Lorica, Harish Doddi, David Talby            81  \n",
       "24                              Jenn Webb            79  "
      ]
     },
     "execution_count": 69,
     "metadata": {},
     "output_type": "execute_result"
    }
   ],
   "source": [
    "df['title_length'] = df['title'].apply(len)\n",
    "df[['title', 'author', 'title_length']].sort_values('title_length', ascending=False).head(3)\n"
   ]
  },
  {
   "cell_type": "markdown",
   "metadata": {},
   "source": [
    "### 12. Create a list of entry titles whose summary includes the phrase \"machine learning.\""
   ]
  },
  {
   "cell_type": "code",
   "execution_count": 90,
   "metadata": {},
   "outputs": [
    {
     "data": {
      "text/html": [
       "<div>\n",
       "<style scoped>\n",
       "    .dataframe tbody tr th:only-of-type {\n",
       "        vertical-align: middle;\n",
       "    }\n",
       "\n",
       "    .dataframe tbody tr th {\n",
       "        vertical-align: top;\n",
       "    }\n",
       "\n",
       "    .dataframe thead th {\n",
       "        text-align: right;\n",
       "    }\n",
       "</style>\n",
       "<table border=\"1\" class=\"dataframe\">\n",
       "  <thead>\n",
       "    <tr style=\"text-align: right;\">\n",
       "      <th></th>\n",
       "      <th>title</th>\n",
       "      <th>summary</th>\n",
       "    </tr>\n",
       "  </thead>\n",
       "  <tbody>\n",
       "    <tr>\n",
       "      <th>0</th>\n",
       "      <td>Four short links: 22 July 2019</td>\n",
       "      <td>&lt;p&gt;&lt;em&gt;Game Source, Procurement Graph, Data Mo...</td>\n",
       "    </tr>\n",
       "    <tr>\n",
       "      <th>1</th>\n",
       "      <td>Four short links: 19 July 2019</td>\n",
       "      <td>&lt;p&gt;&lt;em&gt;Journal Mining, API Use, Better Convers...</td>\n",
       "    </tr>\n",
       "  </tbody>\n",
       "</table>\n",
       "</div>"
      ],
      "text/plain": [
       "                            title  \\\n",
       "0  Four short links: 22 July 2019   \n",
       "1  Four short links: 19 July 2019   \n",
       "\n",
       "                                             summary  \n",
       "0  <p><em>Game Source, Procurement Graph, Data Mo...  \n",
       "1  <p><em>Journal Mining, API Use, Better Convers...  "
      ]
     },
     "execution_count": 90,
     "metadata": {},
     "output_type": "execute_result"
    }
   ],
   "source": [
    "df_machine= df[['title', 'summary']]\n",
    "df_machine.head(2)"
   ]
  },
  {
   "cell_type": "code",
   "execution_count": 124,
   "metadata": {},
   "outputs": [],
   "source": [
    "dataframe=df[df['summary'].str.contains('machine learning')]"
   ]
  },
  {
   "cell_type": "code",
   "execution_count": 110,
   "metadata": {},
   "outputs": [
    {
     "data": {
      "text/plain": [
       "['Acquiring and sharing high-quality data',\n",
       " \"Highlights from the O'Reilly Open Source Software Conference in Portland 2019\",\n",
       " 'Managing machine learning in the enterprise: Lessons from banking and health care',\n",
       " \"Highlights from the O'Reilly Artificial Intelligence Conference in Beijing 2019\",\n",
       " 'The future of machine learning is tiny',\n",
       " 'Tools for machine learning development',\n",
       " 'New live online training courses',\n",
       " 'RISELab’s AutoPandas hints at automation tech that will change the nature of software development',\n",
       " 'AI and machine learning will require retraining your entire organization',\n",
       " 'Enabling end-to-end machine learning pipelines in real-world applications',\n",
       " 'What are model governance and model operations?',\n",
       " 'The quest for high-quality data']"
      ]
     },
     "execution_count": 110,
     "metadata": {},
     "output_type": "execute_result"
    }
   ],
   "source": [
    "[title for title in dataframe.title]"
   ]
  },
  {
   "cell_type": "code",
   "execution_count": 128,
   "metadata": {},
   "outputs": [
    {
     "data": {
      "text/plain": [
       "['title', 'summary']"
      ]
     },
     "execution_count": 128,
     "metadata": {},
     "output_type": "execute_result"
    }
   ],
   "source": [
    "import re\n",
    "\n",
    "machine_list=[summary for summary in df_machine if summary.find('machine learning')]\n",
    "machine_list"
   ]
  },
  {
   "cell_type": "code",
   "execution_count": null,
   "metadata": {},
   "outputs": [],
   "source": []
  }
 ],
 "metadata": {
  "kernelspec": {
   "display_name": "Python 3",
   "language": "python",
   "name": "python3"
  },
  "language_info": {
   "codemirror_mode": {
    "name": "ipython",
    "version": 3
   },
   "file_extension": ".py",
   "mimetype": "text/x-python",
   "name": "python",
   "nbconvert_exporter": "python",
   "pygments_lexer": "ipython3",
   "version": "3.7.3"
  }
 },
 "nbformat": 4,
 "nbformat_minor": 2
}
