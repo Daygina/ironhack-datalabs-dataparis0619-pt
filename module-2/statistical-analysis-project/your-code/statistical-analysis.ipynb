{
 "cells": [
  {
   "cell_type": "code",
   "execution_count": 23,
   "metadata": {},
   "outputs": [
    {
     "data": {
      "text/html": [
       "        <script type=\"text/javascript\">\n",
       "        window.PlotlyConfig = {MathJaxConfig: 'local'};\n",
       "        if (window.MathJax) {MathJax.Hub.Config({SVG: {font: \"STIX-Web\"}});}\n",
       "        if (typeof require !== 'undefined') {\n",
       "        require.undef(\"plotly\");\n",
       "        requirejs.config({\n",
       "            paths: {\n",
       "                'plotly': ['https://cdn.plot.ly/plotly-latest.min']\n",
       "            }\n",
       "        });\n",
       "        require(['plotly'], function(Plotly) {\n",
       "            window._Plotly = Plotly;\n",
       "        });\n",
       "        }\n",
       "        </script>\n",
       "        "
      ]
     },
     "metadata": {},
     "output_type": "display_data"
    }
   ],
   "source": [
    "import pandas as pd\n",
    "import numpy as np\n",
    "import matplotlib.pyplot as plt\n",
    "%matplotlib inline\n",
    "import plotly.plotly as py\n",
    "from scipy import stats\n",
    "import seaborn as sns\n",
    "import cufflinks as cf\n",
    "from ipywidgets import interact\n",
    "import plotly.tools as tls\n",
    "cf.go_offline()"
   ]
  },
  {
   "cell_type": "code",
   "execution_count": 24,
   "metadata": {},
   "outputs": [
    {
     "data": {
      "text/plain": [
       "(1460, 81)"
      ]
     },
     "execution_count": 24,
     "metadata": {},
     "output_type": "execute_result"
    }
   ],
   "source": [
    "df=pd.read_csv('../train.csv')\n",
    "df.shape"
   ]
  },
  {
   "cell_type": "code",
   "execution_count": 25,
   "metadata": {},
   "outputs": [
    {
     "data": {
      "text/html": [
       "<div>\n",
       "<style scoped>\n",
       "    .dataframe tbody tr th:only-of-type {\n",
       "        vertical-align: middle;\n",
       "    }\n",
       "\n",
       "    .dataframe tbody tr th {\n",
       "        vertical-align: top;\n",
       "    }\n",
       "\n",
       "    .dataframe thead th {\n",
       "        text-align: right;\n",
       "    }\n",
       "</style>\n",
       "<table border=\"1\" class=\"dataframe\">\n",
       "  <thead>\n",
       "    <tr style=\"text-align: right;\">\n",
       "      <th></th>\n",
       "      <th>Id</th>\n",
       "      <th>MSSubClass</th>\n",
       "      <th>MSZoning</th>\n",
       "      <th>LotFrontage</th>\n",
       "      <th>LotArea</th>\n",
       "      <th>Street</th>\n",
       "      <th>Alley</th>\n",
       "      <th>LotShape</th>\n",
       "      <th>LandContour</th>\n",
       "      <th>Utilities</th>\n",
       "      <th>...</th>\n",
       "      <th>PoolArea</th>\n",
       "      <th>PoolQC</th>\n",
       "      <th>Fence</th>\n",
       "      <th>MiscFeature</th>\n",
       "      <th>MiscVal</th>\n",
       "      <th>MoSold</th>\n",
       "      <th>YrSold</th>\n",
       "      <th>SaleType</th>\n",
       "      <th>SaleCondition</th>\n",
       "      <th>SalePrice</th>\n",
       "    </tr>\n",
       "  </thead>\n",
       "  <tbody>\n",
       "    <tr>\n",
       "      <td>0</td>\n",
       "      <td>1</td>\n",
       "      <td>60</td>\n",
       "      <td>RL</td>\n",
       "      <td>65.0</td>\n",
       "      <td>8450</td>\n",
       "      <td>Pave</td>\n",
       "      <td>NaN</td>\n",
       "      <td>Reg</td>\n",
       "      <td>Lvl</td>\n",
       "      <td>AllPub</td>\n",
       "      <td>...</td>\n",
       "      <td>0</td>\n",
       "      <td>NaN</td>\n",
       "      <td>NaN</td>\n",
       "      <td>NaN</td>\n",
       "      <td>0</td>\n",
       "      <td>2</td>\n",
       "      <td>2008</td>\n",
       "      <td>WD</td>\n",
       "      <td>Normal</td>\n",
       "      <td>208500</td>\n",
       "    </tr>\n",
       "    <tr>\n",
       "      <td>1</td>\n",
       "      <td>2</td>\n",
       "      <td>20</td>\n",
       "      <td>RL</td>\n",
       "      <td>80.0</td>\n",
       "      <td>9600</td>\n",
       "      <td>Pave</td>\n",
       "      <td>NaN</td>\n",
       "      <td>Reg</td>\n",
       "      <td>Lvl</td>\n",
       "      <td>AllPub</td>\n",
       "      <td>...</td>\n",
       "      <td>0</td>\n",
       "      <td>NaN</td>\n",
       "      <td>NaN</td>\n",
       "      <td>NaN</td>\n",
       "      <td>0</td>\n",
       "      <td>5</td>\n",
       "      <td>2007</td>\n",
       "      <td>WD</td>\n",
       "      <td>Normal</td>\n",
       "      <td>181500</td>\n",
       "    </tr>\n",
       "  </tbody>\n",
       "</table>\n",
       "<p>2 rows × 81 columns</p>\n",
       "</div>"
      ],
      "text/plain": [
       "   Id  MSSubClass MSZoning  LotFrontage  LotArea Street Alley LotShape  \\\n",
       "0   1          60       RL         65.0     8450   Pave   NaN      Reg   \n",
       "1   2          20       RL         80.0     9600   Pave   NaN      Reg   \n",
       "\n",
       "  LandContour Utilities  ... PoolArea PoolQC Fence MiscFeature MiscVal MoSold  \\\n",
       "0         Lvl    AllPub  ...        0    NaN   NaN         NaN       0      2   \n",
       "1         Lvl    AllPub  ...        0    NaN   NaN         NaN       0      5   \n",
       "\n",
       "  YrSold  SaleType  SaleCondition  SalePrice  \n",
       "0   2008        WD         Normal     208500  \n",
       "1   2007        WD         Normal     181500  \n",
       "\n",
       "[2 rows x 81 columns]"
      ]
     },
     "execution_count": 25,
     "metadata": {},
     "output_type": "execute_result"
    }
   ],
   "source": [
    "df.head(2)"
   ]
  },
  {
   "cell_type": "markdown",
   "metadata": {},
   "source": [
    "# PART 1: Explore data and understand what the fields mean. \n",
    "## Part 1.1 There are 6965  rows with Nan value. Cleaning"
   ]
  },
  {
   "cell_type": "markdown",
   "metadata": {},
   "source": [
    "Dropped all the columns, where the exist ANY NaN value:\n",
    "'Alley','MasVnrType','MasVnrArea', 'BsmtQual','BsmtCond', 'BsmtExposure', 'BsmtFinType1','Electrical', 'FireplaceQu', 'GarageType', 'GarageYrBlt', 'GarageFinish', 'GarageQual','GarageCond', 'PoolQC','Fence', 'MiscFeature'.\n",
    "\n",
    "Total 19 dropped in the dataframe : 62 remained out of 81 columns.\n",
    "Normally, I had to \"Remove columns with high proportion of missing values.\" But due to reduced time, I don't dare to explore those columns yet. Maybe sometimes later. There are still 62 columns to explore and to use.\n",
    "\n",
    "I also, played with df.dropna(thresh=2), thresh was set from 80 to 70, then decreasing to 70. Row number of 1460 remained unchanged - maybe a bug"
   ]
  },
  {
   "cell_type": "code",
   "execution_count": 33,
   "metadata": {},
   "outputs": [],
   "source": [
    "df=df.dropna(axis=1, how='any')"
   ]
  },
  {
   "cell_type": "code",
   "execution_count": 34,
   "metadata": {},
   "outputs": [
    {
     "data": {
      "text/plain": [
       "Index(['Id', 'MSSubClass', 'MSZoning', 'LotArea', 'Street', 'LotShape',\n",
       "       'LandContour', 'Utilities', 'LotConfig', 'LandSlope', 'Neighborhood',\n",
       "       'Condition1', 'Condition2', 'BldgType', 'HouseStyle', 'OverallQual',\n",
       "       'OverallCond', 'YearBuilt', 'YearRemodAdd', 'RoofStyle', 'RoofMatl',\n",
       "       'Exterior1st', 'Exterior2nd', 'ExterQual', 'ExterCond', 'Foundation',\n",
       "       'BsmtFinSF1', 'BsmtFinSF2', 'BsmtUnfSF', 'TotalBsmtSF', 'Heating',\n",
       "       'HeatingQC', 'CentralAir', '1stFlrSF', '2ndFlrSF', 'LowQualFinSF',\n",
       "       'GrLivArea', 'BsmtFullBath', 'BsmtHalfBath', 'FullBath', 'HalfBath',\n",
       "       'BedroomAbvGr', 'KitchenAbvGr', 'KitchenQual', 'TotRmsAbvGrd',\n",
       "       'Functional', 'Fireplaces', 'GarageCars', 'GarageArea', 'PavedDrive',\n",
       "       'WoodDeckSF', 'OpenPorchSF', 'EnclosedPorch', '3SsnPorch',\n",
       "       'ScreenPorch', 'PoolArea', 'MiscVal', 'MoSold', 'YrSold', 'SaleType',\n",
       "       'SaleCondition', 'SalePrice'],\n",
       "      dtype='object')"
      ]
     },
     "execution_count": 34,
     "metadata": {},
     "output_type": "execute_result"
    }
   ],
   "source": [
    "df.columns"
   ]
  },
  {
   "cell_type": "code",
   "execution_count": 35,
   "metadata": {},
   "outputs": [
    {
     "data": {
      "text/plain": [
       "(1460, 62)"
      ]
     },
     "execution_count": 35,
     "metadata": {},
     "output_type": "execute_result"
    }
   ],
   "source": [
    "df_dropped.shape"
   ]
  },
  {
   "cell_type": "code",
   "execution_count": 40,
   "metadata": {},
   "outputs": [
    {
     "data": {
      "text/plain": [
       "0"
      ]
     },
     "execution_count": 40,
     "metadata": {},
     "output_type": "execute_result"
    }
   ],
   "source": [
    "df.isnull().sum().sum()# Check that now the table contains 0 NaN value"
   ]
  },
  {
   "cell_type": "markdown",
   "metadata": {},
   "source": [
    "## Part 1.2 - Explore \"SalePrice\" Column"
   ]
  },
  {
   "cell_type": "code",
   "execution_count": 41,
   "metadata": {},
   "outputs": [
    {
     "data": {
      "text/plain": [
       "count      1460.000000\n",
       "mean     180921.195890\n",
       "std       79442.502883\n",
       "min       34900.000000\n",
       "25%      129975.000000\n",
       "50%      163000.000000\n",
       "75%      214000.000000\n",
       "max      755000.000000\n",
       "Name: SalePrice, dtype: float64"
      ]
     },
     "execution_count": 41,
     "metadata": {},
     "output_type": "execute_result"
    }
   ],
   "source": [
    "df.SalePrice.describe() "
   ]
  },
  {
   "cell_type": "code",
   "execution_count": 42,
   "metadata": {},
   "outputs": [
    {
     "data": {
      "text/plain": [
       "<matplotlib.axes._subplots.AxesSubplot at 0x217eb3a3d68>"
      ]
     },
     "execution_count": 42,
     "metadata": {},
     "output_type": "execute_result"
    },
    {
     "data": {
      "image/png": "[encoded data removed]",
      "text/plain": [
       "<Figure size 576x720 with 1 Axes>"
      ]
     },
     "metadata": {
      "needs_background": "light"
     },
     "output_type": "display_data"
    }
   ],
   "source": [
    "df.SalePrice.plot.box(figsize=(8,10))"
   ]
  },
  {
   "cell_type": "code",
   "execution_count": 43,
   "metadata": {},
   "outputs": [
    {
     "data": {
      "image/png": "[encoded data removed]",
      "text/plain": [
       "<Figure size 1440x1440 with 36 Axes>"
      ]
     },
     "metadata": {
      "needs_background": "light"
     },
     "output_type": "display_data"
    }
   ],
   "source": [
    "df.hist(bins=20, figsize=(20,20))\n",
    "plt.show()\n",
    "# Part 1.3 Have a visual support to understand other columns for my further exploratory analysis"
   ]
  },
  {
   "cell_type": "markdown",
   "metadata": {},
   "source": [
    "## Part 1. 4 - Visual representation of 'Building Type' column. "
   ]
  },
  {
   "cell_type": "code",
   "execution_count": 44,
   "metadata": {},
   "outputs": [
    {
     "data": {
      "text/plain": [
       "1Fam      1220\n",
       "TwnhsE     114\n",
       "Duplex      52\n",
       "Twnhs       43\n",
       "2fmCon      31\n",
       "Name: BldgType, dtype: int64"
      ]
     },
     "execution_count": 44,
     "metadata": {},
     "output_type": "execute_result"
    }
   ],
   "source": [
    "df.BldgType.value_counts()\n",
    "# Part 1. 4 - Visual representation of Building Type column. Out of 1460 rows there are:"
   ]
  },
  {
   "cell_type": "code",
   "execution_count": 45,
   "metadata": {
    "scrolled": true
   },
   "outputs": [],
   "source": [
    "sizes=df.BldgType.value_counts()\n",
    "labels = ['Single-family Detached', 'Townhouse End Unit', 'Duplex', 'Townhouse Inside Unit', 'Two-family Conversion']"
   ]
  },
  {
   "cell_type": "code",
   "execution_count": 46,
   "metadata": {},
   "outputs": [
    {
     "data": {
      "image/png": "[encoded data removed]",
      "text/plain": [
       "<Figure size 432x432 with 1 Axes>"
      ]
     },
     "metadata": {},
     "output_type": "display_data"
    }
   ],
   "source": [
    "explode = (0, 0.1, 0,0,0)\n",
    "fig1, ax1 = plt.subplots(figsize=[6, 6])\n",
    "plt.title('Type of buildings')\n",
    "colors = ['#ff9999','#66b3ff','#99ff99','#ffcc99', '#82684E']\n",
    "ax1.pie(sizes, labels=labels, autopct='%1.1f%%', shadow=True, startangle=190, colors=colors, explode=explode, textprops={'fontsize': 14})\n",
    "ax1.axis('equal')\n",
    "\n",
    "plt.legend(labels,loc=4)\n",
    "plt.show()"
   ]
  },
  {
   "cell_type": "markdown",
   "metadata": {},
   "source": [
    "## Part 1.4 - Conclusion\n",
    "## 83.6 % of Data concerns \"Single-Family Detached\" type of buildings. \n",
    "## Well, lets reduce the scope and explore further the data which is > 80% of entire Dataset"
   ]
  },
  {
   "cell_type": "code",
   "execution_count": 47,
   "metadata": {},
   "outputs": [
    {
     "data": {
      "text/plain": [
       "(1220, 62)"
      ]
     },
     "execution_count": 47,
     "metadata": {},
     "output_type": "execute_result"
    }
   ],
   "source": [
    "df=df[df['BldgType']=='1Fam']\n",
    "df.shape\n",
    "# There 1220 rows (83.6 %) Single Family Detached buildings sold.\n",
    "# the dataframe now contains only this type of buildings."
   ]
  },
  {
   "cell_type": "markdown",
   "metadata": {},
   "source": [
    "'''\n",
    "Checking the SalePrice in the original dataframe before filtering to 1 type of buildings. \n",
    "\n",
    "count      1460.000000\n",
    "mean     180921.195890\n",
    "std       79442.502883\n",
    "min       34900.000000\n",
    "25%      129975.000000\n",
    "50%      163000.000000\n",
    "75%      214000.000000\n",
    "max      755000.000000\n",
    "Name: SalePrice, dtype: float64\n",
    "  \n",
    "  \n",
    "  to the dataframe with single family buildings only :\n",
    "count    1220.000000  \n",
    "mean     185763.807377\n",
    "std      82648.502922 \n",
    "min      34900.000000 \n",
    "25%      131475.000000\n",
    "50%      167900.000000\n",
    "75%      222000.000000\n",
    "max      755000.000000\n",
    "Name: SalePrice, dtype: float64\n",
    "\n",
    "mean Before= 180921.19 vs After Filtering = 185763.80. Delta is 4842.61. Which is 2.7 % increase of the mean value,\n",
    "while 16.4 % of data dropped off.\n",
    "\n",
    "'''"
   ]
  },
  {
   "cell_type": "markdown",
   "metadata": {},
   "source": [
    "## Part 1.5 - MSZoning column exploration. How the price of the Sales depends on the classification of the zone"
   ]
  },
  {
   "cell_type": "markdown",
   "metadata": {},
   "source": [
    "MSZoning: Identifies the general zoning classification of the sale.\n",
    "       C\tCommercial.\n",
    "       FV\tFloating Village Residential. \n",
    "       RH\tResidential High Density.\n",
    "       RL\tResidential Low Density.\n",
    "       RM\tResidential Medium Density."
   ]
  },
  {
   "cell_type": "code",
   "execution_count": 88,
   "metadata": {},
   "outputs": [],
   "source": [
    "ZonesTable=df.groupby('MSZoning', as_index=True)['SalePrice'].agg(Minimum=np.min, Maximum=np.max, Average=np.mean).sort_values(by='Average')"
   ]
  },
  {
   "cell_type": "code",
   "execution_count": 89,
   "metadata": {},
   "outputs": [
    {
     "data": {
      "text/html": [
       "<div>\n",
       "<style scoped>\n",
       "    .dataframe tbody tr th:only-of-type {\n",
       "        vertical-align: middle;\n",
       "    }\n",
       "\n",
       "    .dataframe tbody tr th {\n",
       "        vertical-align: top;\n",
       "    }\n",
       "\n",
       "    .dataframe thead th {\n",
       "        text-align: right;\n",
       "    }\n",
       "</style>\n",
       "<table border=\"1\" class=\"dataframe\">\n",
       "  <thead>\n",
       "    <tr style=\"text-align: right;\">\n",
       "      <th></th>\n",
       "      <th>Minimum</th>\n",
       "      <th>Maximum</th>\n",
       "      <th>Average</th>\n",
       "    </tr>\n",
       "    <tr>\n",
       "      <th>MSZoning</th>\n",
       "      <th></th>\n",
       "      <th></th>\n",
       "      <th></th>\n",
       "    </tr>\n",
       "  </thead>\n",
       "  <tbody>\n",
       "    <tr>\n",
       "      <td>C (all)</td>\n",
       "      <td>34900</td>\n",
       "      <td>108000</td>\n",
       "      <td>67931.111111</td>\n",
       "    </tr>\n",
       "    <tr>\n",
       "      <td>RH</td>\n",
       "      <td>76000</td>\n",
       "      <td>159434</td>\n",
       "      <td>110770.444444</td>\n",
       "    </tr>\n",
       "    <tr>\n",
       "      <td>RM</td>\n",
       "      <td>37900</td>\n",
       "      <td>475000</td>\n",
       "      <td>125436.899281</td>\n",
       "    </tr>\n",
       "    <tr>\n",
       "      <td>RL</td>\n",
       "      <td>39300</td>\n",
       "      <td>755000</td>\n",
       "      <td>193592.266341</td>\n",
       "    </tr>\n",
       "    <tr>\n",
       "      <td>FV</td>\n",
       "      <td>176000</td>\n",
       "      <td>370878</td>\n",
       "      <td>240940.236842</td>\n",
       "    </tr>\n",
       "  </tbody>\n",
       "</table>\n",
       "</div>"
      ],
      "text/plain": [
       "          Minimum  Maximum        Average\n",
       "MSZoning                                 \n",
       "C (all)     34900   108000   67931.111111\n",
       "RH          76000   159434  110770.444444\n",
       "RM          37900   475000  125436.899281\n",
       "RL          39300   755000  193592.266341\n",
       "FV         176000   370878  240940.236842"
      ]
     },
     "execution_count": 89,
     "metadata": {},
     "output_type": "execute_result"
    }
   ],
   "source": [
    "ZonesTable"
   ]
  },
  {
   "cell_type": "code",
   "execution_count": 90,
   "metadata": {},
   "outputs": [
    {
     "data": {
      "application/vnd.plotly.v1+json": {
       "config": {
        "linkText": "Export to plot.ly",
        "plotlyServerURL": "https://plot.ly",
        "showLink": true
       },
       "data": [
        {
         "marker": {
          "color": "rgba(255, 153, 51, 0.6)",
          "line": {
           "color": "rgba(255, 153, 51, 1.0)",
           "width": 1
          }
         },
         "name": "Minimum",
         "orientation": "v",
         "text": "",
         "type": "bar",
         "uid": "bc373674-ed9c-4534-afca-bb7d0529ae62",
         "x": [
          "C (all)",
          "RH",
          "RM",
          "RL",
          "FV"
         ],
         "y": [
          34900,
          76000,
          37900,
          39300,
          176000
         ]
        },
        {
         "marker": {
          "color": "rgba(55, 128, 191, 0.6)",
          "line": {
           "color": "rgba(55, 128, 191, 1.0)",
           "width": 1
          }
         },
         "name": "Maximum",
         "orientation": "v",
         "text": "",
         "type": "bar",
         "uid": "90623f21-6180-4ebf-870f-a013c7da5be3",
         "x": [
          "C (all)",
          "RH",
          "RM",
          "RL",
          "FV"
         ],
         "y": [
          108000,
          159434,
          475000,
          755000,
          370878
         ]
        },
        {
         "marker": {
          "color": "rgba(50, 171, 96, 0.6)",
          "line": {
           "color": "rgba(50, 171, 96, 1.0)",
           "width": 1
          }
         },
         "name": "Average",
         "orientation": "v",
         "text": "",
         "type": "bar",
         "uid": "3de61cbf-133e-419e-8aa6-d39bcc44f46b",
         "x": [
          "C (all)",
          "RH",
          "RM",
          "RL",
          "FV"
         ],
         "y": [
          67931.11111111111,
          110770.44444444444,
          125436.89928057554,
          193592.2663414634,
          240940.23684210525
         ]
        }
       ],
       "layout": {
        "legend": {
         "bgcolor": "#F5F6F9",
         "font": {
          "color": "#4D5663"
         }
        },
        "paper_bgcolor": "#F5F6F9",
        "plot_bgcolor": "#F5F6F9",
        "title": {
         "font": {
          "color": "#4D5663"
         },
         "text": "Minimum, Maximum and Average Prices by Zone Classification"
        },
        "xaxis": {
         "gridcolor": "#E1E5ED",
         "showgrid": true,
         "tickfont": {
          "color": "#4D5663"
         },
         "title": {
          "font": {
           "color": "#4D5663"
          },
          "text": "Zoning Classification"
         },
         "zerolinecolor": "#E1E5ED"
        },
        "yaxis": {
         "gridcolor": "#E1E5ED",
         "showgrid": true,
         "tickfont": {
          "color": "#4D5663"
         },
         "title": {
          "font": {
           "color": "#4D5663"
          },
          "text": "Sale Price"
         },
         "zerolinecolor": "#E1E5ED"
        }
       }
      },
      "text/html": [
       "<div>\n",
       "        \n",
       "        \n",
       "            <div id=\"5384c12d-ce3a-4858-84e3-48106ea0f9f9\" class=\"plotly-graph-div\" style=\"height:525px; width:100%;\"></div>\n",
       "            <script type=\"text/javascript\">\n",
       "                require([\"plotly\"], function(Plotly) {\n",
       "                    window.PLOTLYENV=window.PLOTLYENV || {};\n",
       "                    window.PLOTLYENV.BASE_URL='https://plot.ly';\n",
       "                    \n",
       "                if (document.getElementById(\"5384c12d-ce3a-4858-84e3-48106ea0f9f9\")) {\n",
       "                    Plotly.newPlot(\n",
       "                        '5384c12d-ce3a-4858-84e3-48106ea0f9f9',\n",
       "                        [{\"marker\": {\"color\": \"rgba(255, 153, 51, 0.6)\", \"line\": {\"color\": \"rgba(255, 153, 51, 1.0)\", \"width\": 1}}, \"name\": \"Minimum\", \"orientation\": \"v\", \"text\": \"\", \"type\": \"bar\", \"uid\": \"bc373674-ed9c-4534-afca-bb7d0529ae62\", \"x\": [\"C (all)\", \"RH\", \"RM\", \"RL\", \"FV\"], \"y\": [34900, 76000, 37900, 39300, 176000]}, {\"marker\": {\"color\": \"rgba(55, 128, 191, 0.6)\", \"line\": {\"color\": \"rgba(55, 128, 191, 1.0)\", \"width\": 1}}, \"name\": \"Maximum\", \"orientation\": \"v\", \"text\": \"\", \"type\": \"bar\", \"uid\": \"90623f21-6180-4ebf-870f-a013c7da5be3\", \"x\": [\"C (all)\", \"RH\", \"RM\", \"RL\", \"FV\"], \"y\": [108000, 159434, 475000, 755000, 370878]}, {\"marker\": {\"color\": \"rgba(50, 171, 96, 0.6)\", \"line\": {\"color\": \"rgba(50, 171, 96, 1.0)\", \"width\": 1}}, \"name\": \"Average\", \"orientation\": \"v\", \"text\": \"\", \"type\": \"bar\", \"uid\": \"3de61cbf-133e-419e-8aa6-d39bcc44f46b\", \"x\": [\"C (all)\", \"RH\", \"RM\", \"RL\", \"FV\"], \"y\": [67931.11111111111, 110770.44444444444, 125436.89928057554, 193592.2663414634, 240940.23684210525]}],\n",
       "                        {\"legend\": {\"bgcolor\": \"#F5F6F9\", \"font\": {\"color\": \"#4D5663\"}}, \"paper_bgcolor\": \"#F5F6F9\", \"plot_bgcolor\": \"#F5F6F9\", \"title\": {\"font\": {\"color\": \"#4D5663\"}, \"text\": \"Minimum, Maximum and Average Prices by Zone Classification\"}, \"xaxis\": {\"gridcolor\": \"#E1E5ED\", \"showgrid\": true, \"tickfont\": {\"color\": \"#4D5663\"}, \"title\": {\"font\": {\"color\": \"#4D5663\"}, \"text\": \"Zoning Classification\"}, \"zerolinecolor\": \"#E1E5ED\"}, \"yaxis\": {\"gridcolor\": \"#E1E5ED\", \"showgrid\": true, \"tickfont\": {\"color\": \"#4D5663\"}, \"title\": {\"font\": {\"color\": \"#4D5663\"}, \"text\": \"Sale Price\"}, \"zerolinecolor\": \"#E1E5ED\"}},\n",
       "                        {\"showLink\": true, \"linkText\": \"Export to plot.ly\", \"plotlyServerURL\": \"https://plot.ly\", \"responsive\": true}\n",
       "                    ).then(function(){\n",
       "                            \n",
       "var gd = document.getElementById('5384c12d-ce3a-4858-84e3-48106ea0f9f9');\n",
       "var x = new MutationObserver(function (mutations, observer) {{\n",
       "        var display = window.getComputedStyle(gd).display;\n",
       "        if (!display || display === 'none') {{\n",
       "            console.log([gd, 'removed!']);\n",
       "            Plotly.purge(gd);\n",
       "            observer.disconnect();\n",
       "        }}\n",
       "}});\n",
       "\n",
       "// Listen for the removal of the full notebook cells\n",
       "var notebookContainer = gd.closest('#notebook-container');\n",
       "if (notebookContainer) {{\n",
       "    x.observe(notebookContainer, {childList: true});\n",
       "}}\n",
       "\n",
       "// Listen for the clearing of the current output cell\n",
       "var outputEl = gd.closest('.output');\n",
       "if (outputEl) {{\n",
       "    x.observe(outputEl, {childList: true});\n",
       "}}\n",
       "\n",
       "                        })\n",
       "                };\n",
       "                });\n",
       "            </script>\n",
       "        </div>"
      ]
     },
     "metadata": {},
     "output_type": "display_data"
    }
   ],
   "source": [
    "ZonesTable.iplot(kind='bar', xTitle='Zoning Classification', yTitle='Sale Price', \n",
    "           title='Minimum, Maximum and Average Prices by Zone Classification', filename='bar-direct-labels')"
   ]
  },
  {
   "cell_type": "markdown",
   "metadata": {},
   "source": [
    "## Part 1.6 - Neighborhood"
   ]
  },
  {
   "cell_type": "code",
   "execution_count": 93,
   "metadata": {},
   "outputs": [
    {
     "data": {
      "text/plain": [
       "Neighborhood  MSZoning\n",
       "NAmes         RL          205\n",
       "CollgCr       RL          140\n",
       "OldTown       RM           83\n",
       "Gilbert       RL           78\n",
       "Edwards       RL           78\n",
       "NWAmes        RL           71\n",
       "Sawyer        RL           67\n",
       "NridgHt       RL           55\n",
       "Crawfor       RL           45\n",
       "SawyerW       RL           43\n",
       "NoRidge       RL           41\n",
       "Somerst       FV           38\n",
       "Timber        RL           37\n",
       "Mitchel       RL           36\n",
       "BrkSide       RM           30\n",
       "ClearCr       RL           28\n",
       "BrkSide       RL           26\n",
       "IDOTRR        RM           25\n",
       "Somerst       RL           21\n",
       "SWISU         RL           19\n",
       "OldTown       RL           13\n",
       "StoneBr       RL           13\n",
       "IDOTRR        C (all)       9\n",
       "Veenker       RL            8\n",
       "SawyerW       RH            4\n",
       "SWISU         RH            3\n",
       "Edwards       RH            2\n",
       "              RM            1\n",
       "Blmngtn       RL            1\n",
       "Name: MSZoning, dtype: int64"
      ]
     },
     "execution_count": 93,
     "metadata": {},
     "output_type": "execute_result"
    }
   ],
   "source": [
    "df.groupby('Neighborhood')['MSZoning'].value_counts().sort_values(ascending=False)"
   ]
  },
  {
   "cell_type": "code",
   "execution_count": 86,
   "metadata": {},
   "outputs": [],
   "source": [
    "NeighbTable=df.groupby('Neighborhood', as_index=True)['SalePrice'].agg(Minimum=np.min, Maximum=np.max, Average=np.mean).sort_values(by='Average')"
   ]
  },
  {
   "cell_type": "code",
   "execution_count": 87,
   "metadata": {},
   "outputs": [
    {
     "data": {
      "application/vnd.plotly.v1+json": {
       "config": {
        "linkText": "Export to plot.ly",
        "plotlyServerURL": "https://plot.ly",
        "showLink": true
       },
       "data": [
        {
         "marker": {
          "color": "rgba(255, 153, 51, 0.6)",
          "line": {
           "color": "rgba(255, 153, 51, 1.0)",
           "width": 1
          }
         },
         "name": "Minimum",
         "orientation": "v",
         "text": "",
         "type": "bar",
         "uid": "173b028e-d49f-4b28-9b70-10de97b24305",
         "x": [
          "IDOTRR",
          "BrkSide",
          "Edwards",
          "OldTown",
          "Sawyer",
          "SWISU",
          "NAmes",
          "Mitchel",
          "Blmngtn",
          "NWAmes",
          "Gilbert",
          "SawyerW",
          "CollgCr",
          "Crawfor",
          "ClearCr",
          "Veenker",
          "Timber",
          "Somerst",
          "NoRidge",
          "NridgHt",
          "StoneBr"
         ],
         "y": [
          34900,
          39300,
          58500,
          37900,
          62383,
          60000,
          88000,
          84500,
          159895,
          82500,
          141000,
          76000,
          110000,
          90350,
          130000,
          162500,
          137500,
          147000,
          190000,
          214000,
          260000
         ]
        },
        {
         "marker": {
          "color": "rgba(55, 128, 191, 0.6)",
          "line": {
           "color": "rgba(55, 128, 191, 1.0)",
           "width": 1
          }
         },
         "name": "Maximum",
         "orientation": "v",
         "text": "",
         "type": "bar",
         "uid": "0bc15767-8242-45dc-bbd7-cad415746ea4",
         "x": [
          "IDOTRR",
          "BrkSide",
          "Edwards",
          "OldTown",
          "Sawyer",
          "SWISU",
          "NAmes",
          "Mitchel",
          "Blmngtn",
          "NWAmes",
          "Gilbert",
          "SawyerW",
          "CollgCr",
          "Crawfor",
          "ClearCr",
          "Veenker",
          "Timber",
          "Somerst",
          "NoRidge",
          "NridgHt",
          "StoneBr"
         ],
         "y": [
          169500,
          223500,
          320000,
          475000,
          180000,
          197000,
          345000,
          271000,
          159895,
          299800,
          377500,
          320000,
          424870,
          381000,
          328000,
          385000,
          378500,
          423000,
          755000,
          611657,
          556581
         ]
        },
        {
         "marker": {
          "color": "rgba(50, 171, 96, 0.6)",
          "line": {
           "color": "rgba(50, 171, 96, 1.0)",
           "width": 1
          }
         },
         "name": "Average",
         "orientation": "v",
         "text": "",
         "type": "bar",
         "uid": "eef59ee8-280a-47ea-86b4-000e295d6582",
         "x": [
          "IDOTRR",
          "BrkSide",
          "Edwards",
          "OldTown",
          "Sawyer",
          "SWISU",
          "NAmes",
          "Mitchel",
          "Blmngtn",
          "NWAmes",
          "Gilbert",
          "SawyerW",
          "CollgCr",
          "Crawfor",
          "ClearCr",
          "Veenker",
          "Timber",
          "Somerst",
          "NoRidge",
          "NridgHt",
          "StoneBr"
         ],
         "y": [
          101620,
          124881.69642857143,
          128402.09876543209,
          129087.59375,
          137742.28358208956,
          139494.72727272726,
          147407.4780487805,
          155153.77777777778,
          159895,
          190545.77464788733,
          193468.02564102566,
          198193.1914893617,
          201858.32857142857,
          208719.13333333333,
          212565.42857142858,
          223375,
          242606.83783783784,
          247923.40677966102,
          335295.31707317074,
          351629.41818181815,
          393267.3076923077
         ]
        }
       ],
       "layout": {
        "legend": {
         "bgcolor": "#F5F6F9",
         "font": {
          "color": "#4D5663"
         }
        },
        "paper_bgcolor": "#F5F6F9",
        "plot_bgcolor": "#F5F6F9",
        "title": {
         "font": {
          "color": "#4D5663"
         },
         "text": "Minimum, Maximum and Average Prices by Neighborhood"
        },
        "xaxis": {
         "gridcolor": "#E1E5ED",
         "showgrid": true,
         "tickfont": {
          "color": "#4D5663"
         },
         "title": {
          "font": {
           "color": "#4D5663"
          },
          "text": "Neighborhood Impact"
         },
         "zerolinecolor": "#E1E5ED"
        },
        "yaxis": {
         "gridcolor": "#E1E5ED",
         "showgrid": true,
         "tickfont": {
          "color": "#4D5663"
         },
         "title": {
          "font": {
           "color": "#4D5663"
          },
          "text": "Sale Price"
         },
         "zerolinecolor": "#E1E5ED"
        }
       }
      },
      "text/html": [
       "<div>\n",
       "        \n",
       "        \n",
       "            <div id=\"b66af94b-40cb-41cd-bc88-de072b31d231\" class=\"plotly-graph-div\" style=\"height:525px; width:100%;\"></div>\n",
       "            <script type=\"text/javascript\">\n",
       "                require([\"plotly\"], function(Plotly) {\n",
       "                    window.PLOTLYENV=window.PLOTLYENV || {};\n",
       "                    window.PLOTLYENV.BASE_URL='https://plot.ly';\n",
       "                    \n",
       "                if (document.getElementById(\"b66af94b-40cb-41cd-bc88-de072b31d231\")) {\n",
       "                    Plotly.newPlot(\n",
       "                        'b66af94b-40cb-41cd-bc88-de072b31d231',\n",
       "                        [{\"marker\": {\"color\": \"rgba(255, 153, 51, 0.6)\", \"line\": {\"color\": \"rgba(255, 153, 51, 1.0)\", \"width\": 1}}, \"name\": \"Minimum\", \"orientation\": \"v\", \"text\": \"\", \"type\": \"bar\", \"uid\": \"173b028e-d49f-4b28-9b70-10de97b24305\", \"x\": [\"IDOTRR\", \"BrkSide\", \"Edwards\", \"OldTown\", \"Sawyer\", \"SWISU\", \"NAmes\", \"Mitchel\", \"Blmngtn\", \"NWAmes\", \"Gilbert\", \"SawyerW\", \"CollgCr\", \"Crawfor\", \"ClearCr\", \"Veenker\", \"Timber\", \"Somerst\", \"NoRidge\", \"NridgHt\", \"StoneBr\"], \"y\": [34900, 39300, 58500, 37900, 62383, 60000, 88000, 84500, 159895, 82500, 141000, 76000, 110000, 90350, 130000, 162500, 137500, 147000, 190000, 214000, 260000]}, {\"marker\": {\"color\": \"rgba(55, 128, 191, 0.6)\", \"line\": {\"color\": \"rgba(55, 128, 191, 1.0)\", \"width\": 1}}, \"name\": \"Maximum\", \"orientation\": \"v\", \"text\": \"\", \"type\": \"bar\", \"uid\": \"0bc15767-8242-45dc-bbd7-cad415746ea4\", \"x\": [\"IDOTRR\", \"BrkSide\", \"Edwards\", \"OldTown\", \"Sawyer\", \"SWISU\", \"NAmes\", \"Mitchel\", \"Blmngtn\", \"NWAmes\", \"Gilbert\", \"SawyerW\", \"CollgCr\", \"Crawfor\", \"ClearCr\", \"Veenker\", \"Timber\", \"Somerst\", \"NoRidge\", \"NridgHt\", \"StoneBr\"], \"y\": [169500, 223500, 320000, 475000, 180000, 197000, 345000, 271000, 159895, 299800, 377500, 320000, 424870, 381000, 328000, 385000, 378500, 423000, 755000, 611657, 556581]}, {\"marker\": {\"color\": \"rgba(50, 171, 96, 0.6)\", \"line\": {\"color\": \"rgba(50, 171, 96, 1.0)\", \"width\": 1}}, \"name\": \"Average\", \"orientation\": \"v\", \"text\": \"\", \"type\": \"bar\", \"uid\": \"eef59ee8-280a-47ea-86b4-000e295d6582\", \"x\": [\"IDOTRR\", \"BrkSide\", \"Edwards\", \"OldTown\", \"Sawyer\", \"SWISU\", \"NAmes\", \"Mitchel\", \"Blmngtn\", \"NWAmes\", \"Gilbert\", \"SawyerW\", \"CollgCr\", \"Crawfor\", \"ClearCr\", \"Veenker\", \"Timber\", \"Somerst\", \"NoRidge\", \"NridgHt\", \"StoneBr\"], \"y\": [101620.0, 124881.69642857143, 128402.09876543209, 129087.59375, 137742.28358208956, 139494.72727272726, 147407.4780487805, 155153.77777777778, 159895.0, 190545.77464788733, 193468.02564102566, 198193.1914893617, 201858.32857142857, 208719.13333333333, 212565.42857142858, 223375.0, 242606.83783783784, 247923.40677966102, 335295.31707317074, 351629.41818181815, 393267.3076923077]}],\n",
       "                        {\"legend\": {\"bgcolor\": \"#F5F6F9\", \"font\": {\"color\": \"#4D5663\"}}, \"paper_bgcolor\": \"#F5F6F9\", \"plot_bgcolor\": \"#F5F6F9\", \"title\": {\"font\": {\"color\": \"#4D5663\"}, \"text\": \"Minimum, Maximum and Average Prices by Neighborhood\"}, \"xaxis\": {\"gridcolor\": \"#E1E5ED\", \"showgrid\": true, \"tickfont\": {\"color\": \"#4D5663\"}, \"title\": {\"font\": {\"color\": \"#4D5663\"}, \"text\": \"Neighborhood Impact\"}, \"zerolinecolor\": \"#E1E5ED\"}, \"yaxis\": {\"gridcolor\": \"#E1E5ED\", \"showgrid\": true, \"tickfont\": {\"color\": \"#4D5663\"}, \"title\": {\"font\": {\"color\": \"#4D5663\"}, \"text\": \"Sale Price\"}, \"zerolinecolor\": \"#E1E5ED\"}},\n",
       "                        {\"showLink\": true, \"linkText\": \"Export to plot.ly\", \"plotlyServerURL\": \"https://plot.ly\", \"responsive\": true}\n",
       "                    ).then(function(){\n",
       "                            \n",
       "var gd = document.getElementById('b66af94b-40cb-41cd-bc88-de072b31d231');\n",
       "var x = new MutationObserver(function (mutations, observer) {{\n",
       "        var display = window.getComputedStyle(gd).display;\n",
       "        if (!display || display === 'none') {{\n",
       "            console.log([gd, 'removed!']);\n",
       "            Plotly.purge(gd);\n",
       "            observer.disconnect();\n",
       "        }}\n",
       "}});\n",
       "\n",
       "// Listen for the removal of the full notebook cells\n",
       "var notebookContainer = gd.closest('#notebook-container');\n",
       "if (notebookContainer) {{\n",
       "    x.observe(notebookContainer, {childList: true});\n",
       "}}\n",
       "\n",
       "// Listen for the clearing of the current output cell\n",
       "var outputEl = gd.closest('.output');\n",
       "if (outputEl) {{\n",
       "    x.observe(outputEl, {childList: true});\n",
       "}}\n",
       "\n",
       "                        })\n",
       "                };\n",
       "                });\n",
       "            </script>\n",
       "        </div>"
      ]
     },
     "metadata": {},
     "output_type": "display_data"
    }
   ],
   "source": [
    "NeighbTable.iplot(kind='bar', xTitle='Neighborhood Impact', yTitle='Sale Price', \n",
    "           title='Minimum, Maximum and Average Prices by Neighborhood', filename='bar-direct-labels')"
   ]
  },
  {
   "cell_type": "code",
   "execution_count": 137,
   "metadata": {},
   "outputs": [
    {
     "data": {
      "text/plain": [
       "Id               int64  \n",
       "MSSubClass       int64  \n",
       "MSZoning         object \n",
       "LotFrontage      float64\n",
       "LotArea          int64  \n",
       "                 ...    \n",
       "MoSold           int64  \n",
       "YrSold           int64  \n",
       "SaleType         object \n",
       "SaleCondition    object \n",
       "SalePrice        int64  \n",
       "Length: 81, dtype: object"
      ]
     },
     "execution_count": 137,
     "metadata": {},
     "output_type": "execute_result"
    }
   ],
   "source": [
    "df.dtypes"
   ]
  },
  {
   "cell_type": "code",
   "execution_count": 27,
   "metadata": {},
   "outputs": [
    {
     "data": {
      "text/plain": [
       "array([5, 8, 6, 7, 4, 2, 3, 9, 1], dtype=int64)"
      ]
     },
     "execution_count": 27,
     "metadata": {},
     "output_type": "execute_result"
    }
   ],
   "source": [
    "df.OverallCond.unique()"
   ]
  },
  {
   "cell_type": "code",
   "execution_count": 128,
   "metadata": {},
   "outputs": [
    {
     "data": {
      "text/plain": [
       "array([ 60,  20,  70,  50,  45,  30,  85,  80,  75,  40, 120], dtype=int64)"
      ]
     },
     "execution_count": 128,
     "metadata": {},
     "output_type": "execute_result"
    }
   ],
   "source": [
    "df.MSSubClass.unique()"
   ]
  },
  {
   "cell_type": "code",
   "execution_count": 50,
   "metadata": {},
   "outputs": [],
   "source": [
    "# df.plot(df['OverallCond'], df['SalePrice'])"
   ]
  },
  {
   "cell_type": "code",
   "execution_count": 129,
   "metadata": {},
   "outputs": [
    {
     "data": {
      "text/plain": [
       "array(['Norm', 'Feedr', 'PosN', 'Artery', 'RRAe', 'RRAn', 'PosA', 'RRNe',\n",
       "       'RRNn'], dtype=object)"
      ]
     },
     "execution_count": 129,
     "metadata": {},
     "output_type": "execute_result"
    }
   ],
   "source": [
    "df.Condition1.unique()"
   ]
  },
  {
   "cell_type": "code",
   "execution_count": 145,
   "metadata": {},
   "outputs": [
    {
     "data": {
      "text/html": [
       "<div>\n",
       "<style scoped>\n",
       "    .dataframe tbody tr th:only-of-type {\n",
       "        vertical-align: middle;\n",
       "    }\n",
       "\n",
       "    .dataframe tbody tr th {\n",
       "        vertical-align: top;\n",
       "    }\n",
       "\n",
       "    .dataframe thead th {\n",
       "        text-align: right;\n",
       "    }\n",
       "</style>\n",
       "<table border=\"1\" class=\"dataframe\">\n",
       "  <thead>\n",
       "    <tr style=\"text-align: right;\">\n",
       "      <th></th>\n",
       "      <th>Id</th>\n",
       "      <th>MSSubClass</th>\n",
       "      <th>LotFrontage</th>\n",
       "      <th>LotArea</th>\n",
       "      <th>OverallQual</th>\n",
       "      <th>OverallCond</th>\n",
       "      <th>YearBuilt</th>\n",
       "      <th>YearRemodAdd</th>\n",
       "      <th>MasVnrArea</th>\n",
       "      <th>BsmtFinSF1</th>\n",
       "      <th>BsmtFinSF2</th>\n",
       "      <th>BsmtUnfSF</th>\n",
       "      <th>TotalBsmtSF</th>\n",
       "      <th>1stFlrSF</th>\n",
       "      <th>2ndFlrSF</th>\n",
       "      <th>LowQualFinSF</th>\n",
       "      <th>GrLivArea</th>\n",
       "      <th>BsmtFullBath</th>\n",
       "      <th>BsmtHalfBath</th>\n",
       "      <th>FullBath</th>\n",
       "      <th>HalfBath</th>\n",
       "      <th>BedroomAbvGr</th>\n",
       "      <th>KitchenAbvGr</th>\n",
       "      <th>TotRmsAbvGrd</th>\n",
       "      <th>Fireplaces</th>\n",
       "      <th>GarageYrBlt</th>\n",
       "      <th>GarageCars</th>\n",
       "      <th>GarageArea</th>\n",
       "      <th>WoodDeckSF</th>\n",
       "      <th>OpenPorchSF</th>\n",
       "      <th>EnclosedPorch</th>\n",
       "      <th>3SsnPorch</th>\n",
       "      <th>ScreenPorch</th>\n",
       "      <th>PoolArea</th>\n",
       "      <th>MiscVal</th>\n",
       "      <th>MoSold</th>\n",
       "      <th>YrSold</th>\n",
       "      <th>SalePrice</th>\n",
       "    </tr>\n",
       "  </thead>\n",
       "  <tbody>\n",
       "    <tr>\n",
       "      <td>0</td>\n",
       "      <td>1</td>\n",
       "      <td>60</td>\n",
       "      <td>65.0</td>\n",
       "      <td>8450</td>\n",
       "      <td>7</td>\n",
       "      <td>5</td>\n",
       "      <td>2003</td>\n",
       "      <td>2003</td>\n",
       "      <td>196.0</td>\n",
       "      <td>706</td>\n",
       "      <td>0</td>\n",
       "      <td>150</td>\n",
       "      <td>856</td>\n",
       "      <td>856</td>\n",
       "      <td>854</td>\n",
       "      <td>0</td>\n",
       "      <td>1710</td>\n",
       "      <td>1</td>\n",
       "      <td>0</td>\n",
       "      <td>2</td>\n",
       "      <td>1</td>\n",
       "      <td>3</td>\n",
       "      <td>1</td>\n",
       "      <td>8</td>\n",
       "      <td>0</td>\n",
       "      <td>2003.0</td>\n",
       "      <td>2</td>\n",
       "      <td>548</td>\n",
       "      <td>0</td>\n",
       "      <td>61</td>\n",
       "      <td>0</td>\n",
       "      <td>0</td>\n",
       "      <td>0</td>\n",
       "      <td>0</td>\n",
       "      <td>0</td>\n",
       "      <td>2</td>\n",
       "      <td>2008</td>\n",
       "      <td>208500</td>\n",
       "    </tr>\n",
       "    <tr>\n",
       "      <td>1</td>\n",
       "      <td>2</td>\n",
       "      <td>20</td>\n",
       "      <td>80.0</td>\n",
       "      <td>9600</td>\n",
       "      <td>6</td>\n",
       "      <td>8</td>\n",
       "      <td>1976</td>\n",
       "      <td>1976</td>\n",
       "      <td>0.0</td>\n",
       "      <td>978</td>\n",
       "      <td>0</td>\n",
       "      <td>284</td>\n",
       "      <td>1262</td>\n",
       "      <td>1262</td>\n",
       "      <td>0</td>\n",
       "      <td>0</td>\n",
       "      <td>1262</td>\n",
       "      <td>0</td>\n",
       "      <td>1</td>\n",
       "      <td>2</td>\n",
       "      <td>0</td>\n",
       "      <td>3</td>\n",
       "      <td>1</td>\n",
       "      <td>6</td>\n",
       "      <td>1</td>\n",
       "      <td>1976.0</td>\n",
       "      <td>2</td>\n",
       "      <td>460</td>\n",
       "      <td>298</td>\n",
       "      <td>0</td>\n",
       "      <td>0</td>\n",
       "      <td>0</td>\n",
       "      <td>0</td>\n",
       "      <td>0</td>\n",
       "      <td>0</td>\n",
       "      <td>5</td>\n",
       "      <td>2007</td>\n",
       "      <td>181500</td>\n",
       "    </tr>\n",
       "  </tbody>\n",
       "</table>\n",
       "</div>"
      ],
      "text/plain": [
       "   Id  MSSubClass  LotFrontage  LotArea  OverallQual  OverallCond  YearBuilt  \\\n",
       "0  1   60          65.0         8450     7            5            2003        \n",
       "1  2   20          80.0         9600     6            8            1976        \n",
       "\n",
       "   YearRemodAdd  MasVnrArea  BsmtFinSF1  BsmtFinSF2  BsmtUnfSF  TotalBsmtSF  \\\n",
       "0  2003          196.0       706         0           150        856           \n",
       "1  1976          0.0         978         0           284        1262          \n",
       "\n",
       "   1stFlrSF  2ndFlrSF  LowQualFinSF  GrLivArea  BsmtFullBath  BsmtHalfBath  \\\n",
       "0  856       854       0             1710       1             0              \n",
       "1  1262      0         0             1262       0             1              \n",
       "\n",
       "   FullBath  HalfBath  BedroomAbvGr  KitchenAbvGr  TotRmsAbvGrd  Fireplaces  \\\n",
       "0  2         1         3             1             8             0            \n",
       "1  2         0         3             1             6             1            \n",
       "\n",
       "   GarageYrBlt  GarageCars  GarageArea  WoodDeckSF  OpenPorchSF  \\\n",
       "0  2003.0       2           548         0           61            \n",
       "1  1976.0       2           460         298         0             \n",
       "\n",
       "   EnclosedPorch  3SsnPorch  ScreenPorch  PoolArea  MiscVal  MoSold  YrSold  \\\n",
       "0  0              0          0            0         0        2       2008     \n",
       "1  0              0          0            0         0        5       2007     \n",
       "\n",
       "   SalePrice  \n",
       "0  208500     \n",
       "1  181500     "
      ]
     },
     "execution_count": 145,
     "metadata": {},
     "output_type": "execute_result"
    }
   ],
   "source": [
    "df.select_dtypes(include=['float64', 'int64']).head(2)"
   ]
  },
  {
   "cell_type": "code",
   "execution_count": 165,
   "metadata": {},
   "outputs": [
    {
     "data": {
      "text/plain": [
       "<Figure size 4000x2000 with 0 Axes>"
      ]
     },
     "execution_count": 165,
     "metadata": {},
     "output_type": "execute_result"
    },
    {
     "data": {
      "text/plain": [
       "<Figure size 4000x2000 with 0 Axes>"
      ]
     },
     "metadata": {},
     "output_type": "display_data"
    }
   ],
   "source": [
    "plt.figure(figsize=(20, 10), dpi=200)\n",
    "# plt.hist( x, df['SalePrice'])"
   ]
  },
  {
   "cell_type": "code",
   "execution_count": null,
   "metadata": {},
   "outputs": [],
   "source": [
    "\n",
    "'''\n",
    "MSSubClass: Identifies the type of dwelling involved in the sale.\t\n",
    "\n",
    "        20\t1-STORY 1946 & NEWER ALL STYLES\n",
    "        30\t1-STORY 1945 & OLDER\n",
    "        40\t1-STORY W/FINISHED ATTIC ALL AGES\n",
    "        45\t1-1/2 STORY - UNFINISHED ALL AGES\n",
    "        50\t1-1/2 STORY FINISHED ALL AGES\n",
    "        60\t2-STORY 1946 & NEWER\n",
    "        70\t2-STORY 1945 & OLDER\n",
    "        75\t2-1/2 STORY ALL AGES\n",
    "        80\tSPLIT OR MULTI-LEVEL\n",
    "        85\tSPLIT FOYER\n",
    "        90\tDUPLEX - ALL STYLES AND AGES\n",
    "       120\t1-STORY PUD (Planned Unit Development) - 1946 & NEWER\n",
    "       150\t1-1/2 STORY PUD - ALL AGES\n",
    "       160\t2-STORY PUD - 1946 & NEWER\n",
    "       180\tPUD - MULTILEVEL - INCL SPLIT LEV/FOYER\n",
    "       190\t2 FAMILY CONVERSION - ALL STYLES AND AGES\n",
    "       '''"
   ]
  },
  {
   "cell_type": "code",
   "execution_count": null,
   "metadata": {},
   "outputs": [],
   "source": [
    "reduced_df=df.drop(['RoofStyle', 'RoofMatl', 'Exterior1st', 'Exterior2nd', 'MasVnrType',\n",
    "       'MasVnrArea', 'ExterQual', 'ExterCond', 'Foundation', 'BsmtQual',\n",
    "       'BsmtCond', 'BsmtExposure', 'BsmtFinType1', 'BsmtFinSF1',\n",
    "       'BsmtFinType2', 'BsmtFinSF2', 'BsmtUnfSF', 'TotalBsmtSF', 'Heating',\n",
    "       'HeatingQC', 'CentralAir', 'Electrical', '1stFlrSF', '2ndFlrSF',\n",
    "       'LowQualFinSF', 'GrLivArea', 'BsmtFullBath', 'BsmtHalfBath', 'FullBath',\n",
    "       'HalfBath','KitchenAbvGr', 'KitchenQual','TotRmsAbvGrd', 'Functional', 'Fireplaces', 'FireplaceQu', 'GarageType',\n",
    "       'GarageYrBlt', 'GarageFinish', 'GarageCars', 'GarageArea', 'GarageQual',\n",
    "       'GarageCond', 'PavedDrive', 'WoodDeckSF', 'OpenPorchSF',\n",
    "       'EnclosedPorch', '3SsnPorch', 'ScreenPorch', 'PoolArea', 'PoolQC',\n",
    "       'Fence', 'MiscFeature', 'MiscVal', 'SaleType',\n",
    "       'SaleCondition'])"
   ]
  },
  {
   "cell_type": "code",
   "execution_count": null,
   "metadata": {},
   "outputs": [],
   "source": []
  }
 ],
 "metadata": {
  "kernelspec": {
   "display_name": "Python 3",
   "language": "python",
   "name": "python3"
  },
  "language_info": {
   "codemirror_mode": {
    "name": "ipython",
    "version": 3
   },
   "file_extension": ".py",
   "mimetype": "text/x-python",
   "name": "python",
   "nbconvert_exporter": "python",
   "pygments_lexer": "ipython3",
   "version": "3.7.3"
  }
 },
 "nbformat": 4,
 "nbformat_minor": 2
}
