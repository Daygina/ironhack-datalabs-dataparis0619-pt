{
 "cells": [
  {
   "cell_type": "code",
   "execution_count": 1,
   "metadata": {},
   "outputs": [
    {
     "data": {
      "text/html": [
       "        <script type=\"text/javascript\">\n",
       "        window.PlotlyConfig = {MathJaxConfig: 'local'};\n",
       "        if (window.MathJax) {MathJax.Hub.Config({SVG: {font: \"STIX-Web\"}});}\n",
       "        if (typeof require !== 'undefined') {\n",
       "        require.undef(\"plotly\");\n",
       "        requirejs.config({\n",
       "            paths: {\n",
       "                'plotly': ['https://cdn.plot.ly/plotly-latest.min']\n",
       "            }\n",
       "        });\n",
       "        require(['plotly'], function(Plotly) {\n",
       "            window._Plotly = Plotly;\n",
       "        });\n",
       "        }\n",
       "        </script>\n",
       "        "
      ]
     },
     "metadata": {},
     "output_type": "display_data"
    }
   ],
   "source": [
    "import pandas as pd\n",
    "import numpy as np\n",
    "import seaborn as sns; sns.set(style=\"ticks\", color_codes=True)\n",
    "\n",
    "import matplotlib.pyplot as plt\n",
    "%matplotlib inline\n",
    "\n",
    "\n",
    "\n",
    "\n",
    "from scipy import stats\n",
    "import plotly.plotly as py\n",
    "import cufflinks as cf\n",
    "from ipywidgets import interact\n",
    "import plotly.tools as tls\n",
    "from scipy.cluster.hierarchy import dendrogram, linkage\n",
    "cf.go_offline()\n",
    "from statsmodels.formula.api import ols\n",
    "import statsmodels.api as sm\n",
    "from sklearn import datasets, linear_model\n",
    "from sklearn.metrics import mean_squared_error, r2_score\n",
    "import statsmodels.formula.api as smf\n",
    "import researchpy as rp\n",
    "import shapefile as shp"
   ]
  },
  {
   "cell_type": "code",
   "execution_count": 2,
   "metadata": {},
   "outputs": [
    {
     "data": {
      "text/plain": [
       "(1460, 81)"
      ]
     },
     "execution_count": 2,
     "metadata": {},
     "output_type": "execute_result"
    }
   ],
   "source": [
    "df=pd.read_csv('../train.csv')\n",
    "df.shape"
   ]
  },
  {
   "cell_type": "markdown",
   "metadata": {},
   "source": [
    "# PART 1: Explore data and understand what the fields mean. Descriptive statistics \n"
   ]
  },
  {
   "cell_type": "code",
   "execution_count": 3,
   "metadata": {},
   "outputs": [
    {
     "name": "stdout",
     "output_type": "stream",
     "text": [
      "SalePrice        1.000000\n",
      "OverallQual      0.790982\n",
      "GrLivArea        0.708624\n",
      "GarageCars       0.640409\n",
      "GarageArea       0.623431\n",
      "TotalBsmtSF      0.613581\n",
      "1stFlrSF         0.605852\n",
      "FullBath         0.560664\n",
      "TotRmsAbvGrd     0.533723\n",
      "YearBuilt        0.522897\n",
      "YearRemodAdd     0.507101\n",
      "GarageYrBlt      0.486362\n",
      "MasVnrArea       0.477493\n",
      "Fireplaces       0.466929\n",
      "BsmtFinSF1       0.386420\n",
      "LotFrontage      0.351799\n",
      "WoodDeckSF       0.324413\n",
      "2ndFlrSF         0.319334\n",
      "OpenPorchSF      0.315856\n",
      "HalfBath         0.284108\n",
      "LotArea          0.263843\n",
      "BsmtFullBath     0.227122\n",
      "BsmtUnfSF        0.214479\n",
      "BedroomAbvGr     0.168213\n",
      "ScreenPorch      0.111447\n",
      "PoolArea         0.092404\n",
      "MoSold           0.046432\n",
      "3SsnPorch        0.044584\n",
      "BsmtFinSF2      -0.011378\n",
      "BsmtHalfBath    -0.016844\n",
      "MiscVal         -0.021190\n",
      "Id              -0.021917\n",
      "LowQualFinSF    -0.025606\n",
      "YrSold          -0.028923\n",
      "OverallCond     -0.077856\n",
      "MSSubClass      -0.084284\n",
      "EnclosedPorch   -0.128578\n",
      "KitchenAbvGr    -0.135907\n",
      "Name: SalePrice, dtype: float64\n"
     ]
    }
   ],
   "source": [
    "corr = df.corr()\n",
    "print(corr['SalePrice'].sort_values(ascending=False))"
   ]
  },
  {
   "cell_type": "markdown",
   "metadata": {},
   "source": [
    "OverallQual      0.790982\n",
    "GrLivArea        0.708624\n",
    "GarageCars       0.640409\n",
    "GarageArea       0.623431\n",
    "TotalBsmtSF      0.613581\n",
    "1stFlrSF         0.605852\n",
    "FullBath         0.560664"
   ]
  },
  {
   "cell_type": "code",
   "execution_count": 8,
   "metadata": {},
   "outputs": [
    {
     "data": {
      "text/html": [
       "<div>\n",
       "<style scoped>\n",
       "    .dataframe tbody tr th:only-of-type {\n",
       "        vertical-align: middle;\n",
       "    }\n",
       "\n",
       "    .dataframe tbody tr th {\n",
       "        vertical-align: top;\n",
       "    }\n",
       "\n",
       "    .dataframe thead th {\n",
       "        text-align: right;\n",
       "    }\n",
       "</style>\n",
       "<table border=\"1\" class=\"dataframe\">\n",
       "  <thead>\n",
       "    <tr style=\"text-align: right;\">\n",
       "      <th></th>\n",
       "      <th>OverallQual</th>\n",
       "      <th>GrLivArea</th>\n",
       "      <th>GarageCars</th>\n",
       "      <th>GarageArea</th>\n",
       "      <th>TotalBsmtSF</th>\n",
       "      <th>TotalBsmtSF</th>\n",
       "      <th>SalePrice</th>\n",
       "    </tr>\n",
       "  </thead>\n",
       "  <tbody>\n",
       "    <tr>\n",
       "      <td>0</td>\n",
       "      <td>7</td>\n",
       "      <td>1710</td>\n",
       "      <td>2</td>\n",
       "      <td>548</td>\n",
       "      <td>856</td>\n",
       "      <td>856</td>\n",
       "      <td>208500</td>\n",
       "    </tr>\n",
       "    <tr>\n",
       "      <td>1</td>\n",
       "      <td>6</td>\n",
       "      <td>1262</td>\n",
       "      <td>2</td>\n",
       "      <td>460</td>\n",
       "      <td>1262</td>\n",
       "      <td>1262</td>\n",
       "      <td>181500</td>\n",
       "    </tr>\n",
       "  </tbody>\n",
       "</table>\n",
       "</div>"
      ],
      "text/plain": [
       "   OverallQual  GrLivArea  GarageCars  GarageArea  TotalBsmtSF  TotalBsmtSF  \\\n",
       "0            7       1710           2         548          856          856   \n",
       "1            6       1262           2         460         1262         1262   \n",
       "\n",
       "   SalePrice  \n",
       "0     208500  \n",
       "1     181500  "
      ]
     },
     "execution_count": 8,
     "metadata": {},
     "output_type": "execute_result"
    }
   ],
   "source": [
    "dataset=pd.DataFrame(data=df, columns=['OverallQual', 'GrLivArea', 'GarageCars','GarageArea', 'TotalBsmtSF', 'TotalBsmtSF', 'SalePrice'])\n",
    "dataset.head(2)"
   ]
  },
  {
   "cell_type": "code",
   "execution_count": 7,
   "metadata": {},
   "outputs": [
    {
     "name": "stderr",
     "output_type": "stream",
     "text": [
      "C:\\Users\\eleouetd01\\AppData\\Roaming\\Python\\Python37\\site-packages\\numpy\\core\\_methods.py:217: RuntimeWarning:\n",
      "\n",
      "Degrees of freedom <= 0 for slice\n",
      "\n",
      "C:\\Users\\eleouetd01\\AppData\\Roaming\\Python\\Python37\\site-packages\\numpy\\core\\_methods.py:209: RuntimeWarning:\n",
      "\n",
      "invalid value encountered in double_scalars\n",
      "\n",
      "C:\\Users\\eleouetd01\\AppData\\Roaming\\Python\\Python37\\site-packages\\statsmodels\\nonparametric\\kde.py:487: RuntimeWarning:\n",
      "\n",
      "invalid value encountered in true_divide\n",
      "\n",
      "C:\\Users\\eleouetd01\\AppData\\Roaming\\Python\\Python37\\site-packages\\statsmodels\\nonparametric\\kdetools.py:34: RuntimeWarning:\n",
      "\n",
      "invalid value encountered in double_scalars\n",
      "\n",
      "C:\\Users\\eleouetd01\\AppData\\Local\\Continuum\\anaconda3\\lib\\site-packages\\seaborn\\distributions.py:679: UserWarning:\n",
      "\n",
      "Passing a 2D dataset for a bivariate plot is deprecated in favor of kdeplot(x, y), and it will cause an error in future versions. Please update your code.\n",
      "\n"
     ]
    },
    {
     "ename": "ValueError",
     "evalue": "The number of observations must be larger than the number of variables.",
     "output_type": "error",
     "traceback": [
      "\u001b[1;31m---------------------------------------------------------------------------\u001b[0m",
      "\u001b[1;31mValueError\u001b[0m                                Traceback (most recent call last)",
      "\u001b[1;32m<ipython-input-7-2d46b1ca0eec>\u001b[0m in \u001b[0;36m<module>\u001b[1;34m\u001b[0m\n\u001b[0;32m      1\u001b[0m \u001b[1;31m# df= sns.load_dataset(\"df\")\u001b[0m\u001b[1;33m\u001b[0m\u001b[1;33m\u001b[0m\u001b[1;33m\u001b[0m\u001b[0m\n\u001b[1;32m----> 2\u001b[1;33m \u001b[0mg\u001b[0m \u001b[1;33m=\u001b[0m \u001b[0msns\u001b[0m\u001b[1;33m.\u001b[0m\u001b[0mpairplot\u001b[0m\u001b[1;33m(\u001b[0m\u001b[0mdataset\u001b[0m\u001b[1;33m,\u001b[0m \u001b[0mhue\u001b[0m\u001b[1;33m=\u001b[0m\u001b[1;34m\"SalePrice\"\u001b[0m\u001b[1;33m)\u001b[0m\u001b[1;33m\u001b[0m\u001b[1;33m\u001b[0m\u001b[0m\n\u001b[0m",
      "\u001b[1;32m~AppData\\Local\\Continuum\\anaconda3\\lib\\site-packages\\seaborn\\axisgrid.py\u001b[0m in \u001b[0;36mpairplot\u001b[1;34m(data, hue, hue_order, palette, vars, x_vars, y_vars, kind, diag_kind, markers, height, aspect, dropna, plot_kws, diag_kws, grid_kws, size)\u001b[0m\n\u001b[0;32m   2109\u001b[0m             \u001b[0mdiag_kws\u001b[0m\u001b[1;33m.\u001b[0m\u001b[0msetdefault\u001b[0m\u001b[1;33m(\u001b[0m\u001b[1;34m\"shade\"\u001b[0m\u001b[1;33m,\u001b[0m \u001b[1;32mTrue\u001b[0m\u001b[1;33m)\u001b[0m\u001b[1;33m\u001b[0m\u001b[1;33m\u001b[0m\u001b[0m\n\u001b[0;32m   2110\u001b[0m             \u001b[0mdiag_kws\u001b[0m\u001b[1;33m[\u001b[0m\u001b[1;34m\"legend\"\u001b[0m\u001b[1;33m]\u001b[0m \u001b[1;33m=\u001b[0m \u001b[1;32mFalse\u001b[0m\u001b[1;33m\u001b[0m\u001b[1;33m\u001b[0m\u001b[0m\n\u001b[1;32m-> 2111\u001b[1;33m             \u001b[0mgrid\u001b[0m\u001b[1;33m.\u001b[0m\u001b[0mmap_diag\u001b[0m\u001b[1;33m(\u001b[0m\u001b[0mkdeplot\u001b[0m\u001b[1;33m,\u001b[0m \u001b[1;33m**\u001b[0m\u001b[0mdiag_kws\u001b[0m\u001b[1;33m)\u001b[0m\u001b[1;33m\u001b[0m\u001b[1;33m\u001b[0m\u001b[0m\n\u001b[0m\u001b[0;32m   2112\u001b[0m \u001b[1;33m\u001b[0m\u001b[0m\n\u001b[0;32m   2113\u001b[0m     \u001b[1;31m# Maybe plot on the off-diagonals\u001b[0m\u001b[1;33m\u001b[0m\u001b[1;33m\u001b[0m\u001b[1;33m\u001b[0m\u001b[0m\n",
      "\u001b[1;32m~AppData\\Local\\Continuum\\anaconda3\\lib\\site-packages\\seaborn\\axisgrid.py\u001b[0m in \u001b[0;36mmap_diag\u001b[1;34m(self, func, **kwargs)\u001b[0m\n\u001b[0;32m   1397\u001b[0m                     \u001b[0mcolor\u001b[0m \u001b[1;33m=\u001b[0m \u001b[0mfixed_color\u001b[0m\u001b[1;33m\u001b[0m\u001b[1;33m\u001b[0m\u001b[0m\n\u001b[0;32m   1398\u001b[0m \u001b[1;33m\u001b[0m\u001b[0m\n\u001b[1;32m-> 1399\u001b[1;33m                 \u001b[0mfunc\u001b[0m\u001b[1;33m(\u001b[0m\u001b[0mdata_k\u001b[0m\u001b[1;33m,\u001b[0m \u001b[0mlabel\u001b[0m\u001b[1;33m=\u001b[0m\u001b[0mlabel_k\u001b[0m\u001b[1;33m,\u001b[0m \u001b[0mcolor\u001b[0m\u001b[1;33m=\u001b[0m\u001b[0mcolor\u001b[0m\u001b[1;33m,\u001b[0m \u001b[1;33m**\u001b[0m\u001b[0mkwargs\u001b[0m\u001b[1;33m)\u001b[0m\u001b[1;33m\u001b[0m\u001b[1;33m\u001b[0m\u001b[0m\n\u001b[0m\u001b[0;32m   1400\u001b[0m \u001b[1;33m\u001b[0m\u001b[0m\n\u001b[0;32m   1401\u001b[0m             \u001b[0mself\u001b[0m\u001b[1;33m.\u001b[0m\u001b[0m_clean_axis\u001b[0m\u001b[1;33m(\u001b[0m\u001b[0max\u001b[0m\u001b[1;33m)\u001b[0m\u001b[1;33m\u001b[0m\u001b[1;33m\u001b[0m\u001b[0m\n",
      "\u001b[1;32m~AppData\\Local\\Continuum\\anaconda3\\lib\\site-packages\\seaborn\\distributions.py\u001b[0m in \u001b[0;36mkdeplot\u001b[1;34m(data, data2, shade, vertical, kernel, bw, gridsize, cut, clip, legend, cumulative, shade_lowest, cbar, cbar_ax, cbar_kws, ax, **kwargs)\u001b[0m\n\u001b[0;32m    685\u001b[0m         ax = _bivariate_kdeplot(x, y, shade, shade_lowest,\n\u001b[0;32m    686\u001b[0m                                 \u001b[0mkernel\u001b[0m\u001b[1;33m,\u001b[0m \u001b[0mbw\u001b[0m\u001b[1;33m,\u001b[0m \u001b[0mgridsize\u001b[0m\u001b[1;33m,\u001b[0m \u001b[0mcut\u001b[0m\u001b[1;33m,\u001b[0m \u001b[0mclip\u001b[0m\u001b[1;33m,\u001b[0m \u001b[0mlegend\u001b[0m\u001b[1;33m,\u001b[0m\u001b[1;33m\u001b[0m\u001b[1;33m\u001b[0m\u001b[0m\n\u001b[1;32m--> 687\u001b[1;33m                                 cbar, cbar_ax, cbar_kws, ax, **kwargs)\n\u001b[0m\u001b[0;32m    688\u001b[0m     \u001b[1;32melse\u001b[0m\u001b[1;33m:\u001b[0m\u001b[1;33m\u001b[0m\u001b[1;33m\u001b[0m\u001b[0m\n\u001b[0;32m    689\u001b[0m         ax = _univariate_kdeplot(data, shade, vertical, kernel, bw,\n",
      "\u001b[1;32m~AppData\\Local\\Continuum\\anaconda3\\lib\\site-packages\\seaborn\\distributions.py\u001b[0m in \u001b[0;36m_bivariate_kdeplot\u001b[1;34m(x, y, filled, fill_lowest, kernel, bw, gridsize, cut, clip, axlabel, cbar, cbar_ax, cbar_kws, ax, **kwargs)\u001b[0m\n\u001b[0;32m    391\u001b[0m     \u001b[1;31m# Calculate the KDE\u001b[0m\u001b[1;33m\u001b[0m\u001b[1;33m\u001b[0m\u001b[1;33m\u001b[0m\u001b[0m\n\u001b[0;32m    392\u001b[0m     \u001b[1;32mif\u001b[0m \u001b[0m_has_statsmodels\u001b[0m\u001b[1;33m:\u001b[0m\u001b[1;33m\u001b[0m\u001b[1;33m\u001b[0m\u001b[0m\n\u001b[1;32m--> 393\u001b[1;33m         \u001b[0mxx\u001b[0m\u001b[1;33m,\u001b[0m \u001b[0myy\u001b[0m\u001b[1;33m,\u001b[0m \u001b[0mz\u001b[0m \u001b[1;33m=\u001b[0m \u001b[0m_statsmodels_bivariate_kde\u001b[0m\u001b[1;33m(\u001b[0m\u001b[0mx\u001b[0m\u001b[1;33m,\u001b[0m \u001b[0my\u001b[0m\u001b[1;33m,\u001b[0m \u001b[0mbw\u001b[0m\u001b[1;33m,\u001b[0m \u001b[0mgridsize\u001b[0m\u001b[1;33m,\u001b[0m \u001b[0mcut\u001b[0m\u001b[1;33m,\u001b[0m \u001b[0mclip\u001b[0m\u001b[1;33m)\u001b[0m\u001b[1;33m\u001b[0m\u001b[1;33m\u001b[0m\u001b[0m\n\u001b[0m\u001b[0;32m    394\u001b[0m     \u001b[1;32melse\u001b[0m\u001b[1;33m:\u001b[0m\u001b[1;33m\u001b[0m\u001b[1;33m\u001b[0m\u001b[0m\n\u001b[0;32m    395\u001b[0m         \u001b[0mxx\u001b[0m\u001b[1;33m,\u001b[0m \u001b[0myy\u001b[0m\u001b[1;33m,\u001b[0m \u001b[0mz\u001b[0m \u001b[1;33m=\u001b[0m \u001b[0m_scipy_bivariate_kde\u001b[0m\u001b[1;33m(\u001b[0m\u001b[0mx\u001b[0m\u001b[1;33m,\u001b[0m \u001b[0my\u001b[0m\u001b[1;33m,\u001b[0m \u001b[0mbw\u001b[0m\u001b[1;33m,\u001b[0m \u001b[0mgridsize\u001b[0m\u001b[1;33m,\u001b[0m \u001b[0mcut\u001b[0m\u001b[1;33m,\u001b[0m \u001b[0mclip\u001b[0m\u001b[1;33m)\u001b[0m\u001b[1;33m\u001b[0m\u001b[1;33m\u001b[0m\u001b[0m\n",
      "\u001b[1;32m~AppData\\Local\\Continuum\\anaconda3\\lib\\site-packages\\seaborn\\distributions.py\u001b[0m in \u001b[0;36m_statsmodels_bivariate_kde\u001b[1;34m(x, y, bw, gridsize, cut, clip)\u001b[0m\n\u001b[0;32m    461\u001b[0m         \u001b[0my\u001b[0m \u001b[1;33m=\u001b[0m \u001b[0my\u001b[0m\u001b[1;33m.\u001b[0m\u001b[0mvalues\u001b[0m\u001b[1;33m\u001b[0m\u001b[1;33m\u001b[0m\u001b[0m\n\u001b[0;32m    462\u001b[0m \u001b[1;33m\u001b[0m\u001b[0m\n\u001b[1;32m--> 463\u001b[1;33m     \u001b[0mkde\u001b[0m \u001b[1;33m=\u001b[0m \u001b[0msmnp\u001b[0m\u001b[1;33m.\u001b[0m\u001b[0mKDEMultivariate\u001b[0m\u001b[1;33m(\u001b[0m\u001b[1;33m[\u001b[0m\u001b[0mx\u001b[0m\u001b[1;33m,\u001b[0m \u001b[0my\u001b[0m\u001b[1;33m]\u001b[0m\u001b[1;33m,\u001b[0m \u001b[1;34m\"cc\"\u001b[0m\u001b[1;33m,\u001b[0m \u001b[0mbw\u001b[0m\u001b[1;33m)\u001b[0m\u001b[1;33m\u001b[0m\u001b[1;33m\u001b[0m\u001b[0m\n\u001b[0m\u001b[0;32m    464\u001b[0m     \u001b[0mx_support\u001b[0m \u001b[1;33m=\u001b[0m \u001b[0m_kde_support\u001b[0m\u001b[1;33m(\u001b[0m\u001b[0mx\u001b[0m\u001b[1;33m,\u001b[0m \u001b[0mkde\u001b[0m\u001b[1;33m.\u001b[0m\u001b[0mbw\u001b[0m\u001b[1;33m[\u001b[0m\u001b[1;36m0\u001b[0m\u001b[1;33m]\u001b[0m\u001b[1;33m,\u001b[0m \u001b[0mgridsize\u001b[0m\u001b[1;33m,\u001b[0m \u001b[0mcut\u001b[0m\u001b[1;33m,\u001b[0m \u001b[0mclip\u001b[0m\u001b[1;33m[\u001b[0m\u001b[1;36m0\u001b[0m\u001b[1;33m]\u001b[0m\u001b[1;33m)\u001b[0m\u001b[1;33m\u001b[0m\u001b[1;33m\u001b[0m\u001b[0m\n\u001b[0;32m    465\u001b[0m     \u001b[0my_support\u001b[0m \u001b[1;33m=\u001b[0m \u001b[0m_kde_support\u001b[0m\u001b[1;33m(\u001b[0m\u001b[0my\u001b[0m\u001b[1;33m,\u001b[0m \u001b[0mkde\u001b[0m\u001b[1;33m.\u001b[0m\u001b[0mbw\u001b[0m\u001b[1;33m[\u001b[0m\u001b[1;36m1\u001b[0m\u001b[1;33m]\u001b[0m\u001b[1;33m,\u001b[0m \u001b[0mgridsize\u001b[0m\u001b[1;33m,\u001b[0m \u001b[0mcut\u001b[0m\u001b[1;33m,\u001b[0m \u001b[0mclip\u001b[0m\u001b[1;33m[\u001b[0m\u001b[1;36m1\u001b[0m\u001b[1;33m]\u001b[0m\u001b[1;33m)\u001b[0m\u001b[1;33m\u001b[0m\u001b[1;33m\u001b[0m\u001b[0m\n",
      "\u001b[1;32m~AppData\\Roaming\\Python\\Python37\\site-packages\\statsmodels\\nonparametric\\kernel_density.py\u001b[0m in \u001b[0;36m__init__\u001b[1;34m(self, data, var_type, bw, defaults)\u001b[0m\n\u001b[0;32m    109\u001b[0m         \u001b[0mself\u001b[0m\u001b[1;33m.\u001b[0m\u001b[0mnobs\u001b[0m\u001b[1;33m,\u001b[0m \u001b[0mself\u001b[0m\u001b[1;33m.\u001b[0m\u001b[0mk_vars\u001b[0m \u001b[1;33m=\u001b[0m \u001b[0mnp\u001b[0m\u001b[1;33m.\u001b[0m\u001b[0mshape\u001b[0m\u001b[1;33m(\u001b[0m\u001b[0mself\u001b[0m\u001b[1;33m.\u001b[0m\u001b[0mdata\u001b[0m\u001b[1;33m)\u001b[0m\u001b[1;33m\u001b[0m\u001b[1;33m\u001b[0m\u001b[0m\n\u001b[0;32m    110\u001b[0m         \u001b[1;32mif\u001b[0m \u001b[0mself\u001b[0m\u001b[1;33m.\u001b[0m\u001b[0mnobs\u001b[0m \u001b[1;33m<=\u001b[0m \u001b[0mself\u001b[0m\u001b[1;33m.\u001b[0m\u001b[0mk_vars\u001b[0m\u001b[1;33m:\u001b[0m\u001b[1;33m\u001b[0m\u001b[1;33m\u001b[0m\u001b[0m\n\u001b[1;32m--> 111\u001b[1;33m             raise ValueError(\"The number of observations must be larger \" \\\n\u001b[0m\u001b[0;32m    112\u001b[0m                              \"than the number of variables.\")\n\u001b[0;32m    113\u001b[0m         \u001b[0mdefaults\u001b[0m \u001b[1;33m=\u001b[0m \u001b[0mEstimatorSettings\u001b[0m\u001b[1;33m(\u001b[0m\u001b[1;33m)\u001b[0m \u001b[1;32mif\u001b[0m \u001b[0mdefaults\u001b[0m \u001b[1;32mis\u001b[0m \u001b[1;32mNone\u001b[0m \u001b[1;32melse\u001b[0m \u001b[0mdefaults\u001b[0m\u001b[1;33m\u001b[0m\u001b[1;33m\u001b[0m\u001b[0m\n",
      "\u001b[1;31mValueError\u001b[0m: The number of observations must be larger than the number of variables."
     ]
    },
    {
     "data": {
      "image/png": "[encoded data removed]",
      "text/plain": [
       "<Figure size 1260x1260 with 56 Axes>"
      ]
     },
     "metadata": {
      "needs_background": "light"
     },
     "output_type": "display_data"
    }
   ],
   "source": [
    "# df= sns.load_dataset(\"df\")\n",
    "g = sns.pairplot(dataset, hue=\"SalePrice\")"
   ]
  },
  {
   "cell_type": "code",
   "execution_count": 9,
   "metadata": {},
   "outputs": [
    {
     "data": {
      "text/html": [
       "<div>\n",
       "<style scoped>\n",
       "    .dataframe tbody tr th:only-of-type {\n",
       "        vertical-align: middle;\n",
       "    }\n",
       "\n",
       "    .dataframe tbody tr th {\n",
       "        vertical-align: top;\n",
       "    }\n",
       "\n",
       "    .dataframe thead th {\n",
       "        text-align: right;\n",
       "    }\n",
       "</style>\n",
       "<table border=\"1\" class=\"dataframe\">\n",
       "  <thead>\n",
       "    <tr style=\"text-align: right;\">\n",
       "      <th></th>\n",
       "      <th>Missing Ratio</th>\n",
       "    </tr>\n",
       "  </thead>\n",
       "  <tbody>\n",
       "    <tr>\n",
       "      <td>PoolQC</td>\n",
       "      <td>99.520548</td>\n",
       "    </tr>\n",
       "    <tr>\n",
       "      <td>MiscFeature</td>\n",
       "      <td>96.301370</td>\n",
       "    </tr>\n",
       "    <tr>\n",
       "      <td>Alley</td>\n",
       "      <td>93.767123</td>\n",
       "    </tr>\n",
       "    <tr>\n",
       "      <td>Fence</td>\n",
       "      <td>80.753425</td>\n",
       "    </tr>\n",
       "    <tr>\n",
       "      <td>FireplaceQu</td>\n",
       "      <td>47.260274</td>\n",
       "    </tr>\n",
       "    <tr>\n",
       "      <td>LotFrontage</td>\n",
       "      <td>17.739726</td>\n",
       "    </tr>\n",
       "    <tr>\n",
       "      <td>GarageYrBlt</td>\n",
       "      <td>5.547945</td>\n",
       "    </tr>\n",
       "    <tr>\n",
       "      <td>GarageType</td>\n",
       "      <td>5.547945</td>\n",
       "    </tr>\n",
       "    <tr>\n",
       "      <td>GarageFinish</td>\n",
       "      <td>5.547945</td>\n",
       "    </tr>\n",
       "    <tr>\n",
       "      <td>GarageQual</td>\n",
       "      <td>5.547945</td>\n",
       "    </tr>\n",
       "  </tbody>\n",
       "</table>\n",
       "</div>"
      ],
      "text/plain": [
       "              Missing Ratio\n",
       "PoolQC            99.520548\n",
       "MiscFeature       96.301370\n",
       "Alley             93.767123\n",
       "Fence             80.753425\n",
       "FireplaceQu       47.260274\n",
       "LotFrontage       17.739726\n",
       "GarageYrBlt        5.547945\n",
       "GarageType         5.547945\n",
       "GarageFinish       5.547945\n",
       "GarageQual         5.547945"
      ]
     },
     "execution_count": 9,
     "metadata": {},
     "output_type": "execute_result"
    }
   ],
   "source": [
    "\n",
    "\n",
    "# Finding all the missing values in the dataset and then calculating the missing ratio of each feature\n",
    "all_data = (df.isnull().sum() / len(df)) * 100\n",
    "all_data = all_data.drop(all_data[all_data == 0].index).sort_values(ascending=False)[:30]\n",
    "missing_data = pd.DataFrame({'Missing Ratio' :all_data})\n",
    "missing_data.head(10)\n",
    "\n"
   ]
  },
  {
   "cell_type": "code",
   "execution_count": null,
   "metadata": {},
   "outputs": [],
   "source": []
  },
  {
   "cell_type": "code",
   "execution_count": 13,
   "metadata": {},
   "outputs": [
    {
     "data": {
      "image/png": "[encoded data removed]",
      "text/plain": [
       "<Figure size 864x288 with 1 Axes>"
      ]
     },
     "metadata": {
      "needs_background": "light"
     },
     "output_type": "display_data"
    }
   ],
   "source": [
    "# Plotting the missing ratio of data by feature\n",
    "f, ax = plt.subplots(figsize=(12, 4))\n",
    "sns.barplot(x=all_data.index, y=all_data)\n",
    "plt.xlabel('Features', fontsize=15)\n",
    "plt.ylabel('Percent of missing values', fontsize=15)\n",
    "plt.title('Percent missing data by feature', fontsize=15)\n",
    "plt.xticks(rotation='90')\n",
    "plt.show()"
   ]
  },
  {
   "cell_type": "code",
   "execution_count": 12,
   "metadata": {},
   "outputs": [
    {
     "data": {
      "image/png": "[encoded data removed]",
      "text/plain": [
       "<Figure size 432x288 with 1 Axes>"
      ]
     },
     "metadata": {
      "needs_background": "light"
     },
     "output_type": "display_data"
    }
   ],
   "source": [
    "# regplot of GrLivArea/SalePrice\n",
    "ax = sns.regplot(x=df['GrLivArea'], y=df['SalePrice'])\n",
    "plt.ylabel('Sale Price', fontsize= 15)\n",
    "plt.xlabel('Ground Living Area', fontsize= 15)\n",
    "plt.title('Figure 3 - regplot of the GrLivArea with the SalePrice', fontsize= 12)\n",
    "plt.show()"
   ]
  },
  {
   "cell_type": "code",
   "execution_count": 17,
   "metadata": {},
   "outputs": [
    {
     "data": {
      "text/plain": [
       "1453"
      ]
     },
     "execution_count": 17,
     "metadata": {},
     "output_type": "execute_result"
    }
   ],
   "source": [
    "df[\"PoolQC\"].isnull().sum()"
   ]
  },
  {
   "cell_type": "code",
   "execution_count": 21,
   "metadata": {},
   "outputs": [
    {
     "data": {
      "text/plain": [
       "array(['None', 'Ex', 'Fa', 'Gd'], dtype=object)"
      ]
     },
     "execution_count": 21,
     "metadata": {},
     "output_type": "execute_result"
    }
   ],
   "source": [
    "df[\"PoolQC\"].unique()"
   ]
  },
  {
   "cell_type": "code",
   "execution_count": 19,
   "metadata": {},
   "outputs": [],
   "source": [
    "df[\"PoolQC\"] = df[\"PoolQC\"].fillna(\"None\")"
   ]
  },
  {
   "cell_type": "code",
   "execution_count": 20,
   "metadata": {},
   "outputs": [
    {
     "data": {
      "text/plain": [
       "0"
      ]
     },
     "execution_count": 20,
     "metadata": {},
     "output_type": "execute_result"
    }
   ],
   "source": [
    "df[\"PoolQC\"].isnull().sum()"
   ]
  },
  {
   "cell_type": "code",
   "execution_count": 24,
   "metadata": {},
   "outputs": [
    {
     "data": {
      "text/plain": [
       "array([nan, 'Shed', 'Gar2', 'Othr', 'TenC'], dtype=object)"
      ]
     },
     "execution_count": 24,
     "metadata": {},
     "output_type": "execute_result"
    }
   ],
   "source": [
    "df[\"MiscFeature\"].unique()"
   ]
  },
  {
   "cell_type": "code",
   "execution_count": 25,
   "metadata": {},
   "outputs": [
    {
     "data": {
      "text/plain": [
       "1406"
      ]
     },
     "execution_count": 25,
     "metadata": {},
     "output_type": "execute_result"
    }
   ],
   "source": [
    "df[\"MiscFeature\"].isnull().sum()"
   ]
  },
  {
   "cell_type": "code",
   "execution_count": 30,
   "metadata": {},
   "outputs": [
    {
     "data": {
      "text/plain": [
       "0"
      ]
     },
     "execution_count": 30,
     "metadata": {},
     "output_type": "execute_result"
    }
   ],
   "source": [
    "df[\"MiscFeature\"] = df[\"MiscFeature\"].fillna(\"None\")\n",
    "df[\"MiscFeature\"].isnull().sum()"
   ]
  },
  {
   "cell_type": "code",
   "execution_count": 32,
   "metadata": {},
   "outputs": [
    {
     "ename": "NameError",
     "evalue": "name 'data_aux' is not defined",
     "output_type": "error",
     "traceback": [
      "\u001b[1;31m---------------------------------------------------------------------------\u001b[0m",
      "\u001b[1;31mNameError\u001b[0m                                 Traceback (most recent call last)",
      "\u001b[1;32m<ipython-input-32-76faa64f1c08>\u001b[0m in \u001b[0;36m<module>\u001b[1;34m\u001b[0m\n\u001b[0;32m      1\u001b[0m \u001b[1;31m#LandSlope: Slope of property\u001b[0m\u001b[1;33m\u001b[0m\u001b[1;33m\u001b[0m\u001b[1;33m\u001b[0m\u001b[0m\n\u001b[0;32m      2\u001b[0m \u001b[0mlandslope_map\u001b[0m \u001b[1;33m=\u001b[0m \u001b[1;33m{\u001b[0m\u001b[1;34m'Gtl'\u001b[0m\u001b[1;33m:\u001b[0m\u001b[1;34m'6'\u001b[0m\u001b[1;33m,\u001b[0m\u001b[1;34m'Mod'\u001b[0m\u001b[1;33m:\u001b[0m\u001b[1;34m'4'\u001b[0m\u001b[1;33m,\u001b[0m\u001b[1;34m'Sev'\u001b[0m\u001b[1;33m:\u001b[0m\u001b[1;34m'2'\u001b[0m\u001b[1;33m}\u001b[0m\u001b[1;33m\u001b[0m\u001b[1;33m\u001b[0m\u001b[0m\n\u001b[1;32m----> 3\u001b[1;33m \u001b[0mdata_aux\u001b[0m\u001b[1;33m.\u001b[0m\u001b[0mLandSlope\u001b[0m \u001b[1;33m=\u001b[0m \u001b[0mdata_aux\u001b[0m\u001b[1;33m.\u001b[0m\u001b[0mLandSlope\u001b[0m\u001b[1;33m.\u001b[0m\u001b[0mmap\u001b[0m\u001b[1;33m(\u001b[0m\u001b[0mlandslope_map\u001b[0m\u001b[1;33m)\u001b[0m\u001b[1;33m\u001b[0m\u001b[1;33m\u001b[0m\u001b[0m\n\u001b[0m\u001b[0;32m      4\u001b[0m \u001b[0mdata_aux\u001b[0m\u001b[1;33m.\u001b[0m\u001b[0mLandSlope\u001b[0m \u001b[1;33m=\u001b[0m \u001b[0mdata_aux\u001b[0m\u001b[1;33m.\u001b[0m\u001b[0mLandSlope\u001b[0m\u001b[1;33m.\u001b[0m\u001b[0mastype\u001b[0m\u001b[1;33m(\u001b[0m\u001b[1;34m'int64'\u001b[0m\u001b[1;33m)\u001b[0m\u001b[1;33m\u001b[0m\u001b[1;33m\u001b[0m\u001b[0m\n",
      "\u001b[1;31mNameError\u001b[0m: name 'data_aux' is not defined"
     ]
    }
   ],
   "source": [
    "#LandSlope: Slope of property\n",
    "landslope_map = {'Gtl':'6','Mod':'4','Sev':'2'}\n",
    "data_aux.LandSlope = data_aux.LandSlope.map(landslope_map)\n",
    "data_aux.LandSlope = data_aux.LandSlope.astype('int64')"
   ]
  },
  {
   "cell_type": "markdown",
   "metadata": {},
   "source": [
    "\n",
    "# There are 6965  cells with Nan value. Cleaning\n"
   ]
  },
  {
   "cell_type": "markdown",
   "metadata": {},
   "source": [
    "Try to represent the NAN columns visually and replace the Na Values by 0, 1 where possible - TBC"
   ]
  },
  {
   "cell_type": "markdown",
   "metadata": {},
   "source": [
    "## Part 1.4 - Explore \"SalePrice\" Column"
   ]
  },
  {
   "cell_type": "markdown",
   "metadata": {},
   "source": [
    "\n",
    "    Skewness\n",
    "        It is the degree of distortion from the symmetrical bell curve or the normal distribution. It measures the lack of symmetry in data distribution. It differentiates extreme values in one versus the other tail. A symmetrical distribution will have a skewness of 0.\n",
    "    Kurtosis\n",
    "        Kurtosis is all about the tails of the distribution — not the peakedness or flatness. It is used to describe the extreme values in one versus the other tail. It is actually the measure of outliers present in the distribution.\n"
   ]
  },
  {
   "cell_type": "code",
   "execution_count": 13,
   "metadata": {},
   "outputs": [
    {
     "name": "stdout",
     "output_type": "stream",
     "text": [
      "Skewness: 1.882876\n",
      "Kurtosis: 6.536282\n"
     ]
    }
   ],
   "source": [
    "print('Skewness: %f' % df['SalePrice'].skew())\n",
    "print('Kurtosis: %f' % df['SalePrice'].kurt())"
   ]
  },
  {
   "cell_type": "code",
   "execution_count": 14,
   "metadata": {},
   "outputs": [
    {
     "data": {
      "text/plain": [
       "count      1460.000000\n",
       "mean     180921.195890\n",
       "std       79442.502883\n",
       "min       34900.000000\n",
       "25%      129975.000000\n",
       "50%      163000.000000\n",
       "75%      214000.000000\n",
       "max      755000.000000\n",
       "Name: SalePrice, dtype: float64"
      ]
     },
     "execution_count": 14,
     "metadata": {},
     "output_type": "execute_result"
    }
   ],
   "source": [
    "df.SalePrice.describe() "
   ]
  },
  {
   "cell_type": "code",
   "execution_count": 15,
   "metadata": {},
   "outputs": [
    {
     "data": {
      "text/plain": [
       "<matplotlib.axes._subplots.AxesSubplot at 0x1cee93c6e48>"
      ]
     },
     "execution_count": 15,
     "metadata": {},
     "output_type": "execute_result"
    },
    {
     "data": {
      "image/png": "[encoded data removed]",
      "text/plain": [
       "<Figure size 432x432 with 1 Axes>"
      ]
     },
     "metadata": {
      "needs_background": "light"
     },
     "output_type": "display_data"
    }
   ],
   "source": [
    "df.SalePrice.describe().plot.barh(figsize=(6,6), fontsize=10)"
   ]
  },
  {
   "cell_type": "markdown",
   "metadata": {},
   "source": [
    "## Part 1.5- Look on all the numeric columns"
   ]
  },
  {
   "cell_type": "code",
   "execution_count": 16,
   "metadata": {},
   "outputs": [],
   "source": [
    "# sns.pairplot later\n",
    "# # Try to scatter multiple linear regression later"
   ]
  },
  {
   "cell_type": "markdown",
   "metadata": {},
   "source": [
    "## Part 1.7 - MSZoning column exploration. How the price of the Sales depends on the classification of the zone"
   ]
  },
  {
   "cell_type": "markdown",
   "metadata": {},
   "source": [
    "MSZoning: Identifies the general zoning classification of the sale.\n",
    "       C\tCommercial.\n",
    "       FV\tFloating Village Residential. \n",
    "       RH\tResidential High Density.\n",
    "       RL\tResidential Low Density.\n",
    "       RM\tResidential Medium Density."
   ]
  },
  {
   "cell_type": "code",
   "execution_count": 18,
   "metadata": {},
   "outputs": [],
   "source": [
    "ZonesTable=df.groupby('MSZoning', as_index=True)['SalePrice'].agg(Minimum=np.min, Maximum=np.max, Average=np.mean).sort_values(by='Average')"
   ]
  },
  {
   "cell_type": "code",
   "execution_count": 19,
   "metadata": {},
   "outputs": [
    {
     "data": {
      "text/html": [
       "<div>\n",
       "<style scoped>\n",
       "    .dataframe tbody tr th:only-of-type {\n",
       "        vertical-align: middle;\n",
       "    }\n",
       "\n",
       "    .dataframe tbody tr th {\n",
       "        vertical-align: top;\n",
       "    }\n",
       "\n",
       "    .dataframe thead th {\n",
       "        text-align: right;\n",
       "    }\n",
       "</style>\n",
       "<table border=\"1\" class=\"dataframe\">\n",
       "  <thead>\n",
       "    <tr style=\"text-align: right;\">\n",
       "      <th></th>\n",
       "      <th>Minimum</th>\n",
       "      <th>Maximum</th>\n",
       "      <th>Average</th>\n",
       "    </tr>\n",
       "    <tr>\n",
       "      <th>MSZoning</th>\n",
       "      <th></th>\n",
       "      <th></th>\n",
       "      <th></th>\n",
       "    </tr>\n",
       "  </thead>\n",
       "  <tbody>\n",
       "    <tr>\n",
       "      <td>C (all)</td>\n",
       "      <td>34900</td>\n",
       "      <td>133900</td>\n",
       "      <td>74528.000000</td>\n",
       "    </tr>\n",
       "    <tr>\n",
       "      <td>RM</td>\n",
       "      <td>37900</td>\n",
       "      <td>475000</td>\n",
       "      <td>126316.830275</td>\n",
       "    </tr>\n",
       "    <tr>\n",
       "      <td>RH</td>\n",
       "      <td>76000</td>\n",
       "      <td>200000</td>\n",
       "      <td>131558.375000</td>\n",
       "    </tr>\n",
       "    <tr>\n",
       "      <td>RL</td>\n",
       "      <td>39300</td>\n",
       "      <td>755000</td>\n",
       "      <td>191004.994787</td>\n",
       "    </tr>\n",
       "    <tr>\n",
       "      <td>FV</td>\n",
       "      <td>144152</td>\n",
       "      <td>370878</td>\n",
       "      <td>214014.061538</td>\n",
       "    </tr>\n",
       "  </tbody>\n",
       "</table>\n",
       "</div>"
      ],
      "text/plain": [
       "          Minimum  Maximum        Average\n",
       "MSZoning                                 \n",
       "C (all)     34900   133900   74528.000000\n",
       "RM          37900   475000  126316.830275\n",
       "RH          76000   200000  131558.375000\n",
       "RL          39300   755000  191004.994787\n",
       "FV         144152   370878  214014.061538"
      ]
     },
     "execution_count": 19,
     "metadata": {},
     "output_type": "execute_result"
    }
   ],
   "source": [
    "ZonesTable"
   ]
  },
  {
   "cell_type": "code",
   "execution_count": 20,
   "metadata": {},
   "outputs": [
    {
     "data": {
      "application/vnd.plotly.v1+json": {
       "config": {
        "linkText": "Export to plot.ly",
        "plotlyServerURL": "https://plot.ly",
        "showLink": true
       },
       "data": [
        {
         "marker": {
          "color": "rgba(255, 153, 51, 0.6)",
          "line": {
           "color": "rgba(255, 153, 51, 1.0)",
           "width": 1
          }
         },
         "name": "Minimum",
         "orientation": "v",
         "text": "",
         "type": "bar",
         "uid": "5fe74b6c-6c6f-4816-b400-da5cafa196b6",
         "x": [
          "C (all)",
          "RM",
          "RH",
          "RL",
          "FV"
         ],
         "y": [
          34900,
          37900,
          76000,
          39300,
          144152
         ]
        },
        {
         "marker": {
          "color": "rgba(55, 128, 191, 0.6)",
          "line": {
           "color": "rgba(55, 128, 191, 1.0)",
           "width": 1
          }
         },
         "name": "Maximum",
         "orientation": "v",
         "text": "",
         "type": "bar",
         "uid": "024c69da-484d-4ff9-9fd7-56a3ec0602ba",
         "x": [
          "C (all)",
          "RM",
          "RH",
          "RL",
          "FV"
         ],
         "y": [
          133900,
          475000,
          200000,
          755000,
          370878
         ]
        },
        {
         "marker": {
          "color": "rgba(50, 171, 96, 0.6)",
          "line": {
           "color": "rgba(50, 171, 96, 1.0)",
           "width": 1
          }
         },
         "name": "Average",
         "orientation": "v",
         "text": "",
         "type": "bar",
         "uid": "ff4c3842-0773-46ce-8dd1-c68a9e48ac5f",
         "x": [
          "C (all)",
          "RM",
          "RH",
          "RL",
          "FV"
         ],
         "y": [
          74528,
          126316.83027522935,
          131558.375,
          191004.99478714162,
          214014.06153846154
         ]
        }
       ],
       "layout": {
        "legend": {
         "bgcolor": "#F5F6F9",
         "font": {
          "color": "#4D5663"
         }
        },
        "paper_bgcolor": "#F5F6F9",
        "plot_bgcolor": "#F5F6F9",
        "title": {
         "font": {
          "color": "#4D5663"
         },
         "text": "Minimum, Maximum and Average Prices by Zone Classification"
        },
        "xaxis": {
         "gridcolor": "#E1E5ED",
         "showgrid": true,
         "tickfont": {
          "color": "#4D5663"
         },
         "title": {
          "font": {
           "color": "#4D5663"
          },
          "text": "Zoning Classification"
         },
         "zerolinecolor": "#E1E5ED"
        },
        "yaxis": {
         "gridcolor": "#E1E5ED",
         "showgrid": true,
         "tickfont": {
          "color": "#4D5663"
         },
         "title": {
          "font": {
           "color": "#4D5663"
          },
          "text": "Sale Price"
         },
         "zerolinecolor": "#E1E5ED"
        }
       }
      },
      "text/html": [
       "<div>\n",
       "        \n",
       "        \n",
       "            <div id=\"65072904-8aec-451b-a569-db44f5746cdc\" class=\"plotly-graph-div\" style=\"height:525px; width:100%;\"></div>\n",
       "            <script type=\"text/javascript\">\n",
       "                require([\"plotly\"], function(Plotly) {\n",
       "                    window.PLOTLYENV=window.PLOTLYENV || {};\n",
       "                    window.PLOTLYENV.BASE_URL='https://plot.ly';\n",
       "                    \n",
       "                if (document.getElementById(\"65072904-8aec-451b-a569-db44f5746cdc\")) {\n",
       "                    Plotly.newPlot(\n",
       "                        '65072904-8aec-451b-a569-db44f5746cdc',\n",
       "                        [{\"marker\": {\"color\": \"rgba(255, 153, 51, 0.6)\", \"line\": {\"color\": \"rgba(255, 153, 51, 1.0)\", \"width\": 1}}, \"name\": \"Minimum\", \"orientation\": \"v\", \"text\": \"\", \"type\": \"bar\", \"uid\": \"5fe74b6c-6c6f-4816-b400-da5cafa196b6\", \"x\": [\"C (all)\", \"RM\", \"RH\", \"RL\", \"FV\"], \"y\": [34900, 37900, 76000, 39300, 144152]}, {\"marker\": {\"color\": \"rgba(55, 128, 191, 0.6)\", \"line\": {\"color\": \"rgba(55, 128, 191, 1.0)\", \"width\": 1}}, \"name\": \"Maximum\", \"orientation\": \"v\", \"text\": \"\", \"type\": \"bar\", \"uid\": \"024c69da-484d-4ff9-9fd7-56a3ec0602ba\", \"x\": [\"C (all)\", \"RM\", \"RH\", \"RL\", \"FV\"], \"y\": [133900, 475000, 200000, 755000, 370878]}, {\"marker\": {\"color\": \"rgba(50, 171, 96, 0.6)\", \"line\": {\"color\": \"rgba(50, 171, 96, 1.0)\", \"width\": 1}}, \"name\": \"Average\", \"orientation\": \"v\", \"text\": \"\", \"type\": \"bar\", \"uid\": \"ff4c3842-0773-46ce-8dd1-c68a9e48ac5f\", \"x\": [\"C (all)\", \"RM\", \"RH\", \"RL\", \"FV\"], \"y\": [74528.0, 126316.83027522935, 131558.375, 191004.99478714162, 214014.06153846154]}],\n",
       "                        {\"legend\": {\"bgcolor\": \"#F5F6F9\", \"font\": {\"color\": \"#4D5663\"}}, \"paper_bgcolor\": \"#F5F6F9\", \"plot_bgcolor\": \"#F5F6F9\", \"title\": {\"font\": {\"color\": \"#4D5663\"}, \"text\": \"Minimum, Maximum and Average Prices by Zone Classification\"}, \"xaxis\": {\"gridcolor\": \"#E1E5ED\", \"showgrid\": true, \"tickfont\": {\"color\": \"#4D5663\"}, \"title\": {\"font\": {\"color\": \"#4D5663\"}, \"text\": \"Zoning Classification\"}, \"zerolinecolor\": \"#E1E5ED\"}, \"yaxis\": {\"gridcolor\": \"#E1E5ED\", \"showgrid\": true, \"tickfont\": {\"color\": \"#4D5663\"}, \"title\": {\"font\": {\"color\": \"#4D5663\"}, \"text\": \"Sale Price\"}, \"zerolinecolor\": \"#E1E5ED\"}},\n",
       "                        {\"showLink\": true, \"linkText\": \"Export to plot.ly\", \"plotlyServerURL\": \"https://plot.ly\", \"responsive\": true}\n",
       "                    ).then(function(){\n",
       "                            \n",
       "var gd = document.getElementById('65072904-8aec-451b-a569-db44f5746cdc');\n",
       "var x = new MutationObserver(function (mutations, observer) {{\n",
       "        var display = window.getComputedStyle(gd).display;\n",
       "        if (!display || display === 'none') {{\n",
       "            console.log([gd, 'removed!']);\n",
       "            Plotly.purge(gd);\n",
       "            observer.disconnect();\n",
       "        }}\n",
       "}});\n",
       "\n",
       "// Listen for the removal of the full notebook cells\n",
       "var notebookContainer = gd.closest('#notebook-container');\n",
       "if (notebookContainer) {{\n",
       "    x.observe(notebookContainer, {childList: true});\n",
       "}}\n",
       "\n",
       "// Listen for the clearing of the current output cell\n",
       "var outputEl = gd.closest('.output');\n",
       "if (outputEl) {{\n",
       "    x.observe(outputEl, {childList: true});\n",
       "}}\n",
       "\n",
       "                        })\n",
       "                };\n",
       "                });\n",
       "            </script>\n",
       "        </div>"
      ]
     },
     "metadata": {},
     "output_type": "display_data"
    }
   ],
   "source": [
    "ZonesTable.iplot(kind='bar', xTitle='Zoning Classification', yTitle='Sale Price', \n",
    "           title='Minimum, Maximum and Average Prices by Zone Classification', filename='bar-direct-labels')"
   ]
  },
  {
   "cell_type": "markdown",
   "metadata": {},
   "source": [
    "The highest minimum and average is noticed in FV Floating Village Residential, as well as in the \"\n",
    "RL Residential Low Density\".  SalePrice in C Commercial classified zones are lowest."
   ]
  },
  {
   "cell_type": "markdown",
   "metadata": {},
   "source": [
    "## Part 1.8 - Neighborhood"
   ]
  },
  {
   "cell_type": "code",
   "execution_count": 21,
   "metadata": {},
   "outputs": [
    {
     "data": {
      "text/plain": [
       "Neighborhood  MSZoning\n",
       "Blmngtn       RL           16\n",
       "              RM            1\n",
       "Blueste       RM            2\n",
       "BrDale        RM           16\n",
       "BrkSide       RM           30\n",
       "              RL           28\n",
       "ClearCr       RL           28\n",
       "CollgCr       RL          140\n",
       "              RM           10\n",
       "Crawfor       RL           46\n",
       "              RM            3\n",
       "              RH            2\n",
       "Edwards       RL           90\n",
       "              RM            8\n",
       "              RH            2\n",
       "Gilbert       RL           79\n",
       "IDOTRR        RM           28\n",
       "              C (all)       9\n",
       "MeadowV       RM           17\n",
       "Mitchel       RL           44\n",
       "              RM            5\n",
       "NAmes         RL          223\n",
       "              RH            2\n",
       "NPkVill       RL            9\n",
       "NWAmes        RL           73\n",
       "NoRidge       RL           41\n",
       "NridgHt       RL           76\n",
       "              RM            1\n",
       "OldTown       RM           95\n",
       "              RL           17\n",
       "              C (all)       1\n",
       "SWISU         RL           20\n",
       "              RH            5\n",
       "Sawyer        RL           72\n",
       "              RM            2\n",
       "SawyerW       RL           54\n",
       "              RH            5\n",
       "Somerst       FV           65\n",
       "              RL           21\n",
       "StoneBr       RL           25\n",
       "Timber        RL           38\n",
       "Veenker       RL           11\n",
       "Name: MSZoning, dtype: int64"
      ]
     },
     "execution_count": 21,
     "metadata": {},
     "output_type": "execute_result"
    }
   ],
   "source": [
    "df.groupby('Neighborhood')['MSZoning'].value_counts()"
   ]
  },
  {
   "cell_type": "code",
   "execution_count": 22,
   "metadata": {},
   "outputs": [],
   "source": [
    "NeighbTable=df.groupby('Neighborhood', as_index=True)['SalePrice'].agg(Minimum=np.min, Maximum=np.max, Average=np.mean).sort_values(by='Average')"
   ]
  },
  {
   "cell_type": "code",
   "execution_count": 23,
   "metadata": {},
   "outputs": [
    {
     "data": {
      "application/vnd.plotly.v1+json": {
       "config": {
        "linkText": "Export to plot.ly",
        "plotlyServerURL": "https://plot.ly",
        "showLink": true
       },
       "data": [
        {
         "marker": {
          "color": "rgba(255, 153, 51, 0.6)",
          "line": {
           "color": "rgba(255, 153, 51, 1.0)",
           "width": 1
          }
         },
         "name": "Minimum",
         "orientation": "v",
         "text": "",
         "type": "bar",
         "uid": "2ff0b792-d6d2-4bcb-a3d8-193da09cacb3",
         "x": [
          "MeadowV",
          "IDOTRR",
          "BrDale",
          "BrkSide",
          "Edwards",
          "OldTown",
          "Sawyer",
          "Blueste",
          "SWISU",
          "NPkVill",
          "NAmes",
          "Mitchel",
          "SawyerW",
          "NWAmes",
          "Gilbert",
          "Blmngtn",
          "CollgCr",
          "Crawfor",
          "ClearCr",
          "Somerst",
          "Veenker",
          "Timber",
          "StoneBr",
          "NridgHt",
          "NoRidge"
         ],
         "y": [
          75000,
          34900,
          83000,
          39300,
          58500,
          37900,
          62383,
          124000,
          60000,
          127500,
          87500,
          84500,
          76000,
          82500,
          141000,
          159895,
          110000,
          90350,
          130000,
          144152,
          162500,
          137500,
          170000,
          154000,
          190000
         ]
        },
        {
         "marker": {
          "color": "rgba(55, 128, 191, 0.6)",
          "line": {
           "color": "rgba(55, 128, 191, 1.0)",
           "width": 1
          }
         },
         "name": "Maximum",
         "orientation": "v",
         "text": "",
         "type": "bar",
         "uid": "4ab98aae-b6cb-4f13-8e51-2da9e8d4ba23",
         "x": [
          "MeadowV",
          "IDOTRR",
          "BrDale",
          "BrkSide",
          "Edwards",
          "OldTown",
          "Sawyer",
          "Blueste",
          "SWISU",
          "NPkVill",
          "NAmes",
          "Mitchel",
          "SawyerW",
          "NWAmes",
          "Gilbert",
          "Blmngtn",
          "CollgCr",
          "Crawfor",
          "ClearCr",
          "Somerst",
          "Veenker",
          "Timber",
          "StoneBr",
          "NridgHt",
          "NoRidge"
         ],
         "y": [
          151400,
          169500,
          125000,
          223500,
          320000,
          475000,
          190000,
          151000,
          200000,
          155000,
          345000,
          271000,
          320000,
          299800,
          377500,
          264561,
          424870,
          392500,
          328000,
          423000,
          385000,
          378500,
          556581,
          611657,
          755000
         ]
        },
        {
         "marker": {
          "color": "rgba(50, 171, 96, 0.6)",
          "line": {
           "color": "rgba(50, 171, 96, 1.0)",
           "width": 1
          }
         },
         "name": "Average",
         "orientation": "v",
         "text": "",
         "type": "bar",
         "uid": "1b4bd39b-9f63-4bc5-970e-7bd2b3698f79",
         "x": [
          "MeadowV",
          "IDOTRR",
          "BrDale",
          "BrkSide",
          "Edwards",
          "OldTown",
          "Sawyer",
          "Blueste",
          "SWISU",
          "NPkVill",
          "NAmes",
          "Mitchel",
          "SawyerW",
          "NWAmes",
          "Gilbert",
          "Blmngtn",
          "CollgCr",
          "Crawfor",
          "ClearCr",
          "Somerst",
          "Veenker",
          "Timber",
          "StoneBr",
          "NridgHt",
          "NoRidge"
         ],
         "y": [
          98576.4705882353,
          100123.78378378379,
          104493.75,
          124834.05172413793,
          128219.7,
          128225.30088495575,
          136793.13513513515,
          137500,
          142591.36,
          142694.44444444444,
          145847.08,
          156270.1224489796,
          186555.7966101695,
          189050.0684931507,
          192854.50632911394,
          194870.88235294117,
          197965.77333333335,
          210624.72549019608,
          212565.42857142858,
          225379.83720930232,
          238772.72727272726,
          242247.44736842104,
          310499,
          316270.6233766234,
          335295.31707317074
         ]
        }
       ],
       "layout": {
        "legend": {
         "bgcolor": "#F5F6F9",
         "font": {
          "color": "#4D5663"
         }
        },
        "paper_bgcolor": "#F5F6F9",
        "plot_bgcolor": "#F5F6F9",
        "title": {
         "font": {
          "color": "#4D5663"
         },
         "text": "Minimum, Maximum and Average Prices by Neighborhood"
        },
        "xaxis": {
         "gridcolor": "#E1E5ED",
         "showgrid": true,
         "tickfont": {
          "color": "#4D5663"
         },
         "title": {
          "font": {
           "color": "#4D5663"
          },
          "text": "Neighborhood Impact"
         },
         "zerolinecolor": "#E1E5ED"
        },
        "yaxis": {
         "gridcolor": "#E1E5ED",
         "showgrid": true,
         "tickfont": {
          "color": "#4D5663"
         },
         "title": {
          "font": {
           "color": "#4D5663"
          },
          "text": "Sale Price"
         },
         "zerolinecolor": "#E1E5ED"
        }
       }
      },
      "text/html": [
       "<div>\n",
       "        \n",
       "        \n",
       "            <div id=\"65cb995b-b30e-4344-a374-9d9beb02b5e9\" class=\"plotly-graph-div\" style=\"height:525px; width:100%;\"></div>\n",
       "            <script type=\"text/javascript\">\n",
       "                require([\"plotly\"], function(Plotly) {\n",
       "                    window.PLOTLYENV=window.PLOTLYENV || {};\n",
       "                    window.PLOTLYENV.BASE_URL='https://plot.ly';\n",
       "                    \n",
       "                if (document.getElementById(\"65cb995b-b30e-4344-a374-9d9beb02b5e9\")) {\n",
       "                    Plotly.newPlot(\n",
       "                        '65cb995b-b30e-4344-a374-9d9beb02b5e9',\n",
       "                        [{\"marker\": {\"color\": \"rgba(255, 153, 51, 0.6)\", \"line\": {\"color\": \"rgba(255, 153, 51, 1.0)\", \"width\": 1}}, \"name\": \"Minimum\", \"orientation\": \"v\", \"text\": \"\", \"type\": \"bar\", \"uid\": \"2ff0b792-d6d2-4bcb-a3d8-193da09cacb3\", \"x\": [\"MeadowV\", \"IDOTRR\", \"BrDale\", \"BrkSide\", \"Edwards\", \"OldTown\", \"Sawyer\", \"Blueste\", \"SWISU\", \"NPkVill\", \"NAmes\", \"Mitchel\", \"SawyerW\", \"NWAmes\", \"Gilbert\", \"Blmngtn\", \"CollgCr\", \"Crawfor\", \"ClearCr\", \"Somerst\", \"Veenker\", \"Timber\", \"StoneBr\", \"NridgHt\", \"NoRidge\"], \"y\": [75000, 34900, 83000, 39300, 58500, 37900, 62383, 124000, 60000, 127500, 87500, 84500, 76000, 82500, 141000, 159895, 110000, 90350, 130000, 144152, 162500, 137500, 170000, 154000, 190000]}, {\"marker\": {\"color\": \"rgba(55, 128, 191, 0.6)\", \"line\": {\"color\": \"rgba(55, 128, 191, 1.0)\", \"width\": 1}}, \"name\": \"Maximum\", \"orientation\": \"v\", \"text\": \"\", \"type\": \"bar\", \"uid\": \"4ab98aae-b6cb-4f13-8e51-2da9e8d4ba23\", \"x\": [\"MeadowV\", \"IDOTRR\", \"BrDale\", \"BrkSide\", \"Edwards\", \"OldTown\", \"Sawyer\", \"Blueste\", \"SWISU\", \"NPkVill\", \"NAmes\", \"Mitchel\", \"SawyerW\", \"NWAmes\", \"Gilbert\", \"Blmngtn\", \"CollgCr\", \"Crawfor\", \"ClearCr\", \"Somerst\", \"Veenker\", \"Timber\", \"StoneBr\", \"NridgHt\", \"NoRidge\"], \"y\": [151400, 169500, 125000, 223500, 320000, 475000, 190000, 151000, 200000, 155000, 345000, 271000, 320000, 299800, 377500, 264561, 424870, 392500, 328000, 423000, 385000, 378500, 556581, 611657, 755000]}, {\"marker\": {\"color\": \"rgba(50, 171, 96, 0.6)\", \"line\": {\"color\": \"rgba(50, 171, 96, 1.0)\", \"width\": 1}}, \"name\": \"Average\", \"orientation\": \"v\", \"text\": \"\", \"type\": \"bar\", \"uid\": \"1b4bd39b-9f63-4bc5-970e-7bd2b3698f79\", \"x\": [\"MeadowV\", \"IDOTRR\", \"BrDale\", \"BrkSide\", \"Edwards\", \"OldTown\", \"Sawyer\", \"Blueste\", \"SWISU\", \"NPkVill\", \"NAmes\", \"Mitchel\", \"SawyerW\", \"NWAmes\", \"Gilbert\", \"Blmngtn\", \"CollgCr\", \"Crawfor\", \"ClearCr\", \"Somerst\", \"Veenker\", \"Timber\", \"StoneBr\", \"NridgHt\", \"NoRidge\"], \"y\": [98576.4705882353, 100123.78378378379, 104493.75, 124834.05172413793, 128219.7, 128225.30088495575, 136793.13513513515, 137500.0, 142591.36, 142694.44444444444, 145847.08, 156270.1224489796, 186555.7966101695, 189050.0684931507, 192854.50632911394, 194870.88235294117, 197965.77333333335, 210624.72549019608, 212565.42857142858, 225379.83720930232, 238772.72727272726, 242247.44736842104, 310499.0, 316270.6233766234, 335295.31707317074]}],\n",
       "                        {\"legend\": {\"bgcolor\": \"#F5F6F9\", \"font\": {\"color\": \"#4D5663\"}}, \"paper_bgcolor\": \"#F5F6F9\", \"plot_bgcolor\": \"#F5F6F9\", \"title\": {\"font\": {\"color\": \"#4D5663\"}, \"text\": \"Minimum, Maximum and Average Prices by Neighborhood\"}, \"xaxis\": {\"gridcolor\": \"#E1E5ED\", \"showgrid\": true, \"tickfont\": {\"color\": \"#4D5663\"}, \"title\": {\"font\": {\"color\": \"#4D5663\"}, \"text\": \"Neighborhood Impact\"}, \"zerolinecolor\": \"#E1E5ED\"}, \"yaxis\": {\"gridcolor\": \"#E1E5ED\", \"showgrid\": true, \"tickfont\": {\"color\": \"#4D5663\"}, \"title\": {\"font\": {\"color\": \"#4D5663\"}, \"text\": \"Sale Price\"}, \"zerolinecolor\": \"#E1E5ED\"}},\n",
       "                        {\"showLink\": true, \"linkText\": \"Export to plot.ly\", \"plotlyServerURL\": \"https://plot.ly\", \"responsive\": true}\n",
       "                    ).then(function(){\n",
       "                            \n",
       "var gd = document.getElementById('65cb995b-b30e-4344-a374-9d9beb02b5e9');\n",
       "var x = new MutationObserver(function (mutations, observer) {{\n",
       "        var display = window.getComputedStyle(gd).display;\n",
       "        if (!display || display === 'none') {{\n",
       "            console.log([gd, 'removed!']);\n",
       "            Plotly.purge(gd);\n",
       "            observer.disconnect();\n",
       "        }}\n",
       "}});\n",
       "\n",
       "// Listen for the removal of the full notebook cells\n",
       "var notebookContainer = gd.closest('#notebook-container');\n",
       "if (notebookContainer) {{\n",
       "    x.observe(notebookContainer, {childList: true});\n",
       "}}\n",
       "\n",
       "// Listen for the clearing of the current output cell\n",
       "var outputEl = gd.closest('.output');\n",
       "if (outputEl) {{\n",
       "    x.observe(outputEl, {childList: true});\n",
       "}}\n",
       "\n",
       "                        })\n",
       "                };\n",
       "                });\n",
       "            </script>\n",
       "        </div>"
      ]
     },
     "metadata": {},
     "output_type": "display_data"
    }
   ],
   "source": [
    "NeighbTable.iplot(kind='bar', xTitle='Neighborhood Impact', yTitle='Sale Price', \n",
    "           title='Minimum, Maximum and Average Prices by Neighborhood', filename='bar-direct-labels')"
   ]
  },
  {
   "cell_type": "markdown",
   "metadata": {},
   "source": [
    "Chic neighborhood noticed to be Somerst=Somerset with FV=38 and RL=21 dwellings sold at higher average prices.\n",
    "StoneBr = Stone Brook is classified as RL zone with only 13 dwellings sold, but with the highest average price.\n",
    "NridgHt =Northridge Heights= RL with 55 is Number 2."
   ]
  },
  {
   "cell_type": "markdown",
   "metadata": {},
   "source": [
    "## Part 1.9 - Overall Condition"
   ]
  },
  {
   "cell_type": "markdown",
   "metadata": {},
   "source": [
    "There majority of sells are in conditions 5 - Average and 6 - Above Average.\n",
    "OverallCond: Rates the overall condition of the house\n",
    "\n",
    "       10\tVery Excellent\n",
    "       9\tExcellent\n",
    "       8\tVery Good\n",
    "       7\tGood\n",
    "       6\tAbove Average\t\n",
    "       5\tAverage\n",
    "       4\tBelow Average\t\n",
    "       3\tFair\n",
    "       2\tPoor\n",
    "       1\tVery Poor"
   ]
  },
  {
   "cell_type": "code",
   "execution_count": 24,
   "metadata": {},
   "outputs": [
    {
     "data": {
      "text/plain": [
       "Text(0, 0.5, 'Count')"
      ]
     },
     "execution_count": 24,
     "metadata": {},
     "output_type": "execute_result"
    },
    {
     "data": {
      "image/png": "[encoded data removed]",
      "text/plain": [
       "<Figure size 432x288 with 1 Axes>"
      ]
     },
     "metadata": {
      "needs_background": "light"
     },
     "output_type": "display_data"
    }
   ],
   "source": [
    "df['OverallCond'].value_counts().plot(kind='bar')\n",
    "plt.xlabel('OverallCond')\n",
    "plt.ylabel('Count')"
   ]
  },
  {
   "cell_type": "code",
   "execution_count": 25,
   "metadata": {},
   "outputs": [],
   "source": [
    "OverallCondition=df.groupby('OverallCond', as_index=True)['SalePrice'].agg(Minimum=np.min, Maximum=np.max, Average=np.mean)"
   ]
  },
  {
   "cell_type": "code",
   "execution_count": 26,
   "metadata": {},
   "outputs": [
    {
     "data": {
      "application/vnd.plotly.v1+json": {
       "config": {
        "linkText": "Export to plot.ly",
        "plotlyServerURL": "https://plot.ly",
        "showLink": true
       },
       "data": [
        {
         "marker": {
          "color": "rgba(255, 153, 51, 0.6)",
          "line": {
           "color": "rgba(255, 153, 51, 1.0)",
           "width": 1
          }
         },
         "name": "Minimum",
         "orientation": "v",
         "text": "",
         "type": "bar",
         "uid": "fb3e0921-9fee-4b6f-982a-16e49a77c16a",
         "x": [
          1,
          2,
          3,
          4,
          5,
          6,
          7,
          8,
          9
         ],
         "y": [
          61000,
          67000,
          35311,
          40000,
          34900,
          37900,
          79900,
          84500,
          110500
         ]
        },
        {
         "marker": {
          "color": "rgba(55, 128, 191, 0.6)",
          "line": {
           "color": "rgba(55, 128, 191, 1.0)",
           "width": 1
          }
         },
         "name": "Maximum",
         "orientation": "v",
         "text": "",
         "type": "bar",
         "uid": "b6834ab6-6328-43b0-94e4-9afb447e8f6f",
         "x": [
          1,
          2,
          3,
          4,
          5,
          6,
          7,
          8,
          9
         ],
         "y": [
          61000,
          394432,
          200624,
          235000,
          745000,
          755000,
          402000,
          335000,
          475000
         ]
        },
        {
         "marker": {
          "color": "rgba(50, 171, 96, 0.6)",
          "line": {
           "color": "rgba(50, 171, 96, 1.0)",
           "width": 1
          }
         },
         "name": "Average",
         "orientation": "v",
         "text": "",
         "type": "bar",
         "uid": "8a1b669f-0e6c-4ea9-b108-c1259150d316",
         "x": [
          1,
          2,
          3,
          4,
          5,
          6,
          7,
          8,
          9
         ],
         "y": [
          61000,
          141986.4,
          101929.4,
          120438.43859649122,
          203146.91473812424,
          153961.59126984127,
          158145.48780487804,
          155651.73611111112,
          216004.54545454544
         ]
        }
       ],
       "layout": {
        "legend": {
         "bgcolor": "#F5F6F9",
         "font": {
          "color": "#4D5663"
         }
        },
        "paper_bgcolor": "#F5F6F9",
        "plot_bgcolor": "#F5F6F9",
        "title": {
         "font": {
          "color": "#4D5663"
         },
         "text": "Minimum, Maximum and Average Prices by OverallCondition"
        },
        "xaxis": {
         "gridcolor": "#E1E5ED",
         "showgrid": true,
         "tickfont": {
          "color": "#4D5663"
         },
         "title": {
          "font": {
           "color": "#4D5663"
          },
          "text": "OverallCondition Impact"
         },
         "zerolinecolor": "#E1E5ED"
        },
        "yaxis": {
         "gridcolor": "#E1E5ED",
         "showgrid": true,
         "tickfont": {
          "color": "#4D5663"
         },
         "title": {
          "font": {
           "color": "#4D5663"
          },
          "text": "Sale Price"
         },
         "zerolinecolor": "#E1E5ED"
        }
       }
      },
      "text/html": [
       "<div>\n",
       "        \n",
       "        \n",
       "            <div id=\"6ae3de40-616b-4dec-8b69-f4ee9db8b9b1\" class=\"plotly-graph-div\" style=\"height:525px; width:100%;\"></div>\n",
       "            <script type=\"text/javascript\">\n",
       "                require([\"plotly\"], function(Plotly) {\n",
       "                    window.PLOTLYENV=window.PLOTLYENV || {};\n",
       "                    window.PLOTLYENV.BASE_URL='https://plot.ly';\n",
       "                    \n",
       "                if (document.getElementById(\"6ae3de40-616b-4dec-8b69-f4ee9db8b9b1\")) {\n",
       "                    Plotly.newPlot(\n",
       "                        '6ae3de40-616b-4dec-8b69-f4ee9db8b9b1',\n",
       "                        [{\"marker\": {\"color\": \"rgba(255, 153, 51, 0.6)\", \"line\": {\"color\": \"rgba(255, 153, 51, 1.0)\", \"width\": 1}}, \"name\": \"Minimum\", \"orientation\": \"v\", \"text\": \"\", \"type\": \"bar\", \"uid\": \"fb3e0921-9fee-4b6f-982a-16e49a77c16a\", \"x\": [1, 2, 3, 4, 5, 6, 7, 8, 9], \"y\": [61000, 67000, 35311, 40000, 34900, 37900, 79900, 84500, 110500]}, {\"marker\": {\"color\": \"rgba(55, 128, 191, 0.6)\", \"line\": {\"color\": \"rgba(55, 128, 191, 1.0)\", \"width\": 1}}, \"name\": \"Maximum\", \"orientation\": \"v\", \"text\": \"\", \"type\": \"bar\", \"uid\": \"b6834ab6-6328-43b0-94e4-9afb447e8f6f\", \"x\": [1, 2, 3, 4, 5, 6, 7, 8, 9], \"y\": [61000, 394432, 200624, 235000, 745000, 755000, 402000, 335000, 475000]}, {\"marker\": {\"color\": \"rgba(50, 171, 96, 0.6)\", \"line\": {\"color\": \"rgba(50, 171, 96, 1.0)\", \"width\": 1}}, \"name\": \"Average\", \"orientation\": \"v\", \"text\": \"\", \"type\": \"bar\", \"uid\": \"8a1b669f-0e6c-4ea9-b108-c1259150d316\", \"x\": [1, 2, 3, 4, 5, 6, 7, 8, 9], \"y\": [61000.0, 141986.4, 101929.4, 120438.43859649122, 203146.91473812424, 153961.59126984127, 158145.48780487804, 155651.73611111112, 216004.54545454544]}],\n",
       "                        {\"legend\": {\"bgcolor\": \"#F5F6F9\", \"font\": {\"color\": \"#4D5663\"}}, \"paper_bgcolor\": \"#F5F6F9\", \"plot_bgcolor\": \"#F5F6F9\", \"title\": {\"font\": {\"color\": \"#4D5663\"}, \"text\": \"Minimum, Maximum and Average Prices by OverallCondition\"}, \"xaxis\": {\"gridcolor\": \"#E1E5ED\", \"showgrid\": true, \"tickfont\": {\"color\": \"#4D5663\"}, \"title\": {\"font\": {\"color\": \"#4D5663\"}, \"text\": \"OverallCondition Impact\"}, \"zerolinecolor\": \"#E1E5ED\"}, \"yaxis\": {\"gridcolor\": \"#E1E5ED\", \"showgrid\": true, \"tickfont\": {\"color\": \"#4D5663\"}, \"title\": {\"font\": {\"color\": \"#4D5663\"}, \"text\": \"Sale Price\"}, \"zerolinecolor\": \"#E1E5ED\"}},\n",
       "                        {\"showLink\": true, \"linkText\": \"Export to plot.ly\", \"plotlyServerURL\": \"https://plot.ly\", \"responsive\": true}\n",
       "                    ).then(function(){\n",
       "                            \n",
       "var gd = document.getElementById('6ae3de40-616b-4dec-8b69-f4ee9db8b9b1');\n",
       "var x = new MutationObserver(function (mutations, observer) {{\n",
       "        var display = window.getComputedStyle(gd).display;\n",
       "        if (!display || display === 'none') {{\n",
       "            console.log([gd, 'removed!']);\n",
       "            Plotly.purge(gd);\n",
       "            observer.disconnect();\n",
       "        }}\n",
       "}});\n",
       "\n",
       "// Listen for the removal of the full notebook cells\n",
       "var notebookContainer = gd.closest('#notebook-container');\n",
       "if (notebookContainer) {{\n",
       "    x.observe(notebookContainer, {childList: true});\n",
       "}}\n",
       "\n",
       "// Listen for the clearing of the current output cell\n",
       "var outputEl = gd.closest('.output');\n",
       "if (outputEl) {{\n",
       "    x.observe(outputEl, {childList: true});\n",
       "}}\n",
       "\n",
       "                        })\n",
       "                };\n",
       "                });\n",
       "            </script>\n",
       "        </div>"
      ]
     },
     "metadata": {},
     "output_type": "display_data"
    }
   ],
   "source": [
    "OverallCondition.iplot(kind='bar', xTitle='OverallCondition Impact', yTitle='Sale Price', \n",
    "           title='Minimum, Maximum and Average Prices by OverallCondition', filename='bar-direct-labels')"
   ]
  },
  {
   "cell_type": "markdown",
   "metadata": {},
   "source": [
    "#### Strangely the dwellings rated at 5 and 6 position - have the Maximum higher than 7-9?\n"
   ]
  },
  {
   "cell_type": "markdown",
   "metadata": {},
   "source": [
    "## Part 1.10 - Year of transaction and Prices"
   ]
  },
  {
   "cell_type": "code",
   "execution_count": 27,
   "metadata": {},
   "outputs": [],
   "source": [
    "YrSold=df.groupby('YrSold', as_index=True)['SalePrice'].agg(Minimum=np.min, Maximum=np.max, Average=np.mean)"
   ]
  },
  {
   "cell_type": "code",
   "execution_count": 28,
   "metadata": {},
   "outputs": [
    {
     "data": {
      "text/html": [
       "<div>\n",
       "<style scoped>\n",
       "    .dataframe tbody tr th:only-of-type {\n",
       "        vertical-align: middle;\n",
       "    }\n",
       "\n",
       "    .dataframe tbody tr th {\n",
       "        vertical-align: top;\n",
       "    }\n",
       "\n",
       "    .dataframe thead th {\n",
       "        text-align: right;\n",
       "    }\n",
       "</style>\n",
       "<table border=\"1\" class=\"dataframe\">\n",
       "  <thead>\n",
       "    <tr style=\"text-align: right;\">\n",
       "      <th></th>\n",
       "      <th>Minimum</th>\n",
       "      <th>Maximum</th>\n",
       "      <th>Average</th>\n",
       "    </tr>\n",
       "    <tr>\n",
       "      <th>YrSold</th>\n",
       "      <th></th>\n",
       "      <th></th>\n",
       "      <th></th>\n",
       "    </tr>\n",
       "  </thead>\n",
       "  <tbody>\n",
       "    <tr>\n",
       "      <td>2006</td>\n",
       "      <td>35311</td>\n",
       "      <td>625000</td>\n",
       "      <td>182549.458599</td>\n",
       "    </tr>\n",
       "    <tr>\n",
       "      <td>2007</td>\n",
       "      <td>39300</td>\n",
       "      <td>755000</td>\n",
       "      <td>186063.151976</td>\n",
       "    </tr>\n",
       "    <tr>\n",
       "      <td>2008</td>\n",
       "      <td>40000</td>\n",
       "      <td>446261</td>\n",
       "      <td>177360.838816</td>\n",
       "    </tr>\n",
       "    <tr>\n",
       "      <td>2009</td>\n",
       "      <td>34900</td>\n",
       "      <td>582933</td>\n",
       "      <td>179432.103550</td>\n",
       "    </tr>\n",
       "    <tr>\n",
       "      <td>2010</td>\n",
       "      <td>55000</td>\n",
       "      <td>611657</td>\n",
       "      <td>177393.674286</td>\n",
       "    </tr>\n",
       "  </tbody>\n",
       "</table>\n",
       "</div>"
      ],
      "text/plain": [
       "        Minimum  Maximum        Average\n",
       "YrSold                                 \n",
       "2006      35311   625000  182549.458599\n",
       "2007      39300   755000  186063.151976\n",
       "2008      40000   446261  177360.838816\n",
       "2009      34900   582933  179432.103550\n",
       "2010      55000   611657  177393.674286"
      ]
     },
     "execution_count": 28,
     "metadata": {},
     "output_type": "execute_result"
    }
   ],
   "source": [
    "YrSold.head()"
   ]
  },
  {
   "cell_type": "code",
   "execution_count": 29,
   "metadata": {},
   "outputs": [
    {
     "data": {
      "application/vnd.plotly.v1+json": {
       "config": {
        "linkText": "Export to plot.ly",
        "plotlyServerURL": "https://plot.ly",
        "showLink": true
       },
       "data": [
        {
         "marker": {
          "color": "rgba(255, 153, 51, 0.6)",
          "line": {
           "color": "rgba(255, 153, 51, 1.0)",
           "width": 1
          }
         },
         "name": "Minimum",
         "orientation": "v",
         "text": "",
         "type": "bar",
         "uid": "08e6fe3b-95ba-4504-8a19-9866c176d0bf",
         "x": [
          2006,
          2007,
          2008,
          2009,
          2010
         ],
         "y": [
          35311,
          39300,
          40000,
          34900,
          55000
         ]
        },
        {
         "marker": {
          "color": "rgba(55, 128, 191, 0.6)",
          "line": {
           "color": "rgba(55, 128, 191, 1.0)",
           "width": 1
          }
         },
         "name": "Maximum",
         "orientation": "v",
         "text": "",
         "type": "bar",
         "uid": "5dcfdf63-16ee-4607-a20b-110d45512dc0",
         "x": [
          2006,
          2007,
          2008,
          2009,
          2010
         ],
         "y": [
          625000,
          755000,
          446261,
          582933,
          611657
         ]
        },
        {
         "marker": {
          "color": "rgba(50, 171, 96, 0.6)",
          "line": {
           "color": "rgba(50, 171, 96, 1.0)",
           "width": 1
          }
         },
         "name": "Average",
         "orientation": "v",
         "text": "",
         "type": "bar",
         "uid": "99dbd496-f6d5-4a15-aaf4-9569157bc3d7",
         "x": [
          2006,
          2007,
          2008,
          2009,
          2010
         ],
         "y": [
          182549.4585987261,
          186063.1519756839,
          177360.83881578947,
          179432.10355029587,
          177393.67428571428
         ]
        }
       ],
       "layout": {
        "legend": {
         "bgcolor": "#F5F6F9",
         "font": {
          "color": "#4D5663"
         }
        },
        "paper_bgcolor": "#F5F6F9",
        "plot_bgcolor": "#F5F6F9",
        "title": {
         "font": {
          "color": "#4D5663"
         }
        },
        "xaxis": {
         "gridcolor": "#E1E5ED",
         "showgrid": true,
         "tickfont": {
          "color": "#4D5663"
         },
         "title": {
          "font": {
           "color": "#4D5663"
          },
          "text": "YrSold"
         },
         "zerolinecolor": "#E1E5ED"
        },
        "yaxis": {
         "gridcolor": "#E1E5ED",
         "showgrid": true,
         "tickfont": {
          "color": "#4D5663"
         },
         "title": {
          "font": {
           "color": "#4D5663"
          },
          "text": "SalePrice"
         },
         "zerolinecolor": "#E1E5ED"
        }
       }
      },
      "text/html": [
       "<div>\n",
       "        \n",
       "        \n",
       "            <div id=\"462ded92-4ba6-4dd4-9a80-3b8b317542df\" class=\"plotly-graph-div\" style=\"height:525px; width:100%;\"></div>\n",
       "            <script type=\"text/javascript\">\n",
       "                require([\"plotly\"], function(Plotly) {\n",
       "                    window.PLOTLYENV=window.PLOTLYENV || {};\n",
       "                    window.PLOTLYENV.BASE_URL='https://plot.ly';\n",
       "                    \n",
       "                if (document.getElementById(\"462ded92-4ba6-4dd4-9a80-3b8b317542df\")) {\n",
       "                    Plotly.newPlot(\n",
       "                        '462ded92-4ba6-4dd4-9a80-3b8b317542df',\n",
       "                        [{\"marker\": {\"color\": \"rgba(255, 153, 51, 0.6)\", \"line\": {\"color\": \"rgba(255, 153, 51, 1.0)\", \"width\": 1}}, \"name\": \"Minimum\", \"orientation\": \"v\", \"text\": \"\", \"type\": \"bar\", \"uid\": \"08e6fe3b-95ba-4504-8a19-9866c176d0bf\", \"x\": [2006, 2007, 2008, 2009, 2010], \"y\": [35311, 39300, 40000, 34900, 55000]}, {\"marker\": {\"color\": \"rgba(55, 128, 191, 0.6)\", \"line\": {\"color\": \"rgba(55, 128, 191, 1.0)\", \"width\": 1}}, \"name\": \"Maximum\", \"orientation\": \"v\", \"text\": \"\", \"type\": \"bar\", \"uid\": \"5dcfdf63-16ee-4607-a20b-110d45512dc0\", \"x\": [2006, 2007, 2008, 2009, 2010], \"y\": [625000, 755000, 446261, 582933, 611657]}, {\"marker\": {\"color\": \"rgba(50, 171, 96, 0.6)\", \"line\": {\"color\": \"rgba(50, 171, 96, 1.0)\", \"width\": 1}}, \"name\": \"Average\", \"orientation\": \"v\", \"text\": \"\", \"type\": \"bar\", \"uid\": \"99dbd496-f6d5-4a15-aaf4-9569157bc3d7\", \"x\": [2006, 2007, 2008, 2009, 2010], \"y\": [182549.4585987261, 186063.1519756839, 177360.83881578947, 179432.10355029587, 177393.67428571428]}],\n",
       "                        {\"legend\": {\"bgcolor\": \"#F5F6F9\", \"font\": {\"color\": \"#4D5663\"}}, \"paper_bgcolor\": \"#F5F6F9\", \"plot_bgcolor\": \"#F5F6F9\", \"title\": {\"font\": {\"color\": \"#4D5663\"}}, \"xaxis\": {\"gridcolor\": \"#E1E5ED\", \"showgrid\": true, \"tickfont\": {\"color\": \"#4D5663\"}, \"title\": {\"font\": {\"color\": \"#4D5663\"}, \"text\": \"YrSold\"}, \"zerolinecolor\": \"#E1E5ED\"}, \"yaxis\": {\"gridcolor\": \"#E1E5ED\", \"showgrid\": true, \"tickfont\": {\"color\": \"#4D5663\"}, \"title\": {\"font\": {\"color\": \"#4D5663\"}, \"text\": \"SalePrice\"}, \"zerolinecolor\": \"#E1E5ED\"}},\n",
       "                        {\"showLink\": true, \"linkText\": \"Export to plot.ly\", \"plotlyServerURL\": \"https://plot.ly\", \"responsive\": true}\n",
       "                    ).then(function(){\n",
       "                            \n",
       "var gd = document.getElementById('462ded92-4ba6-4dd4-9a80-3b8b317542df');\n",
       "var x = new MutationObserver(function (mutations, observer) {{\n",
       "        var display = window.getComputedStyle(gd).display;\n",
       "        if (!display || display === 'none') {{\n",
       "            console.log([gd, 'removed!']);\n",
       "            Plotly.purge(gd);\n",
       "            observer.disconnect();\n",
       "        }}\n",
       "}});\n",
       "\n",
       "// Listen for the removal of the full notebook cells\n",
       "var notebookContainer = gd.closest('#notebook-container');\n",
       "if (notebookContainer) {{\n",
       "    x.observe(notebookContainer, {childList: true});\n",
       "}}\n",
       "\n",
       "// Listen for the clearing of the current output cell\n",
       "var outputEl = gd.closest('.output');\n",
       "if (outputEl) {{\n",
       "    x.observe(outputEl, {childList: true});\n",
       "}}\n",
       "\n",
       "                        })\n",
       "                };\n",
       "                });\n",
       "            </script>\n",
       "        </div>"
      ]
     },
     "metadata": {},
     "output_type": "display_data"
    }
   ],
   "source": [
    "YrSold.iplot(kind='bar', xTitle='YrSold', yTitle='SalePrice')"
   ]
  },
  {
   "cell_type": "code",
   "execution_count": null,
   "metadata": {},
   "outputs": [],
   "source": []
  },
  {
   "cell_type": "markdown",
   "metadata": {},
   "source": [
    "## Part 1.11 - Lot size and the price correspondingly\n",
    "\n",
    "### Vizualized the most common lot size and the prices\n",
    "##### LotArea: Lot size in square feet. "
   ]
  },
  {
   "cell_type": "markdown",
   "metadata": {},
   "source": [
    "## Part 1.10 - Base parameters"
   ]
  },
  {
   "cell_type": "code",
   "execution_count": 30,
   "metadata": {},
   "outputs": [
    {
     "data": {
      "image/png": "[encoded data removed]",
      "text/plain": [
       "<Figure size 1152x576 with 5 Axes>"
      ]
     },
     "metadata": {
      "needs_background": "light"
     },
     "output_type": "display_data"
    }
   ],
   "source": [
    "#To change the X\n",
    "cols=['LotArea','BsmtFinSF1','BsmtFinSF2','BsmtUnfSF', 'TotalBsmtSF', 'SalePrice']\n",
    "to=df[cols]\n",
    "fig,axes = plt.subplots(figsize = (16,8), nrows = 1, ncols = 5)\n",
    "for i in range(5):\n",
    "    plt.sca(axes[i])\n",
    "    plt.scatter(to.iloc[:,i],to['SalePrice'], alpha = 0.8)\n",
    "    plt.xlabel(to.iloc[:,i].name)\n",
    "    plt.ylabel('SalePrice')"
   ]
  },
  {
   "cell_type": "code",
   "execution_count": 50,
   "metadata": {},
   "outputs": [],
   "source": [
    "# from pandas.tools.plotting import radviz\n",
    "# columns = ['SalePrice','OverallQual','TotalBsmtSF','GrLivArea','GarageArea','FullBath','YearBuilt','YearRemodAdd']\n",
    "# radviz(train[columns], \"OverallQual\")\n",
    "# to try later"
   ]
  },
  {
   "cell_type": "markdown",
   "metadata": {},
   "source": [
    "# Part 2 - Compute field relationship scores with the chosen statistical model."
   ]
  },
  {
   "cell_type": "code",
   "execution_count": null,
   "metadata": {},
   "outputs": [],
   "source": [
    "df.boxplot(\"SalePrice\", by=\"MSZoning\", figsize=(20,6))"
   ]
  },
  {
   "cell_type": "code",
   "execution_count": null,
   "metadata": {},
   "outputs": [],
   "source": [
    "df.head()"
   ]
  },
  {
   "cell_type": "code",
   "execution_count": null,
   "metadata": {},
   "outputs": [],
   "source": [
    "model = ols('SalePrice ~ YrSold + C(OverallCond)+ C(MSSubClass)+ C(LotArea)+ C(MSZoning)', data=df).fit()\n",
    "anova_table = sm.stats.anova_lm(model, typ=2)\n",
    "anova_table"
   ]
  },
  {
   "cell_type": "code",
   "execution_count": null,
   "metadata": {},
   "outputs": [],
   "source": [
    "model.summary()"
   ]
  },
  {
   "cell_type": "code",
   "execution_count": null,
   "metadata": {},
   "outputs": [],
   "source": [
    "# X = df[['MSZoning']] # here we have 2 variables for multiple regression. If you just want to use one variable for simple linear regression, then use X = df['Interest_Rate'] for example.Alternatively, you may add additional variables within the brackets\n",
    "# Y = df['MSSubClass']\n",
    "\n",
    "# X = sm.add_constant(X) # adding a constant\n",
    "\n",
    "# model = sm.OLS(Y, X).fit()\n",
    "# predictions = model.predict(X) \n",
    "\n",
    "# print_model = model.summary()\n",
    "# print(print_model)"
   ]
  },
  {
   "cell_type": "code",
   "execution_count": null,
   "metadata": {},
   "outputs": [],
   "source": [
    "# stats.f_oneway(*df['OverallCond'])"
   ]
  },
  {
   "cell_type": "code",
   "execution_count": null,
   "metadata": {},
   "outputs": [],
   "source": [
    "numerics = ['int16', 'int32', 'int64', 'float16', 'float32', 'float64']\n",
    "newdf = df.select_dtypes(include=numerics)"
   ]
  },
  {
   "cell_type": "code",
   "execution_count": null,
   "metadata": {},
   "outputs": [],
   "source": [
    "newdf"
   ]
  },
  {
   "cell_type": "code",
   "execution_count": null,
   "metadata": {},
   "outputs": [],
   "source": [
    "Matched Pairs Test\n",
    "is thre a significant difference between Surface/LotArea/OverallCondition/Overall Quality vs SalePrice mean?\n",
    "Our hypothesis is that the Size of the Lot or Quality has incidence on the price\n",
    "Used ttest_rel function from scipy.stats.\n",
    "Compare the two columns to see if there is a statistically significant difference between them."
   ]
  },
  {
   "cell_type": "code",
   "execution_count": null,
   "metadata": {},
   "outputs": [],
   "source": [
    "# Rechecked first the type of the columns:\n",
    "print('OverallQual type:', df.OverallQual.dtypes)\n",
    "print('OverallCond type:', df.OverallCond.dtypes)\n",
    "print('LotArea type:', df.LotArea.dtypes)\n",
    "print('TotalBsmtSF type:', df.TotalBsmtSF.dtypes)\n",
    "\n",
    "stats.ttest_rel(df['TotalBsmtSF'],df['SalePrice'], axis=0)"
   ]
  },
  {
   "cell_type": "markdown",
   "metadata": {},
   "source": [
    "Null Hyp rejected. The values means cannot be considered to be compared to means of the SalePrice.\n",
    "pvalue is 0.\n",
    "Matched Pair Test is not adapted here."
   ]
  },
  {
   "cell_type": "code",
   "execution_count": null,
   "metadata": {},
   "outputs": [],
   "source": [
    "newdf.sort_values('SalePrice').tail(1) #outlier with sold price 755k has index 691 or ID 692"
   ]
  },
  {
   "cell_type": "code",
   "execution_count": null,
   "metadata": {},
   "outputs": [],
   "source": [
    "YrSold=df.groupby('YrSold', as_index=True)['SalePrice'].agg(Minimum=np.min, Maximum=np.max, Average=np.mean)\n",
    "YrSold"
   ]
  },
  {
   "cell_type": "code",
   "execution_count": null,
   "metadata": {},
   "outputs": [],
   "source": []
  }
 ],
 "metadata": {
  "kernelspec": {
   "display_name": "Python 3",
   "language": "python",
   "name": "python3"
  },
  "language_info": {
   "codemirror_mode": {
    "name": "ipython",
    "version": 3
   },
   "file_extension": ".py",
   "mimetype": "text/x-python",
   "name": "python",
   "nbconvert_exporter": "python",
   "pygments_lexer": "ipython3",
   "version": "3.7.3"
  }
 },
 "nbformat": 4,
 "nbformat_minor": 2
}
