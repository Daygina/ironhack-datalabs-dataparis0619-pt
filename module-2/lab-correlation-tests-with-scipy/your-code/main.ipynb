{
 "cells": [
  {
   "cell_type": "markdown",
   "metadata": {},
   "source": [
    "# Before your start:\n",
    "- Read the README.md file\n",
    "- Comment as much as you can and use the resources (README.md file)\n",
    "- Happy learning!"
   ]
  },
  {
   "cell_type": "code",
   "execution_count": 112,
   "metadata": {},
   "outputs": [],
   "source": [
    "%matplotlib inline\n",
    "import numpy as np\n",
    "import pandas as pd\n",
    "import scipy.stats as stats\n",
    "import statsmodels.api as sm\n",
    "import statsmodels.formula.api as smf\n",
    "import researchpy as rp\n",
    "# import researchpy as rp  \n",
    "# => rp.summary_cont(fifa['ValueNumeric'])\n",
    "#ols\n",
    "import matplotlib.pyplot as plt\n",
    "\n",
    "from sklearn import datasets, linear_model\n",
    "from sklearn.metrics import mean_squared_error, r2_score"
   ]
  },
  {
   "cell_type": "markdown",
   "metadata": {},
   "source": [
    "# Challenge 1 - Analysis of Variance\n",
    "\n",
    "In this part of the lesson, we will perform an analysis of variance to determine whether the factors in our model create a significant difference in the group means. We will be examining a dataset of FIFA players. We'll start by loading the data using the code in the cell below."
   ]
  },
  {
   "cell_type": "code",
   "execution_count": 3,
   "metadata": {},
   "outputs": [],
   "source": [
    "fifa = pd.read_csv('fifa.csv')"
   ]
  },
  {
   "cell_type": "markdown",
   "metadata": {},
   "source": [
    "Let's examine the dataset by looking at the `head`."
   ]
  },
  {
   "cell_type": "code",
   "execution_count": 37,
   "metadata": {
    "scrolled": true
   },
   "outputs": [
    {
     "data": {
      "text/html": [
       "<div>\n",
       "<style scoped>\n",
       "    .dataframe tbody tr th:only-of-type {\n",
       "        vertical-align: middle;\n",
       "    }\n",
       "\n",
       "    .dataframe tbody tr th {\n",
       "        vertical-align: top;\n",
       "    }\n",
       "\n",
       "    .dataframe thead th {\n",
       "        text-align: right;\n",
       "    }\n",
       "</style>\n",
       "<table border=\"1\" class=\"dataframe\">\n",
       "  <thead>\n",
       "    <tr style=\"text-align: right;\">\n",
       "      <th></th>\n",
       "      <th>Name</th>\n",
       "      <th>Age</th>\n",
       "      <th>Nationality</th>\n",
       "      <th>Overall</th>\n",
       "      <th>Potential</th>\n",
       "      <th>Club</th>\n",
       "      <th>Value</th>\n",
       "      <th>Preferred Foot</th>\n",
       "      <th>Position</th>\n",
       "      <th>Weak Foot</th>\n",
       "      <th>...</th>\n",
       "      <th>SprintSpeed</th>\n",
       "      <th>Stamina</th>\n",
       "      <th>Strength</th>\n",
       "      <th>LongShots</th>\n",
       "      <th>Aggression</th>\n",
       "      <th>Interceptions</th>\n",
       "      <th>Positioning</th>\n",
       "      <th>Vision</th>\n",
       "      <th>Penalties</th>\n",
       "      <th>ValueNumeric</th>\n",
       "    </tr>\n",
       "  </thead>\n",
       "  <tbody>\n",
       "    <tr>\n",
       "      <td>0</td>\n",
       "      <td>L. Messi</td>\n",
       "      <td>31</td>\n",
       "      <td>Argentina</td>\n",
       "      <td>94</td>\n",
       "      <td>94</td>\n",
       "      <td>FC Barcelona</td>\n",
       "      <td>€110.5M</td>\n",
       "      <td>Left</td>\n",
       "      <td>RF</td>\n",
       "      <td>4.0</td>\n",
       "      <td>...</td>\n",
       "      <td>86.0</td>\n",
       "      <td>72.0</td>\n",
       "      <td>59.0</td>\n",
       "      <td>94.0</td>\n",
       "      <td>48.0</td>\n",
       "      <td>22.0</td>\n",
       "      <td>94.0</td>\n",
       "      <td>94.0</td>\n",
       "      <td>75.0</td>\n",
       "      <td>110</td>\n",
       "    </tr>\n",
       "    <tr>\n",
       "      <td>1</td>\n",
       "      <td>Cristiano Ronaldo</td>\n",
       "      <td>33</td>\n",
       "      <td>Portugal</td>\n",
       "      <td>94</td>\n",
       "      <td>94</td>\n",
       "      <td>Juventus</td>\n",
       "      <td>€77M</td>\n",
       "      <td>Right</td>\n",
       "      <td>ST</td>\n",
       "      <td>4.0</td>\n",
       "      <td>...</td>\n",
       "      <td>91.0</td>\n",
       "      <td>88.0</td>\n",
       "      <td>79.0</td>\n",
       "      <td>93.0</td>\n",
       "      <td>63.0</td>\n",
       "      <td>29.0</td>\n",
       "      <td>95.0</td>\n",
       "      <td>82.0</td>\n",
       "      <td>85.0</td>\n",
       "      <td>77</td>\n",
       "    </tr>\n",
       "    <tr>\n",
       "      <td>2</td>\n",
       "      <td>Neymar Jr</td>\n",
       "      <td>26</td>\n",
       "      <td>Brazil</td>\n",
       "      <td>92</td>\n",
       "      <td>93</td>\n",
       "      <td>Paris Saint-Germain</td>\n",
       "      <td>€118.5M</td>\n",
       "      <td>Right</td>\n",
       "      <td>LW</td>\n",
       "      <td>5.0</td>\n",
       "      <td>...</td>\n",
       "      <td>90.0</td>\n",
       "      <td>81.0</td>\n",
       "      <td>49.0</td>\n",
       "      <td>82.0</td>\n",
       "      <td>56.0</td>\n",
       "      <td>36.0</td>\n",
       "      <td>89.0</td>\n",
       "      <td>87.0</td>\n",
       "      <td>81.0</td>\n",
       "      <td>118</td>\n",
       "    </tr>\n",
       "  </tbody>\n",
       "</table>\n",
       "<p>3 rows × 21 columns</p>\n",
       "</div>"
      ],
      "text/plain": [
       "                Name  Age Nationality  Overall  Potential  \\\n",
       "0           L. Messi   31   Argentina       94         94   \n",
       "1  Cristiano Ronaldo   33    Portugal       94         94   \n",
       "2          Neymar Jr   26      Brazil       92         93   \n",
       "\n",
       "                  Club    Value Preferred Foot Position  Weak Foot  ...  \\\n",
       "0         FC Barcelona  €110.5M           Left       RF        4.0  ...   \n",
       "1             Juventus     €77M          Right       ST        4.0  ...   \n",
       "2  Paris Saint-Germain  €118.5M          Right       LW        5.0  ...   \n",
       "\n",
       "   SprintSpeed  Stamina  Strength  LongShots  Aggression  Interceptions  \\\n",
       "0         86.0     72.0      59.0       94.0        48.0           22.0   \n",
       "1         91.0     88.0      79.0       93.0        63.0           29.0   \n",
       "2         90.0     81.0      49.0       82.0        56.0           36.0   \n",
       "\n",
       "   Positioning  Vision  Penalties  ValueNumeric  \n",
       "0         94.0    94.0       75.0           110  \n",
       "1         95.0    82.0       85.0            77  \n",
       "2         89.0    87.0       81.0           118  \n",
       "\n",
       "[3 rows x 21 columns]"
      ]
     },
     "execution_count": 37,
     "metadata": {},
     "output_type": "execute_result"
    }
   ],
   "source": [
    "fifa.head(3)"
   ]
  },
  {
   "cell_type": "markdown",
   "metadata": {},
   "source": [
    "Player's values are expressed in millions of euros. We would like this column to be numeric. Therefore, let's create a numeric value column. Do this by stripping all non-numeric characters from each cell. Assign this new data to `ValueNumeric`. There is no need to multiply the value to be expressed in millions. "
   ]
  },
  {
   "cell_type": "code",
   "execution_count": 5,
   "metadata": {},
   "outputs": [],
   "source": [
    "fifa['ValueNumeric'] = fifa['Value'].str.extract('(\\d+)')"
   ]
  },
  {
   "cell_type": "code",
   "execution_count": 6,
   "metadata": {},
   "outputs": [
    {
     "data": {
      "text/plain": [
       "array(['RF', 'ST', 'LW', 'GK', 'RCM', 'LF', 'RS', 'RCB', 'LCM', 'CB',\n",
       "       'LDM', 'CAM', 'CDM', 'LS', 'LCB', 'RM', 'LAM', 'LM', 'LB', 'RDM',\n",
       "       'RW', 'CM', 'RB', 'RAM', 'CF', 'RWB', 'LWB', nan], dtype=object)"
      ]
     },
     "execution_count": 6,
     "metadata": {},
     "output_type": "execute_result"
    }
   ],
   "source": [
    "fifa.Position.unique()"
   ]
  },
  {
   "cell_type": "code",
   "execution_count": 32,
   "metadata": {},
   "outputs": [
    {
     "data": {
      "text/plain": [
       "Name               object\n",
       "Age                 int64\n",
       "Nationality        object\n",
       "Overall             int64\n",
       "Potential           int64\n",
       "Club               object\n",
       "Value              object\n",
       "Preferred Foot     object\n",
       "Position           object\n",
       "Weak Foot         float64\n",
       "Acceleration      float64\n",
       "SprintSpeed       float64\n",
       "Stamina           float64\n",
       "Strength          float64\n",
       "LongShots         float64\n",
       "Aggression        float64\n",
       "Interceptions     float64\n",
       "Positioning       float64\n",
       "Vision            float64\n",
       "Penalties         float64\n",
       "ValueNumeric       object\n",
       "dtype: object"
      ]
     },
     "execution_count": 32,
     "metadata": {},
     "output_type": "execute_result"
    }
   ],
   "source": [
    "fifa.dtypes"
   ]
  },
  {
   "cell_type": "code",
   "execution_count": 35,
   "metadata": {},
   "outputs": [],
   "source": [
    "fifa[\"ValueNumeric\"]=pd.to_numeric(fifa[\"ValueNumeric\"], errors='coerce')"
   ]
  },
  {
   "cell_type": "code",
   "execution_count": 8,
   "metadata": {},
   "outputs": [],
   "source": [
    "#fifa['ValueNumeric2'] = fifa['Value'].str.replace('[.]', '000')"
   ]
  },
  {
   "cell_type": "code",
   "execution_count": 38,
   "metadata": {},
   "outputs": [
    {
     "data": {
      "text/plain": [
       "dtype('int64')"
      ]
     },
     "execution_count": 38,
     "metadata": {},
     "output_type": "execute_result"
    }
   ],
   "source": [
    "fifa['ValueNumeric'].dtypes"
   ]
  },
  {
   "cell_type": "code",
   "execution_count": 89,
   "metadata": {},
   "outputs": [
    {
     "data": {
      "text/plain": [
       "Index(['Name', 'Age', 'Nationality', 'Overall', 'Potential', 'Club', 'Value',\n",
       "       'Preferred Foot', 'Position', 'Weak Foot', 'Acceleration',\n",
       "       'SprintSpeed', 'Stamina', 'Strength', 'LongShots', 'Aggression',\n",
       "       'Interceptions', 'Positioning', 'Vision', 'Penalties', 'ValueNumeric'],\n",
       "      dtype='object')"
      ]
     },
     "execution_count": 89,
     "metadata": {},
     "output_type": "execute_result"
    }
   ],
   "source": [
    "fifa.columns"
   ]
  },
  {
   "cell_type": "code",
   "execution_count": 90,
   "metadata": {},
   "outputs": [],
   "source": [
    "fifa = fifa.rename(columns={\"Preferred Foot\": \"Preferred_Foot\"})"
   ]
  },
  {
   "cell_type": "markdown",
   "metadata": {},
   "source": [
    "#### We'd like to determine whether a player's preffered foot and position have an impact on their value. \n",
    "\n",
    "Using the `statsmodels` library, we are able to produce an ANOVA table without munging our data. Create an ANOVA table with value as a function of position and preferred foot. Recall that pivoting is performed by the `C` function.\n",
    "\n",
    "Hint: For columns that have a space in their name, it is best to refer to the column using the dataframe (For example: for column `A`, we will use `df['A']`)."
   ]
  },
  {
   "cell_type": "code",
   "execution_count": 41,
   "metadata": {},
   "outputs": [
    {
     "data": {
      "text/plain": [
       "<matplotlib.axes._subplots.AxesSubplot at 0x25c17461fd0>"
      ]
     },
     "execution_count": 41,
     "metadata": {},
     "output_type": "execute_result"
    },
    {
     "data": {
      "image/png": "[encoded data removed]",
      "text/plain": [
       "<Figure size 1440x432 with 1 Axes>"
      ]
     },
     "metadata": {
      "needs_background": "light"
     },
     "output_type": "display_data"
    }
   ],
   "source": [
    "fifa.boxplot(\"ValueNumeric\", by=\"Position\", figsize=(20,6))"
   ]
  },
  {
   "cell_type": "code",
   "execution_count": 91,
   "metadata": {},
   "outputs": [
    {
     "data": {
      "text/html": [
       "<div>\n",
       "<style scoped>\n",
       "    .dataframe tbody tr th:only-of-type {\n",
       "        vertical-align: middle;\n",
       "    }\n",
       "\n",
       "    .dataframe tbody tr th {\n",
       "        vertical-align: top;\n",
       "    }\n",
       "\n",
       "    .dataframe thead th {\n",
       "        text-align: right;\n",
       "    }\n",
       "</style>\n",
       "<table border=\"1\" class=\"dataframe\">\n",
       "  <thead>\n",
       "    <tr style=\"text-align: right;\">\n",
       "      <th>Preferred_Foot</th>\n",
       "      <th>Left</th>\n",
       "      <th>Right</th>\n",
       "    </tr>\n",
       "    <tr>\n",
       "      <th>Position</th>\n",
       "      <th></th>\n",
       "      <th></th>\n",
       "    </tr>\n",
       "  </thead>\n",
       "  <tbody>\n",
       "    <tr>\n",
       "      <td>CAM</td>\n",
       "      <td>60758</td>\n",
       "      <td>175811</td>\n",
       "    </tr>\n",
       "    <tr>\n",
       "      <td>CB</td>\n",
       "      <td>109512</td>\n",
       "      <td>408627</td>\n",
       "    </tr>\n",
       "    <tr>\n",
       "      <td>CDM</td>\n",
       "      <td>38172</td>\n",
       "      <td>234332</td>\n",
       "    </tr>\n",
       "    <tr>\n",
       "      <td>CF</td>\n",
       "      <td>6478</td>\n",
       "      <td>12735</td>\n",
       "    </tr>\n",
       "    <tr>\n",
       "      <td>CM</td>\n",
       "      <td>68361</td>\n",
       "      <td>301819</td>\n",
       "    </tr>\n",
       "    <tr>\n",
       "      <td>GK</td>\n",
       "      <td>46604</td>\n",
       "      <td>426644</td>\n",
       "    </tr>\n",
       "    <tr>\n",
       "      <td>LAM</td>\n",
       "      <td>107</td>\n",
       "      <td>1985</td>\n",
       "    </tr>\n",
       "    <tr>\n",
       "      <td>LB</td>\n",
       "      <td>341757</td>\n",
       "      <td>42874</td>\n",
       "    </tr>\n",
       "    <tr>\n",
       "      <td>LCB</td>\n",
       "      <td>71961</td>\n",
       "      <td>92055</td>\n",
       "    </tr>\n",
       "    <tr>\n",
       "      <td>LCM</td>\n",
       "      <td>17644</td>\n",
       "      <td>74143</td>\n",
       "    </tr>\n",
       "    <tr>\n",
       "      <td>LDM</td>\n",
       "      <td>11902</td>\n",
       "      <td>51765</td>\n",
       "    </tr>\n",
       "    <tr>\n",
       "      <td>LF</td>\n",
       "      <td>523</td>\n",
       "      <td>1130</td>\n",
       "    </tr>\n",
       "    <tr>\n",
       "      <td>LM</td>\n",
       "      <td>119053</td>\n",
       "      <td>173892</td>\n",
       "    </tr>\n",
       "    <tr>\n",
       "      <td>LS</td>\n",
       "      <td>4696</td>\n",
       "      <td>41081</td>\n",
       "    </tr>\n",
       "    <tr>\n",
       "      <td>LW</td>\n",
       "      <td>29311</td>\n",
       "      <td>71127</td>\n",
       "    </tr>\n",
       "    <tr>\n",
       "      <td>LWB</td>\n",
       "      <td>17213</td>\n",
       "      <td>2498</td>\n",
       "    </tr>\n",
       "    <tr>\n",
       "      <td>RAM</td>\n",
       "      <td>874</td>\n",
       "      <td>1451</td>\n",
       "    </tr>\n",
       "    <tr>\n",
       "      <td>RB</td>\n",
       "      <td>4443</td>\n",
       "      <td>365577</td>\n",
       "    </tr>\n",
       "    <tr>\n",
       "      <td>RCB</td>\n",
       "      <td>8109</td>\n",
       "      <td>164918</td>\n",
       "    </tr>\n",
       "    <tr>\n",
       "      <td>RCM</td>\n",
       "      <td>11080</td>\n",
       "      <td>82753</td>\n",
       "    </tr>\n",
       "    <tr>\n",
       "      <td>RDM</td>\n",
       "      <td>5860</td>\n",
       "      <td>51505</td>\n",
       "    </tr>\n",
       "    <tr>\n",
       "      <td>RF</td>\n",
       "      <td>1193</td>\n",
       "      <td>697</td>\n",
       "    </tr>\n",
       "    <tr>\n",
       "      <td>RM</td>\n",
       "      <td>62222</td>\n",
       "      <td>236731</td>\n",
       "    </tr>\n",
       "    <tr>\n",
       "      <td>RS</td>\n",
       "      <td>7639</td>\n",
       "      <td>40949</td>\n",
       "    </tr>\n",
       "    <tr>\n",
       "      <td>RW</td>\n",
       "      <td>17699</td>\n",
       "      <td>77297</td>\n",
       "    </tr>\n",
       "    <tr>\n",
       "      <td>RWB</td>\n",
       "      <td>1525</td>\n",
       "      <td>22563</td>\n",
       "    </tr>\n",
       "    <tr>\n",
       "      <td>ST</td>\n",
       "      <td>81766</td>\n",
       "      <td>502663</td>\n",
       "    </tr>\n",
       "  </tbody>\n",
       "</table>\n",
       "</div>"
      ],
      "text/plain": [
       "Preferred_Foot    Left   Right\n",
       "Position                      \n",
       "CAM              60758  175811\n",
       "CB              109512  408627\n",
       "CDM              38172  234332\n",
       "CF                6478   12735\n",
       "CM               68361  301819\n",
       "GK               46604  426644\n",
       "LAM                107    1985\n",
       "LB              341757   42874\n",
       "LCB              71961   92055\n",
       "LCM              17644   74143\n",
       "LDM              11902   51765\n",
       "LF                 523    1130\n",
       "LM              119053  173892\n",
       "LS                4696   41081\n",
       "LW               29311   71127\n",
       "LWB              17213    2498\n",
       "RAM                874    1451\n",
       "RB                4443  365577\n",
       "RCB               8109  164918\n",
       "RCM              11080   82753\n",
       "RDM               5860   51505\n",
       "RF                1193     697\n",
       "RM               62222  236731\n",
       "RS                7639   40949\n",
       "RW               17699   77297\n",
       "RWB               1525   22563\n",
       "ST               81766  502663"
      ]
     },
     "execution_count": 91,
     "metadata": {},
     "output_type": "execute_result"
    }
   ],
   "source": [
    "table=fifa.pivot_table(index=\"Position\",columns=\"Preferred_Foot\", values=\"ValueNumeric\", aggfunc=np.sum)\n",
    "table"
   ]
  },
  {
   "cell_type": "code",
   "execution_count": 62,
   "metadata": {},
   "outputs": [
    {
     "name": "stdout",
     "output_type": "stream",
     "text": [
      "8.725301937356651 0.004703927440576636\n"
     ]
    }
   ],
   "source": [
    "fvalue, pvalue = stats.f_oneway(table['Left'], table['Right'])\n",
    "print(fvalue, pvalue)"
   ]
  },
  {
   "cell_type": "code",
   "execution_count": 71,
   "metadata": {},
   "outputs": [
    {
     "name": "stdout",
     "output_type": "stream",
     "text": [
      "7.441282670559635 0.008673017592822439\n"
     ]
    }
   ],
   "source": [
    "w, pvalue = stats.levene(table['Left'], table['Right'])\n",
    "print(w, pvalue)"
   ]
  },
  {
   "cell_type": "code",
   "execution_count": null,
   "metadata": {},
   "outputs": [],
   "source": [
    "w, pvalue = stats.shapiro(model.resid)\n",
    "print(w, pvalue)"
   ]
  },
  {
   "cell_type": "code",
   "execution_count": 83,
   "metadata": {},
   "outputs": [
    {
     "name": "stdout",
     "output_type": "stream",
     "text": [
      "\n",
      "\n"
     ]
    },
    {
     "data": {
      "text/html": [
       "<div>\n",
       "<style scoped>\n",
       "    .dataframe tbody tr th:only-of-type {\n",
       "        vertical-align: middle;\n",
       "    }\n",
       "\n",
       "    .dataframe tbody tr th {\n",
       "        vertical-align: top;\n",
       "    }\n",
       "\n",
       "    .dataframe thead th {\n",
       "        text-align: right;\n",
       "    }\n",
       "</style>\n",
       "<table border=\"1\" class=\"dataframe\">\n",
       "  <thead>\n",
       "    <tr style=\"text-align: right;\">\n",
       "      <th></th>\n",
       "      <th>Variable</th>\n",
       "      <th>N</th>\n",
       "      <th>Mean</th>\n",
       "      <th>SD</th>\n",
       "      <th>SE</th>\n",
       "      <th>95% Conf.</th>\n",
       "      <th>Interval</th>\n",
       "    </tr>\n",
       "  </thead>\n",
       "  <tbody>\n",
       "    <tr>\n",
       "      <td>0</td>\n",
       "      <td>Age</td>\n",
       "      <td>18207.0</td>\n",
       "      <td>25.122206</td>\n",
       "      <td>4.669943</td>\n",
       "      <td>0.034609</td>\n",
       "      <td>25.054368</td>\n",
       "      <td>25.190043</td>\n",
       "    </tr>\n",
       "  </tbody>\n",
       "</table>\n",
       "</div>"
      ],
      "text/plain": [
       "  Variable        N       Mean        SD        SE  95% Conf.   Interval\n",
       "0      Age  18207.0  25.122206  4.669943  0.034609  25.054368  25.190043"
      ]
     },
     "execution_count": 83,
     "metadata": {},
     "output_type": "execute_result"
    }
   ],
   "source": [
    "rp.summary_cont(fifa['Age'])"
   ]
  },
  {
   "cell_type": "code",
   "execution_count": 84,
   "metadata": {},
   "outputs": [
    {
     "name": "stdout",
     "output_type": "stream",
     "text": [
      "\n",
      "\n"
     ]
    },
    {
     "data": {
      "text/html": [
       "<div>\n",
       "<style scoped>\n",
       "    .dataframe tbody tr th:only-of-type {\n",
       "        vertical-align: middle;\n",
       "    }\n",
       "\n",
       "    .dataframe tbody tr th {\n",
       "        vertical-align: top;\n",
       "    }\n",
       "\n",
       "    .dataframe thead th {\n",
       "        text-align: right;\n",
       "    }\n",
       "</style>\n",
       "<table border=\"1\" class=\"dataframe\">\n",
       "  <thead>\n",
       "    <tr style=\"text-align: right;\">\n",
       "      <th></th>\n",
       "      <th>Variable</th>\n",
       "      <th>N</th>\n",
       "      <th>Mean</th>\n",
       "      <th>SD</th>\n",
       "      <th>SE</th>\n",
       "      <th>95% Conf.</th>\n",
       "      <th>Interval</th>\n",
       "    </tr>\n",
       "  </thead>\n",
       "  <tbody>\n",
       "    <tr>\n",
       "      <td>0</td>\n",
       "      <td>ValueNumeric</td>\n",
       "      <td>18207.0</td>\n",
       "      <td>264.903279</td>\n",
       "      <td>289.676075</td>\n",
       "      <td>2.146809</td>\n",
       "      <td>260.695331</td>\n",
       "      <td>269.111227</td>\n",
       "    </tr>\n",
       "  </tbody>\n",
       "</table>\n",
       "</div>"
      ],
      "text/plain": [
       "       Variable        N        Mean          SD        SE   95% Conf.  \\\n",
       "0  ValueNumeric  18207.0  264.903279  289.676075  2.146809  260.695331   \n",
       "\n",
       "     Interval  \n",
       "0  269.111227  "
      ]
     },
     "execution_count": 84,
     "metadata": {},
     "output_type": "execute_result"
    }
   ],
   "source": [
    "rp.summary_cont(fifa['ValueNumeric']) "
   ]
  },
  {
   "cell_type": "markdown",
   "metadata": {},
   "source": [
    "What is your conclusion from this ANOVA?"
   ]
  },
  {
   "cell_type": "code",
   "execution_count": null,
   "metadata": {},
   "outputs": [],
   "source": [
    "We'd like to determine whether a player's preffered foot and position have an impact on their value\n",
    "\n",
    "The one-way ANOVA tests the null hypothesis that Left or Right groups have the same mean for the Salary (ValueNumeric). \n",
    "These groups have different size.\n",
    "\n",
    "F-value=8.725301937356651; pvalue=0.004703927440576636\n",
    "\n",
    "pvalue is less than 0% for the F-value of 8.72 - which is situated on the rejection area.\n",
    "ANOVA Hypotheses\n",
    "\n",
    "    Null hypotheses: Groups means are equal (no variation in means of groups)\n",
    "    Alternative hypotheses: At least, one group mean is different from other groups\n"
   ]
  },
  {
   "cell_type": "code",
   "execution_count": null,
   "metadata": {},
   "outputs": [],
   "source": [
    "We'd like to determine whether a player's preffered foot and position have an impact on their value.\n",
    "Using the statsmodels library, we are able to produce an ANOVA table without munging our data. \n",
    "Create an ANOVA table with value as a function of position and preferred foot. \n",
    "Recall that pivoting is performed by the C function.\n"
   ]
  },
  {
   "cell_type": "code",
   "execution_count": 100,
   "metadata": {},
   "outputs": [
    {
     "data": {
      "text/html": [
       "<div>\n",
       "<style scoped>\n",
       "    .dataframe tbody tr th:only-of-type {\n",
       "        vertical-align: middle;\n",
       "    }\n",
       "\n",
       "    .dataframe tbody tr th {\n",
       "        vertical-align: top;\n",
       "    }\n",
       "\n",
       "    .dataframe thead th {\n",
       "        text-align: right;\n",
       "    }\n",
       "</style>\n",
       "<table border=\"1\" class=\"dataframe\">\n",
       "  <thead>\n",
       "    <tr style=\"text-align: right;\">\n",
       "      <th></th>\n",
       "      <th>sum_sq</th>\n",
       "      <th>df</th>\n",
       "      <th>F</th>\n",
       "      <th>PR(&gt;F)</th>\n",
       "    </tr>\n",
       "  </thead>\n",
       "  <tbody>\n",
       "    <tr>\n",
       "      <td>C(Position)</td>\n",
       "      <td>8.781574e+06</td>\n",
       "      <td>26.0</td>\n",
       "      <td>4.034803</td>\n",
       "      <td>2.119345e-11</td>\n",
       "    </tr>\n",
       "    <tr>\n",
       "      <td>C(Preferred_Foot)</td>\n",
       "      <td>7.258024e+04</td>\n",
       "      <td>1.0</td>\n",
       "      <td>0.867045</td>\n",
       "      <td>3.517870e-01</td>\n",
       "    </tr>\n",
       "    <tr>\n",
       "      <td>Residual</td>\n",
       "      <td>1.516739e+09</td>\n",
       "      <td>18119.0</td>\n",
       "      <td>NaN</td>\n",
       "      <td>NaN</td>\n",
       "    </tr>\n",
       "  </tbody>\n",
       "</table>\n",
       "</div>"
      ],
      "text/plain": [
       "                         sum_sq       df         F        PR(>F)\n",
       "C(Position)        8.781574e+06     26.0  4.034803  2.119345e-11\n",
       "C(Preferred_Foot)  7.258024e+04      1.0  0.867045  3.517870e-01\n",
       "Residual           1.516739e+09  18119.0       NaN           NaN"
      ]
     },
     "execution_count": 100,
     "metadata": {},
     "output_type": "execute_result"
    }
   ],
   "source": [
    "model = ols('ValueNumeric ~ C(Position) + C(Preferred_Foot)', data=fifa).fit()\n",
    "anova_table = sm.stats.anova_lm(model, typ=2)\n",
    "anova_table\n"
   ]
  },
  {
   "cell_type": "code",
   "execution_count": 102,
   "metadata": {},
   "outputs": [
    {
     "data": {
      "text/html": [
       "<table class=\"simpletable\">\n",
       "<caption>OLS Regression Results</caption>\n",
       "<tr>\n",
       "  <th>Dep. Variable:</th>      <td>ValueNumeric</td>   <th>  R-squared:         </th>  <td>   0.006</td>  \n",
       "</tr>\n",
       "<tr>\n",
       "  <th>Model:</th>                   <td>OLS</td>       <th>  Adj. R-squared:    </th>  <td>   0.004</td>  \n",
       "</tr>\n",
       "<tr>\n",
       "  <th>Method:</th>             <td>Least Squares</td>  <th>  F-statistic:       </th>  <td>   4.023</td>  \n",
       "</tr>\n",
       "<tr>\n",
       "  <th>Date:</th>             <td>Fri, 13 Sep 2019</td> <th>  Prob (F-statistic):</th>  <td>1.04e-11</td>  \n",
       "</tr>\n",
       "<tr>\n",
       "  <th>Time:</th>                 <td>20:37:23</td>     <th>  Log-Likelihood:    </th> <td>-1.2858e+05</td>\n",
       "</tr>\n",
       "<tr>\n",
       "  <th>No. Observations:</th>      <td> 18147</td>      <th>  AIC:               </th>  <td>2.572e+05</td> \n",
       "</tr>\n",
       "<tr>\n",
       "  <th>Df Residuals:</th>          <td> 18119</td>      <th>  BIC:               </th>  <td>2.574e+05</td> \n",
       "</tr>\n",
       "<tr>\n",
       "  <th>Df Model:</th>              <td>    27</td>      <th>                     </th>      <td> </td>     \n",
       "</tr>\n",
       "<tr>\n",
       "  <th>Covariance Type:</th>      <td>nonrobust</td>    <th>                     </th>      <td> </td>     \n",
       "</tr>\n",
       "</table>\n",
       "<table class=\"simpletable\">\n",
       "<tr>\n",
       "               <td></td>                 <th>coef</th>     <th>std err</th>      <th>t</th>      <th>P>|t|</th>  <th>[0.025</th>    <th>0.975]</th>  \n",
       "</tr>\n",
       "<tr>\n",
       "  <th>Intercept</th>                  <td>  250.9457</td> <td>   10.290</td> <td>   24.388</td> <td> 0.000</td> <td>  230.777</td> <td>  271.115</td>\n",
       "</tr>\n",
       "<tr>\n",
       "  <th>C(Position)[T.CB]</th>          <td>   44.8886</td> <td>   11.604</td> <td>    3.868</td> <td> 0.000</td> <td>   22.143</td> <td>   67.634</td>\n",
       "</tr>\n",
       "<tr>\n",
       "  <th>C(Position)[T.CDM]</th>         <td>   41.2451</td> <td>   13.278</td> <td>    3.106</td> <td> 0.002</td> <td>   15.219</td> <td>   67.271</td>\n",
       "</tr>\n",
       "<tr>\n",
       "  <th>C(Position)[T.CF]</th>          <td>   12.8257</td> <td>   34.909</td> <td>    0.367</td> <td> 0.713</td> <td>  -55.599</td> <td>   81.250</td>\n",
       "</tr>\n",
       "<tr>\n",
       "  <th>C(Position)[T.CM]</th>          <td>   19.0961</td> <td>   12.153</td> <td>    1.571</td> <td> 0.116</td> <td>   -4.725</td> <td>   42.918</td>\n",
       "</tr>\n",
       "<tr>\n",
       "  <th>C(Position)[T.GK]</th>          <td>  -12.3332</td> <td>   11.387</td> <td>   -1.083</td> <td> 0.279</td> <td>  -34.653</td> <td>    9.986</td>\n",
       "</tr>\n",
       "<tr>\n",
       "  <th>C(Position)[T.LAM]</th>         <td> -148.2033</td> <td>   63.832</td> <td>   -2.322</td> <td> 0.020</td> <td> -273.319</td> <td>  -23.088</td>\n",
       "</tr>\n",
       "<tr>\n",
       "  <th>C(Position)[T.LB]</th>          <td>   40.6580</td> <td>   12.792</td> <td>    3.178</td> <td> 0.001</td> <td>   15.585</td> <td>   65.731</td>\n",
       "</tr>\n",
       "<tr>\n",
       "  <th>C(Position)[T.LCB]</th>         <td>    5.4044</td> <td>   14.739</td> <td>    0.367</td> <td> 0.714</td> <td>  -23.485</td> <td>   34.294</td>\n",
       "</tr>\n",
       "<tr>\n",
       "  <th>C(Position)[T.LCM]</th>         <td>  -14.4500</td> <td>   17.301</td> <td>   -0.835</td> <td> 0.404</td> <td>  -48.361</td> <td>   19.461</td>\n",
       "</tr>\n",
       "<tr>\n",
       "  <th>C(Position)[T.LDM]</th>         <td>   15.4220</td> <td>   20.785</td> <td>    0.742</td> <td> 0.458</td> <td>  -25.318</td> <td>   56.162</td>\n",
       "</tr>\n",
       "<tr>\n",
       "  <th>C(Position)[T.LF]</th>          <td> -136.3731</td> <td>   75.287</td> <td>   -1.811</td> <td> 0.070</td> <td> -283.944</td> <td>   11.197</td>\n",
       "</tr>\n",
       "<tr>\n",
       "  <th>C(Position)[T.LM]</th>          <td>   19.9932</td> <td>   12.815</td> <td>    1.560</td> <td> 0.119</td> <td>   -5.126</td> <td>   45.113</td>\n",
       "</tr>\n",
       "<tr>\n",
       "  <th>C(Position)[T.LS]</th>          <td>  -25.2063</td> <td>   22.185</td> <td>   -1.136</td> <td> 0.256</td> <td>  -68.691</td> <td>   18.278</td>\n",
       "</tr>\n",
       "<tr>\n",
       "  <th>C(Position)[T.LW]</th>          <td>   16.5732</td> <td>   17.524</td> <td>    0.946</td> <td> 0.344</td> <td>  -17.776</td> <td>   50.923</td>\n",
       "</tr>\n",
       "<tr>\n",
       "  <th>C(Position)[T.LWB]</th>         <td>    2.6003</td> <td>   34.236</td> <td>    0.076</td> <td> 0.939</td> <td>  -64.506</td> <td>   69.707</td>\n",
       "</tr>\n",
       "<tr>\n",
       "  <th>C(Position)[T.RAM]</th>         <td> -137.1081</td> <td>   63.832</td> <td>   -2.148</td> <td> 0.032</td> <td> -262.224</td> <td>  -11.992</td>\n",
       "</tr>\n",
       "<tr>\n",
       "  <th>C(Position)[T.RB]</th>          <td>   41.0758</td> <td>   12.429</td> <td>    3.305</td> <td> 0.001</td> <td>   16.713</td> <td>   65.438</td>\n",
       "</tr>\n",
       "<tr>\n",
       "  <th>C(Position)[T.RCB]</th>         <td>   15.6260</td> <td>   14.679</td> <td>    1.064</td> <td> 0.287</td> <td>  -13.147</td> <td>   44.399</td>\n",
       "</tr>\n",
       "<tr>\n",
       "  <th>C(Position)[T.RCM]</th>         <td>   -6.0710</td> <td>   17.389</td> <td>   -0.349</td> <td> 0.727</td> <td>  -40.155</td> <td>   28.013</td>\n",
       "</tr>\n",
       "<tr>\n",
       "  <th>C(Position)[T.RDM]</th>         <td>  -14.6763</td> <td>   20.639</td> <td>   -0.711</td> <td> 0.477</td> <td>  -55.131</td> <td>   25.778</td>\n",
       "</tr>\n",
       "<tr>\n",
       "  <th>C(Position)[T.RF]</th>          <td> -129.4046</td> <td>   72.936</td> <td>   -1.774</td> <td> 0.076</td> <td> -272.366</td> <td>   13.557</td>\n",
       "</tr>\n",
       "<tr>\n",
       "  <th>C(Position)[T.RM]</th>          <td>   19.2671</td> <td>   12.725</td> <td>    1.514</td> <td> 0.130</td> <td>   -5.675</td> <td>   44.209</td>\n",
       "</tr>\n",
       "<tr>\n",
       "  <th>C(Position)[T.RS]</th>          <td>   -7.1264</td> <td>   22.361</td> <td>   -0.319</td> <td> 0.750</td> <td>  -50.955</td> <td>   36.702</td>\n",
       "</tr>\n",
       "<tr>\n",
       "  <th>C(Position)[T.RW]</th>          <td>    9.8331</td> <td>   17.709</td> <td>    0.555</td> <td> 0.579</td> <td>  -24.879</td> <td>   44.545</td>\n",
       "</tr>\n",
       "<tr>\n",
       "  <th>C(Position)[T.RWB]</th>         <td>   31.1423</td> <td>   32.423</td> <td>    0.961</td> <td> 0.337</td> <td>  -32.410</td> <td>   94.694</td>\n",
       "</tr>\n",
       "<tr>\n",
       "  <th>C(Position)[T.ST]</th>          <td>   25.3507</td> <td>   11.264</td> <td>    2.251</td> <td> 0.024</td> <td>    3.273</td> <td>   47.429</td>\n",
       "</tr>\n",
       "<tr>\n",
       "  <th>C(Preferred_Foot)[T.Right]</th> <td>   -5.4658</td> <td>    5.870</td> <td>   -0.931</td> <td> 0.352</td> <td>  -16.971</td> <td>    6.040</td>\n",
       "</tr>\n",
       "</table>\n",
       "<table class=\"simpletable\">\n",
       "<tr>\n",
       "  <th>Omnibus:</th>       <td>2045.551</td> <th>  Durbin-Watson:     </th> <td>   0.997</td>\n",
       "</tr>\n",
       "<tr>\n",
       "  <th>Prob(Omnibus):</th>  <td> 0.000</td>  <th>  Jarque-Bera (JB):  </th> <td>2314.295</td>\n",
       "</tr>\n",
       "<tr>\n",
       "  <th>Skew:</th>           <td> 0.832</td>  <th>  Prob(JB):          </th> <td>    0.00</td>\n",
       "</tr>\n",
       "<tr>\n",
       "  <th>Kurtosis:</th>       <td> 2.461</td>  <th>  Cond. No.          </th> <td>    46.6</td>\n",
       "</tr>\n",
       "</table><br/><br/>Warnings:<br/>[1] Standard Errors assume that the covariance matrix of the errors is correctly specified."
      ],
      "text/plain": [
       "<class 'statsmodels.iolib.summary.Summary'>\n",
       "\"\"\"\n",
       "                            OLS Regression Results                            \n",
       "==============================================================================\n",
       "Dep. Variable:           ValueNumeric   R-squared:                       0.006\n",
       "Model:                            OLS   Adj. R-squared:                  0.004\n",
       "Method:                 Least Squares   F-statistic:                     4.023\n",
       "Date:                Fri, 13 Sep 2019   Prob (F-statistic):           1.04e-11\n",
       "Time:                        20:37:23   Log-Likelihood:            -1.2858e+05\n",
       "No. Observations:               18147   AIC:                         2.572e+05\n",
       "Df Residuals:                   18119   BIC:                         2.574e+05\n",
       "Df Model:                          27                                         \n",
       "Covariance Type:            nonrobust                                         \n",
       "==============================================================================================\n",
       "                                 coef    std err          t      P>|t|      [0.025      0.975]\n",
       "----------------------------------------------------------------------------------------------\n",
       "Intercept                    250.9457     10.290     24.388      0.000     230.777     271.115\n",
       "C(Position)[T.CB]             44.8886     11.604      3.868      0.000      22.143      67.634\n",
       "C(Position)[T.CDM]            41.2451     13.278      3.106      0.002      15.219      67.271\n",
       "C(Position)[T.CF]             12.8257     34.909      0.367      0.713     -55.599      81.250\n",
       "C(Position)[T.CM]             19.0961     12.153      1.571      0.116      -4.725      42.918\n",
       "C(Position)[T.GK]            -12.3332     11.387     -1.083      0.279     -34.653       9.986\n",
       "C(Position)[T.LAM]          -148.2033     63.832     -2.322      0.020    -273.319     -23.088\n",
       "C(Position)[T.LB]             40.6580     12.792      3.178      0.001      15.585      65.731\n",
       "C(Position)[T.LCB]             5.4044     14.739      0.367      0.714     -23.485      34.294\n",
       "C(Position)[T.LCM]           -14.4500     17.301     -0.835      0.404     -48.361      19.461\n",
       "C(Position)[T.LDM]            15.4220     20.785      0.742      0.458     -25.318      56.162\n",
       "C(Position)[T.LF]           -136.3731     75.287     -1.811      0.070    -283.944      11.197\n",
       "C(Position)[T.LM]             19.9932     12.815      1.560      0.119      -5.126      45.113\n",
       "C(Position)[T.LS]            -25.2063     22.185     -1.136      0.256     -68.691      18.278\n",
       "C(Position)[T.LW]             16.5732     17.524      0.946      0.344     -17.776      50.923\n",
       "C(Position)[T.LWB]             2.6003     34.236      0.076      0.939     -64.506      69.707\n",
       "C(Position)[T.RAM]          -137.1081     63.832     -2.148      0.032    -262.224     -11.992\n",
       "C(Position)[T.RB]             41.0758     12.429      3.305      0.001      16.713      65.438\n",
       "C(Position)[T.RCB]            15.6260     14.679      1.064      0.287     -13.147      44.399\n",
       "C(Position)[T.RCM]            -6.0710     17.389     -0.349      0.727     -40.155      28.013\n",
       "C(Position)[T.RDM]           -14.6763     20.639     -0.711      0.477     -55.131      25.778\n",
       "C(Position)[T.RF]           -129.4046     72.936     -1.774      0.076    -272.366      13.557\n",
       "C(Position)[T.RM]             19.2671     12.725      1.514      0.130      -5.675      44.209\n",
       "C(Position)[T.RS]             -7.1264     22.361     -0.319      0.750     -50.955      36.702\n",
       "C(Position)[T.RW]              9.8331     17.709      0.555      0.579     -24.879      44.545\n",
       "C(Position)[T.RWB]            31.1423     32.423      0.961      0.337     -32.410      94.694\n",
       "C(Position)[T.ST]             25.3507     11.264      2.251      0.024       3.273      47.429\n",
       "C(Preferred_Foot)[T.Right]    -5.4658      5.870     -0.931      0.352     -16.971       6.040\n",
       "==============================================================================\n",
       "Omnibus:                     2045.551   Durbin-Watson:                   0.997\n",
       "Prob(Omnibus):                  0.000   Jarque-Bera (JB):             2314.295\n",
       "Skew:                           0.832   Prob(JB):                         0.00\n",
       "Kurtosis:                       2.461   Cond. No.                         46.6\n",
       "==============================================================================\n",
       "\n",
       "Warnings:\n",
       "[1] Standard Errors assume that the covariance matrix of the errors is correctly specified.\n",
       "\"\"\""
      ]
     },
     "execution_count": 102,
     "metadata": {},
     "output_type": "execute_result"
    }
   ],
   "source": [
    "model.summary()"
   ]
  },
  {
   "cell_type": "markdown",
   "metadata": {},
   "source": [
    "After looking at a model of both preffered foot and position, we decide to create an ANOVA table for nationality. Create an ANOVA table for numeric value as a function of nationality."
   ]
  },
  {
   "cell_type": "code",
   "execution_count": 103,
   "metadata": {},
   "outputs": [
    {
     "data": {
      "text/html": [
       "<div>\n",
       "<style scoped>\n",
       "    .dataframe tbody tr th:only-of-type {\n",
       "        vertical-align: middle;\n",
       "    }\n",
       "\n",
       "    .dataframe tbody tr th {\n",
       "        vertical-align: top;\n",
       "    }\n",
       "\n",
       "    .dataframe thead th {\n",
       "        text-align: right;\n",
       "    }\n",
       "</style>\n",
       "<table border=\"1\" class=\"dataframe\">\n",
       "  <thead>\n",
       "    <tr style=\"text-align: right;\">\n",
       "      <th></th>\n",
       "      <th>sum_sq</th>\n",
       "      <th>df</th>\n",
       "      <th>F</th>\n",
       "      <th>PR(&gt;F)</th>\n",
       "    </tr>\n",
       "  </thead>\n",
       "  <tbody>\n",
       "    <tr>\n",
       "      <td>C(Nationality)</td>\n",
       "      <td>4.299134e+07</td>\n",
       "      <td>163.0</td>\n",
       "      <td>3.20523</td>\n",
       "      <td>1.747201e-38</td>\n",
       "    </tr>\n",
       "    <tr>\n",
       "      <td>Residual</td>\n",
       "      <td>1.484715e+09</td>\n",
       "      <td>18043.0</td>\n",
       "      <td>NaN</td>\n",
       "      <td>NaN</td>\n",
       "    </tr>\n",
       "  </tbody>\n",
       "</table>\n",
       "</div>"
      ],
      "text/plain": [
       "                      sum_sq       df        F        PR(>F)\n",
       "C(Nationality)  4.299134e+07    163.0  3.20523  1.747201e-38\n",
       "Residual        1.484715e+09  18043.0      NaN           NaN"
      ]
     },
     "execution_count": 103,
     "metadata": {},
     "output_type": "execute_result"
    }
   ],
   "source": [
    "model_nation = ols('ValueNumeric ~ C(Nationality)', data=fifa).fit()\n",
    "anova_table_nation = sm.stats.anova_lm(model_nation, typ=2)\n",
    "anova_table_nation"
   ]
  },
  {
   "cell_type": "markdown",
   "metadata": {},
   "source": [
    "What is your conclusion from this ANOVA?"
   ]
  },
  {
   "cell_type": "code",
   "execution_count": null,
   "metadata": {},
   "outputs": [],
   "source": [
    "Null HYP: the means of the groups - within Nationalities are equal\n",
    "    \n",
    "    Probability of finding F-statistics 3.20523 as extreme as this value by chance is 1.747201e-38"
   ]
  },
  {
   "cell_type": "markdown",
   "metadata": {},
   "source": [
    "# Challenge 2 - Linear Regression\n",
    "\n",
    "Our goal with using linear regression is to create a mathematical model that will enable us to predict the outcome of one variable using one or more additional independent variables.\n",
    "\n",
    "We'll start by ensuring there are no missing values. Examine all variables for all missing values. If there are missing values in a row, remove the entire row."
   ]
  },
  {
   "cell_type": "code",
   "execution_count": 106,
   "metadata": {},
   "outputs": [
    {
     "data": {
      "text/plain": [
       "(18207, 21)"
      ]
     },
     "execution_count": 106,
     "metadata": {},
     "output_type": "execute_result"
    }
   ],
   "source": [
    "fifa.shape"
   ]
  },
  {
   "cell_type": "code",
   "execution_count": 109,
   "metadata": {},
   "outputs": [
    {
     "data": {
      "text/plain": [
       "True"
      ]
     },
     "execution_count": 109,
     "metadata": {},
     "output_type": "execute_result"
    }
   ],
   "source": [
    "fifa.isnull().values.any()"
   ]
  },
  {
   "cell_type": "code",
   "execution_count": 110,
   "metadata": {},
   "outputs": [
    {
     "data": {
      "text/plain": [
       "877"
      ]
     },
     "execution_count": 110,
     "metadata": {},
     "output_type": "execute_result"
    }
   ],
   "source": [
    "fifa.isnull().sum().sum()"
   ]
  },
  {
   "cell_type": "code",
   "execution_count": 108,
   "metadata": {},
   "outputs": [
    {
     "data": {
      "text/plain": [
       "Name                0\n",
       "Age                 0\n",
       "Nationality         0\n",
       "Overall             0\n",
       "Potential           0\n",
       "Club              241\n",
       "Value               0\n",
       "Preferred_Foot     48\n",
       "Position           60\n",
       "Weak Foot          48\n",
       "Acceleration       48\n",
       "SprintSpeed        48\n",
       "Stamina            48\n",
       "Strength           48\n",
       "LongShots          48\n",
       "Aggression         48\n",
       "Interceptions      48\n",
       "Positioning        48\n",
       "Vision             48\n",
       "Penalties          48\n",
       "ValueNumeric        0\n",
       "dtype: int64"
      ]
     },
     "execution_count": 108,
     "metadata": {},
     "output_type": "execute_result"
    }
   ],
   "source": [
    "fifa.isnull().sum()"
   ]
  },
  {
   "cell_type": "code",
   "execution_count": 156,
   "metadata": {},
   "outputs": [],
   "source": [
    "# fifa.dropna()"
   ]
  },
  {
   "cell_type": "code",
   "execution_count": 154,
   "metadata": {},
   "outputs": [
    {
     "data": {
      "text/plain": [
       "Name                0\n",
       "Age                 0\n",
       "Nationality         0\n",
       "Overall             0\n",
       "Potential           0\n",
       "Club              241\n",
       "Value               0\n",
       "Preferred_Foot      0\n",
       "Position           12\n",
       "Weak Foot           0\n",
       "Acceleration        0\n",
       "SprintSpeed         0\n",
       "Stamina             0\n",
       "Strength            0\n",
       "LongShots           0\n",
       "Aggression          0\n",
       "Interceptions       0\n",
       "Positioning         0\n",
       "Vision              0\n",
       "Penalties           0\n",
       "ValueNumeric        0\n",
       "dtype: int64"
      ]
     },
     "execution_count": 154,
     "metadata": {},
     "output_type": "execute_result"
    }
   ],
   "source": [
    "fifa1 = fifa[pd.notnull(fifa['Stamina'])]\n",
    "fifa1.isnull().sum()"
   ]
  },
  {
   "cell_type": "code",
   "execution_count": 161,
   "metadata": {},
   "outputs": [
    {
     "data": {
      "text/plain": [
       "(18159, 21)"
      ]
     },
     "execution_count": 161,
     "metadata": {},
     "output_type": "execute_result"
    }
   ],
   "source": [
    "fifa1.shape"
   ]
  },
  {
   "cell_type": "markdown",
   "metadata": {},
   "source": [
    "Using the FIFA dataset, in the cell below, create a linear model predicting value using stamina and sprint speed. create the model using `statsmodels`. Print the model summary.\n",
    "\n",
    "Hint: remember to add an intercept to the model using the `add_constant` function."
   ]
  },
  {
   "cell_type": "code",
   "execution_count": 176,
   "metadata": {},
   "outputs": [
    {
     "data": {
      "text/plain": [
       "\"sm.add_constant in statsmodel is the same as sklearn's fit_intercept parameter in LinearRegression().\\nIf you don't do sm.add_constant or when LinearRegression(fit_intercept=False), then both statsmodels and \\nsklearn algorithms assume that b=0 in y = mx + b, \\nand it'll fit the model using b=0 instead of calculating what b is supposed to be based on your data. \""
      ]
     },
     "execution_count": 176,
     "metadata": {},
     "output_type": "execute_result"
    }
   ],
   "source": [
    "\"\"\"sm.add_constant in statsmodel is the same as sklearn's fit_intercept parameter in LinearRegression().\n",
    "If you don't do sm.add_constant or when LinearRegression(fit_intercept=False), then both statsmodels and \n",
    "sklearn algorithms assume that b=0 in y = mx + b, \n",
    "and it'll fit the model using b=0 instead of calculating what b is supposed to be based on your data. \"\"\""
   ]
  },
  {
   "cell_type": "code",
   "execution_count": 178,
   "metadata": {},
   "outputs": [],
   "source": [
    "#Sklearn https://realpython.com/linear-regression-in-python/\n",
    "# from sklearn import linear_model\n",
    "# from sklearn.linear_model import LinearRegression\n",
    "\n",
    "# reg = linear_model.LinearRegression()\n",
    "# x=np.array([fifa1.Stamina]).reshape((-1,1))\n",
    "# y=np.array([fifa1.SprintSpeed]).reshape((-1, 1))\n",
    "# X2 = sm.add_constant(x)\n",
    "# lRes = sm.OLS(y, X2).fit()\n",
    "# lRes.params\n",
    "# => array([28.60494903,  0.5713706 ])\n",
    "# reg.coef_\n",
    "# reg.coef_"
   ]
  },
  {
   "cell_type": "code",
   "execution_count": 179,
   "metadata": {},
   "outputs": [
    {
     "name": "stdout",
     "output_type": "stream",
     "text": [
      "                            OLS Regression Results                            \n",
      "==============================================================================\n",
      "Dep. Variable:                Stamina   R-squared:                       0.384\n",
      "Model:                            OLS   Adj. R-squared:                  0.384\n",
      "Method:                 Least Squares   F-statistic:                 1.133e+04\n",
      "Date:                Sat, 14 Sep 2019   Prob (F-statistic):               0.00\n",
      "Time:                        07:22:44   Log-Likelihood:                -71590.\n",
      "No. Observations:               18159   AIC:                         1.432e+05\n",
      "Df Residuals:                   18157   BIC:                         1.432e+05\n",
      "Df Model:                           1                                         \n",
      "Covariance Type:            nonrobust                                         \n",
      "===============================================================================\n",
      "                  coef    std err          t      P>|t|      [0.025      0.975]\n",
      "-------------------------------------------------------------------------------\n",
      "const          19.6850      0.419     46.949      0.000      18.863      20.507\n",
      "SprintSpeed     0.6726      0.006    106.457      0.000       0.660       0.685\n",
      "==============================================================================\n",
      "Omnibus:                       25.226   Durbin-Watson:                   1.780\n",
      "Prob(Omnibus):                  0.000   Jarque-Bera (JB):               25.304\n",
      "Skew:                          -0.091   Prob(JB):                     3.20e-06\n",
      "Kurtosis:                       3.004   Cond. No.                         301.\n",
      "==============================================================================\n",
      "\n",
      "Warnings:\n",
      "[1] Standard Errors assume that the covariance matrix of the errors is correctly specified.\n"
     ]
    },
    {
     "name": "stderr",
     "output_type": "stream",
     "text": [
      "C:\\Users\\eleouetd01\\AppData\\Roaming\\Python\\Python37\\site-packages\\numpy\\core\\fromnumeric.py:2495: FutureWarning: Method .ptp is deprecated and will be removed in a future version. Use numpy.ptp instead.\n",
      "  return ptp(axis=axis, out=out, **kwargs)\n"
     ]
    }
   ],
   "source": [
    "X = fifa1[['SprintSpeed']] # here we have 2 variables for multiple regression. If you just want to use one variable for simple linear regression, then use X = df['Interest_Rate'] for example.Alternatively, you may add additional variables within the brackets\n",
    "Y = fifa1['Stamina']\n",
    "\n",
    "X = sm.add_constant(X) # adding a constant\n",
    "\n",
    "model = sm.OLS(Y, X).fit()\n",
    "predictions = model.predict(X) \n",
    "\n",
    "print_model = model.summary()\n",
    "print(print_model)"
   ]
  },
  {
   "cell_type": "markdown",
   "metadata": {},
   "source": [
    "Report your findings from the model summary. In particular, report about the model as a whole using the F-test and how much variation is predicted by the model using the r squared."
   ]
  },
  {
   "cell_type": "code",
   "execution_count": null,
   "metadata": {},
   "outputs": [],
   "source": [
    "# C:\\Users\\eleouetd01\\AppData\\Roaming\\Python\\Python37\\site-packages\\numpy\\core\\fromnumeric.py:2495: FutureWarning: Method .ptp is deprecated and will be removed in a future version. Use numpy.ptp instead.\n",
    "#   return ptp(axis=axis, out=out, **kwargs)"
   ]
  },
  {
   "cell_type": "code",
   "execution_count": null,
   "metadata": {},
   "outputs": [],
   "source": [
    "Interpreting the Regression Results\n",
    "I highlighted several important components within the results:\n",
    "\n",
    "Adjusted. R-squared reflects the fit of the model. R-squared values range from 0 to 1, where a higher value generally indicates a better fit, assuming certain conditions are met.\n",
    "const coefficient is your Y-intercept. It means that if both the Interest_Rate and Unemployment_Rate coefficients are zero, then the expected output (i.e., the Y) would be equal to the const coefficient.\n",
    "Interest_Rate coefficient represents the change in the output Y due to a change of one unit in the interest rate (everything else held constant)\n",
    "Unemployment_Rate coefficient represents the change in the output Y due to a change of one unit in the unemployment rate (everything else held constant)\n",
    "std err reflects the level of accuracy of the coefficients. The lower it is, the higher is the level of accuracy\n",
    "P >|t| is your p-value. A p-value of less than 0.05 is considered to be statistically significant\n",
    "Confidence Interval represents the range in which our coefficients are likely to fall (with a likelihood of 95%)"
   ]
  },
  {
   "cell_type": "markdown",
   "metadata": {},
   "source": [
    "Next, create a second regression model predicting value using potential. Create the model using `statsmodels` and print the model summary. Remember to add a constant term."
   ]
  },
  {
   "cell_type": "code",
   "execution_count": 181,
   "metadata": {},
   "outputs": [
    {
     "data": {
      "text/plain": [
       "Index(['Name', 'Age', 'Nationality', 'Overall', 'Potential', 'Club', 'Value',\n",
       "       'Preferred_Foot', 'Position', 'Weak Foot', 'Acceleration',\n",
       "       'SprintSpeed', 'Stamina', 'Strength', 'LongShots', 'Aggression',\n",
       "       'Interceptions', 'Positioning', 'Vision', 'Penalties', 'ValueNumeric'],\n",
       "      dtype='object')"
      ]
     },
     "execution_count": 181,
     "metadata": {},
     "output_type": "execute_result"
    }
   ],
   "source": [
    "fifa.columns"
   ]
  },
  {
   "cell_type": "code",
   "execution_count": 199,
   "metadata": {},
   "outputs": [
    {
     "name": "stdout",
     "output_type": "stream",
     "text": [
      "                            OLS Regression Results                            \n",
      "==============================================================================\n",
      "Dep. Variable:           Acceleration   R-squared:                       0.055\n",
      "Model:                            OLS   Adj. R-squared:                  0.055\n",
      "Method:                 Least Squares   F-statistic:                     1058.\n",
      "Date:                Sat, 14 Sep 2019   Prob (F-statistic):          1.55e-225\n",
      "Time:                        07:35:38   Log-Likelihood:                -74340.\n",
      "No. Observations:               18159   AIC:                         1.487e+05\n",
      "Df Residuals:                   18157   BIC:                         1.487e+05\n",
      "Df Model:                           1                                         \n",
      "Covariance Type:            nonrobust                                         \n",
      "==============================================================================\n",
      "                 coef    std err          t      P>|t|      [0.025      0.975]\n",
      "------------------------------------------------------------------------------\n",
      "const         23.8977      1.257     19.017      0.000      21.435      26.361\n",
      "Potential      0.5709      0.018     32.521      0.000       0.536       0.605\n",
      "==============================================================================\n",
      "Omnibus:                     1638.566   Durbin-Watson:                   1.969\n",
      "Prob(Omnibus):                  0.000   Jarque-Bera (JB):             2114.122\n",
      "Skew:                          -0.809   Prob(JB):                         0.00\n",
      "Kurtosis:                       3.423   Cond. No.                         835.\n",
      "==============================================================================\n",
      "\n",
      "Warnings:\n",
      "[1] Standard Errors assume that the covariance matrix of the errors is correctly specified.\n"
     ]
    }
   ],
   "source": [
    "X = fifa1[['Potential']] # here we have 2 variables for multiple regression. If you just want to use one variable for simple linear regression, then use X = df['Interest_Rate'] for example.Alternatively, you may add additional variables within the brackets\n",
    "Y = fifa1['Acceleration']\n",
    "\n",
    "X = sm.add_constant(X) # adding a constant\n",
    "\n",
    "model = sm.OLS(Y, X).fit()\n",
    "predictions = model.predict(X) \n",
    "\n",
    "print_model = model.summary()\n",
    "print(print_model)"
   ]
  },
  {
   "cell_type": "markdown",
   "metadata": {},
   "source": [
    "Report your findings from the model summary. In particular, report about the model as a whole using the F-test and how much variation is predicted by the model using the r squared."
   ]
  },
  {
   "cell_type": "code",
   "execution_count": 202,
   "metadata": {},
   "outputs": [
    {
     "data": {
      "text/html": [
       "<div>\n",
       "<style scoped>\n",
       "    .dataframe tbody tr th:only-of-type {\n",
       "        vertical-align: middle;\n",
       "    }\n",
       "\n",
       "    .dataframe tbody tr th {\n",
       "        vertical-align: top;\n",
       "    }\n",
       "\n",
       "    .dataframe thead th {\n",
       "        text-align: right;\n",
       "    }\n",
       "</style>\n",
       "<table border=\"1\" class=\"dataframe\">\n",
       "  <thead>\n",
       "    <tr style=\"text-align: right;\">\n",
       "      <th></th>\n",
       "      <th>Name</th>\n",
       "      <th>Age</th>\n",
       "      <th>Nationality</th>\n",
       "      <th>Overall</th>\n",
       "      <th>Potential</th>\n",
       "      <th>Club</th>\n",
       "      <th>Value</th>\n",
       "      <th>Preferred_Foot</th>\n",
       "      <th>Position</th>\n",
       "      <th>Weak Foot</th>\n",
       "      <th>...</th>\n",
       "      <th>SprintSpeed</th>\n",
       "      <th>Stamina</th>\n",
       "      <th>Strength</th>\n",
       "      <th>LongShots</th>\n",
       "      <th>Aggression</th>\n",
       "      <th>Interceptions</th>\n",
       "      <th>Positioning</th>\n",
       "      <th>Vision</th>\n",
       "      <th>Penalties</th>\n",
       "      <th>ValueNumeric</th>\n",
       "    </tr>\n",
       "  </thead>\n",
       "  <tbody>\n",
       "    <tr>\n",
       "      <td>0</td>\n",
       "      <td>L. Messi</td>\n",
       "      <td>31</td>\n",
       "      <td>Argentina</td>\n",
       "      <td>94</td>\n",
       "      <td>94</td>\n",
       "      <td>FC Barcelona</td>\n",
       "      <td>€110.5M</td>\n",
       "      <td>Left</td>\n",
       "      <td>RF</td>\n",
       "      <td>4.0</td>\n",
       "      <td>...</td>\n",
       "      <td>86.0</td>\n",
       "      <td>72.0</td>\n",
       "      <td>59.0</td>\n",
       "      <td>94.0</td>\n",
       "      <td>48.0</td>\n",
       "      <td>22.0</td>\n",
       "      <td>94.0</td>\n",
       "      <td>94.0</td>\n",
       "      <td>75.0</td>\n",
       "      <td>110</td>\n",
       "    </tr>\n",
       "    <tr>\n",
       "      <td>1</td>\n",
       "      <td>Cristiano Ronaldo</td>\n",
       "      <td>33</td>\n",
       "      <td>Portugal</td>\n",
       "      <td>94</td>\n",
       "      <td>94</td>\n",
       "      <td>Juventus</td>\n",
       "      <td>€77M</td>\n",
       "      <td>Right</td>\n",
       "      <td>ST</td>\n",
       "      <td>4.0</td>\n",
       "      <td>...</td>\n",
       "      <td>91.0</td>\n",
       "      <td>88.0</td>\n",
       "      <td>79.0</td>\n",
       "      <td>93.0</td>\n",
       "      <td>63.0</td>\n",
       "      <td>29.0</td>\n",
       "      <td>95.0</td>\n",
       "      <td>82.0</td>\n",
       "      <td>85.0</td>\n",
       "      <td>77</td>\n",
       "    </tr>\n",
       "    <tr>\n",
       "      <td>2</td>\n",
       "      <td>Neymar Jr</td>\n",
       "      <td>26</td>\n",
       "      <td>Brazil</td>\n",
       "      <td>92</td>\n",
       "      <td>93</td>\n",
       "      <td>Paris Saint-Germain</td>\n",
       "      <td>€118.5M</td>\n",
       "      <td>Right</td>\n",
       "      <td>LW</td>\n",
       "      <td>5.0</td>\n",
       "      <td>...</td>\n",
       "      <td>90.0</td>\n",
       "      <td>81.0</td>\n",
       "      <td>49.0</td>\n",
       "      <td>82.0</td>\n",
       "      <td>56.0</td>\n",
       "      <td>36.0</td>\n",
       "      <td>89.0</td>\n",
       "      <td>87.0</td>\n",
       "      <td>81.0</td>\n",
       "      <td>118</td>\n",
       "    </tr>\n",
       "    <tr>\n",
       "      <td>3</td>\n",
       "      <td>De Gea</td>\n",
       "      <td>27</td>\n",
       "      <td>Spain</td>\n",
       "      <td>91</td>\n",
       "      <td>93</td>\n",
       "      <td>Manchester United</td>\n",
       "      <td>€72M</td>\n",
       "      <td>Right</td>\n",
       "      <td>GK</td>\n",
       "      <td>3.0</td>\n",
       "      <td>...</td>\n",
       "      <td>58.0</td>\n",
       "      <td>43.0</td>\n",
       "      <td>64.0</td>\n",
       "      <td>12.0</td>\n",
       "      <td>38.0</td>\n",
       "      <td>30.0</td>\n",
       "      <td>12.0</td>\n",
       "      <td>68.0</td>\n",
       "      <td>40.0</td>\n",
       "      <td>72</td>\n",
       "    </tr>\n",
       "    <tr>\n",
       "      <td>4</td>\n",
       "      <td>K. De Bruyne</td>\n",
       "      <td>27</td>\n",
       "      <td>Belgium</td>\n",
       "      <td>91</td>\n",
       "      <td>92</td>\n",
       "      <td>Manchester City</td>\n",
       "      <td>€102M</td>\n",
       "      <td>Right</td>\n",
       "      <td>RCM</td>\n",
       "      <td>5.0</td>\n",
       "      <td>...</td>\n",
       "      <td>76.0</td>\n",
       "      <td>90.0</td>\n",
       "      <td>75.0</td>\n",
       "      <td>91.0</td>\n",
       "      <td>76.0</td>\n",
       "      <td>61.0</td>\n",
       "      <td>87.0</td>\n",
       "      <td>94.0</td>\n",
       "      <td>79.0</td>\n",
       "      <td>102</td>\n",
       "    </tr>\n",
       "    <tr>\n",
       "      <td>...</td>\n",
       "      <td>...</td>\n",
       "      <td>...</td>\n",
       "      <td>...</td>\n",
       "      <td>...</td>\n",
       "      <td>...</td>\n",
       "      <td>...</td>\n",
       "      <td>...</td>\n",
       "      <td>...</td>\n",
       "      <td>...</td>\n",
       "      <td>...</td>\n",
       "      <td>...</td>\n",
       "      <td>...</td>\n",
       "      <td>...</td>\n",
       "      <td>...</td>\n",
       "      <td>...</td>\n",
       "      <td>...</td>\n",
       "      <td>...</td>\n",
       "      <td>...</td>\n",
       "      <td>...</td>\n",
       "      <td>...</td>\n",
       "      <td>...</td>\n",
       "    </tr>\n",
       "    <tr>\n",
       "      <td>18202</td>\n",
       "      <td>J. Lundstram</td>\n",
       "      <td>19</td>\n",
       "      <td>England</td>\n",
       "      <td>47</td>\n",
       "      <td>65</td>\n",
       "      <td>Crewe Alexandra</td>\n",
       "      <td>€60K</td>\n",
       "      <td>Right</td>\n",
       "      <td>CM</td>\n",
       "      <td>2.0</td>\n",
       "      <td>...</td>\n",
       "      <td>57.0</td>\n",
       "      <td>40.0</td>\n",
       "      <td>47.0</td>\n",
       "      <td>38.0</td>\n",
       "      <td>46.0</td>\n",
       "      <td>46.0</td>\n",
       "      <td>39.0</td>\n",
       "      <td>52.0</td>\n",
       "      <td>43.0</td>\n",
       "      <td>60</td>\n",
       "    </tr>\n",
       "    <tr>\n",
       "      <td>18203</td>\n",
       "      <td>N. Christoffersson</td>\n",
       "      <td>19</td>\n",
       "      <td>Sweden</td>\n",
       "      <td>47</td>\n",
       "      <td>63</td>\n",
       "      <td>Trelleborgs FF</td>\n",
       "      <td>€60K</td>\n",
       "      <td>Right</td>\n",
       "      <td>ST</td>\n",
       "      <td>2.0</td>\n",
       "      <td>...</td>\n",
       "      <td>39.0</td>\n",
       "      <td>43.0</td>\n",
       "      <td>67.0</td>\n",
       "      <td>42.0</td>\n",
       "      <td>47.0</td>\n",
       "      <td>16.0</td>\n",
       "      <td>46.0</td>\n",
       "      <td>33.0</td>\n",
       "      <td>43.0</td>\n",
       "      <td>60</td>\n",
       "    </tr>\n",
       "    <tr>\n",
       "      <td>18204</td>\n",
       "      <td>B. Worman</td>\n",
       "      <td>16</td>\n",
       "      <td>England</td>\n",
       "      <td>47</td>\n",
       "      <td>67</td>\n",
       "      <td>Cambridge United</td>\n",
       "      <td>€60K</td>\n",
       "      <td>Right</td>\n",
       "      <td>ST</td>\n",
       "      <td>3.0</td>\n",
       "      <td>...</td>\n",
       "      <td>69.0</td>\n",
       "      <td>55.0</td>\n",
       "      <td>32.0</td>\n",
       "      <td>45.0</td>\n",
       "      <td>32.0</td>\n",
       "      <td>15.0</td>\n",
       "      <td>48.0</td>\n",
       "      <td>43.0</td>\n",
       "      <td>55.0</td>\n",
       "      <td>60</td>\n",
       "    </tr>\n",
       "    <tr>\n",
       "      <td>18205</td>\n",
       "      <td>D. Walker-Rice</td>\n",
       "      <td>17</td>\n",
       "      <td>England</td>\n",
       "      <td>47</td>\n",
       "      <td>66</td>\n",
       "      <td>Tranmere Rovers</td>\n",
       "      <td>€60K</td>\n",
       "      <td>Right</td>\n",
       "      <td>RW</td>\n",
       "      <td>3.0</td>\n",
       "      <td>...</td>\n",
       "      <td>60.0</td>\n",
       "      <td>40.0</td>\n",
       "      <td>48.0</td>\n",
       "      <td>34.0</td>\n",
       "      <td>33.0</td>\n",
       "      <td>22.0</td>\n",
       "      <td>44.0</td>\n",
       "      <td>47.0</td>\n",
       "      <td>50.0</td>\n",
       "      <td>60</td>\n",
       "    </tr>\n",
       "    <tr>\n",
       "      <td>18206</td>\n",
       "      <td>G. Nugent</td>\n",
       "      <td>16</td>\n",
       "      <td>England</td>\n",
       "      <td>46</td>\n",
       "      <td>66</td>\n",
       "      <td>Tranmere Rovers</td>\n",
       "      <td>€60K</td>\n",
       "      <td>Right</td>\n",
       "      <td>CM</td>\n",
       "      <td>3.0</td>\n",
       "      <td>...</td>\n",
       "      <td>55.0</td>\n",
       "      <td>47.0</td>\n",
       "      <td>60.0</td>\n",
       "      <td>32.0</td>\n",
       "      <td>56.0</td>\n",
       "      <td>42.0</td>\n",
       "      <td>34.0</td>\n",
       "      <td>49.0</td>\n",
       "      <td>33.0</td>\n",
       "      <td>60</td>\n",
       "    </tr>\n",
       "  </tbody>\n",
       "</table>\n",
       "<p>18159 rows × 21 columns</p>\n",
       "</div>"
      ],
      "text/plain": [
       "                     Name  Age Nationality  Overall  Potential  \\\n",
       "0                L. Messi   31   Argentina       94         94   \n",
       "1       Cristiano Ronaldo   33    Portugal       94         94   \n",
       "2               Neymar Jr   26      Brazil       92         93   \n",
       "3                  De Gea   27       Spain       91         93   \n",
       "4            K. De Bruyne   27     Belgium       91         92   \n",
       "...                   ...  ...         ...      ...        ...   \n",
       "18202        J. Lundstram   19     England       47         65   \n",
       "18203  N. Christoffersson   19      Sweden       47         63   \n",
       "18204           B. Worman   16     England       47         67   \n",
       "18205      D. Walker-Rice   17     England       47         66   \n",
       "18206           G. Nugent   16     England       46         66   \n",
       "\n",
       "                      Club    Value Preferred_Foot Position  Weak Foot  ...  \\\n",
       "0             FC Barcelona  €110.5M           Left       RF        4.0  ...   \n",
       "1                 Juventus     €77M          Right       ST        4.0  ...   \n",
       "2      Paris Saint-Germain  €118.5M          Right       LW        5.0  ...   \n",
       "3        Manchester United     €72M          Right       GK        3.0  ...   \n",
       "4          Manchester City    €102M          Right      RCM        5.0  ...   \n",
       "...                    ...      ...            ...      ...        ...  ...   \n",
       "18202      Crewe Alexandra     €60K          Right       CM        2.0  ...   \n",
       "18203       Trelleborgs FF     €60K          Right       ST        2.0  ...   \n",
       "18204     Cambridge United     €60K          Right       ST        3.0  ...   \n",
       "18205      Tranmere Rovers     €60K          Right       RW        3.0  ...   \n",
       "18206      Tranmere Rovers     €60K          Right       CM        3.0  ...   \n",
       "\n",
       "       SprintSpeed  Stamina  Strength  LongShots  Aggression  Interceptions  \\\n",
       "0             86.0     72.0      59.0       94.0        48.0           22.0   \n",
       "1             91.0     88.0      79.0       93.0        63.0           29.0   \n",
       "2             90.0     81.0      49.0       82.0        56.0           36.0   \n",
       "3             58.0     43.0      64.0       12.0        38.0           30.0   \n",
       "4             76.0     90.0      75.0       91.0        76.0           61.0   \n",
       "...            ...      ...       ...        ...         ...            ...   \n",
       "18202         57.0     40.0      47.0       38.0        46.0           46.0   \n",
       "18203         39.0     43.0      67.0       42.0        47.0           16.0   \n",
       "18204         69.0     55.0      32.0       45.0        32.0           15.0   \n",
       "18205         60.0     40.0      48.0       34.0        33.0           22.0   \n",
       "18206         55.0     47.0      60.0       32.0        56.0           42.0   \n",
       "\n",
       "       Positioning  Vision  Penalties  ValueNumeric  \n",
       "0             94.0    94.0       75.0           110  \n",
       "1             95.0    82.0       85.0            77  \n",
       "2             89.0    87.0       81.0           118  \n",
       "3             12.0    68.0       40.0            72  \n",
       "4             87.0    94.0       79.0           102  \n",
       "...            ...     ...        ...           ...  \n",
       "18202         39.0    52.0       43.0            60  \n",
       "18203         46.0    33.0       43.0            60  \n",
       "18204         48.0    43.0       55.0            60  \n",
       "18205         44.0    47.0       50.0            60  \n",
       "18206         34.0    49.0       33.0            60  \n",
       "\n",
       "[18159 rows x 21 columns]"
      ]
     },
     "execution_count": 202,
     "metadata": {},
     "output_type": "execute_result"
    }
   ],
   "source": [
    "# Your conclusions here:\n",
    "fifa1\n"
   ]
  },
  {
   "cell_type": "markdown",
   "metadata": {},
   "source": [
    "Plot a scatter plot of value vs. potential. Do you see a linear relationship?"
   ]
  },
  {
   "cell_type": "code",
   "execution_count": 217,
   "metadata": {},
   "outputs": [
    {
     "data": {
      "text/plain": [
       "<matplotlib.collections.PathCollection at 0x25c17461da0>"
      ]
     },
     "execution_count": 217,
     "metadata": {},
     "output_type": "execute_result"
    },
    {
     "data": {
      "image/png": "[encoded data removed]",
      "text/plain": [
       "<Figure size 4000x2000 with 1 Axes>"
      ]
     },
     "metadata": {
      "needs_background": "light"
     },
     "output_type": "display_data"
    }
   ],
   "source": [
    "plt.figure(figsize=(20, 10), dpi=200)\n",
    "plt.scatter( fifa1['Potential'], fifa1['ValueNumeric'])"
   ]
  },
  {
   "cell_type": "code",
   "execution_count": null,
   "metadata": {},
   "outputs": [],
   "source": []
  }
 ],
 "metadata": {
  "kernelspec": {
   "display_name": "Python 3",
   "language": "python",
   "name": "python3"
  },
  "language_info": {
   "codemirror_mode": {
    "name": "ipython",
    "version": 3
   },
   "file_extension": ".py",
   "mimetype": "text/x-python",
   "name": "python",
   "nbconvert_exporter": "python",
   "pygments_lexer": "ipython3",
   "version": "3.7.3"
  }
 },
 "nbformat": 4,
 "nbformat_minor": 2
}
